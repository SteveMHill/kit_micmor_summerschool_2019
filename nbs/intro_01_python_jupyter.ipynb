{
 "cells": [
  {
   "cell_type": "markdown",
   "metadata": {},
   "source": [
    "# Python and Jupyter Quickstart\n",
    "\n",
    "This is following along the Notebook of Chapter 2 of the excellent [Python for Data Analysis Book](https://www.oreilly.com/library/view/python-for-data/9781491957653/) by Wes McKinney (the creator of pandas).\n",
    "The original notebook is located [here](https://nbviewer.jupyter.org/github/pydata/pydata-book/blob/2nd-edition/ch02.ipynb).\n",
    "\n",
    "## The Python Interpreter/ Console/ REPL\n",
    "\n",
    "If you invoce python from the terminal you will see the read–eval–print loop (REPL) - an interactive shell where you can execute python in. Depending on your version of Python it will lokk something like this:\n",
    "\n",
    "```raw\n",
    "$ python          \n",
    "Python 3.7.3 (default, Jul  4 2019, 15:16:48) \n",
    "[Clang 10.0.1 (clang-1001.0.46.4)] on darwin\n",
    "Type \"help\", \"copyright\", \"credits\" or \"license\" for more information.\n",
    ">>>\n",
    "```\n",
    "\n",
    "You can type in it and execute stuff:\n",
    "```raw \n",
    ">>> a = 10\n",
    ">>> print(a)\n",
    "10\n",
    "```\n",
    "\n",
    "This is good as a quick calculator or testing some small code, but usually you use the interpreter to execute python scripts from the commandline:  \n",
    "\n",
    "```raw\n",
    "$ python my_script.py\n",
    "```\n",
    "\n",
    "Often with commandline arguments:  \n",
    "\n",
    "```raw\n",
    "$ python -v -c myconf.cfg my_script.py\n",
    "```\n",
    "\n",
    "However, we are going to use [JupyterLab - an interactive environment](https://jupyterlab.readthedocs.io/en/stable/)."
   ]
  },
  {
   "cell_type": "markdown",
   "metadata": {},
   "source": [
    "## Jupyter Lab\n",
    "\n",
    "When you access your GCP hosted virtual machine instance via the dedicated IP-address at port 8888 (i.e. `100.12.12.45:8888`) and log in with our course password we will land in a running JupyterLab instance. So what is JupyterLab?\n",
    "\n",
    "To cite the [overview section of their homepage](https://jupyterlab.readthedocs.io/en/stable/getting_started/overview.html):  \n",
    ">JupyterLab is a next-generation web-based user interface for Project Jupyter.  \n",
    ">JupyterLab enables you to work with documents and activities such as Jupyter notebooks, text editors, terminals, and custom components in a flexible, integrated, and extensible manner. You can arrange multiple documents and activities side by side in the work area using tabs and splitters. Documents and activities integrate with each other, enabling new workflows for interactive computing, for example:\n",
    ">\n",
    ">- Code Consoles provide transient scratchpads for running code interactively, with full support for rich output. A code console can be linked to a notebook kernel as a computation log from the notebook, for example.\n",
    ">- Kernel-backed documents enable code in any text file (Markdown, Python, R, LaTeX, etc.) to be run interactively in any Jupyter kernel.\n",
    ">- Notebook cell outputs can be mirrored into their own tab, side by side with the notebook, enabling simple dashboards with interactive controls backed by a kernel.\n",
    ">- Multiple views of documents with different editors or viewers enable live editing of documents reflected in other viewers. For example, it is easy to have live preview of Markdown, Delimiter-separated Values, or Vega/Vega-Lite documents.\n",
    ">- JupyterLab also offers a unified model for viewing and handling data formats. JupyterLab understands many file formats (images, CSV, JSON, Markdown, PDF, Vega, Vega-Lite, etc.) and can also display rich kernel output in these formats. See File and Output Formats for more information.\n",
    ">\n",
    ">To navigate the user interface, JupyterLab offers customizable keyboard shortcuts and the ability to use key maps from vim, emacs, and Sublime Text in the text editor.\n",
    ">\n",
    ">JupyterLab extensions can customize or enhance any part of JupyterLab, including new themes, file editors, and custom components.\n",
    ">\n",
    ">JupyterLab is served from the same server and uses the same notebook document format as the classic Jupyter Notebook.\n",
    "\n",
    "<center>\n",
    "<img width=\"600\" src=https://jupyterlab.readthedocs.io/en/stable/_images/jupyterlab.png>\n",
    "<p><center><em>The JupyterLab interface</em></center></p>\n",
    "</center>\n",
    "\n",
    "## Jupyter Notebooks\n",
    "\n",
    "We will work with Jupyter [Notebooks](https://jupyterlab.readthedocs.io/en/stable/user/notebook.html#notebook). These are documents that combines executable code cells, markdown text, formulas, interactive visualizations and multimedia into a document that can be edited and executed in JupyterLab.\n",
    "\n",
    "We will find them in the nbs folder in our course git repository.\n",
    "\n",
    "But first, let's use one to practice some python:\n",
    "\n",
    "Click on `File > New > Notebook` to create a new notebook. We are asked to select a kernel. Kernels are the execution part. A notebook can be backed by many different kernels (i.e. Python2, Python3, R, ...). We use the Python3 kernel (Python2 is now legacy python and will be End-Of-Live in 2020 - **don't use Python2 anymore!!!**).\n",
    "\n",
    "In order to work efficiently grab the new notebook by its tab title and pull it to the side. You now should have this instruction notebook and your new notebook side-by-side.\n",
    "\n",
    "In the new notebook we can practice some basic python. Just type the following code statements into a cell and hit `shift+return` or press the play button in the menu bar to execute a cell. You can add new cells by clicking the + icon, you can drag cells if you select them in the left margin and you can do all sorts of edits (see the edit menue).\n",
    "\n",
    "But first some nice features of you environment.\n",
    "\n",
    "### Tab completion\n",
    "\n",
    "Type this into a cell:\n",
    "\n",
    "```python\n",
    "my_var_string = \"My first variable\"\n",
    "```\n",
    "*execute the cell*\n",
    "\n",
    "Now type:\n",
    "\n",
    "```python\n",
    "my_var_int = 12\n",
    "```\n",
    "*execute the cell*\n",
    "\n",
    "And finally type:\n",
    "\n",
    "```python\n",
    "my \n",
    "```\n",
    "*now instead of executing the cell hit the tab key*\n",
    "\n",
    "### Introspection\n",
    "\n",
    "With introspection you can get more info about a command or data structure.\n",
    "\n",
    "Type this into a cell (and execute):\n",
    "```python\n",
    "b = [1, 2, 3, 4]\n",
    "```\n",
    "Now type:\n",
    "```python\n",
    "b?\n",
    "```\n",
    "\n",
    "Use can also use it for commands:\n",
    "```python\n",
    "print?\n",
    "```\n",
    "\n",
    "Copy the following code into a cell in your new notebook (and execute):\n",
    "```python\n",
    "\n",
    "def add_numbers(a, b):\n",
    "    \"\"\"\n",
    "    Add two numbers together\n",
    "\n",
    "    Returns\n",
    "    -------\n",
    "    the_sum : type of arguments\n",
    "    \"\"\"\n",
    "    return a + b\n",
    "\n",
    "```\n",
    "\n",
    "Now inspect the function:\n",
    "```python\n",
    "add_ numbers?\n",
    "```\n",
    "\n",
    "To inspect the actual code of a function use this:\n",
    "```python\n",
    "add_ numbers??\n",
    "```\n"
   ]
  },
  {
   "cell_type": "markdown",
   "metadata": {},
   "source": [
    "Now, let's switch to back to this notebook (you can also copy the code to your new notebook but you might just aswell execute it here...)\n",
    "\n",
    "## Magic commands in Jupyter (cell magic, the % directives)\n",
    "\n",
    "The jupyter environment has some magic commands you can add to the start of a cell. A very handy one is `%timeit`. Let's first build some fake data (a numpy array with random values, mote on that later)."
   ]
  },
  {
   "cell_type": "code",
   "execution_count": 21,
   "metadata": {},
   "outputs": [],
   "source": [
    "a = np.random.randn(100, 100)"
   ]
  },
  {
   "cell_type": "markdown",
   "metadata": {},
   "source": [
    "Now compute a dot product and time how long it takes using the `%timeit` magic command."
   ]
  },
  {
   "cell_type": "code",
   "execution_count": 22,
   "metadata": {},
   "outputs": [
    {
     "name": "stdout",
     "output_type": "stream",
     "text": [
      "42.7 µs ± 1.73 µs per loop (mean ± std. dev. of 7 runs, 10000 loops each)\n"
     ]
    }
   ],
   "source": [
    "%timeit np.dot(a, a)"
   ]
  },
  {
   "cell_type": "markdown",
   "metadata": {},
   "source": [
    "If you want to time how long it takes to execute the entire cell use `%%time`:"
   ]
  },
  {
   "cell_type": "code",
   "execution_count": 29,
   "metadata": {},
   "outputs": [
    {
     "name": "stdout",
     "output_type": "stream",
     "text": [
      "CPU times: user 4.47 ms, sys: 746 µs, total: 5.22 ms\n",
      "Wall time: 1.33 ms\n"
     ]
    }
   ],
   "source": [
    "%%time\n",
    "a = np.random.randn(100, 100)\n",
    "res1 = np.dot(a, a)"
   ]
  },
  {
   "cell_type": "markdown",
   "metadata": {},
   "source": [
    "The most common magic command you will see in this course is `%matplotlib inline`. This activates the plotting backend - which means that plots you create will be rendered directly into your notebook (more on this wehn we look at plotting libraries). "
   ]
  },
  {
   "cell_type": "code",
   "execution_count": 33,
   "metadata": {},
   "outputs": [
    {
     "data": {
      "image/png": "[encoded data removed]",
      "text/plain": [
       "<Figure size 432x288 with 1 Axes>"
      ]
     },
     "metadata": {
      "needs_background": "light"
     },
     "output_type": "display_data"
    }
   ],
   "source": [
    "%matplotlib inline\n",
    "import pandas as pd\n",
    "import numpy as np\n",
    "s = pd.Series(np.random.randn(100))\n",
    "s.plot();"
   ]
  },
  {
   "cell_type": "markdown",
   "metadata": {},
   "source": [
    "## Python Language Basics\n",
    "\n",
    "This is just a very brief intro to some core python basics (if you've done some python you can skip this).\n",
    "\n",
    "### Indentation\n",
    "Indentation is important in Python and loved/ hated by newcomers in eual parts. In python, we don't use curly brackets like R or C/C++ to encapsule code.\n",
    "\n",
    "Ignore the actual code. What this shows is that the if/ else block is executed inside the for loop (since it's indented).\n",
    "```python\n",
    "for x in array:\n",
    "    if x < pivot:\n",
    "        less.append(x)\n",
    "    else:\n",
    "        greater.append(x)\n",
    "```\n",
    "\n",
    "This would not work and error out with an indentation error:\n",
    "```python\n",
    "for x in array:\n",
    "if x < pivot:\n",
    "    less.append(x)\n",
    "else:\n",
    "    greater.append(x)\n",
    "```\n",
    "\n",
    "In R yu could write something like this:\n",
    "```r\n",
    "for (x in array){\n",
    "if (x < pivot){\n",
    "less.append(x)\n",
    "} else {\n",
    "greater.append(x)\n",
    "}\n",
    "}\n",
    "```\n",
    "\n",
    "However, most sane people would still write it as since the indentation makes it mouch mor readable:\n",
    "```r\n",
    "for (x in array){\n",
    "    if (x < pivot){\n",
    "        less.append(x)\n",
    "    } else {\n",
    "        greater.append(x)\n",
    "    }\n",
    "}\n",
    "```\n",
    "\n",
    "In python this is enforced by the language...\n",
    "\n",
    "### Dynamic types\n",
    "\n",
    "In python you can define/ declare variables on the fly. You can also overwrite them with different content/ typed content at any time:"
   ]
  },
  {
   "cell_type": "code",
   "execution_count": 34,
   "metadata": {},
   "outputs": [
    {
     "name": "stdout",
     "output_type": "stream",
     "text": [
      "10 <class 'int'>\n"
     ]
    }
   ],
   "source": [
    "# define a int variable\n",
    "a = 10\n",
    "print(a, type(a))"
   ]
  },
  {
   "cell_type": "code",
   "execution_count": 35,
   "metadata": {},
   "outputs": [
    {
     "name": "stdout",
     "output_type": "stream",
     "text": [
      "now i'm a string! <class 'str'>\n"
     ]
    }
   ],
   "source": [
    "# now overwrite a as a string variable\n",
    "a = \"now i'm a string!\"\n",
    "print(a, type(a))"
   ]
  },
  {
   "cell_type": "markdown",
   "metadata": {},
   "source": [
    "### Variable and argument passing\n",
    "\n",
    "Also, be aware of referencing vs. copying."
   ]
  },
  {
   "cell_type": "code",
   "execution_count": 39,
   "metadata": {},
   "outputs": [
    {
     "name": "stdout",
     "output_type": "stream",
     "text": [
      "b: [1, 2, 3]\n"
     ]
    }
   ],
   "source": [
    "# define a list\n",
    "a = [1, 2, 3]\n",
    "\n",
    "# reference list a as b\n",
    "b=a\n",
    "\n",
    "# what's in b?\n",
    "print('b:', b)\n",
    "\n",
    "# now append an element to list a\n",
    "a.append(4)"
   ]
  },
  {
   "cell_type": "markdown",
   "metadata": {},
   "source": [
    "Quiz: what's the content of a and b?"
   ]
  },
  {
   "cell_type": "code",
   "execution_count": 40,
   "metadata": {},
   "outputs": [
    {
     "name": "stdout",
     "output_type": "stream",
     "text": [
      "a [1, 2, 3, 4]\n",
      "a [1, 2, 3, 4]\n"
     ]
    }
   ],
   "source": [
    "print('a', a)\n",
    "print('a', b)"
   ]
  },
  {
   "cell_type": "markdown",
   "metadata": {},
   "source": [
    "OMG !!!\n",
    "\n",
    "Arguments in functions are also passed as a reference (not copied)!"
   ]
  },
  {
   "cell_type": "code",
   "execution_count": 47,
   "metadata": {},
   "outputs": [],
   "source": [
    "def append_element(some_list, element):\n",
    "    some_list.append(element)"
   ]
  },
  {
   "cell_type": "code",
   "execution_count": 51,
   "metadata": {},
   "outputs": [],
   "source": [
    "data = [1,2,3]"
   ]
  },
  {
   "cell_type": "code",
   "execution_count": 52,
   "metadata": {},
   "outputs": [
    {
     "data": {
      "text/plain": [
       "[1, 2, 3, 4]"
      ]
     },
     "execution_count": 52,
     "metadata": {},
     "output_type": "execute_result"
    }
   ],
   "source": [
    "append_element(data, 4)"
   ]
  },
  {
   "cell_type": "markdown",
   "metadata": {},
   "source": [
    "What's the value of data now? Nowthing was returned from the function..."
   ]
  },
  {
   "cell_type": "code",
   "execution_count": 53,
   "metadata": {},
   "outputs": [
    {
     "name": "stdout",
     "output_type": "stream",
     "text": [
      "[1, 2, 3, 4]\n"
     ]
    }
   ],
   "source": [
    "print(data)"
   ]
  },
  {
   "cell_type": "markdown",
   "metadata": {},
   "source": [
    "As data is passed as a reference it's value is changed even outside of the function without returning it (which is funny for most python newcomers). However, you should always return from fucntions so it's obvious what you are doing..."
   ]
  },
  {
   "cell_type": "code",
   "execution_count": 56,
   "metadata": {},
   "outputs": [
    {
     "name": "stdout",
     "output_type": "stream",
     "text": [
      "[1, 2, 3, 4]\n",
      "[1, 2, 3, 4, 5]\n"
     ]
    }
   ],
   "source": [
    "def append_element(some_list, element):\n",
    "    # make a copy !\n",
    "    out_list = some_list.copy()\n",
    "    out_list.append(element)\n",
    "    return out_list\n",
    "\n",
    "new_data = append_element(data, 5)\n",
    "print(data)\n",
    "print(new_data)"
   ]
  },
  {
   "cell_type": "markdown",
   "metadata": {},
   "source": [
    "### Attributes and methods\n",
    "\n",
    "Variables can contain methods that operate on their content. This is especially common for strings."
   ]
  },
  {
   "cell_type": "code",
   "execution_count": 58,
   "metadata": {},
   "outputs": [],
   "source": [
    "a = 'This is Some text'"
   ]
  },
  {
   "cell_type": "markdown",
   "metadata": {},
   "source": [
    "Now, in the next cell, type 'a.' and press the `Tab` key. You'll see all methods that are attached to this string variable. Try some of them out... For instance \n",
    "```python\n",
    "a.capitalize()\n",
    "```"
   ]
  },
  {
   "cell_type": "markdown",
   "metadata": {},
   "source": [
    "### Imports\n",
    "\n",
    "Python is such a great ecosystem because it's easy, readable but very powerful and full-featured because of all the libraries that exist. It's said that python comes with batteries included...\n",
    "\n",
    "<center>\n",
    "<img width=\"400\" src=https://imgs.xkcd.com/comics/python.png>\n",
    "<p><center><em>The power of python (source: https://xkcd.com)</em></center></p>\n",
    "</center>\n",
    "\n",
    "There are serveral ways to import packages. \n",
    "\n",
    "1) With the basic import you have to type the package name bfore using any function/ class of the package.\n",
    "```python\n",
    "import numpy\n",
    "\n",
    "numpy.arange(5)\n",
    "```\n",
    "\n",
    "2) You can also import with an package alias (often recommended). There are some community standard for very common packages that you will also see in the notebooks (numpy, pandas, matplotlib etc.):\n",
    "```python\n",
    "import numpy as np\n",
    "\n",
    "np.arange(5)\n",
    "```\n",
    "\n",
    "3) You can also import into the current namespace. However, **you should not do this** since it's pollutes the local namespace and can cause all kinds of problems. Plus, you do not know where a certain function came from by looking at your code:\n",
    "\n",
    "```python\n",
    "from pandas import *\n",
    "from numpy import *\n",
    "\n",
    "# is arange from numpy? from pandas? build-in?\n",
    "arange(5)\n",
    "```"
   ]
  }
 ],
 "metadata": {
  "kernelspec": {
   "display_name": "Python 3",
   "language": "python",
   "name": "python3"
  },
  "language_info": {
   "codemirror_mode": {
    "name": "ipython",
    "version": 3
   },
   "file_extension": ".py",
   "mimetype": "text/x-python",
   "name": "python",
   "nbconvert_exporter": "python",
   "pygments_lexer": "ipython3",
   "version": "3.6.7"
  }
 },
 "nbformat": 4,
 "nbformat_minor": 4
}
