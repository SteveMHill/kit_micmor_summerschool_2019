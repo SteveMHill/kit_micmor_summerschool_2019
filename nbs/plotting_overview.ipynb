{
 "cells": [
  {
   "cell_type": "markdown",
   "metadata": {},
   "source": [
    "# Python Plotting Showcase\n",
    "\n",
    "In this notebook we demonstrate the most common (i.e. most useful?) plotting frameworks of Python. \n",
    "There are many, and unfortunately we do not have the dominant force like the R folk (with their ggplot2) do.\n",
    "However, in the last years some new overarching framworks (like pyviz) emerged that aim to unify the plotting\n",
    "landscape.\n",
    "\n",
    "## Declarative plotting\n",
    "\n",
    "- Grammer of Graphics  \n",
    "- Perception  \n",
    "- ...  "
   ]
  },
  {
   "cell_type": "code",
   "execution_count": 4,
   "metadata": {},
   "outputs": [
    {
     "name": "stdout",
     "output_type": "stream",
     "text": [
      "The autoreload extension is already loaded. To reload it, use:\n",
      "  %reload_ext autoreload\n"
     ]
    }
   ],
   "source": [
    "%matplotlib inline\n",
    "%load_ext autoreload\n",
    "%autoreload 2"
   ]
  },
  {
   "cell_type": "markdown",
   "metadata": {},
   "source": [
    "## 1. Simple scatterplot"
   ]
  },
  {
   "cell_type": "code",
   "execution_count": 7,
   "metadata": {},
   "outputs": [
    {
     "data": {
      "text/html": [
       "<div>\n",
       "<style scoped>\n",
       "    .dataframe tbody tr th:only-of-type {\n",
       "        vertical-align: middle;\n",
       "    }\n",
       "\n",
       "    .dataframe tbody tr th {\n",
       "        vertical-align: top;\n",
       "    }\n",
       "\n",
       "    .dataframe thead th {\n",
       "        text-align: right;\n",
       "    }\n",
       "</style>\n",
       "<table border=\"1\" class=\"dataframe\">\n",
       "  <thead>\n",
       "    <tr style=\"text-align: right;\">\n",
       "      <th></th>\n",
       "      <th>sepal_length</th>\n",
       "      <th>sepal_width</th>\n",
       "      <th>petal_length</th>\n",
       "      <th>petal_width</th>\n",
       "      <th>species</th>\n",
       "    </tr>\n",
       "  </thead>\n",
       "  <tbody>\n",
       "    <tr>\n",
       "      <th>0</th>\n",
       "      <td>5.1</td>\n",
       "      <td>3.5</td>\n",
       "      <td>1.4</td>\n",
       "      <td>0.2</td>\n",
       "      <td>setosa</td>\n",
       "    </tr>\n",
       "    <tr>\n",
       "      <th>1</th>\n",
       "      <td>4.9</td>\n",
       "      <td>3.0</td>\n",
       "      <td>1.4</td>\n",
       "      <td>0.2</td>\n",
       "      <td>setosa</td>\n",
       "    </tr>\n",
       "    <tr>\n",
       "      <th>2</th>\n",
       "      <td>4.7</td>\n",
       "      <td>3.2</td>\n",
       "      <td>1.3</td>\n",
       "      <td>0.2</td>\n",
       "      <td>setosa</td>\n",
       "    </tr>\n",
       "    <tr>\n",
       "      <th>3</th>\n",
       "      <td>4.6</td>\n",
       "      <td>3.1</td>\n",
       "      <td>1.5</td>\n",
       "      <td>0.2</td>\n",
       "      <td>setosa</td>\n",
       "    </tr>\n",
       "    <tr>\n",
       "      <th>4</th>\n",
       "      <td>5.0</td>\n",
       "      <td>3.6</td>\n",
       "      <td>1.4</td>\n",
       "      <td>0.2</td>\n",
       "      <td>setosa</td>\n",
       "    </tr>\n",
       "  </tbody>\n",
       "</table>\n",
       "</div>"
      ],
      "text/plain": [
       "   sepal_length  sepal_width  petal_length  petal_width species\n",
       "0           5.1          3.5           1.4          0.2  setosa\n",
       "1           4.9          3.0           1.4          0.2  setosa\n",
       "2           4.7          3.2           1.3          0.2  setosa\n",
       "3           4.6          3.1           1.5          0.2  setosa\n",
       "4           5.0          3.6           1.4          0.2  setosa"
      ]
     },
     "execution_count": 7,
     "metadata": {},
     "output_type": "execute_result"
    }
   ],
   "source": [
    "# get the data\n",
    "import seaborn\n",
    "df = seaborn.load_dataset('iris')\n",
    "df.head()"
   ]
  },
  {
   "cell_type": "markdown",
   "metadata": {},
   "source": [
    "### Matplotlib"
   ]
  },
  {
   "cell_type": "code",
   "execution_count": 86,
   "metadata": {},
   "outputs": [
    {
     "data": {
      "image/png": "[encoded data removed]",
      "text/plain": [
       "<Figure size 432x288 with 1 Axes>"
      ]
     },
     "metadata": {
      "needs_background": "light"
     },
     "output_type": "display_data"
    }
   ],
   "source": [
    "import matplotlib.pyplot as plt\n",
    "\n",
    "# plot 1 - simple scatter\n",
    "colors = {'setosa': 'blue', 'virginica':'green', 'versicolor':'orange'}\n",
    "fig,ax = plt.subplots()\n",
    "for g, gdf in df.groupby('species'):\n",
    "    ax.scatter(gdf.petal_length, gdf.petal_width, color=colors[g], label=g);\n",
    "plt.title('Matplotlib (P1)')\n",
    "plt.legend();"
   ]
  },
  {
   "cell_type": "code",
   "execution_count": 96,
   "metadata": {},
   "outputs": [
    {
     "data": {
      "image/png": "[encoded data removed]",
      "text/plain": [
       "<Figure size 864x288 with 3 Axes>"
      ]
     },
     "metadata": {
      "needs_background": "light"
     },
     "output_type": "display_data"
    }
   ],
   "source": [
    "# plot 3 - facet plots side by side\n",
    "fig,ax = plt.subplots(1,3, figsize=(12,4))\n",
    "for i, (g, gdf) in enumerate(df.groupby('species')):\n",
    "    ax[i].scatter(gdf.petal_length, gdf.petal_width);\n",
    "    ax[i].set_title(list(colors.keys())[i])\n",
    "plt.suptitle('Matplotlib (P2)');"
   ]
  },
  {
   "cell_type": "markdown",
   "metadata": {},
   "source": [
    "### Pandas"
   ]
  },
  {
   "cell_type": "code",
   "execution_count": 68,
   "metadata": {},
   "outputs": [
    {
     "data": {
      "image/png": "[encoded data removed]",
      "text/plain": [
       "<Figure size 432x288 with 1 Axes>"
      ]
     },
     "metadata": {
      "needs_background": "light"
     },
     "output_type": "display_data"
    }
   ],
   "source": [
    "import pandas as pd\n",
    "s_colors = df.species.map(colors)\n",
    "df2.plot.scatter(x='petal_length', y='petal_width', c=df2.colors, title='Pandas');"
   ]
  },
  {
   "cell_type": "code",
   "execution_count": 98,
   "metadata": {},
   "outputs": [
    {
     "data": {
      "image/png": "[encoded data removed]",
      "text/plain": [
       "<Figure size 432x288 with 1 Axes>"
      ]
     },
     "metadata": {
      "needs_background": "light"
     },
     "output_type": "display_data"
    },
    {
     "data": {
      "image/png": "[encoded data removed]",
      "text/plain": [
       "<Figure size 432x288 with 1 Axes>"
      ]
     },
     "metadata": {
      "needs_background": "light"
     },
     "output_type": "display_data"
    },
    {
     "data": {
      "image/png": "[encoded data removed]",
      "text/plain": [
       "<Figure size 432x288 with 1 Axes>"
      ]
     },
     "metadata": {
      "needs_background": "light"
     },
     "output_type": "display_data"
    }
   ],
   "source": [
    "s_colors = df.species.map(colors)\n",
    "df2.groupby('species').plot.scatter(x='petal_length', y='petal_width', title='Pandas');"
   ]
  },
  {
   "cell_type": "markdown",
   "metadata": {},
   "source": [
    "### Seaborn"
   ]
  },
  {
   "cell_type": "code",
   "execution_count": 105,
   "metadata": {},
   "outputs": [
    {
     "data": {
      "image/png": "[encoded data removed]",
      "text/plain": [
       "<Figure size 656x216 with 3 Axes>"
      ]
     },
     "metadata": {
      "needs_background": "light"
     },
     "output_type": "display_data"
    }
   ],
   "source": [
    "import seaborn as sns\n",
    "g = sns.FacetGrid(df, col=\"species\")\n",
    "g.map(plt.scatter, 'petal_length', 'petal_width')\n",
    "g.add_legend();"
   ]
  },
  {
   "cell_type": "markdown",
   "metadata": {},
   "source": [
    "### Plotnine"
   ]
  },
  {
   "cell_type": "code",
   "execution_count": 85,
   "metadata": {},
   "outputs": [
    {
     "data": {
      "image/png": "[encoded data removed]",
      "text/plain": [
       "<Figure size 640x480 with 1 Axes>"
      ]
     },
     "metadata": {},
     "output_type": "display_data"
    }
   ],
   "source": [
    "# suppres warning in 0.5.1\n",
    "import warnings, matplotlib\n",
    "warnings.filterwarnings(\"ignore\", category=matplotlib.cbook.mplDeprecation)\n",
    "\n",
    "from plotnine import *\n",
    "p = ggplot(df, aes(x='petal_length', y='petal_width'))\n",
    "p += geom_point(aes(color='species'))\n",
    "p += scale_color_manual(colors)\n",
    "p += labs(title='Plotnine - aka ggplot')\n",
    "p += theme_bw()\n",
    "p.draw();"
   ]
  },
  {
   "cell_type": "code",
   "execution_count": 117,
   "metadata": {},
   "outputs": [
    {
     "data": {
      "image/png": "[encoded data removed]",
      "text/plain": [
       "<Figure size 640x480 with 3 Axes>"
      ]
     },
     "metadata": {},
     "output_type": "display_data"
    }
   ],
   "source": [
    "p = ggplot(df, aes(x='petal_length', y='petal_width'))\n",
    "p += geom_point()\n",
    "p += labs(title='Plotnine - aka ggplot')\n",
    "p += facet_wrap('~species')\n",
    "p += theme_bw() \n",
    "p.draw();"
   ]
  },
  {
   "cell_type": "markdown",
   "metadata": {},
   "source": [
    "## Interactive Plotting libs\n",
    "### hvplot"
   ]
  },
  {
   "cell_type": "code",
   "execution_count": 79,
   "metadata": {},
   "outputs": [
    {
     "data": {
      "application/vnd.holoviews_exec.v0+json": "",
      "text/html": [
       "<div id='1746' style='display: table; margin: 0 auto;'>\n",
       "\n",
       "\n",
       "\n",
       "\n",
       "\n",
       "  <div class=\"bk-root\" id=\"0ed34757-4495-4792-8134-e5e4159aad3f\" data-root-id=\"1746\"></div>\n",
       "</div>\n",
       "<script type=\"application/javascript\">(function(root) {\n",
       "  function embed_document(root) {\n",
       "    \n",
       "  var docs_json = {\"755c8612-241c-4374-bfef-9f13fa7f31db\":{\"roots\":{\"references\":[{\"attributes\":{\"below\":[{\"id\":\"1755\",\"type\":\"LinearAxis\"}],\"center\":[{\"id\":\"1759\",\"type\":\"Grid\"},{\"id\":\"1764\",\"type\":\"Grid\"},{\"id\":\"1794\",\"type\":\"Legend\"}],\"left\":[{\"id\":\"1760\",\"type\":\"LinearAxis\"}],\"margin\":null,\"min_border_bottom\":10,\"min_border_left\":10,\"min_border_right\":10,\"min_border_top\":10,\"plot_height\":300,\"plot_width\":500,\"renderers\":[{\"id\":\"1786\",\"type\":\"GlyphRenderer\"}],\"right\":[{\"id\":\"1794\",\"type\":\"Legend\"}],\"sizing_mode\":\"fixed\",\"title\":{\"id\":\"1747\",\"type\":\"Title\"},\"toolbar\":{\"id\":\"1770\",\"type\":\"Toolbar\"},\"x_range\":{\"id\":\"1743\",\"type\":\"Range1d\"},\"x_scale\":{\"id\":\"1751\",\"type\":\"LinearScale\"},\"y_range\":{\"id\":\"1744\",\"type\":\"Range1d\"},\"y_scale\":{\"id\":\"1753\",\"type\":\"LinearScale\"}},\"id\":\"1746\",\"subtype\":\"Figure\",\"type\":\"Plot\"},{\"attributes\":{\"source\":{\"id\":\"1778\",\"type\":\"ColumnDataSource\"}},\"id\":\"1787\",\"type\":\"CDSView\"},{\"attributes\":{\"fill_color\":{\"field\":\"color\",\"transform\":{\"id\":\"1777\",\"type\":\"CategoricalColorMapper\"}},\"line_color\":{\"field\":\"color\",\"transform\":{\"id\":\"1777\",\"type\":\"CategoricalColorMapper\"}},\"size\":{\"units\":\"screen\",\"value\":5.477225575051661},\"x\":{\"field\":\"petal_length\"},\"y\":{\"field\":\"petal_width\"}},\"id\":\"1781\",\"type\":\"Scatter\"},{\"attributes\":{},\"id\":\"1769\",\"type\":\"ResetTool\"},{\"attributes\":{\"fill_alpha\":{\"value\":0.2},\"fill_color\":{\"field\":\"color\",\"transform\":{\"id\":\"1777\",\"type\":\"CategoricalColorMapper\"}},\"line_alpha\":{\"value\":0.2},\"line_color\":{\"field\":\"color\",\"transform\":{\"id\":\"1777\",\"type\":\"CategoricalColorMapper\"}},\"size\":{\"units\":\"screen\",\"value\":5.477225575051661},\"x\":{\"field\":\"petal_length\"},\"y\":{\"field\":\"petal_width\"}},\"id\":\"1785\",\"type\":\"Scatter\"},{\"attributes\":{\"callback\":null,\"renderers\":[{\"id\":\"1786\",\"type\":\"GlyphRenderer\"}],\"tags\":[\"hv_created\"],\"tooltips\":[[\"petal_length\",\"@{petal_length}\"],[\"petal_width\",\"@{petal_width}\"],[\"species\",\"@{species}\"]]},\"id\":\"1745\",\"type\":\"HoverTool\"},{\"attributes\":{},\"id\":\"1767\",\"type\":\"WheelZoomTool\"},{\"attributes\":{\"overlay\":{\"id\":\"1793\",\"type\":\"BoxAnnotation\"}},\"id\":\"1768\",\"type\":\"BoxZoomTool\"},{\"attributes\":{},\"id\":\"1791\",\"type\":\"BasicTickFormatter\"},{\"attributes\":{},\"id\":\"1766\",\"type\":\"PanTool\"},{\"attributes\":{\"bottom_units\":\"screen\",\"fill_alpha\":{\"value\":0.5},\"fill_color\":{\"value\":\"lightgrey\"},\"left_units\":\"screen\",\"level\":\"overlay\",\"line_alpha\":{\"value\":1.0},\"line_color\":{\"value\":\"black\"},\"line_dash\":[4,4],\"line_width\":{\"value\":2},\"render_mode\":\"css\",\"right_units\":\"screen\",\"top_units\":\"screen\"},\"id\":\"1793\",\"type\":\"BoxAnnotation\"},{\"attributes\":{\"active_drag\":\"auto\",\"active_inspect\":\"auto\",\"active_multi\":null,\"active_scroll\":\"auto\",\"active_tap\":\"auto\",\"tools\":[{\"id\":\"1745\",\"type\":\"HoverTool\"},{\"id\":\"1765\",\"type\":\"SaveTool\"},{\"id\":\"1766\",\"type\":\"PanTool\"},{\"id\":\"1767\",\"type\":\"WheelZoomTool\"},{\"id\":\"1768\",\"type\":\"BoxZoomTool\"},{\"id\":\"1769\",\"type\":\"ResetTool\"}]},\"id\":\"1770\",\"type\":\"Toolbar\"},{\"attributes\":{\"callback\":null,\"end\":2.5,\"reset_end\":2.5,\"reset_start\":0.1,\"start\":0.1,\"tags\":[[[\"petal_width\",\"petal_width\",null]]]},\"id\":\"1744\",\"type\":\"Range1d\"},{\"attributes\":{\"text\":\"hvplot\",\"text_color\":{\"value\":\"black\"},\"text_font_size\":{\"value\":\"12pt\"}},\"id\":\"1747\",\"type\":\"Title\"},{\"attributes\":{\"label\":{\"field\":\"color\"},\"renderers\":[{\"id\":\"1786\",\"type\":\"GlyphRenderer\"}]},\"id\":\"1795\",\"type\":\"LegendItem\"},{\"attributes\":{},\"id\":\"1765\",\"type\":\"SaveTool\"},{\"attributes\":{\"dimension\":1,\"grid_line_color\":null,\"ticker\":{\"id\":\"1761\",\"type\":\"BasicTicker\"}},\"id\":\"1764\",\"type\":\"Grid\"},{\"attributes\":{},\"id\":\"1807\",\"type\":\"UnionRenderers\"},{\"attributes\":{},\"id\":\"1789\",\"type\":\"BasicTickFormatter\"},{\"attributes\":{\"items\":[{\"id\":\"1795\",\"type\":\"LegendItem\"}],\"location\":[0,0]},\"id\":\"1794\",\"type\":\"Legend\"},{\"attributes\":{},\"id\":\"1751\",\"type\":\"LinearScale\"},{\"attributes\":{\"data_source\":{\"id\":\"1778\",\"type\":\"ColumnDataSource\"},\"glyph\":{\"id\":\"1781\",\"type\":\"Scatter\"},\"hover_glyph\":{\"id\":\"1784\",\"type\":\"Scatter\"},\"muted_glyph\":{\"id\":\"1785\",\"type\":\"Scatter\"},\"nonselection_glyph\":{\"id\":\"1782\",\"type\":\"Scatter\"},\"selection_glyph\":{\"id\":\"1783\",\"type\":\"Scatter\"},\"view\":{\"id\":\"1787\",\"type\":\"CDSView\"}},\"id\":\"1786\",\"type\":\"GlyphRenderer\"},{\"attributes\":{},\"id\":\"1761\",\"type\":\"BasicTicker\"},{\"attributes\":{},\"id\":\"1779\",\"type\":\"Selection\"},{\"attributes\":{\"fill_color\":{\"field\":\"color\",\"transform\":{\"id\":\"1777\",\"type\":\"CategoricalColorMapper\"}},\"line_color\":{\"field\":\"color\",\"transform\":{\"id\":\"1777\",\"type\":\"CategoricalColorMapper\"}},\"size\":{\"units\":\"screen\",\"value\":5.477225575051661},\"x\":{\"field\":\"petal_length\"},\"y\":{\"field\":\"petal_width\"}},\"id\":\"1783\",\"type\":\"Scatter\"},{\"attributes\":{\"grid_line_color\":null,\"ticker\":{\"id\":\"1756\",\"type\":\"BasicTicker\"}},\"id\":\"1759\",\"type\":\"Grid\"},{\"attributes\":{\"axis_label\":\"petal_length\",\"bounds\":\"auto\",\"formatter\":{\"id\":\"1789\",\"type\":\"BasicTickFormatter\"},\"major_label_orientation\":\"horizontal\",\"ticker\":{\"id\":\"1756\",\"type\":\"BasicTicker\"}},\"id\":\"1755\",\"type\":\"LinearAxis\"},{\"attributes\":{\"axis_label\":\"petal_width\",\"bounds\":\"auto\",\"formatter\":{\"id\":\"1791\",\"type\":\"BasicTickFormatter\"},\"major_label_orientation\":\"horizontal\",\"ticker\":{\"id\":\"1761\",\"type\":\"BasicTicker\"}},\"id\":\"1760\",\"type\":\"LinearAxis\"},{\"attributes\":{\"fill_color\":{\"field\":\"color\",\"transform\":{\"id\":\"1777\",\"type\":\"CategoricalColorMapper\"}},\"line_color\":{\"field\":\"color\",\"transform\":{\"id\":\"1777\",\"type\":\"CategoricalColorMapper\"}},\"size\":{\"units\":\"screen\",\"value\":5.477225575051661},\"x\":{\"field\":\"petal_length\"},\"y\":{\"field\":\"petal_width\"}},\"id\":\"1784\",\"type\":\"Scatter\"},{\"attributes\":{\"factors\":[\"setosa\",\"versicolor\",\"virginica\"],\"palette\":[\"#1f77b4\",\"#ff7f0e\",\"#2ca02c\"]},\"id\":\"1777\",\"type\":\"CategoricalColorMapper\"},{\"attributes\":{\"callback\":null,\"end\":6.9,\"reset_end\":6.9,\"reset_start\":1.0,\"start\":1.0,\"tags\":[[[\"petal_length\",\"petal_length\",null]]]},\"id\":\"1743\",\"type\":\"Range1d\"},{\"attributes\":{\"callback\":null,\"data\":{\"color\":[\"setosa\",\"setosa\",\"setosa\",\"setosa\",\"setosa\",\"setosa\",\"setosa\",\"setosa\",\"setosa\",\"setosa\",\"setosa\",\"setosa\",\"setosa\",\"setosa\",\"setosa\",\"setosa\",\"setosa\",\"setosa\",\"setosa\",\"setosa\",\"setosa\",\"setosa\",\"setosa\",\"setosa\",\"setosa\",\"setosa\",\"setosa\",\"setosa\",\"setosa\",\"setosa\",\"setosa\",\"setosa\",\"setosa\",\"setosa\",\"setosa\",\"setosa\",\"setosa\",\"setosa\",\"setosa\",\"setosa\",\"setosa\",\"setosa\",\"setosa\",\"setosa\",\"setosa\",\"setosa\",\"setosa\",\"setosa\",\"setosa\",\"setosa\",\"versicolor\",\"versicolor\",\"versicolor\",\"versicolor\",\"versicolor\",\"versicolor\",\"versicolor\",\"versicolor\",\"versicolor\",\"versicolor\",\"versicolor\",\"versicolor\",\"versicolor\",\"versicolor\",\"versicolor\",\"versicolor\",\"versicolor\",\"versicolor\",\"versicolor\",\"versicolor\",\"versicolor\",\"versicolor\",\"versicolor\",\"versicolor\",\"versicolor\",\"versicolor\",\"versicolor\",\"versicolor\",\"versicolor\",\"versicolor\",\"versicolor\",\"versicolor\",\"versicolor\",\"versicolor\",\"versicolor\",\"versicolor\",\"versicolor\",\"versicolor\",\"versicolor\",\"versicolor\",\"versicolor\",\"versicolor\",\"versicolor\",\"versicolor\",\"versicolor\",\"versicolor\",\"versicolor\",\"versicolor\",\"versicolor\",\"versicolor\",\"virginica\",\"virginica\",\"virginica\",\"virginica\",\"virginica\",\"virginica\",\"virginica\",\"virginica\",\"virginica\",\"virginica\",\"virginica\",\"virginica\",\"virginica\",\"virginica\",\"virginica\",\"virginica\",\"virginica\",\"virginica\",\"virginica\",\"virginica\",\"virginica\",\"virginica\",\"virginica\",\"virginica\",\"virginica\",\"virginica\",\"virginica\",\"virginica\",\"virginica\",\"virginica\",\"virginica\",\"virginica\",\"virginica\",\"virginica\",\"virginica\",\"virginica\",\"virginica\",\"virginica\",\"virginica\",\"virginica\",\"virginica\",\"virginica\",\"virginica\",\"virginica\",\"virginica\",\"virginica\",\"virginica\",\"virginica\",\"virginica\",\"virginica\"],\"petal_length\":{\"__ndarray__\":\"ZmZmZmZm9j9mZmZmZmb2P83MzMzMzPQ/AAAAAAAA+D9mZmZmZmb2PzMzMzMzM/s/ZmZmZmZm9j8AAAAAAAD4P2ZmZmZmZvY/AAAAAAAA+D8AAAAAAAD4P5qZmZmZmfk/ZmZmZmZm9j+amZmZmZnxPzMzMzMzM/M/AAAAAAAA+D/NzMzMzMz0P2ZmZmZmZvY/MzMzMzMz+z8AAAAAAAD4PzMzMzMzM/s/AAAAAAAA+D8AAAAAAADwPzMzMzMzM/s/ZmZmZmZm/j+amZmZmZn5P5qZmZmZmfk/AAAAAAAA+D9mZmZmZmb2P5qZmZmZmfk/mpmZmZmZ+T8AAAAAAAD4PwAAAAAAAPg/ZmZmZmZm9j8AAAAAAAD4PzMzMzMzM/M/zczMzMzM9D9mZmZmZmb2P83MzMzMzPQ/AAAAAAAA+D/NzMzMzMz0P83MzMzMzPQ/zczMzMzM9D+amZmZmZn5P2ZmZmZmZv4/ZmZmZmZm9j+amZmZmZn5P2ZmZmZmZvY/AAAAAAAA+D9mZmZmZmb2P83MzMzMzBJAAAAAAAAAEkCamZmZmZkTQAAAAAAAABBAZmZmZmZmEkAAAAAAAAASQM3MzMzMzBJAZmZmZmZmCkBmZmZmZmYSQDMzMzMzMw9AAAAAAAAADEDNzMzMzMwQQAAAAAAAABBAzczMzMzMEkDNzMzMzMwMQJqZmZmZmRFAAAAAAAAAEkBmZmZmZmYQQAAAAAAAABJAMzMzMzMzD0AzMzMzMzMTQAAAAAAAABBAmpmZmZmZE0DNzMzMzMwSQDMzMzMzMxFAmpmZmZmZEUAzMzMzMzMTQAAAAAAAABRAAAAAAAAAEkAAAAAAAAAMQGZmZmZmZg5AmpmZmZmZDUAzMzMzMzMPQGZmZmZmZhRAAAAAAAAAEkAAAAAAAAASQM3MzMzMzBJAmpmZmZmZEUBmZmZmZmYQQAAAAAAAABBAmpmZmZmZEUBmZmZmZmYSQAAAAAAAABBAZmZmZmZmCkDNzMzMzMwQQM3MzMzMzBBAzczMzMzMEEAzMzMzMzMRQAAAAAAAAAhAZmZmZmZmEEAAAAAAAAAYQGZmZmZmZhRAmpmZmZmZF0BmZmZmZmYWQDMzMzMzMxdAZmZmZmZmGkAAAAAAAAASQDMzMzMzMxlAMzMzMzMzF0BmZmZmZmYYQGZmZmZmZhRAMzMzMzMzFUAAAAAAAAAWQAAAAAAAABRAZmZmZmZmFEAzMzMzMzMVQAAAAAAAABZAzczMzMzMGkCamZmZmZkbQAAAAAAAABRAzczMzMzMFkCamZmZmZkTQM3MzMzMzBpAmpmZmZmZE0DNzMzMzMwWQAAAAAAAABhAMzMzMzMzE0CamZmZmZkTQGZmZmZmZhZAMzMzMzMzF0BmZmZmZmYYQJqZmZmZmRlAZmZmZmZmFkBmZmZmZmYUQGZmZmZmZhZAZmZmZmZmGEBmZmZmZmYWQAAAAAAAABZAMzMzMzMzE0CamZmZmZkVQGZmZmZmZhZAZmZmZmZmFEBmZmZmZmYUQJqZmZmZmRdAzczMzMzMFkDNzMzMzMwUQAAAAAAAABRAzczMzMzMFECamZmZmZkVQGZmZmZmZhRA\",\"dtype\":\"float64\",\"shape\":[150]},\"petal_width\":{\"__ndarray__\":\"mpmZmZmZyT+amZmZmZnJP5qZmZmZmck/mpmZmZmZyT+amZmZmZnJP5qZmZmZmdk/MzMzMzMz0z+amZmZmZnJP5qZmZmZmck/mpmZmZmZuT+amZmZmZnJP5qZmZmZmck/mpmZmZmZuT+amZmZmZm5P5qZmZmZmck/mpmZmZmZ2T+amZmZmZnZPzMzMzMzM9M/MzMzMzMz0z8zMzMzMzPTP5qZmZmZmck/mpmZmZmZ2T+amZmZmZnJPwAAAAAAAOA/mpmZmZmZyT+amZmZmZnJP5qZmZmZmdk/mpmZmZmZyT+amZmZmZnJP5qZmZmZmck/mpmZmZmZyT+amZmZmZnZP5qZmZmZmbk/mpmZmZmZyT+amZmZmZnJP5qZmZmZmck/mpmZmZmZyT+amZmZmZm5P5qZmZmZmck/mpmZmZmZyT8zMzMzMzPTPzMzMzMzM9M/mpmZmZmZyT8zMzMzMzPjP5qZmZmZmdk/MzMzMzMz0z+amZmZmZnJP5qZmZmZmck/mpmZmZmZyT+amZmZmZnJP2ZmZmZmZvY/AAAAAAAA+D8AAAAAAAD4P83MzMzMzPQ/AAAAAAAA+D/NzMzMzMz0P5qZmZmZmfk/AAAAAAAA8D/NzMzMzMz0P2ZmZmZmZvY/AAAAAAAA8D8AAAAAAAD4PwAAAAAAAPA/ZmZmZmZm9j/NzMzMzMz0P2ZmZmZmZvY/AAAAAAAA+D8AAAAAAADwPwAAAAAAAPg/mpmZmZmZ8T/NzMzMzMz8P83MzMzMzPQ/AAAAAAAA+D8zMzMzMzPzP83MzMzMzPQ/ZmZmZmZm9j9mZmZmZmb2PzMzMzMzM/s/AAAAAAAA+D8AAAAAAADwP5qZmZmZmfE/AAAAAAAA8D8zMzMzMzPzP5qZmZmZmfk/AAAAAAAA+D+amZmZmZn5PwAAAAAAAPg/zczMzMzM9D/NzMzMzMz0P83MzMzMzPQ/MzMzMzMz8z9mZmZmZmb2PzMzMzMzM/M/AAAAAAAA8D/NzMzMzMz0PzMzMzMzM/M/zczMzMzM9D/NzMzMzMz0P5qZmZmZmfE/zczMzMzM9D8AAAAAAAAEQGZmZmZmZv4/zczMzMzMAEDNzMzMzMz8P5qZmZmZmQFAzczMzMzMAEAzMzMzMzP7P83MzMzMzPw/zczMzMzM/D8AAAAAAAAEQAAAAAAAAABAZmZmZmZm/j/NzMzMzMwAQAAAAAAAAABAMzMzMzMzA0BmZmZmZmYCQM3MzMzMzPw/mpmZmZmZAUBmZmZmZmYCQAAAAAAAAPg/ZmZmZmZmAkAAAAAAAAAAQAAAAAAAAABAzczMzMzM/D/NzMzMzMwAQM3MzMzMzPw/zczMzMzM/D/NzMzMzMz8P83MzMzMzABAmpmZmZmZ+T9mZmZmZmb+PwAAAAAAAABAmpmZmZmZAUAAAAAAAAD4P2ZmZmZmZvY/ZmZmZmZmAkAzMzMzMzMDQM3MzMzMzPw/zczMzMzM/D/NzMzMzMwAQDMzMzMzMwNAZmZmZmZmAkBmZmZmZmb+P2ZmZmZmZgJAAAAAAAAABEBmZmZmZmYCQGZmZmZmZv4/AAAAAAAAAEBmZmZmZmYCQM3MzMzMzPw/\",\"dtype\":\"float64\",\"shape\":[150]},\"species\":[\"setosa\",\"setosa\",\"setosa\",\"setosa\",\"setosa\",\"setosa\",\"setosa\",\"setosa\",\"setosa\",\"setosa\",\"setosa\",\"setosa\",\"setosa\",\"setosa\",\"setosa\",\"setosa\",\"setosa\",\"setosa\",\"setosa\",\"setosa\",\"setosa\",\"setosa\",\"setosa\",\"setosa\",\"setosa\",\"setosa\",\"setosa\",\"setosa\",\"setosa\",\"setosa\",\"setosa\",\"setosa\",\"setosa\",\"setosa\",\"setosa\",\"setosa\",\"setosa\",\"setosa\",\"setosa\",\"setosa\",\"setosa\",\"setosa\",\"setosa\",\"setosa\",\"setosa\",\"setosa\",\"setosa\",\"setosa\",\"setosa\",\"setosa\",\"versicolor\",\"versicolor\",\"versicolor\",\"versicolor\",\"versicolor\",\"versicolor\",\"versicolor\",\"versicolor\",\"versicolor\",\"versicolor\",\"versicolor\",\"versicolor\",\"versicolor\",\"versicolor\",\"versicolor\",\"versicolor\",\"versicolor\",\"versicolor\",\"versicolor\",\"versicolor\",\"versicolor\",\"versicolor\",\"versicolor\",\"versicolor\",\"versicolor\",\"versicolor\",\"versicolor\",\"versicolor\",\"versicolor\",\"versicolor\",\"versicolor\",\"versicolor\",\"versicolor\",\"versicolor\",\"versicolor\",\"versicolor\",\"versicolor\",\"versicolor\",\"versicolor\",\"versicolor\",\"versicolor\",\"versicolor\",\"versicolor\",\"versicolor\",\"versicolor\",\"versicolor\",\"versicolor\",\"versicolor\",\"versicolor\",\"versicolor\",\"virginica\",\"virginica\",\"virginica\",\"virginica\",\"virginica\",\"virginica\",\"virginica\",\"virginica\",\"virginica\",\"virginica\",\"virginica\",\"virginica\",\"virginica\",\"virginica\",\"virginica\",\"virginica\",\"virginica\",\"virginica\",\"virginica\",\"virginica\",\"virginica\",\"virginica\",\"virginica\",\"virginica\",\"virginica\",\"virginica\",\"virginica\",\"virginica\",\"virginica\",\"virginica\",\"virginica\",\"virginica\",\"virginica\",\"virginica\",\"virginica\",\"virginica\",\"virginica\",\"virginica\",\"virginica\",\"virginica\",\"virginica\",\"virginica\",\"virginica\",\"virginica\",\"virginica\",\"virginica\",\"virginica\",\"virginica\",\"virginica\",\"virginica\"]},\"selected\":{\"id\":\"1779\",\"type\":\"Selection\"},\"selection_policy\":{\"id\":\"1807\",\"type\":\"UnionRenderers\"}},\"id\":\"1778\",\"type\":\"ColumnDataSource\"},{\"attributes\":{},\"id\":\"1753\",\"type\":\"LinearScale\"},{\"attributes\":{},\"id\":\"1756\",\"type\":\"BasicTicker\"},{\"attributes\":{\"fill_alpha\":{\"value\":0.1},\"fill_color\":{\"field\":\"color\",\"transform\":{\"id\":\"1777\",\"type\":\"CategoricalColorMapper\"}},\"line_alpha\":{\"value\":0.1},\"line_color\":{\"field\":\"color\",\"transform\":{\"id\":\"1777\",\"type\":\"CategoricalColorMapper\"}},\"size\":{\"units\":\"screen\",\"value\":5.477225575051661},\"x\":{\"field\":\"petal_length\"},\"y\":{\"field\":\"petal_width\"}},\"id\":\"1782\",\"type\":\"Scatter\"}],\"root_ids\":[\"1746\"]},\"title\":\"Bokeh Application\",\"version\":\"1.3.4\"}};\n",
       "  var render_items = [{\"docid\":\"755c8612-241c-4374-bfef-9f13fa7f31db\",\"roots\":{\"1746\":\"0ed34757-4495-4792-8134-e5e4159aad3f\"}}];\n",
       "  root.Bokeh.embed.embed_items_notebook(docs_json, render_items);\n",
       "\n",
       "  }\n",
       "  if (root.Bokeh !== undefined) {\n",
       "    embed_document(root);\n",
       "  } else {\n",
       "    var attempts = 0;\n",
       "    var timer = setInterval(function(root) {\n",
       "      if (root.Bokeh !== undefined) {\n",
       "        embed_document(root);\n",
       "        clearInterval(timer);\n",
       "      }\n",
       "      attempts++;\n",
       "      if (attempts > 100) {\n",
       "        console.log(\"Bokeh: ERROR: Unable to run BokehJS code because BokehJS library is missing\");\n",
       "        clearInterval(timer);\n",
       "      }\n",
       "    }, 10, root)\n",
       "  }\n",
       "})(window);</script>"
      ],
      "text/plain": [
       ":Scatter   [petal_length]   (petal_width,species)"
      ]
     },
     "execution_count": 79,
     "metadata": {
      "application/vnd.holoviews_exec.v0+json": {
       "id": "1746"
      }
     },
     "output_type": "execute_result"
    }
   ],
   "source": [
    "import hvplot.pandas\n",
    "df.hvplot.scatter(x='petal_length', y='petal_width', c='species', width=500, title='hvplot')"
   ]
  },
  {
   "cell_type": "code",
   "execution_count": 114,
   "metadata": {},
   "outputs": [
    {
     "data": {
      "application/vnd.holoviews_exec.v0+json": "",
      "text/html": [
       "<div id='3541' style='display: table; margin: 0 auto;'>\n",
       "\n",
       "\n",
       "\n",
       "\n",
       "\n",
       "  <div class=\"bk-root\" id=\"21af6973-7faa-47e3-9bb1-602d7287af4c\" data-root-id=\"3541\"></div>\n",
       "</div>\n",
       "<script type=\"application/javascript\">(function(root) {\n",
       "  function embed_document(root) {\n",
       "    \n",
       "  var docs_json = {\"7362cfbc-87d7-4396-9414-b9e68fa0d7ad\":{\"roots\":{\"references\":[{\"attributes\":{\"children\":[{\"id\":\"3524\",\"subtype\":\"Figure\",\"type\":\"Plot\"},{\"id\":\"3520\",\"type\":\"Column\"}]},\"id\":\"3541\",\"type\":\"Column\"},{\"attributes\":{},\"id\":\"3467\",\"type\":\"PanTool\"},{\"attributes\":{\"source\":{\"id\":\"3478\",\"type\":\"ColumnDataSource\"}},\"id\":\"3485\",\"type\":\"CDSView\"},{\"attributes\":{\"overlay\":{\"id\":\"3513\",\"type\":\"BoxAnnotation\"}},\"id\":\"3469\",\"type\":\"BoxZoomTool\"},{\"attributes\":{\"data_source\":{\"id\":\"3478\",\"type\":\"ColumnDataSource\"},\"glyph\":{\"id\":\"3481\",\"type\":\"Scatter\"},\"hover_glyph\":null,\"muted_glyph\":{\"id\":\"3483\",\"type\":\"Scatter\"},\"nonselection_glyph\":{\"id\":\"3482\",\"type\":\"Scatter\"},\"selection_glyph\":null,\"view\":{\"id\":\"3485\",\"type\":\"CDSView\"}},\"id\":\"3484\",\"type\":\"GlyphRenderer\"},{\"attributes\":{},\"id\":\"3546\",\"type\":\"CategoricalTickFormatter\"},{\"attributes\":{\"text\":\"\",\"text_color\":{\"value\":\"black\"},\"text_font_size\":{\"value\":\"12pt\"}},\"id\":\"3543\",\"type\":\"Title\"},{\"attributes\":{\"active_drag\":\"auto\",\"active_inspect\":\"auto\",\"active_multi\":null,\"active_scroll\":\"auto\",\"active_tap\":\"auto\",\"tools\":[{\"id\":\"3402\",\"type\":\"HoverTool\"},{\"id\":\"3422\",\"type\":\"SaveTool\"},{\"id\":\"3423\",\"type\":\"PanTool\"},{\"id\":\"3424\",\"type\":\"WheelZoomTool\"},{\"id\":\"3425\",\"type\":\"BoxZoomTool\"},{\"id\":\"3426\",\"type\":\"ResetTool\"}]},\"id\":\"3427\",\"type\":\"Toolbar\"},{\"attributes\":{\"text\":\"\",\"text_color\":{\"value\":\"black\"},\"text_font_size\":{\"value\":\"12pt\"}},\"id\":\"3360\",\"type\":\"Title\"},{\"attributes\":{\"fill_color\":{\"value\":\"#1f77b4\"},\"line_color\":{\"value\":\"#1f77b4\"},\"size\":{\"units\":\"screen\",\"value\":5.477225575051661},\"x\":{\"field\":\"petal_length\"},\"y\":{\"field\":\"petal_width\"}},\"id\":\"3481\",\"type\":\"Scatter\"},{\"attributes\":{\"callback\":null,\"data\":{\"petal_length\":{\"__ndarray__\":\"ZmZmZmZm9j9mZmZmZmb2P83MzMzMzPQ/AAAAAAAA+D9mZmZmZmb2PzMzMzMzM/s/ZmZmZmZm9j8AAAAAAAD4P2ZmZmZmZvY/AAAAAAAA+D8AAAAAAAD4P5qZmZmZmfk/ZmZmZmZm9j+amZmZmZnxPzMzMzMzM/M/AAAAAAAA+D/NzMzMzMz0P2ZmZmZmZvY/MzMzMzMz+z8AAAAAAAD4PzMzMzMzM/s/AAAAAAAA+D8AAAAAAADwPzMzMzMzM/s/ZmZmZmZm/j+amZmZmZn5P5qZmZmZmfk/AAAAAAAA+D9mZmZmZmb2P5qZmZmZmfk/mpmZmZmZ+T8AAAAAAAD4PwAAAAAAAPg/ZmZmZmZm9j8AAAAAAAD4PzMzMzMzM/M/zczMzMzM9D9mZmZmZmb2P83MzMzMzPQ/AAAAAAAA+D/NzMzMzMz0P83MzMzMzPQ/zczMzMzM9D+amZmZmZn5P2ZmZmZmZv4/ZmZmZmZm9j+amZmZmZn5P2ZmZmZmZvY/AAAAAAAA+D9mZmZmZmb2Pw==\",\"dtype\":\"float64\",\"shape\":[50]},\"petal_width\":{\"__ndarray__\":\"mpmZmZmZyT+amZmZmZnJP5qZmZmZmck/mpmZmZmZyT+amZmZmZnJP5qZmZmZmdk/MzMzMzMz0z+amZmZmZnJP5qZmZmZmck/mpmZmZmZuT+amZmZmZnJP5qZmZmZmck/mpmZmZmZuT+amZmZmZm5P5qZmZmZmck/mpmZmZmZ2T+amZmZmZnZPzMzMzMzM9M/MzMzMzMz0z8zMzMzMzPTP5qZmZmZmck/mpmZmZmZ2T+amZmZmZnJPwAAAAAAAOA/mpmZmZmZyT+amZmZmZnJP5qZmZmZmdk/mpmZmZmZyT+amZmZmZnJP5qZmZmZmck/mpmZmZmZyT+amZmZmZnZP5qZmZmZmbk/mpmZmZmZyT+amZmZmZnJP5qZmZmZmck/mpmZmZmZyT+amZmZmZm5P5qZmZmZmck/mpmZmZmZyT8zMzMzMzPTPzMzMzMzM9M/mpmZmZmZyT8zMzMzMzPjP5qZmZmZmdk/MzMzMzMz0z+amZmZmZnJP5qZmZmZmck/mpmZmZmZyT+amZmZmZnJPw==\",\"dtype\":\"float64\",\"shape\":[50]}},\"selected\":{\"id\":\"3391\",\"type\":\"Selection\"},\"selection_policy\":{\"id\":\"3497\",\"type\":\"UnionRenderers\"}},\"id\":\"3390\",\"type\":\"ColumnDataSource\"},{\"attributes\":{\"active_drag\":\"auto\",\"active_inspect\":\"auto\",\"active_multi\":null,\"active_scroll\":\"auto\",\"active_tap\":\"auto\",\"tools\":[{\"id\":\"3446\",\"type\":\"HoverTool\"},{\"id\":\"3466\",\"type\":\"SaveTool\"},{\"id\":\"3467\",\"type\":\"PanTool\"},{\"id\":\"3468\",\"type\":\"WheelZoomTool\"},{\"id\":\"3469\",\"type\":\"BoxZoomTool\"},{\"id\":\"3470\",\"type\":\"ResetTool\"}]},\"id\":\"3471\",\"type\":\"Toolbar\"},{\"attributes\":{\"active_drag\":\"auto\",\"active_inspect\":\"auto\",\"active_multi\":null,\"active_scroll\":\"auto\",\"active_tap\":\"auto\"},\"id\":\"3540\",\"type\":\"Toolbar\"},{\"attributes\":{\"fill_alpha\":{\"value\":0.1},\"fill_color\":{\"value\":\"#1f77b4\"},\"line_alpha\":{\"value\":0.1},\"line_color\":{\"value\":\"#1f77b4\"},\"size\":{\"units\":\"screen\",\"value\":5.477225575051661},\"x\":{\"field\":\"petal_length\"},\"y\":{\"field\":\"petal_width\"}},\"id\":\"3482\",\"type\":\"Scatter\"},{\"attributes\":{\"fill_alpha\":{\"value\":0.2},\"fill_color\":{\"value\":\"#1f77b4\"},\"line_alpha\":{\"value\":0.2},\"line_color\":{\"value\":\"#1f77b4\"},\"size\":{\"units\":\"screen\",\"value\":5.477225575051661},\"x\":{\"field\":\"petal_length\"},\"y\":{\"field\":\"petal_width\"}},\"id\":\"3483\",\"type\":\"Scatter\"},{\"attributes\":{},\"id\":\"3374\",\"type\":\"BasicTicker\"},{\"attributes\":{},\"id\":\"3468\",\"type\":\"WheelZoomTool\"},{\"attributes\":{},\"id\":\"3544\",\"type\":\"BasicTickFormatter\"},{\"attributes\":{\"fill_color\":{\"value\":\"#1f77b4\"},\"line_color\":{\"value\":\"#1f77b4\"},\"size\":{\"units\":\"screen\",\"value\":5.477225575051661},\"x\":{\"field\":\"petal_length\"},\"y\":{\"field\":\"petal_width\"}},\"id\":\"3437\",\"type\":\"Scatter\"},{\"attributes\":{\"children\":[[{\"id\":\"3359\",\"subtype\":\"Figure\",\"type\":\"Plot\"},0,0],[{\"id\":\"3403\",\"subtype\":\"Figure\",\"type\":\"Plot\"},0,1],[{\"id\":\"3447\",\"subtype\":\"Figure\",\"type\":\"Plot\"},0,2]]},\"id\":\"3517\",\"type\":\"GridBox\"},{\"attributes\":{\"dimension\":1,\"grid_line_color\":null,\"ticker\":{\"id\":\"3374\",\"type\":\"BasicTicker\"}},\"id\":\"3377\",\"type\":\"Grid\"},{\"attributes\":{},\"id\":\"3488\",\"type\":\"BasicTickFormatter\"},{\"attributes\":{},\"id\":\"3470\",\"type\":\"ResetTool\"},{\"attributes\":{\"callback\":null},\"id\":\"3522\",\"type\":\"Range1d\"},{\"attributes\":{},\"id\":\"3486\",\"type\":\"BasicTickFormatter\"},{\"attributes\":{},\"id\":\"3497\",\"type\":\"UnionRenderers\"},{\"attributes\":{\"fill_alpha\":{\"value\":0.1},\"fill_color\":{\"value\":\"#1f77b4\"},\"line_alpha\":{\"value\":0.1},\"line_color\":{\"value\":\"#1f77b4\"},\"size\":{\"units\":\"screen\",\"value\":5.477225575051661},\"x\":{\"field\":\"petal_length\"},\"y\":{\"field\":\"petal_width\"}},\"id\":\"3438\",\"type\":\"Scatter\"},{\"attributes\":{\"bottom_units\":\"screen\",\"fill_alpha\":{\"value\":0.5},\"fill_color\":{\"value\":\"lightgrey\"},\"left_units\":\"screen\",\"level\":\"overlay\",\"line_alpha\":{\"value\":1.0},\"line_color\":{\"value\":\"black\"},\"line_dash\":[4,4],\"line_width\":{\"value\":2},\"render_mode\":\"css\",\"right_units\":\"screen\",\"top_units\":\"screen\"},\"id\":\"3495\",\"type\":\"BoxAnnotation\"},{\"attributes\":{},\"id\":\"3364\",\"type\":\"LinearScale\"},{\"attributes\":{\"text\":\"\",\"text_color\":{\"value\":\"black\"},\"text_font_size\":{\"value\":\"12pt\"}},\"id\":\"3404\",\"type\":\"Title\"},{\"attributes\":{},\"id\":\"3426\",\"type\":\"ResetTool\"},{\"attributes\":{},\"id\":\"3442\",\"type\":\"BasicTickFormatter\"},{\"attributes\":{\"fill_alpha\":{\"value\":0.2},\"fill_color\":{\"value\":\"#1f77b4\"},\"line_alpha\":{\"value\":0.2},\"line_color\":{\"value\":\"#1f77b4\"},\"size\":{\"units\":\"screen\",\"value\":5.477225575051661},\"x\":{\"field\":\"petal_length\"},\"y\":{\"field\":\"petal_width\"}},\"id\":\"3439\",\"type\":\"Scatter\"},{\"attributes\":{\"axis_label\":\"petal_length\",\"bounds\":\"auto\",\"formatter\":{\"id\":\"3442\",\"type\":\"BasicTickFormatter\"},\"major_label_orientation\":\"horizontal\",\"ticker\":{\"id\":\"3413\",\"type\":\"BasicTicker\"}},\"id\":\"3412\",\"type\":\"LinearAxis\"},{\"attributes\":{\"axis_label\":\"petal_width\",\"bounds\":\"auto\",\"formatter\":{\"id\":\"3444\",\"type\":\"BasicTickFormatter\"},\"major_label_orientation\":\"horizontal\",\"ticker\":{\"id\":\"3418\",\"type\":\"BasicTicker\"},\"visible\":false},\"id\":\"3417\",\"type\":\"LinearAxis\"},{\"attributes\":{\"source\":{\"id\":\"3390\",\"type\":\"ColumnDataSource\"}},\"id\":\"3397\",\"type\":\"CDSView\"},{\"attributes\":{},\"id\":\"3435\",\"type\":\"Selection\"},{\"attributes\":{},\"id\":\"3379\",\"type\":\"PanTool\"},{\"attributes\":{\"toolbar\":{\"id\":\"3518\",\"type\":\"ProxyToolbar\"},\"toolbar_location\":\"above\"},\"id\":\"3519\",\"type\":\"ToolbarBox\"},{\"attributes\":{\"data_source\":{\"id\":\"3390\",\"type\":\"ColumnDataSource\"},\"glyph\":{\"id\":\"3393\",\"type\":\"Scatter\"},\"hover_glyph\":null,\"muted_glyph\":{\"id\":\"3395\",\"type\":\"Scatter\"},\"nonselection_glyph\":{\"id\":\"3394\",\"type\":\"Scatter\"},\"selection_glyph\":null,\"view\":{\"id\":\"3397\",\"type\":\"CDSView\"}},\"id\":\"3396\",\"type\":\"GlyphRenderer\"},{\"attributes\":{},\"id\":\"3398\",\"type\":\"BasicTickFormatter\"},{\"attributes\":{},\"id\":\"3380\",\"type\":\"WheelZoomTool\"},{\"attributes\":{\"grid_line_color\":null,\"ticker\":{\"id\":\"3457\",\"type\":\"BasicTicker\"}},\"id\":\"3460\",\"type\":\"Grid\"},{\"attributes\":{},\"id\":\"3408\",\"type\":\"LinearScale\"},{\"attributes\":{\"axis_label\":\"petal_length\",\"bounds\":\"auto\",\"formatter\":{\"id\":\"3486\",\"type\":\"BasicTickFormatter\"},\"major_label_orientation\":\"horizontal\",\"ticker\":{\"id\":\"3457\",\"type\":\"BasicTicker\"}},\"id\":\"3456\",\"type\":\"LinearAxis\"},{\"attributes\":{\"callback\":null,\"end\":6.9,\"reset_end\":6.9,\"reset_start\":1.0,\"start\":1.0,\"tags\":[[[\"petal_length\",\"petal_length\",null]]]},\"id\":\"3356\",\"type\":\"Range1d\"},{\"attributes\":{\"below\":[{\"id\":\"3412\",\"type\":\"LinearAxis\"}],\"center\":[{\"id\":\"3416\",\"type\":\"Grid\"},{\"id\":\"3421\",\"type\":\"Grid\"}],\"frame_height\":120,\"frame_width\":120,\"left\":[{\"id\":\"3417\",\"type\":\"LinearAxis\"}],\"margin\":null,\"min_border_bottom\":3,\"min_border_left\":3,\"min_border_right\":3,\"min_border_top\":3,\"plot_height\":null,\"plot_width\":null,\"renderers\":[{\"id\":\"3440\",\"type\":\"GlyphRenderer\"}],\"sizing_mode\":\"fixed\",\"title\":{\"id\":\"3404\",\"type\":\"Title\"},\"toolbar\":{\"id\":\"3427\",\"type\":\"Toolbar\"},\"toolbar_location\":null,\"x_range\":{\"id\":\"3356\",\"type\":\"Range1d\"},\"x_scale\":{\"id\":\"3408\",\"type\":\"LinearScale\"},\"y_range\":{\"id\":\"3357\",\"type\":\"Range1d\"},\"y_scale\":{\"id\":\"3410\",\"type\":\"LinearScale\"}},\"id\":\"3403\",\"subtype\":\"Figure\",\"type\":\"Plot\"},{\"attributes\":{\"callback\":null,\"data\":{\"petal_length\":{\"__ndarray__\":\"AAAAAAAAGEBmZmZmZmYUQJqZmZmZmRdAZmZmZmZmFkAzMzMzMzMXQGZmZmZmZhpAAAAAAAAAEkAzMzMzMzMZQDMzMzMzMxdAZmZmZmZmGEBmZmZmZmYUQDMzMzMzMxVAAAAAAAAAFkAAAAAAAAAUQGZmZmZmZhRAMzMzMzMzFUAAAAAAAAAWQM3MzMzMzBpAmpmZmZmZG0AAAAAAAAAUQM3MzMzMzBZAmpmZmZmZE0DNzMzMzMwaQJqZmZmZmRNAzczMzMzMFkAAAAAAAAAYQDMzMzMzMxNAmpmZmZmZE0BmZmZmZmYWQDMzMzMzMxdAZmZmZmZmGECamZmZmZkZQGZmZmZmZhZAZmZmZmZmFEBmZmZmZmYWQGZmZmZmZhhAZmZmZmZmFkAAAAAAAAAWQDMzMzMzMxNAmpmZmZmZFUBmZmZmZmYWQGZmZmZmZhRAZmZmZmZmFECamZmZmZkXQM3MzMzMzBZAzczMzMzMFEAAAAAAAAAUQM3MzMzMzBRAmpmZmZmZFUBmZmZmZmYUQA==\",\"dtype\":\"float64\",\"shape\":[50]},\"petal_width\":{\"__ndarray__\":\"AAAAAAAABEBmZmZmZmb+P83MzMzMzABAzczMzMzM/D+amZmZmZkBQM3MzMzMzABAMzMzMzMz+z/NzMzMzMz8P83MzMzMzPw/AAAAAAAABEAAAAAAAAAAQGZmZmZmZv4/zczMzMzMAEAAAAAAAAAAQDMzMzMzMwNAZmZmZmZmAkDNzMzMzMz8P5qZmZmZmQFAZmZmZmZmAkAAAAAAAAD4P2ZmZmZmZgJAAAAAAAAAAEAAAAAAAAAAQM3MzMzMzPw/zczMzMzMAEDNzMzMzMz8P83MzMzMzPw/zczMzMzM/D/NzMzMzMwAQJqZmZmZmfk/ZmZmZmZm/j8AAAAAAAAAQJqZmZmZmQFAAAAAAAAA+D9mZmZmZmb2P2ZmZmZmZgJAMzMzMzMzA0DNzMzMzMz8P83MzMzMzPw/zczMzMzMAEAzMzMzMzMDQGZmZmZmZgJAZmZmZmZm/j9mZmZmZmYCQAAAAAAAAARAZmZmZmZmAkBmZmZmZmb+PwAAAAAAAABAZmZmZmZmAkDNzMzMzMz8Pw==\",\"dtype\":\"float64\",\"shape\":[50]}},\"selected\":{\"id\":\"3479\",\"type\":\"Selection\"},\"selection_policy\":{\"id\":\"3515\",\"type\":\"UnionRenderers\"}},\"id\":\"3478\",\"type\":\"ColumnDataSource\"},{\"attributes\":{\"callback\":null,\"renderers\":[{\"id\":\"3396\",\"type\":\"GlyphRenderer\"}],\"tags\":[\"hv_created\"],\"tooltips\":[[\"petal_length\",\"@{petal_length}\"],[\"petal_width\",\"@{petal_width}\"]]},\"id\":\"3358\",\"type\":\"HoverTool\"},{\"attributes\":{},\"id\":\"3454\",\"type\":\"LinearScale\"},{\"attributes\":{},\"id\":\"3506\",\"type\":\"UnionRenderers\"},{\"attributes\":{\"below\":[{\"id\":\"3456\",\"type\":\"LinearAxis\"}],\"center\":[{\"id\":\"3460\",\"type\":\"Grid\"},{\"id\":\"3465\",\"type\":\"Grid\"}],\"frame_height\":120,\"frame_width\":120,\"left\":[{\"id\":\"3461\",\"type\":\"LinearAxis\"}],\"margin\":null,\"min_border_bottom\":3,\"min_border_left\":3,\"min_border_right\":3,\"min_border_top\":3,\"plot_height\":null,\"plot_width\":null,\"renderers\":[{\"id\":\"3484\",\"type\":\"GlyphRenderer\"}],\"sizing_mode\":\"fixed\",\"title\":{\"id\":\"3448\",\"type\":\"Title\"},\"toolbar\":{\"id\":\"3471\",\"type\":\"Toolbar\"},\"toolbar_location\":null,\"x_range\":{\"id\":\"3356\",\"type\":\"Range1d\"},\"x_scale\":{\"id\":\"3452\",\"type\":\"LinearScale\"},\"y_range\":{\"id\":\"3357\",\"type\":\"Range1d\"},\"y_scale\":{\"id\":\"3454\",\"type\":\"LinearScale\"}},\"id\":\"3447\",\"subtype\":\"Figure\",\"type\":\"Plot\"},{\"attributes\":{},\"id\":\"3422\",\"type\":\"SaveTool\"},{\"attributes\":{\"overlay\":{\"id\":\"3495\",\"type\":\"BoxAnnotation\"}},\"id\":\"3381\",\"type\":\"BoxZoomTool\"},{\"attributes\":{\"dimension\":1,\"grid_line_color\":null,\"ticker\":{\"id\":\"3462\",\"type\":\"BasicTicker\"}},\"id\":\"3465\",\"type\":\"Grid\"},{\"attributes\":{},\"id\":\"3424\",\"type\":\"WheelZoomTool\"},{\"attributes\":{\"axis_label\":\"petal_width\",\"bounds\":\"auto\",\"formatter\":{\"id\":\"3488\",\"type\":\"BasicTickFormatter\"},\"major_label_orientation\":\"horizontal\",\"ticker\":{\"id\":\"3462\",\"type\":\"BasicTicker\"},\"visible\":false},\"id\":\"3461\",\"type\":\"LinearAxis\"},{\"attributes\":{\"tools\":[{\"id\":\"3358\",\"type\":\"HoverTool\"},{\"id\":\"3378\",\"type\":\"SaveTool\"},{\"id\":\"3379\",\"type\":\"PanTool\"},{\"id\":\"3380\",\"type\":\"WheelZoomTool\"},{\"id\":\"3381\",\"type\":\"BoxZoomTool\"},{\"id\":\"3382\",\"type\":\"ResetTool\"},{\"id\":\"3402\",\"type\":\"HoverTool\"},{\"id\":\"3422\",\"type\":\"SaveTool\"},{\"id\":\"3423\",\"type\":\"PanTool\"},{\"id\":\"3424\",\"type\":\"WheelZoomTool\"},{\"id\":\"3425\",\"type\":\"BoxZoomTool\"},{\"id\":\"3426\",\"type\":\"ResetTool\"},{\"id\":\"3446\",\"type\":\"HoverTool\"},{\"id\":\"3466\",\"type\":\"SaveTool\"},{\"id\":\"3467\",\"type\":\"PanTool\"},{\"id\":\"3468\",\"type\":\"WheelZoomTool\"},{\"id\":\"3469\",\"type\":\"BoxZoomTool\"},{\"id\":\"3470\",\"type\":\"ResetTool\"}]},\"id\":\"3518\",\"type\":\"ProxyToolbar\"},{\"attributes\":{\"active_drag\":\"auto\",\"active_inspect\":\"auto\",\"active_multi\":null,\"active_scroll\":\"auto\",\"active_tap\":\"auto\",\"tools\":[{\"id\":\"3358\",\"type\":\"HoverTool\"},{\"id\":\"3378\",\"type\":\"SaveTool\"},{\"id\":\"3379\",\"type\":\"PanTool\"},{\"id\":\"3380\",\"type\":\"WheelZoomTool\"},{\"id\":\"3381\",\"type\":\"BoxZoomTool\"},{\"id\":\"3382\",\"type\":\"ResetTool\"}]},\"id\":\"3383\",\"type\":\"Toolbar\"},{\"attributes\":{\"grid_line_color\":null,\"ticker\":{\"id\":\"3413\",\"type\":\"BasicTicker\"}},\"id\":\"3416\",\"type\":\"Grid\"},{\"attributes\":{},\"id\":\"3452\",\"type\":\"LinearScale\"},{\"attributes\":{\"axis_label\":\"petal_width\",\"bounds\":\"auto\",\"formatter\":{\"id\":\"3400\",\"type\":\"BasicTickFormatter\"},\"major_label_orientation\":\"horizontal\",\"ticker\":{\"id\":\"3374\",\"type\":\"BasicTicker\"}},\"id\":\"3373\",\"type\":\"LinearAxis\"},{\"attributes\":{\"children\":[{\"id\":\"3519\",\"type\":\"ToolbarBox\"},{\"id\":\"3517\",\"type\":\"GridBox\"}]},\"id\":\"3520\",\"type\":\"Column\"},{\"attributes\":{},\"id\":\"3382\",\"type\":\"ResetTool\"},{\"attributes\":{\"args\":{\"range\":{\"id\":\"3521\",\"type\":\"FactorRange\"}},\"code\":\"range.setv({start: 0, end: range.factors.length})\"},\"id\":\"3523\",\"type\":\"CustomJS\"},{\"attributes\":{\"callback\":null,\"data\":{\"petal_length\":{\"__ndarray__\":\"zczMzMzMEkAAAAAAAAASQJqZmZmZmRNAAAAAAAAAEEBmZmZmZmYSQAAAAAAAABJAzczMzMzMEkBmZmZmZmYKQGZmZmZmZhJAMzMzMzMzD0AAAAAAAAAMQM3MzMzMzBBAAAAAAAAAEEDNzMzMzMwSQM3MzMzMzAxAmpmZmZmZEUAAAAAAAAASQGZmZmZmZhBAAAAAAAAAEkAzMzMzMzMPQDMzMzMzMxNAAAAAAAAAEECamZmZmZkTQM3MzMzMzBJAMzMzMzMzEUCamZmZmZkRQDMzMzMzMxNAAAAAAAAAFEAAAAAAAAASQAAAAAAAAAxAZmZmZmZmDkCamZmZmZkNQDMzMzMzMw9AZmZmZmZmFEAAAAAAAAASQAAAAAAAABJAzczMzMzMEkCamZmZmZkRQGZmZmZmZhBAAAAAAAAAEECamZmZmZkRQGZmZmZmZhJAAAAAAAAAEEBmZmZmZmYKQM3MzMzMzBBAzczMzMzMEEDNzMzMzMwQQDMzMzMzMxFAAAAAAAAACEBmZmZmZmYQQA==\",\"dtype\":\"float64\",\"shape\":[50]},\"petal_width\":{\"__ndarray__\":\"ZmZmZmZm9j8AAAAAAAD4PwAAAAAAAPg/zczMzMzM9D8AAAAAAAD4P83MzMzMzPQ/mpmZmZmZ+T8AAAAAAADwP83MzMzMzPQ/ZmZmZmZm9j8AAAAAAADwPwAAAAAAAPg/AAAAAAAA8D9mZmZmZmb2P83MzMzMzPQ/ZmZmZmZm9j8AAAAAAAD4PwAAAAAAAPA/AAAAAAAA+D+amZmZmZnxP83MzMzMzPw/zczMzMzM9D8AAAAAAAD4PzMzMzMzM/M/zczMzMzM9D9mZmZmZmb2P2ZmZmZmZvY/MzMzMzMz+z8AAAAAAAD4PwAAAAAAAPA/mpmZmZmZ8T8AAAAAAADwPzMzMzMzM/M/mpmZmZmZ+T8AAAAAAAD4P5qZmZmZmfk/AAAAAAAA+D/NzMzMzMz0P83MzMzMzPQ/zczMzMzM9D8zMzMzMzPzP2ZmZmZmZvY/MzMzMzMz8z8AAAAAAADwP83MzMzMzPQ/MzMzMzMz8z/NzMzMzMz0P83MzMzMzPQ/mpmZmZmZ8T/NzMzMzMz0Pw==\",\"dtype\":\"float64\",\"shape\":[50]}},\"selected\":{\"id\":\"3435\",\"type\":\"Selection\"},\"selection_policy\":{\"id\":\"3506\",\"type\":\"UnionRenderers\"}},\"id\":\"3434\",\"type\":\"ColumnDataSource\"},{\"attributes\":{\"fill_alpha\":{\"value\":0.2},\"fill_color\":{\"value\":\"#1f77b4\"},\"line_alpha\":{\"value\":0.2},\"line_color\":{\"value\":\"#1f77b4\"},\"size\":{\"units\":\"screen\",\"value\":5.477225575051661},\"x\":{\"field\":\"petal_length\"},\"y\":{\"field\":\"petal_width\"}},\"id\":\"3395\",\"type\":\"Scatter\"},{\"attributes\":{},\"id\":\"3418\",\"type\":\"BasicTicker\"},{\"attributes\":{},\"id\":\"3536\",\"type\":\"BasicTicker\"},{\"attributes\":{\"data_source\":{\"id\":\"3434\",\"type\":\"ColumnDataSource\"},\"glyph\":{\"id\":\"3437\",\"type\":\"Scatter\"},\"hover_glyph\":null,\"muted_glyph\":{\"id\":\"3439\",\"type\":\"Scatter\"},\"nonselection_glyph\":{\"id\":\"3438\",\"type\":\"Scatter\"},\"selection_glyph\":null,\"view\":{\"id\":\"3441\",\"type\":\"CDSView\"}},\"id\":\"3440\",\"type\":\"GlyphRenderer\"},{\"attributes\":{},\"id\":\"3366\",\"type\":\"LinearScale\"},{\"attributes\":{\"source\":{\"id\":\"3434\",\"type\":\"ColumnDataSource\"}},\"id\":\"3441\",\"type\":\"CDSView\"},{\"attributes\":{},\"id\":\"3410\",\"type\":\"LinearScale\"},{\"attributes\":{\"bottom_units\":\"screen\",\"fill_alpha\":{\"value\":0.5},\"fill_color\":{\"value\":\"lightgrey\"},\"left_units\":\"screen\",\"level\":\"overlay\",\"line_alpha\":{\"value\":1.0},\"line_color\":{\"value\":\"black\"},\"line_dash\":[4,4],\"line_width\":{\"value\":2},\"render_mode\":\"css\",\"right_units\":\"screen\",\"top_units\":\"screen\"},\"id\":\"3504\",\"type\":\"BoxAnnotation\"},{\"attributes\":{},\"id\":\"3391\",\"type\":\"Selection\"},{\"attributes\":{},\"id\":\"3369\",\"type\":\"BasicTicker\"},{\"attributes\":{\"axis_label\":\"petal_length\",\"bounds\":\"auto\",\"formatter\":{\"id\":\"3398\",\"type\":\"BasicTickFormatter\"},\"major_label_orientation\":\"horizontal\",\"ticker\":{\"id\":\"3369\",\"type\":\"BasicTicker\"}},\"id\":\"3368\",\"type\":\"LinearAxis\"},{\"attributes\":{},\"id\":\"3457\",\"type\":\"BasicTicker\"},{\"attributes\":{\"overlay\":{\"id\":\"3504\",\"type\":\"BoxAnnotation\"}},\"id\":\"3425\",\"type\":\"BoxZoomTool\"},{\"attributes\":{\"axis_label\":\"species\",\"formatter\":{\"id\":\"3546\",\"type\":\"CategoricalTickFormatter\"},\"major_label_orientation\":0.0,\"major_label_text_baseline\":\"middle\",\"ticker\":{\"id\":\"3532\",\"type\":\"CategoricalTicker\"}},\"id\":\"3531\",\"type\":\"CategoricalAxis\"},{\"attributes\":{\"callback\":null,\"end\":2.5,\"reset_end\":2.5,\"reset_start\":0.1,\"start\":0.1,\"tags\":[[[\"petal_width\",\"petal_width\",null]]]},\"id\":\"3357\",\"type\":\"Range1d\"},{\"attributes\":{\"text\":\"\",\"text_color\":{\"value\":\"black\"},\"text_font_size\":{\"value\":\"12pt\"}},\"id\":\"3448\",\"type\":\"Title\"},{\"attributes\":{\"formatter\":{\"id\":\"3544\",\"type\":\"BasicTickFormatter\"},\"ticker\":{\"id\":\"3536\",\"type\":\"BasicTicker\"},\"visible\":false},\"id\":\"3535\",\"type\":\"LinearAxis\"},{\"attributes\":{\"below\":[{\"id\":\"3368\",\"type\":\"LinearAxis\"}],\"center\":[{\"id\":\"3372\",\"type\":\"Grid\"},{\"id\":\"3377\",\"type\":\"Grid\"}],\"frame_height\":120,\"frame_width\":120,\"left\":[{\"id\":\"3373\",\"type\":\"LinearAxis\"}],\"margin\":null,\"min_border_bottom\":3,\"min_border_left\":3,\"min_border_right\":3,\"min_border_top\":3,\"plot_height\":null,\"plot_width\":null,\"renderers\":[{\"id\":\"3396\",\"type\":\"GlyphRenderer\"}],\"sizing_mode\":\"fixed\",\"title\":{\"id\":\"3360\",\"type\":\"Title\"},\"toolbar\":{\"id\":\"3383\",\"type\":\"Toolbar\"},\"toolbar_location\":null,\"x_range\":{\"id\":\"3356\",\"type\":\"Range1d\"},\"x_scale\":{\"id\":\"3364\",\"type\":\"LinearScale\"},\"y_range\":{\"id\":\"3357\",\"type\":\"Range1d\"},\"y_scale\":{\"id\":\"3366\",\"type\":\"LinearScale\"}},\"id\":\"3359\",\"subtype\":\"Figure\",\"type\":\"Plot\"},{\"attributes\":{},\"id\":\"3479\",\"type\":\"Selection\"},{\"attributes\":{},\"id\":\"3515\",\"type\":\"UnionRenderers\"},{\"attributes\":{\"above\":[{\"id\":\"3531\",\"type\":\"CategoricalAxis\"}],\"below\":[],\"center\":[{\"id\":\"3534\",\"type\":\"Grid\"},{\"id\":\"3539\",\"type\":\"Grid\"}],\"left\":[{\"id\":\"3535\",\"type\":\"LinearAxis\"}],\"outline_line_alpha\":{\"value\":0},\"plot_height\":53,\"plot_width\":378,\"title\":{\"id\":\"3543\",\"type\":\"Title\"},\"toolbar\":{\"id\":\"3540\",\"type\":\"Toolbar\"},\"toolbar_location\":null,\"x_range\":{\"id\":\"3521\",\"type\":\"FactorRange\"},\"x_scale\":{\"id\":\"3527\",\"type\":\"CategoricalScale\"},\"y_range\":{\"id\":\"3522\",\"type\":\"Range1d\"},\"y_scale\":{\"id\":\"3529\",\"type\":\"LinearScale\"}},\"id\":\"3524\",\"subtype\":\"Figure\",\"type\":\"Plot\"},{\"attributes\":{\"dimension\":1,\"grid_line_alpha\":0,\"ticker\":{\"id\":\"3536\",\"type\":\"BasicTicker\"}},\"id\":\"3539\",\"type\":\"Grid\"},{\"attributes\":{\"callback\":null,\"renderers\":[{\"id\":\"3440\",\"type\":\"GlyphRenderer\"}],\"tags\":[\"hv_created\"],\"tooltips\":[[\"petal_length\",\"@{petal_length}\"],[\"petal_width\",\"@{petal_width}\"]]},\"id\":\"3402\",\"type\":\"HoverTool\"},{\"attributes\":{},\"id\":\"3532\",\"type\":\"CategoricalTicker\"},{\"attributes\":{\"callback\":{\"id\":\"3523\",\"type\":\"CustomJS\"},\"factors\":[\"setosa\",\"versicolor\",\"virginica\"]},\"id\":\"3521\",\"type\":\"FactorRange\"},{\"attributes\":{},\"id\":\"3423\",\"type\":\"PanTool\"},{\"attributes\":{\"fill_alpha\":{\"value\":0.1},\"fill_color\":{\"value\":\"#1f77b4\"},\"line_alpha\":{\"value\":0.1},\"line_color\":{\"value\":\"#1f77b4\"},\"size\":{\"units\":\"screen\",\"value\":5.477225575051661},\"x\":{\"field\":\"petal_length\"},\"y\":{\"field\":\"petal_width\"}},\"id\":\"3394\",\"type\":\"Scatter\"},{\"attributes\":{\"callback\":null,\"renderers\":[{\"id\":\"3484\",\"type\":\"GlyphRenderer\"}],\"tags\":[\"hv_created\"],\"tooltips\":[[\"petal_length\",\"@{petal_length}\"],[\"petal_width\",\"@{petal_width}\"]]},\"id\":\"3446\",\"type\":\"HoverTool\"},{\"attributes\":{\"dimension\":1,\"grid_line_color\":null,\"ticker\":{\"id\":\"3418\",\"type\":\"BasicTicker\"}},\"id\":\"3421\",\"type\":\"Grid\"},{\"attributes\":{},\"id\":\"3378\",\"type\":\"SaveTool\"},{\"attributes\":{},\"id\":\"3466\",\"type\":\"SaveTool\"},{\"attributes\":{\"grid_line_alpha\":0,\"ticker\":{\"id\":\"3532\",\"type\":\"CategoricalTicker\"}},\"id\":\"3534\",\"type\":\"Grid\"},{\"attributes\":{},\"id\":\"3529\",\"type\":\"LinearScale\"},{\"attributes\":{},\"id\":\"3400\",\"type\":\"BasicTickFormatter\"},{\"attributes\":{\"fill_color\":{\"value\":\"#1f77b4\"},\"line_color\":{\"value\":\"#1f77b4\"},\"size\":{\"units\":\"screen\",\"value\":5.477225575051661},\"x\":{\"field\":\"petal_length\"},\"y\":{\"field\":\"petal_width\"}},\"id\":\"3393\",\"type\":\"Scatter\"},{\"attributes\":{},\"id\":\"3527\",\"type\":\"CategoricalScale\"},{\"attributes\":{\"bottom_units\":\"screen\",\"fill_alpha\":{\"value\":0.5},\"fill_color\":{\"value\":\"lightgrey\"},\"left_units\":\"screen\",\"level\":\"overlay\",\"line_alpha\":{\"value\":1.0},\"line_color\":{\"value\":\"black\"},\"line_dash\":[4,4],\"line_width\":{\"value\":2},\"render_mode\":\"css\",\"right_units\":\"screen\",\"top_units\":\"screen\"},\"id\":\"3513\",\"type\":\"BoxAnnotation\"},{\"attributes\":{},\"id\":\"3413\",\"type\":\"BasicTicker\"},{\"attributes\":{\"grid_line_color\":null,\"ticker\":{\"id\":\"3369\",\"type\":\"BasicTicker\"}},\"id\":\"3372\",\"type\":\"Grid\"},{\"attributes\":{},\"id\":\"3444\",\"type\":\"BasicTickFormatter\"},{\"attributes\":{},\"id\":\"3462\",\"type\":\"BasicTicker\"}],\"root_ids\":[\"3541\"]},\"title\":\"Bokeh Application\",\"version\":\"1.3.4\"}};\n",
       "  var render_items = [{\"docid\":\"7362cfbc-87d7-4396-9414-b9e68fa0d7ad\",\"roots\":{\"3541\":\"21af6973-7faa-47e3-9bb1-602d7287af4c\"}}];\n",
       "  root.Bokeh.embed.embed_items_notebook(docs_json, render_items);\n",
       "\n",
       "  }\n",
       "  if (root.Bokeh !== undefined) {\n",
       "    embed_document(root);\n",
       "  } else {\n",
       "    var attempts = 0;\n",
       "    var timer = setInterval(function(root) {\n",
       "      if (root.Bokeh !== undefined) {\n",
       "        embed_document(root);\n",
       "        clearInterval(timer);\n",
       "      }\n",
       "      attempts++;\n",
       "      if (attempts > 100) {\n",
       "        console.log(\"Bokeh: ERROR: Unable to run BokehJS code because BokehJS library is missing\");\n",
       "        clearInterval(timer);\n",
       "      }\n",
       "    }, 10, root)\n",
       "  }\n",
       "})(window);</script>"
      ],
      "text/plain": [
       ":GridSpace   [species]\n",
       "   :Scatter   [petal_length]   (petal_width)"
      ]
     },
     "execution_count": 114,
     "metadata": {
      "application/vnd.holoviews_exec.v0+json": {
       "id": "3541"
      }
     },
     "output_type": "execute_result"
    }
   ],
   "source": [
    "import hvplot.pandas\n",
    "df.hvplot.scatter(x='petal_length', y='petal_width', col='species', width=600, title='hvplot')"
   ]
  },
  {
   "cell_type": "code",
   "execution_count": 140,
   "metadata": {},
   "outputs": [
    {
     "data": {
      "application/vnd.holoviews_exec.v0+json": "",
      "text/html": [
       "<div id='8979' style='display: table; margin: 0 auto;'>\n",
       "\n",
       "\n",
       "\n",
       "\n",
       "\n",
       "  <div class=\"bk-root\" id=\"f1dc8b81-9866-4ac1-8a3f-1567818466fd\" data-root-id=\"8979\"></div>\n",
       "</div>\n",
       "<script type=\"application/javascript\">(function(root) {\n",
       "  function embed_document(root) {\n",
       "    \n",
       "  var docs_json = {\"097436f7-965d-4bc3-aa00-bf102b74571d\":{\"roots\":{\"references\":[{\"attributes\":{\"children\":[{\"id\":\"8978\",\"type\":\"ToolbarBox\"},{\"id\":\"8976\",\"type\":\"GridBox\"}]},\"id\":\"8979\",\"type\":\"Column\"},{\"attributes\":{},\"id\":\"8639\",\"type\":\"Selection\"},{\"attributes\":{\"label\":{\"value\":\"versicolor\"},\"renderers\":[{\"id\":\"8836\",\"type\":\"GlyphRenderer\"}]},\"id\":\"8846\",\"type\":\"LegendItem\"},{\"attributes\":{\"label\":{\"value\":\"setosa\"},\"renderers\":[{\"id\":\"8820\",\"type\":\"GlyphRenderer\"}]},\"id\":\"8829\",\"type\":\"LegendItem\"},{\"attributes\":{\"callback\":null,\"end\":8.772372851265674,\"reset_end\":8.772372851265674,\"reset_start\":3.8164140558550166,\"start\":3.8164140558550166,\"tags\":[[[\"sepal_length\",\"sepal_length\",null]]]},\"id\":\"8774\",\"type\":\"Range1d\"},{\"attributes\":{\"below\":[{\"id\":\"8788\",\"type\":\"LinearAxis\"}],\"center\":[{\"id\":\"8792\",\"type\":\"Grid\"},{\"id\":\"8797\",\"type\":\"Grid\"},{\"id\":\"8828\",\"type\":\"Legend\"}],\"left\":[{\"id\":\"8793\",\"type\":\"LinearAxis\"}],\"margin\":null,\"min_border_bottom\":10,\"min_border_left\":10,\"min_border_right\":10,\"min_border_top\":10,\"plot_height\":300,\"plot_width\":400,\"renderers\":[{\"id\":\"8820\",\"type\":\"GlyphRenderer\"},{\"id\":\"8836\",\"type\":\"GlyphRenderer\"},{\"id\":\"8853\",\"type\":\"GlyphRenderer\"}],\"right\":[{\"id\":\"8828\",\"type\":\"Legend\"}],\"sizing_mode\":\"fixed\",\"title\":{\"id\":\"8780\",\"type\":\"Title\"},\"toolbar\":{\"id\":\"8803\",\"type\":\"Toolbar\"},\"toolbar_location\":null,\"x_range\":{\"id\":\"8774\",\"type\":\"Range1d\"},\"x_scale\":{\"id\":\"8784\",\"type\":\"LinearScale\"},\"y_range\":{\"id\":\"8775\",\"type\":\"Range1d\"},\"y_scale\":{\"id\":\"8786\",\"type\":\"LinearScale\"}},\"id\":\"8779\",\"subtype\":\"Figure\",\"type\":\"Plot\"},{\"attributes\":{\"bottom\":{\"value\":0},\"fill_alpha\":{\"value\":0.5},\"fill_color\":{\"value\":\"#2ca02c\"},\"left\":{\"field\":\"left\"},\"line_alpha\":{\"value\":0.5},\"line_color\":{\"value\":\"black\"},\"right\":{\"field\":\"right\"},\"top\":{\"field\":\"top\"}},\"id\":\"8675\",\"type\":\"Quad\"},{\"attributes\":{\"callback\":null,\"end\":6.9,\"reset_end\":6.9,\"reset_start\":1.0,\"start\":1.0,\"tags\":[[[\"petal_length\",\"petal_length\",null]]]},\"id\":\"8598\",\"type\":\"Range1d\"},{\"attributes\":{},\"id\":\"8848\",\"type\":\"Selection\"},{\"attributes\":{},\"id\":\"8845\",\"type\":\"UnionRenderers\"},{\"attributes\":{\"below\":[{\"id\":\"8612\",\"type\":\"LinearAxis\"}],\"center\":[{\"id\":\"8616\",\"type\":\"Grid\"},{\"id\":\"8621\",\"type\":\"Grid\"},{\"id\":\"8652\",\"type\":\"Legend\"}],\"left\":[{\"id\":\"8617\",\"type\":\"LinearAxis\"}],\"margin\":null,\"min_border_bottom\":10,\"min_border_left\":10,\"min_border_right\":10,\"min_border_top\":10,\"plot_height\":300,\"plot_width\":400,\"renderers\":[{\"id\":\"8644\",\"type\":\"GlyphRenderer\"},{\"id\":\"8660\",\"type\":\"GlyphRenderer\"},{\"id\":\"8677\",\"type\":\"GlyphRenderer\"}],\"right\":[{\"id\":\"8652\",\"type\":\"Legend\"}],\"sizing_mode\":\"fixed\",\"title\":{\"id\":\"8604\",\"type\":\"Title\"},\"toolbar\":{\"id\":\"8627\",\"type\":\"Toolbar\"},\"toolbar_location\":null,\"x_range\":{\"id\":\"8598\",\"type\":\"Range1d\"},\"x_scale\":{\"id\":\"8608\",\"type\":\"LinearScale\"},\"y_range\":{\"id\":\"8599\",\"type\":\"Range1d\"},\"y_scale\":{\"id\":\"8610\",\"type\":\"LinearScale\"}},\"id\":\"8603\",\"subtype\":\"Figure\",\"type\":\"Plot\"},{\"attributes\":{\"callback\":null,\"end\":33.0,\"reset_end\":33.0,\"reset_start\":0.0,\"tags\":[[[\"petal_length_count\",\"Count\",null]]]},\"id\":\"8599\",\"type\":\"Range1d\"},{\"attributes\":{\"label\":{\"value\":\"versicolor\"},\"renderers\":[{\"id\":\"8660\",\"type\":\"GlyphRenderer\"}]},\"id\":\"8670\",\"type\":\"LegendItem\"},{\"attributes\":{\"bottom\":{\"value\":0},\"fill_alpha\":{\"value\":0.5},\"fill_color\":{\"value\":\"#2ca02c\"},\"left\":{\"field\":\"left\"},\"line_alpha\":{\"value\":0.5},\"right\":{\"field\":\"right\"},\"top\":{\"field\":\"top\"}},\"id\":\"8674\",\"type\":\"Quad\"},{\"attributes\":{},\"id\":\"8634\",\"type\":\"BasicTickFormatter\"},{\"attributes\":{\"bottom\":{\"value\":0},\"fill_alpha\":{\"value\":0.5},\"fill_color\":{\"value\":\"#1f77b4\"},\"left\":{\"field\":\"left\"},\"line_alpha\":{\"value\":0.5},\"right\":{\"field\":\"right\"},\"top\":{\"field\":\"top\"}},\"id\":\"8641\",\"type\":\"Quad\"},{\"attributes\":{\"bottom\":{\"value\":0},\"fill_alpha\":{\"value\":0.5},\"fill_color\":{\"value\":\"#1f77b4\"},\"left\":{\"field\":\"left\"},\"line_alpha\":{\"value\":0.5},\"line_color\":{\"value\":\"black\"},\"right\":{\"field\":\"right\"},\"top\":{\"field\":\"top\"}},\"id\":\"8642\",\"type\":\"Quad\"},{\"attributes\":{},\"id\":\"8672\",\"type\":\"Selection\"},{\"attributes\":{\"callback\":null,\"data\":{\"x\":{\"__ndarray__\":\"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\",\"dtype\":\"float64\",\"shape\":[200]},\"y\":{\"__ndarray__\":\"AAAAAAAAAAAAAAAAAAAAAAAAAAAAAAAAAAAAAAAAAAAAAAAAAAAAAAAAAAAAAAAAAAAAAAAAAAAAAAAAAAAAAAAAAAAAAAAAAAAAAAAAAAAAAAAAAAAAAAAAAAAAAAAAAAAAAAAAAAAAAAAAAAAAAAAAAAAAAAAAAAAAAAAAAAAAAAAAAAAAAAAAAAAAAAAAAAAAAAAAAAAAAAAAAAAAAAAAAAAAAAAAAAAAAAAAAAAAAAAAAAAAAAAAAAAAAAAAAAAAAAAAAAAAAAAAAAAAAAAAAAAAAAAAAAAAAAAAAAAAAAAAAAAAAAAAAAAAAAAAAAAAAAAAAAAAAAAAAAAAAAAAAAAAAAAAAAAAAAAAAAAAAAAAAAAAAAAAAAAAAAAAAAAAAAAAAAAAAAAAAAAAAAAAAAAAAAAAAAAAAAAAAAAAAAAAAAAAAAAAAAAAAAAAAAAAAAAAAAAAAAAAAAAAAAAAAAAAAAAAAAAAAAAAAAAAAAAAAAAAAAAAAAAAAAAAAAAAAAAAAAAAAAAAAAAAAAAAAAAAAAAAAAAAAAAAAAAAAAAAAAAAAAAAAAAAAAAAAAAAAAAAAAAAAAAAAAAAAAAAAAAAAAAAAAAAAAAAAAAAAAAAAAAAAAAAAAAAAAAAAAAAAAAAAAAAAAAAAAAAAAAAAAAAAAAAAAAAAAAAAAAAAAAAAAAAAAAAAAAAAAAAAAAAAAAAAAAAAAAAAAAAAAAAAAAAAAAAAAAAAAAAAAAAAAAAAAAAAAAAAAAAAAAAAAAAAAAAAAAAAAAAAAAAAAAAAAAAAAAAAAAAAAAAAAAAAAAAAAAAAAAAAAAAAAAAAAAAAAAAAAAAAAAAAAAAAAAAAAAAAAAAAAAAAAAAAAAAAAAAAAAAAAAAAAAAAAAAAAAAAAAAAAAAAAAAAAAAAAAAAAAAAAAAAAAAAAAAAAAAAAAAAAAAAAAAAAAAAAAAAAAAAAAAAAAAAAAAAAAAAAAAAAAAAAAAAAAAAAAAAAAAAAAAAAAAAAAAAAAAAAAAAAAAAAAAAAAAAAAAAAAAAAAAAAAAAAAAAAAAAAAAAAAh6bcX4apGP49gikw4LlI/4qZEwOmFXD8yijXKzOJlP7egaVG0bXA/S2PKz7sheD+4sHpiBFiBP5N84n6SZog/1psDzJTNkD+C9p0uCamWPyrpxKFk7p0/0P/DJyVeoz9YpbBcWJGoPy0r3a+fj64/WQ+ZFN6msj+kQpgwXFu2P6WH0wjkVro//MJooNSIvj8Cbxn7TXDBP3kUk20lqMM/nemkBYLnxT9y/ib/ZC3IP5L7OBSdfMo/HyaqvXXbzD+4BkKeslLPP2Y49hD89dA//0Hh2/NX0j9ksfmPKNLTP66x5mxxZdU/CRyHb1oQ1z/+JjBNcc/YP9VY8poYnto/WXjEasB33D8H1WbvR1neP+CsAjEdIeA/M2ifxcsa4T/3ucj08xziP9H0yMg9LOM/FdAr/e1N5D98+dvh0YblP88gZZAJ2uY/VYYSDuZH6D+N8PBEEc3pPyMA2rUrYus/VnGmKvn77D8rLZMIHozuP//bRFsrAfA/DInYNP+m8D/k0u8e1y/xP3k1TGldlfE/iV8o5i7T8T/zOZziM+fxP4P0RJa10fE/Kl8isjKV8T8G2zes/jXxP9hn/Xu9ufA/9dYy/M8m8D/sbzBFiAfvP2T8IOWwre0/mtYHSTlL7D++iQljZ+nqP5+rc69sj+k/ImOu2GJC6D8NHJhQcgXnPyXj6d0T2uU/VfqLDl/A5D8uBOz/WbfjPxMRR1RCveI/CeaX8srP4T8XLz3jTezgP+/fssT0D+A/4QdO3bhv3j+NeXzhccLcP071kOb7Ets/MWApkBld2T/SUtGqy53XP+jwRuyu09U/oFwuE0T/0z/DW8srESPSP4tIzsKOQ9A/adwopbfNzD8jlUi8eijJPy5s3PjwpsU/Wf4LWTlYwj8rR+IoXJO+P9hxQq2TC7k/uKStK9kmtD+JaNFuPtavP5/MirWYrag/WBahO2PDoj+9uHFo9/mbP2KnHmq2cZQ/rlTviNhHjT8dLcic8IqEP0OXCWXQO3w/kUXQ+hIAcz9C5TbNAAppP7iqm2+7JmA/YmU8RQ9lVD/UR++dCjRJPw==\",\"dtype\":\"float64\",\"shape\":[200]}},\"selected\":{\"id\":\"8815\",\"type\":\"Selection\"},\"selection_policy\":{\"id\":\"8845\",\"type\":\"UnionRenderers\"}},\"id\":\"8814\",\"type\":\"ColumnDataSource\"},{\"attributes\":{\"bottom\":{\"value\":0},\"fill_alpha\":{\"value\":0.2},\"fill_color\":{\"value\":\"#1f77b4\"},\"left\":{\"field\":\"left\"},\"line_alpha\":{\"value\":0.2},\"line_color\":{\"value\":\"black\"},\"right\":{\"field\":\"right\"},\"top\":{\"field\":\"top\"}},\"id\":\"8643\",\"type\":\"Quad\"},{\"attributes\":{\"callback\":null,\"data\":{\"left\":{\"__ndarray__\":\"AAAAAAAA8D+4HoXrUbj0P3E9CtejcPk/KlyPwvUo/j9xPQrXo3ABQM3MzMzMzANAKlyPwvUoBkCG61G4HoUIQOJ6FK5H4QpAPgrXo3A9DUCamZmZmZkPQHwUrkfh+hBAKlyPwvUoEkDYo3A9ClcTQIbrUbgehRRANDMzMzOzFUDiehSuR+EWQJDC9ShcDxhAPgrXo3A9GUDsUbgehWsaQA==\",\"dtype\":\"float64\",\"shape\":[20]},\"petal_length\":{\"__ndarray__\":\"XI/C9Shc8j8UrkfhehT3P87MzMzMzPs/w/UoXI9CAEAfhetRuJ4CQHwUrkfh+gRA2KNwPQpXB0A0MzMzM7MJQJDC9ShcDwxA7FG4HoVrDkCkcD0K12MQQFO4HoXrkRFAAQAAAADAEkCvR+F6FO4TQF2PwvUoHBVAC9ejcD1KFkC5HoXrUXgXQGdmZmZmphhAFa5H4XrUGUDD9ShcjwIbQA==\",\"dtype\":\"float64\",\"shape\":[20]},\"petal_length_count\":[0,0,0,0,0,0,0,0,0,0,0,1,2,13,6,12,7,4,2,3],\"right\":{\"__ndarray__\":\"uB6F61G49D9xPQrXo3D5Pypcj8L1KP4/cT0K16NwAUDNzMzMzMwDQCpcj8L1KAZAhutRuB6FCEDiehSuR+EKQD4K16NwPQ1AmpmZmZmZD0B8FK5H4foQQCpcj8L1KBJA2KNwPQpXE0CG61G4HoUUQDQzMzMzsxVA4noUrkfhFkCQwvUoXA8YQD4K16NwPRlA7FG4HoVrGkCamZmZmZkbQA==\",\"dtype\":\"float64\",\"shape\":[20]},\"species\":[\"virginica\",\"virginica\",\"virginica\",\"virginica\",\"virginica\",\"virginica\",\"virginica\",\"virginica\",\"virginica\",\"virginica\",\"virginica\",\"virginica\",\"virginica\",\"virginica\",\"virginica\",\"virginica\",\"virginica\",\"virginica\",\"virginica\",\"virginica\"],\"top\":[0,0,0,0,0,0,0,0,0,0,0,1,2,13,6,12,7,4,2,3]},\"selected\":{\"id\":\"8672\",\"type\":\"Selection\"},\"selection_policy\":{\"id\":\"8701\",\"type\":\"UnionRenderers\"}},\"id\":\"8671\",\"type\":\"ColumnDataSource\"},{\"attributes\":{\"fill_alpha\":0.2,\"fill_color\":\"#ff7f0e\",\"line_alpha\":0.2,\"line_color\":\"black\",\"x\":{\"field\":\"x\"},\"y\":{\"field\":\"y\"}},\"id\":\"8835\",\"type\":\"Patch\"},{\"attributes\":{\"label\":{\"value\":\"virginica\"},\"renderers\":[{\"id\":\"8677\",\"type\":\"GlyphRenderer\"}]},\"id\":\"8689\",\"type\":\"LegendItem\"},{\"attributes\":{\"callback\":null,\"data\":{\"left\":{\"__ndarray__\":\"AAAAAAAA8D+4HoXrUbj0P3E9CtejcPk/KlyPwvUo/j9xPQrXo3ABQM3MzMzMzANAKlyPwvUoBkCG61G4HoUIQOJ6FK5H4QpAPgrXo3A9DUCamZmZmZkPQHwUrkfh+hBAKlyPwvUoEkDYo3A9ClcTQIbrUbgehRRANDMzMzOzFUDiehSuR+EWQJDC9ShcDxhAPgrXo3A9GUDsUbgehWsaQA==\",\"dtype\":\"float64\",\"shape\":[20]},\"petal_length\":{\"__ndarray__\":\"XI/C9Shc8j8UrkfhehT3P87MzMzMzPs/w/UoXI9CAEAfhetRuJ4CQHwUrkfh+gRA2KNwPQpXB0A0MzMzM7MJQJDC9ShcDwxA7FG4HoVrDkCkcD0K12MQQFO4HoXrkRFAAQAAAADAEkCvR+F6FO4TQF2PwvUoHBVAC9ejcD1KFkC5HoXrUXgXQGdmZmZmphhAFa5H4XrUGUDD9ShcjwIbQA==\",\"dtype\":\"float64\",\"shape\":[20]},\"petal_length_count\":[4,33,11,2,0,0,0,0,0,0,0,0,0,0,0,0,0,0,0,0],\"right\":{\"__ndarray__\":\"uB6F61G49D9xPQrXo3D5Pypcj8L1KP4/cT0K16NwAUDNzMzMzMwDQCpcj8L1KAZAhutRuB6FCEDiehSuR+EKQD4K16NwPQ1AmpmZmZmZD0B8FK5H4foQQCpcj8L1KBJA2KNwPQpXE0CG61G4HoUUQDQzMzMzsxVA4noUrkfhFkCQwvUoXA8YQD4K16NwPRlA7FG4HoVrGkCamZmZmZkbQA==\",\"dtype\":\"float64\",\"shape\":[20]},\"species\":[\"setosa\",\"setosa\",\"setosa\",\"setosa\",\"setosa\",\"setosa\",\"setosa\",\"setosa\",\"setosa\",\"setosa\",\"setosa\",\"setosa\",\"setosa\",\"setosa\",\"setosa\",\"setosa\",\"setosa\",\"setosa\",\"setosa\",\"setosa\"],\"top\":[4,33,11,2,0,0,0,0,0,0,0,0,0,0,0,0,0,0,0,0]},\"selected\":{\"id\":\"8639\",\"type\":\"Selection\"},\"selection_policy\":{\"id\":\"8669\",\"type\":\"UnionRenderers\"}},\"id\":\"8638\",\"type\":\"ColumnDataSource\"},{\"attributes\":{},\"id\":\"8864\",\"type\":\"UnionRenderers\"},{\"attributes\":{\"bottom_units\":\"screen\",\"fill_alpha\":{\"value\":0.5},\"fill_color\":{\"value\":\"lightgrey\"},\"left_units\":\"screen\",\"level\":\"overlay\",\"line_alpha\":{\"value\":1.0},\"line_color\":{\"value\":\"black\"},\"line_dash\":[4,4],\"line_width\":{\"value\":2},\"render_mode\":\"css\",\"right_units\":\"screen\",\"top_units\":\"screen\"},\"id\":\"8827\",\"type\":\"BoxAnnotation\"},{\"attributes\":{\"click_policy\":\"mute\",\"items\":[{\"id\":\"8829\",\"type\":\"LegendItem\"},{\"id\":\"8846\",\"type\":\"LegendItem\"},{\"id\":\"8865\",\"type\":\"LegendItem\"}],\"location\":[0,0]},\"id\":\"8828\",\"type\":\"Legend\"},{\"attributes\":{\"callback\":null,\"end\":1.118945965954137,\"reset_end\":1.118945965954137,\"reset_start\":0.0,\"tags\":[[[\"sepal_length_density\",\"Density\",null]]]},\"id\":\"8775\",\"type\":\"Range1d\"},{\"attributes\":{\"source\":{\"id\":\"8638\",\"type\":\"ColumnDataSource\"}},\"id\":\"8645\",\"type\":\"CDSView\"},{\"attributes\":{\"bottom\":{\"value\":0},\"fill_alpha\":{\"value\":0.2},\"fill_color\":{\"value\":\"#2ca02c\"},\"left\":{\"field\":\"left\"},\"line_alpha\":{\"value\":0.2},\"line_color\":{\"value\":\"black\"},\"right\":{\"field\":\"right\"},\"top\":{\"field\":\"top\"}},\"id\":\"8676\",\"type\":\"Quad\"},{\"attributes\":{\"callback\":null,\"renderers\":[{\"id\":\"8644\",\"type\":\"GlyphRenderer\"},{\"id\":\"8660\",\"type\":\"GlyphRenderer\"},{\"id\":\"8677\",\"type\":\"GlyphRenderer\"}],\"tags\":[\"hv_created\"],\"tooltips\":[[\"species\",\"@{species}\"],[\"petal_length\",\"@{petal_length}\"],[\"Count\",\"@{petal_length_count}\"]]},\"id\":\"8600\",\"type\":\"HoverTool\"},{\"attributes\":{\"data_source\":{\"id\":\"8638\",\"type\":\"ColumnDataSource\"},\"glyph\":{\"id\":\"8641\",\"type\":\"Quad\"},\"hover_glyph\":null,\"muted_glyph\":{\"id\":\"8643\",\"type\":\"Quad\"},\"nonselection_glyph\":{\"id\":\"8642\",\"type\":\"Quad\"},\"selection_glyph\":null,\"view\":{\"id\":\"8645\",\"type\":\"CDSView\"}},\"id\":\"8644\",\"type\":\"GlyphRenderer\"},{\"attributes\":{\"fill_alpha\":0.2,\"fill_color\":\"#2ca02c\",\"line_alpha\":0.2,\"line_color\":\"black\",\"x\":{\"field\":\"x\"},\"y\":{\"field\":\"y\"}},\"id\":\"8852\",\"type\":\"Patch\"},{\"attributes\":{\"click_policy\":\"mute\",\"items\":[{\"id\":\"8653\",\"type\":\"LegendItem\"},{\"id\":\"8670\",\"type\":\"LegendItem\"},{\"id\":\"8689\",\"type\":\"LegendItem\"}],\"location\":[0,0]},\"id\":\"8652\",\"type\":\"Legend\"},{\"attributes\":{\"active_drag\":\"auto\",\"active_inspect\":\"auto\",\"active_multi\":null,\"active_scroll\":\"auto\",\"active_tap\":\"auto\",\"tools\":[{\"id\":\"8600\",\"type\":\"HoverTool\"},{\"id\":\"8622\",\"type\":\"SaveTool\"},{\"id\":\"8623\",\"type\":\"PanTool\"},{\"id\":\"8624\",\"type\":\"WheelZoomTool\"},{\"id\":\"8625\",\"type\":\"BoxZoomTool\"},{\"id\":\"8626\",\"type\":\"ResetTool\"}]},\"id\":\"8627\",\"type\":\"Toolbar\"},{\"attributes\":{\"bottom_units\":\"screen\",\"fill_alpha\":{\"value\":0.5},\"fill_color\":{\"value\":\"lightgrey\"},\"left_units\":\"screen\",\"level\":\"overlay\",\"line_alpha\":{\"value\":1.0},\"line_color\":{\"value\":\"black\"},\"line_dash\":[4,4],\"line_width\":{\"value\":2},\"render_mode\":\"css\",\"right_units\":\"screen\",\"top_units\":\"screen\"},\"id\":\"8651\",\"type\":\"BoxAnnotation\"},{\"attributes\":{},\"id\":\"8688\",\"type\":\"UnionRenderers\"},{\"attributes\":{\"data_source\":{\"id\":\"8830\",\"type\":\"ColumnDataSource\"},\"glyph\":{\"id\":\"8833\",\"type\":\"Patch\"},\"hover_glyph\":null,\"muted_glyph\":{\"id\":\"8835\",\"type\":\"Patch\"},\"nonselection_glyph\":{\"id\":\"8834\",\"type\":\"Patch\"},\"selection_glyph\":null,\"view\":{\"id\":\"8837\",\"type\":\"CDSView\"}},\"id\":\"8836\",\"type\":\"GlyphRenderer\"},{\"attributes\":{\"data_source\":{\"id\":\"8847\",\"type\":\"ColumnDataSource\"},\"glyph\":{\"id\":\"8850\",\"type\":\"Patch\"},\"hover_glyph\":null,\"muted_glyph\":{\"id\":\"8852\",\"type\":\"Patch\"},\"nonselection_glyph\":{\"id\":\"8851\",\"type\":\"Patch\"},\"selection_glyph\":null,\"view\":{\"id\":\"8854\",\"type\":\"CDSView\"}},\"id\":\"8853\",\"type\":\"GlyphRenderer\"},{\"attributes\":{},\"id\":\"8669\",\"type\":\"UnionRenderers\"},{\"attributes\":{},\"id\":\"8810\",\"type\":\"BasicTickFormatter\"},{\"attributes\":{},\"id\":\"8626\",\"type\":\"ResetTool\"},{\"attributes\":{},\"id\":\"8610\",\"type\":\"LinearScale\"},{\"attributes\":{\"fill_alpha\":0.5,\"fill_color\":\"#ff7f0e\",\"line_alpha\":0.5,\"x\":{\"field\":\"x\"},\"y\":{\"field\":\"y\"}},\"id\":\"8833\",\"type\":\"Patch\"},{\"attributes\":{\"source\":{\"id\":\"8671\",\"type\":\"ColumnDataSource\"}},\"id\":\"8678\",\"type\":\"CDSView\"},{\"attributes\":{\"data_source\":{\"id\":\"8671\",\"type\":\"ColumnDataSource\"},\"glyph\":{\"id\":\"8674\",\"type\":\"Quad\"},\"hover_glyph\":null,\"muted_glyph\":{\"id\":\"8676\",\"type\":\"Quad\"},\"nonselection_glyph\":{\"id\":\"8675\",\"type\":\"Quad\"},\"selection_glyph\":null,\"view\":{\"id\":\"8678\",\"type\":\"CDSView\"}},\"id\":\"8677\",\"type\":\"GlyphRenderer\"},{\"attributes\":{\"label\":{\"value\":\"setosa\"},\"renderers\":[{\"id\":\"8644\",\"type\":\"GlyphRenderer\"}]},\"id\":\"8653\",\"type\":\"LegendItem\"},{\"attributes\":{\"callback\":null,\"data\":{\"left\":{\"__ndarray__\":\"AAAAAAAA8D+4HoXrUbj0P3E9CtejcPk/KlyPwvUo/j9xPQrXo3ABQM3MzMzMzANAKlyPwvUoBkCG61G4HoUIQOJ6FK5H4QpAPgrXo3A9DUCamZmZmZkPQHwUrkfh+hBAKlyPwvUoEkDYo3A9ClcTQIbrUbgehRRANDMzMzOzFUDiehSuR+EWQJDC9ShcDxhAPgrXo3A9GUDsUbgehWsaQA==\",\"dtype\":\"float64\",\"shape\":[20]},\"petal_length\":{\"__ndarray__\":\"XI/C9Shc8j8UrkfhehT3P87MzMzMzPs/w/UoXI9CAEAfhetRuJ4CQHwUrkfh+gRA2KNwPQpXB0A0MzMzM7MJQJDC9ShcDwxA7FG4HoVrDkCkcD0K12MQQFO4HoXrkRFAAQAAAADAEkCvR+F6FO4TQF2PwvUoHBVAC9ejcD1KFkC5HoXrUXgXQGdmZmZmphhAFa5H4XrUGUDD9ShcjwIbQA==\",\"dtype\":\"float64\",\"shape\":[20]},\"petal_length_count\":[0,0,0,0,0,0,1,2,3,5,12,13,10,4,0,0,0,0,0,0],\"right\":{\"__ndarray__\":\"uB6F61G49D9xPQrXo3D5Pypcj8L1KP4/cT0K16NwAUDNzMzMzMwDQCpcj8L1KAZAhutRuB6FCEDiehSuR+EKQD4K16NwPQ1AmpmZmZmZD0B8FK5H4foQQCpcj8L1KBJA2KNwPQpXE0CG61G4HoUUQDQzMzMzsxVA4noUrkfhFkCQwvUoXA8YQD4K16NwPRlA7FG4HoVrGkCamZmZmZkbQA==\",\"dtype\":\"float64\",\"shape\":[20]},\"species\":[\"versicolor\",\"versicolor\",\"versicolor\",\"versicolor\",\"versicolor\",\"versicolor\",\"versicolor\",\"versicolor\",\"versicolor\",\"versicolor\",\"versicolor\",\"versicolor\",\"versicolor\",\"versicolor\",\"versicolor\",\"versicolor\",\"versicolor\",\"versicolor\",\"versicolor\",\"versicolor\"],\"top\":[0,0,0,0,0,0,1,2,3,5,12,13,10,4,0,0,0,0,0,0]},\"selected\":{\"id\":\"8655\",\"type\":\"Selection\"},\"selection_policy\":{\"id\":\"8688\",\"type\":\"UnionRenderers\"}},\"id\":\"8654\",\"type\":\"ColumnDataSource\"},{\"attributes\":{},\"id\":\"8655\",\"type\":\"Selection\"},{\"attributes\":{},\"id\":\"8636\",\"type\":\"BasicTickFormatter\"},{\"attributes\":{},\"id\":\"8608\",\"type\":\"LinearScale\"},{\"attributes\":{\"source\":{\"id\":\"8830\",\"type\":\"ColumnDataSource\"}},\"id\":\"8837\",\"type\":\"CDSView\"},{\"attributes\":{\"source\":{\"id\":\"8814\",\"type\":\"ColumnDataSource\"}},\"id\":\"8821\",\"type\":\"CDSView\"},{\"attributes\":{\"text\":\"\",\"text_color\":{\"value\":\"black\"},\"text_font_size\":{\"value\":\"12pt\"}},\"id\":\"8604\",\"type\":\"Title\"},{\"attributes\":{\"fill_alpha\":0.5,\"fill_color\":\"#ff7f0e\",\"line_alpha\":0.5,\"line_color\":\"black\",\"x\":{\"field\":\"x\"},\"y\":{\"field\":\"y\"}},\"id\":\"8834\",\"type\":\"Patch\"},{\"attributes\":{\"bottom\":{\"value\":0},\"fill_alpha\":{\"value\":0.5},\"fill_color\":{\"value\":\"#ff7f0e\"},\"left\":{\"field\":\"left\"},\"line_alpha\":{\"value\":0.5},\"right\":{\"field\":\"right\"},\"top\":{\"field\":\"top\"}},\"id\":\"8657\",\"type\":\"Quad\"},{\"attributes\":{\"bottom\":{\"value\":0},\"fill_alpha\":{\"value\":0.5},\"fill_color\":{\"value\":\"#ff7f0e\"},\"left\":{\"field\":\"left\"},\"line_alpha\":{\"value\":0.5},\"line_color\":{\"value\":\"black\"},\"right\":{\"field\":\"right\"},\"top\":{\"field\":\"top\"}},\"id\":\"8658\",\"type\":\"Quad\"},{\"attributes\":{\"fill_alpha\":0.5,\"fill_color\":\"#2ca02c\",\"line_alpha\":0.5,\"x\":{\"field\":\"x\"},\"y\":{\"field\":\"y\"}},\"id\":\"8850\",\"type\":\"Patch\"},{\"attributes\":{\"bottom\":{\"value\":0},\"fill_alpha\":{\"value\":0.2},\"fill_color\":{\"value\":\"#ff7f0e\"},\"left\":{\"field\":\"left\"},\"line_alpha\":{\"value\":0.2},\"line_color\":{\"value\":\"black\"},\"right\":{\"field\":\"right\"},\"top\":{\"field\":\"top\"}},\"id\":\"8659\",\"type\":\"Quad\"},{\"attributes\":{\"callback\":null,\"renderers\":[{\"id\":\"8820\",\"type\":\"GlyphRenderer\"},{\"id\":\"8836\",\"type\":\"GlyphRenderer\"},{\"id\":\"8853\",\"type\":\"GlyphRenderer\"}],\"tags\":[\"hv_created\"],\"tooltips\":[[\"species\",\"@{species}\"],[\"sepal_length\",\"@{sepal_length}\"],[\"Density\",\"@{sepal_length_density}\"]]},\"id\":\"8776\",\"type\":\"HoverTool\"},{\"attributes\":{\"fill_alpha\":0.5,\"fill_color\":\"#2ca02c\",\"line_alpha\":0.5,\"line_color\":\"black\",\"x\":{\"field\":\"x\"},\"y\":{\"field\":\"y\"}},\"id\":\"8851\",\"type\":\"Patch\"},{\"attributes\":{\"data_source\":{\"id\":\"8654\",\"type\":\"ColumnDataSource\"},\"glyph\":{\"id\":\"8657\",\"type\":\"Quad\"},\"hover_glyph\":null,\"muted_glyph\":{\"id\":\"8659\",\"type\":\"Quad\"},\"nonselection_glyph\":{\"id\":\"8658\",\"type\":\"Quad\"},\"selection_glyph\":null,\"view\":{\"id\":\"8661\",\"type\":\"CDSView\"}},\"id\":\"8660\",\"type\":\"GlyphRenderer\"},{\"attributes\":{\"overlay\":{\"id\":\"8651\",\"type\":\"BoxAnnotation\"}},\"id\":\"8625\",\"type\":\"BoxZoomTool\"},{\"attributes\":{\"grid_line_color\":null,\"ticker\":{\"id\":\"8613\",\"type\":\"BasicTicker\"}},\"id\":\"8616\",\"type\":\"Grid\"},{\"attributes\":{\"source\":{\"id\":\"8654\",\"type\":\"ColumnDataSource\"}},\"id\":\"8661\",\"type\":\"CDSView\"},{\"attributes\":{\"data_source\":{\"id\":\"8814\",\"type\":\"ColumnDataSource\"},\"glyph\":{\"id\":\"8817\",\"type\":\"Patch\"},\"hover_glyph\":null,\"muted_glyph\":{\"id\":\"8819\",\"type\":\"Patch\"},\"nonselection_glyph\":{\"id\":\"8818\",\"type\":\"Patch\"},\"selection_glyph\":null,\"view\":{\"id\":\"8821\",\"type\":\"CDSView\"}},\"id\":\"8820\",\"type\":\"GlyphRenderer\"},{\"attributes\":{},\"id\":\"8618\",\"type\":\"BasicTicker\"},{\"attributes\":{\"text\":\"\",\"text_color\":{\"value\":\"black\"},\"text_font_size\":{\"value\":\"12pt\"}},\"id\":\"8780\",\"type\":\"Title\"},{\"attributes\":{},\"id\":\"8784\",\"type\":\"LinearScale\"},{\"attributes\":{},\"id\":\"8800\",\"type\":\"WheelZoomTool\"},{\"attributes\":{\"axis_label\":\"petal_length\",\"bounds\":\"auto\",\"formatter\":{\"id\":\"8634\",\"type\":\"BasicTickFormatter\"},\"major_label_orientation\":\"horizontal\",\"ticker\":{\"id\":\"8613\",\"type\":\"BasicTicker\"}},\"id\":\"8612\",\"type\":\"LinearAxis\"},{\"attributes\":{},\"id\":\"8831\",\"type\":\"Selection\"},{\"attributes\":{\"tools\":[{\"id\":\"8600\",\"type\":\"HoverTool\"},{\"id\":\"8622\",\"type\":\"SaveTool\"},{\"id\":\"8623\",\"type\":\"PanTool\"},{\"id\":\"8624\",\"type\":\"WheelZoomTool\"},{\"id\":\"8625\",\"type\":\"BoxZoomTool\"},{\"id\":\"8626\",\"type\":\"ResetTool\"},{\"id\":\"8776\",\"type\":\"HoverTool\"},{\"id\":\"8798\",\"type\":\"SaveTool\"},{\"id\":\"8799\",\"type\":\"PanTool\"},{\"id\":\"8800\",\"type\":\"WheelZoomTool\"},{\"id\":\"8801\",\"type\":\"BoxZoomTool\"},{\"id\":\"8802\",\"type\":\"ResetTool\"}]},\"id\":\"8977\",\"type\":\"ProxyToolbar\"},{\"attributes\":{},\"id\":\"8794\",\"type\":\"BasicTicker\"},{\"attributes\":{},\"id\":\"8613\",\"type\":\"BasicTicker\"},{\"attributes\":{\"active_drag\":\"auto\",\"active_inspect\":\"auto\",\"active_multi\":null,\"active_scroll\":\"auto\",\"active_tap\":\"auto\",\"tools\":[{\"id\":\"8776\",\"type\":\"HoverTool\"},{\"id\":\"8798\",\"type\":\"SaveTool\"},{\"id\":\"8799\",\"type\":\"PanTool\"},{\"id\":\"8800\",\"type\":\"WheelZoomTool\"},{\"id\":\"8801\",\"type\":\"BoxZoomTool\"},{\"id\":\"8802\",\"type\":\"ResetTool\"}]},\"id\":\"8803\",\"type\":\"Toolbar\"},{\"attributes\":{},\"id\":\"8798\",\"type\":\"SaveTool\"},{\"attributes\":{},\"id\":\"8799\",\"type\":\"PanTool\"},{\"attributes\":{\"axis_label\":\"\",\"bounds\":\"auto\",\"formatter\":{\"id\":\"8636\",\"type\":\"BasicTickFormatter\"},\"major_label_orientation\":\"horizontal\",\"ticker\":{\"id\":\"8618\",\"type\":\"BasicTicker\"}},\"id\":\"8617\",\"type\":\"LinearAxis\"},{\"attributes\":{\"dimension\":1,\"grid_line_color\":null,\"ticker\":{\"id\":\"8618\",\"type\":\"BasicTicker\"}},\"id\":\"8621\",\"type\":\"Grid\"},{\"attributes\":{\"label\":{\"value\":\"virginica\"},\"renderers\":[{\"id\":\"8853\",\"type\":\"GlyphRenderer\"}]},\"id\":\"8865\",\"type\":\"LegendItem\"},{\"attributes\":{\"axis_label\":\"Density\",\"bounds\":\"auto\",\"formatter\":{\"id\":\"8812\",\"type\":\"BasicTickFormatter\"},\"major_label_orientation\":\"horizontal\",\"ticker\":{\"id\":\"8794\",\"type\":\"BasicTicker\"}},\"id\":\"8793\",\"type\":\"LinearAxis\"},{\"attributes\":{},\"id\":\"8802\",\"type\":\"ResetTool\"},{\"attributes\":{},\"id\":\"8623\",\"type\":\"PanTool\"},{\"attributes\":{\"dimension\":1,\"grid_line_color\":null,\"ticker\":{\"id\":\"8794\",\"type\":\"BasicTicker\"}},\"id\":\"8797\",\"type\":\"Grid\"},{\"attributes\":{\"source\":{\"id\":\"8847\",\"type\":\"ColumnDataSource\"}},\"id\":\"8854\",\"type\":\"CDSView\"},{\"attributes\":{},\"id\":\"8789\",\"type\":\"BasicTicker\"},{\"attributes\":{},\"id\":\"8786\",\"type\":\"LinearScale\"},{\"attributes\":{\"toolbar\":{\"id\":\"8977\",\"type\":\"ProxyToolbar\"},\"toolbar_location\":\"above\"},\"id\":\"8978\",\"type\":\"ToolbarBox\"},{\"attributes\":{},\"id\":\"8701\",\"type\":\"UnionRenderers\"},{\"attributes\":{\"children\":[[{\"id\":\"8603\",\"subtype\":\"Figure\",\"type\":\"Plot\"},0,0],[{\"id\":\"8779\",\"subtype\":\"Figure\",\"type\":\"Plot\"},0,1]]},\"id\":\"8976\",\"type\":\"GridBox\"},{\"attributes\":{\"axis_label\":\"sepal_length\",\"bounds\":\"auto\",\"formatter\":{\"id\":\"8810\",\"type\":\"BasicTickFormatter\"},\"major_label_orientation\":\"horizontal\",\"ticker\":{\"id\":\"8789\",\"type\":\"BasicTicker\"}},\"id\":\"8788\",\"type\":\"LinearAxis\"},{\"attributes\":{\"callback\":null,\"data\":{\"x\":{\"__ndarray__\":\"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\",\"dtype\":\"float64\",\"shape\":[200]},\"y\":{\"__ndarray__\":\"AAAAAAAAAAAAAAAAAAAAAAAAAAAAAAAAAAAAAAAAAAAAAAAAAAAAAAAAAAAAAAAAAAAAAAAAAAAAAAAAAAAAAAAAAAAAAAAAAAAAAAAAAAAAAAAAAAAAAAAAAAAAAAAAAAAAAAAAAAAAAAAAAAAAAAAAAAAAAAAAAAAAAAAAAAAAAAAAAAAAAAAAAAAAAAAAAAAAAAAAAAAAAAAAAAAAAAAAAAAAAAAAAAAAAAAAAAAAAAAAAAAAAAAAAAAAAAAAAAAAAAAAAAAAAAAAAAAAAAAAAAAAAAAAAAAAAAAAAAAAAAAAAAAAAAAAAAAAAAAAAAAAAAAAAAAAAAAAAAAAAAAAAAAAAAAAAAAAAAAAAAAAAAAAAAAAAAAAAAAAAAAAAAAAAAAAAAAAAAAAAAAAAAAAAAAAAAAAAAAAAAAAAAAAAAAAAAAAAAAAAAAAAAAAAAAAAAAAAAAAAAAAAAAAAAAAAAAAAAAAAAAAAAAAAAAAAAAAAAAAAAAAAAAAAAAAAAAAAAAAAAAAAAAAAAAAAAAAAAAAAAAAAAAAAAAAAAAAAAAAAAAAAAAAAAAAAAAAAAAAAAAAAAAAAAAAAAAAAAAAAAAAAAAAAAAAAAAAAAAAAAAAAAAAAAAAAAAAAAAAAAAAAAAAAAAAAAAAAAAAAAAAAAAAAAAAAAAAAAAAAAAAAAAAAAAAAAAAAAAAAAAAAAAAAAAAAAAAAAAAAAAAAAAAAAAAAAAAAAAAAAAAAAAAAAAAAAAAAAAAAAAAAAAAAAAAAAAAAAAAAAAAAAAAAAAAAAAAAAAAAAAAAAAAAAAAAAAAAAAAAAAAAAAAAAAAAAAAAAAAAAAAAAAAAAAAAAAAAAAAAAAAAAAAAAAAAAAAAAAAAAAAAAAAAAAAAAAAAAAAAAAAAAAAAAAAAAAAAAAAAAAAAAAAAAAAAAAAAAAAAAAAAAAAAAAAAAAAAAAAAAAAAAAAAAAAAAAAAAAAAAAAAAAAAAAAAAAAAAAAAAAAAAAAAAAAAAAAAAAAAAAAAAAAAAAAAAAAAAAAAAAAAAAAAAAAAAAAAAAAAAAAAACiek2cqY08P/+O5/2E9Uc/kFNkS52gUz+gNayyjWZfP71YAMzHh2g/v6IXhM23cj/EogcC5ud7P8ym6qoEU4Q//r1c5+/tjD+ohKvdOh+UP/xWKDJvXJs/TsGs0qAvoj8M4qu8mKOnPykT3QppDa4/ZBesylKwsj8kAl9uob+2P4u4F2rVHLs/roAPMZ+ovz9QliVcVB/CP7Dy7JaNXMQ/I/ciYl16xj8ERT5zfWrIP4cHYXavI8o/6E7KV8miyz853MWI8OrMPxH3qigABc4/jxDOOED+zj+xTkqEtObPP7NWTgKsZ9A/XeA+AUnk0D8JzpgijHDRPwsxIwqnEtI/Evdm7YbP0j/nWTBX2qrTPxBvo3ggp9Q/AxH1Wq/F1T/gw2egpwbXPzguPEvWaNg/rQDlrYvp2T9I5zrDcITbP68JarRiM90/BuXf7Vnu3j8ZkdHNsFXgP8RW0IBTL+E/cgClZlb94T8za8cBWbjiPz+YEVmtWOM/+KcAuc/W4z9Bo30t/CvkPzgpdfvRUuQ/1pjJoexH5D8HuPDEVQrkP8JcPC22m+M/O3B//zUA4z+ekYmcCz7iP9lQeV7JXOE/u3l8UYhk4D+9U7WdKrrePz5c7UWJmtw/59lNGg512j8ITNH/l1HYP8Tz29hYNdY/dDSMOJYj1D9NKyqGnR7SP68kRQawKNA/+BI2A2mJzD8uZBnfHe3IP2rtkIAqhsU/BdNdS1tfwj/kalEsyQa/P1OQCFj49rk/71BDABectT9LqrsNaPuxP/TNjBIqI64/HAyfW12lqT+IFXPhU1amP6/cri9XA6Q/yvY2BL5yoj9ndEocFGmhP6Ftr9AdrqA/LVd2ticRoD+HnWgFYNieP0yy+spCS50/mL7RuBJhmz9womGs0BaZP2b1HPTQe5Y/kKNtKtGrkz+l77C7q8iQP6A3650c6Ys/6UT45caahj9DQywMqNOBP9+TTnXNX3s/AsrGwot1dD86yL/AWMRtP8b77yqXE2U/WoGFWXEMXT/tai+0gXtTPwVpwez9bkk/mPUT1RsoQD+wvzYfK/ozPw==\",\"dtype\":\"float64\",\"shape\":[200]}},\"selected\":{\"id\":\"8848\",\"type\":\"Selection\"},\"selection_policy\":{\"id\":\"8877\",\"type\":\"UnionRenderers\"}},\"id\":\"8847\",\"type\":\"ColumnDataSource\"},{\"attributes\":{},\"id\":\"8877\",\"type\":\"UnionRenderers\"},{\"attributes\":{\"grid_line_color\":null,\"ticker\":{\"id\":\"8789\",\"type\":\"BasicTicker\"}},\"id\":\"8792\",\"type\":\"Grid\"},{\"attributes\":{\"fill_alpha\":0.5,\"fill_color\":\"#1f77b4\",\"line_alpha\":0.5,\"x\":{\"field\":\"x\"},\"y\":{\"field\":\"y\"}},\"id\":\"8817\",\"type\":\"Patch\"},{\"attributes\":{},\"id\":\"8815\",\"type\":\"Selection\"},{\"attributes\":{},\"id\":\"8622\",\"type\":\"SaveTool\"},{\"attributes\":{},\"id\":\"8812\",\"type\":\"BasicTickFormatter\"},{\"attributes\":{\"fill_alpha\":0.5,\"fill_color\":\"#1f77b4\",\"line_alpha\":0.5,\"line_color\":\"black\",\"x\":{\"field\":\"x\"},\"y\":{\"field\":\"y\"}},\"id\":\"8818\",\"type\":\"Patch\"},{\"attributes\":{\"callback\":null,\"data\":{\"x\":{\"__ndarray__\":\"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\",\"dtype\":\"float64\",\"shape\":[200]},\"y\":{\"__ndarray__\":\"AAAAAAAAAAAAAAAAAAAAAAAAAAAAAAAAAAAAAAAAAAAAAAAAAAAAAAAAAAAAAAAAAAAAAAAAAAAAAAAAAAAAAAAAAAAAAAAAAAAAAAAAAAAAAAAAAAAAAAAAAAAAAAAAAAAAAAAAAAAAAAAAAAAAAAAAAAAAAAAAAAAAAAAAAAAAAAAAAAAAAAAAAAAAAAAAAAAAAAAAAAAAAAAAAAAAAAAAAAAAAAAAAAAAAAAAAAAAAAAAAAAAAAAAAAAAAAAAAAAAAAAAAAAAAAAAAAAAAAAAAAAAAAAAAAAAAAAAAAAAAAAAAAAAAAAAAAAAAAAAAAAAAAAAAAAAAAAAAAAAAAAAAAAAAAAAAAAAAAAAAAAAAAAAAAAAAAAAAAAAAAAAAAAAAAAAAAAAAAAAAAAAAAAAAAAAAAAAAAAAAAAAAAAAAAAAAAAAAAAAAAAAAAAAAAAAAAAAAAAAAAAAAAAAAAAAAAAAAAAAAAAAAAAAAAAAAAAAAAAAAAAAAAAAAAAAAAAAAAAAAAAAAAAAAAAAAAAAAAAAAAAAAAAAAAAAAAAAAAAAAAAAAAAAAAAAAAAAAAAAAAAAAAAAAAAAAAAAAAAAAAAAAAAAAAAAAAAAAAAAAAAAAAAAAAAAAAAAAAAAAAAAAAAAAAAAAAAAAAAAAAAAAAAAAAAAAAAAAAAAAAAAAAAAAAAAAAAAAAAAAAAAAAAAAAAAAAAAAAAAAAAAAAAAAAAAAAAAAAAAAAAAAAAAAAAAAAAAAAAAAAAAAAAAAAAAAAAAAAAAAAAAAAAAAAAAAAAAAAAAAAAAAAAAAAAAAAAAAAAAAAAAAAAAAAAAAAAAAAAAAAAAAAAAAAAAAAAAAAAAAAAAAAAAAAAAAAAAAAAAAAAAAAAAAAAAAAAAAAAAAAAAAAAAAAAAAAAAAAAAAAAAAAAAAAAAAAAAAAAAAAAAAAAAAAAAAAAAAAAAAAAAAAAAAAAAAAAAAAAAAAAAAAAAAAAAAAAAAAAAAAAAAAAAAAAAAAAAAAAAAAAAAAAAAAAAAAAAAAAAAAAAAAAAAAAAAAAAAAAAAAAAAAAdlUqKJopAP9yeMIw2SUo/vudvoqV2VD9TS/AqnjhfP5wsb4orWGc/hGu30foccT9f59tmXJt4P78Hpc8TW4E/Vm3uuBQHiD/JFDQ6U1SQP06DnyzizJU/vO0srmmZnD/ypGKxSnGiP2TEwj1GZac/TqdYq/Q0rT849EnyOPOxP88ooxM7vLU/IwYXvrzwuT+oTEjHo4e+P/DO0bjGucE/YbLOj5RRxD9tj05J8wDHP9ADt718vMk/lFB9cVZ4zD/wr4Br+yjPP0Z6aCIM4tA/3Hs9qrIg0j8wf+8Es03TP+V/GGH5Z9Q/HSOJfjpw1T/M5Vum4mjWP3BXOw7TVdc/gNjLV/I72D8WDlT/myDZP3hDc0sACdo/Q95PgYn52j+yn0cZW/XbP4bvPmP8/dw/Ol0TAToT3j9kZMjOQTPfP0vCxjB6LeA/If1lri/D4D/Uf/C7pljhP6knH4Hq6+E/G0qbUGZ74j+wB4IsCAbjPyzEP2tDi+M/waAADPAK5D+2/lATCYXkP3JxRIdS+eQ/+I7DUfVm5T/4NmFLI8zlPwUIDvHWJeY/S5GyIcBv5j9FmaajaaTmPyJBSb2aveY/+dJUJu605j+WC2W5jYTmP4MRpW36J+Y/H5Ac1sOc5T/quEOuEuPkP/SDHArv/eM/w+AG4zPz4j9m+Cl/LcvhPy6mAabsj+A/S8KeSseY3j+doDQE1BbcP4qthCOOrdk/AbQMVcRs1z9/c5kLYl/VPyF4jOjmitM/qvPCk4Dv0T9+vU6HuIjQP/27Lzwpnc4/WQTSR/ltzD8QZ/c2ZG7KP95qZgBUisg/R5Rds0Kxxj9+EqAQptfEP//5JpSJ98I/OnJ4J2EQwT8T+0RQb0y+P2gLEzjagLo/6Xug8H7Qtj8sdmslrU6zP5kRlssDDbA/eEPJph8zqj80LzHUV/ukP7gWYBo/e6A/JPOr6YljmT9PC9+IZSuTP9/KPmbSXow/xlLdCkqShD/nCZ5sYjp9P3Q0vxULV3Q/o6peo3m6az8Z5t3hpIJiPzFlI517M1g/oFHneJD7Tj+VG75b8WpDPw==\",\"dtype\":\"float64\",\"shape\":[200]}},\"selected\":{\"id\":\"8831\",\"type\":\"Selection\"},\"selection_policy\":{\"id\":\"8864\",\"type\":\"UnionRenderers\"}},\"id\":\"8830\",\"type\":\"ColumnDataSource\"},{\"attributes\":{},\"id\":\"8624\",\"type\":\"WheelZoomTool\"},{\"attributes\":{\"overlay\":{\"id\":\"8827\",\"type\":\"BoxAnnotation\"}},\"id\":\"8801\",\"type\":\"BoxZoomTool\"},{\"attributes\":{\"fill_alpha\":0.2,\"fill_color\":\"#1f77b4\",\"line_alpha\":0.2,\"line_color\":\"black\",\"x\":{\"field\":\"x\"},\"y\":{\"field\":\"y\"}},\"id\":\"8819\",\"type\":\"Patch\"}],\"root_ids\":[\"8979\"]},\"title\":\"Bokeh Application\",\"version\":\"1.3.4\"}};\n",
       "  var render_items = [{\"docid\":\"097436f7-965d-4bc3-aa00-bf102b74571d\",\"roots\":{\"8979\":\"f1dc8b81-9866-4ac1-8a3f-1567818466fd\"}}];\n",
       "  root.Bokeh.embed.embed_items_notebook(docs_json, render_items);\n",
       "\n",
       "  }\n",
       "  if (root.Bokeh !== undefined) {\n",
       "    embed_document(root);\n",
       "  } else {\n",
       "    var attempts = 0;\n",
       "    var timer = setInterval(function(root) {\n",
       "      if (root.Bokeh !== undefined) {\n",
       "        embed_document(root);\n",
       "        clearInterval(timer);\n",
       "      }\n",
       "      attempts++;\n",
       "      if (attempts > 100) {\n",
       "        console.log(\"Bokeh: ERROR: Unable to run BokehJS code because BokehJS library is missing\");\n",
       "        clearInterval(timer);\n",
       "      }\n",
       "    }, 10, root)\n",
       "  }\n",
       "})(window);</script>"
      ],
      "text/plain": [
       ":Layout\n",
       "   .NdOverlay.I  :NdOverlay   [species]\n",
       "      :Histogram   [petal_length]   (petal_length_count)\n",
       "   .NdOverlay.II :NdOverlay   [species]\n",
       "      :Distribution   [sepal_length]   (Density)"
      ]
     },
     "execution_count": 140,
     "metadata": {
      "application/vnd.holoviews_exec.v0+json": {
       "id": "8979"
      }
     },
     "output_type": "execute_result"
    }
   ],
   "source": [
    "p1 = df.hvplot.hist('petal_length', by='species', bins=20, alpha=0.5, width=400)\n",
    "p2 = df.hvplot.kde('sepal_length', by='species', alpha=0.5, width=400)\n",
    "p1 + p2"
   ]
  },
  {
   "cell_type": "code",
   "execution_count": 145,
   "metadata": {},
   "outputs": [
    {
     "data": {
      "application/vnd.holoviews_exec.v0+json": "",
      "text/html": [
       "<div class=\"hololayout row row-fluid\">\n",
       "  <div class=\"holoframe\" id=\"display_area1185c6877743486f902d048612cccce0\">\n",
       "    <div id=\"_anim_img1185c6877743486f902d048612cccce0\">\n",
       "      \n",
       "      <div id='9481' style='display: table; margin: 0 auto;'>\n",
       "\n",
       "\n",
       "\n",
       "\n",
       "\n",
       "  <div class=\"bk-root\" id=\"19e744e8-5af7-4e27-b502-8fe9067669b9\" data-root-id=\"9481\"></div>\n",
       "</div>\n",
       "      \n",
       "    </div>\n",
       "  </div>\n",
       "  <div class=\"holowidgets\" id=\"widget_area1185c6877743486f902d048612cccce0\">\n",
       "    <form class=\"holoform well\" id=\"form1185c6877743486f902d048612cccce0\">\n",
       "      \n",
       "      \n",
       "        <div class=\"form-group control-group holoformgroup\" style=''>\n",
       "          <label for=\"textInput1185c6877743486f902d048612cccce0_species\"><strong>species:</strong></label>\n",
       "          <select class=\"holoselect form-control\" id=\"_anim_widget1185c6877743486f902d048612cccce0_species\" >\n",
       "          </select>\n",
       "        </div>\n",
       "        \n",
       "        \n",
       "        </form>\n",
       "    </div>\n",
       "</div>\n",
       "<script type=\"application/javascript\">/* Instantiate the BokehSelectionWidget class. */\n",
       "/* The IDs given should match those used in the template above. */\n",
       "var widget_ids = new Array(1);\n",
       "\n",
       "\n",
       "widget_ids[0] = \"_anim_widget1185c6877743486f902d048612cccce0_species\";\n",
       "\n",
       "\n",
       "function create_widget() {\n",
       "  var frame_data = {};\n",
       "  var dim_vals = [0.0];\n",
       "  var keyMap = {};\n",
       "  var notFound = \"<h2 style='vertical-align: middle>No frame at selected dimension value.<h2>\";\n",
       "\n",
       "  var anim = new HoloViews.BokehSelectionWidget(frame_data, \"1185c6877743486f902d048612cccce0\", widget_ids,\n",
       "  keyMap, dim_vals, notFound, false, \"default\",\n",
       "  false, \"./json_figures/\", true, \"9481\");\n",
       "\n",
       "  HoloViews.index['9481'] = anim;\n",
       "}\n",
       "\n",
       "\n",
       "\n",
       "\n",
       "HoloViews.init_dropdown('1185c6877743486f902d048612cccce0', '9481', 'species', [0, 1, 2], 0, {}, ['setosa', 'versicolor', 'virginica'], 'None', 0, true)\n",
       "\n",
       "\n",
       "\n",
       "\n",
       "create_widget();\n",
       "(function(root) {\n",
       "  function embed_document(root) {\n",
       "    \n",
       "  var docs_json = {\"425b2670-e5ec-43bc-b8b5-702636b8c91e\":{\"roots\":{\"references\":[{\"attributes\":{\"below\":[{\"id\":\"9490\",\"type\":\"LinearAxis\"}],\"center\":[{\"id\":\"9494\",\"type\":\"Grid\"},{\"id\":\"9499\",\"type\":\"Grid\"}],\"left\":[{\"id\":\"9495\",\"type\":\"LinearAxis\"}],\"margin\":null,\"min_border_bottom\":10,\"min_border_left\":10,\"min_border_right\":10,\"min_border_top\":10,\"plot_height\":300,\"plot_width\":400,\"renderers\":[{\"id\":\"9518\",\"type\":\"GlyphRenderer\"}],\"sizing_mode\":\"fixed\",\"title\":{\"id\":\"9482\",\"type\":\"Title\"},\"toolbar\":{\"id\":\"9505\",\"type\":\"Toolbar\"},\"x_range\":{\"id\":\"9478\",\"type\":\"Range1d\"},\"x_scale\":{\"id\":\"9486\",\"type\":\"LinearScale\"},\"y_range\":{\"id\":\"9479\",\"type\":\"Range1d\"},\"y_scale\":{\"id\":\"9488\",\"type\":\"LinearScale\"}},\"id\":\"9481\",\"subtype\":\"Figure\",\"type\":\"Plot\"},{\"attributes\":{\"data_source\":{\"id\":\"9512\",\"type\":\"ColumnDataSource\"},\"glyph\":{\"id\":\"9515\",\"type\":\"Scatter\"},\"hover_glyph\":null,\"muted_glyph\":{\"id\":\"9517\",\"type\":\"Scatter\"},\"nonselection_glyph\":{\"id\":\"9516\",\"type\":\"Scatter\"},\"selection_glyph\":null,\"view\":{\"id\":\"9519\",\"type\":\"CDSView\"}},\"id\":\"9518\",\"type\":\"GlyphRenderer\"},{\"attributes\":{\"callback\":null,\"end\":0.6,\"reset_end\":0.6,\"reset_start\":0.1,\"start\":0.1,\"tags\":[[[\"petal_width\",\"petal_width\",null]]]},\"id\":\"9479\",\"type\":\"Range1d\"},{\"attributes\":{},\"id\":\"9513\",\"type\":\"Selection\"},{\"attributes\":{\"callback\":null,\"renderers\":[{\"id\":\"9518\",\"type\":\"GlyphRenderer\"}],\"tags\":[\"hv_created\"],\"tooltips\":[[\"petal_length\",\"@{petal_length}\"],[\"petal_width\",\"@{petal_width}\"]]},\"id\":\"9480\",\"type\":\"HoverTool\"},{\"attributes\":{\"active_drag\":\"auto\",\"active_inspect\":\"auto\",\"active_multi\":null,\"active_scroll\":\"auto\",\"active_tap\":\"auto\",\"tools\":[{\"id\":\"9480\",\"type\":\"HoverTool\"},{\"id\":\"9500\",\"type\":\"SaveTool\"},{\"id\":\"9501\",\"type\":\"PanTool\"},{\"id\":\"9502\",\"type\":\"WheelZoomTool\"},{\"id\":\"9503\",\"type\":\"BoxZoomTool\"},{\"id\":\"9504\",\"type\":\"ResetTool\"}]},\"id\":\"9505\",\"type\":\"Toolbar\"},{\"attributes\":{},\"id\":\"9500\",\"type\":\"SaveTool\"},{\"attributes\":{},\"id\":\"9501\",\"type\":\"PanTool\"},{\"attributes\":{},\"id\":\"9502\",\"type\":\"WheelZoomTool\"},{\"attributes\":{},\"id\":\"9531\",\"type\":\"UnionRenderers\"},{\"attributes\":{\"overlay\":{\"id\":\"9529\",\"type\":\"BoxAnnotation\"}},\"id\":\"9503\",\"type\":\"BoxZoomTool\"},{\"attributes\":{},\"id\":\"9504\",\"type\":\"ResetTool\"},{\"attributes\":{\"callback\":null,\"data\":{\"petal_length\":{\"__ndarray__\":\"ZmZmZmZm9j9mZmZmZmb2P83MzMzMzPQ/AAAAAAAA+D9mZmZmZmb2PzMzMzMzM/s/ZmZmZmZm9j8AAAAAAAD4P2ZmZmZmZvY/AAAAAAAA+D8AAAAAAAD4P5qZmZmZmfk/ZmZmZmZm9j+amZmZmZnxPzMzMzMzM/M/AAAAAAAA+D/NzMzMzMz0P2ZmZmZmZvY/MzMzMzMz+z8AAAAAAAD4PzMzMzMzM/s/AAAAAAAA+D8AAAAAAADwPzMzMzMzM/s/ZmZmZmZm/j+amZmZmZn5P5qZmZmZmfk/AAAAAAAA+D9mZmZmZmb2P5qZmZmZmfk/mpmZmZmZ+T8AAAAAAAD4PwAAAAAAAPg/ZmZmZmZm9j8AAAAAAAD4PzMzMzMzM/M/zczMzMzM9D9mZmZmZmb2P83MzMzMzPQ/AAAAAAAA+D/NzMzMzMz0P83MzMzMzPQ/zczMzMzM9D+amZmZmZn5P2ZmZmZmZv4/ZmZmZmZm9j+amZmZmZn5P2ZmZmZmZvY/AAAAAAAA+D9mZmZmZmb2Pw==\",\"dtype\":\"float64\",\"shape\":[50]},\"petal_width\":{\"__ndarray__\":\"mpmZmZmZyT+amZmZmZnJP5qZmZmZmck/mpmZmZmZyT+amZmZmZnJP5qZmZmZmdk/MzMzMzMz0z+amZmZmZnJP5qZmZmZmck/mpmZmZmZuT+amZmZmZnJP5qZmZmZmck/mpmZmZmZuT+amZmZmZm5P5qZmZmZmck/mpmZmZmZ2T+amZmZmZnZPzMzMzMzM9M/MzMzMzMz0z8zMzMzMzPTP5qZmZmZmck/mpmZmZmZ2T+amZmZmZnJPwAAAAAAAOA/mpmZmZmZyT+amZmZmZnJP5qZmZmZmdk/mpmZmZmZyT+amZmZmZnJP5qZmZmZmck/mpmZmZmZyT+amZmZmZnZP5qZmZmZmbk/mpmZmZmZyT+amZmZmZnJP5qZmZmZmck/mpmZmZmZyT+amZmZmZm5P5qZmZmZmck/mpmZmZmZyT8zMzMzMzPTPzMzMzMzM9M/mpmZmZmZyT8zMzMzMzPjP5qZmZmZmdk/MzMzMzMz0z+amZmZmZnJP5qZmZmZmck/mpmZmZmZyT+amZmZmZnJPw==\",\"dtype\":\"float64\",\"shape\":[50]}},\"selected\":{\"id\":\"9513\",\"type\":\"Selection\"},\"selection_policy\":{\"id\":\"9531\",\"type\":\"UnionRenderers\"}},\"id\":\"9512\",\"type\":\"ColumnDataSource\"},{\"attributes\":{\"fill_color\":{\"value\":\"#1f77b4\"},\"line_color\":{\"value\":\"#1f77b4\"},\"size\":{\"units\":\"screen\",\"value\":5.477225575051661},\"x\":{\"field\":\"petal_length\"},\"y\":{\"field\":\"petal_width\"}},\"id\":\"9515\",\"type\":\"Scatter\"},{\"attributes\":{},\"id\":\"9520\",\"type\":\"BasicTickFormatter\"},{\"attributes\":{\"text\":\"species: setosa\",\"text_color\":{\"value\":\"black\"},\"text_font_size\":{\"value\":\"12pt\"}},\"id\":\"9482\",\"type\":\"Title\"},{\"attributes\":{\"fill_alpha\":{\"value\":0.1},\"fill_color\":{\"value\":\"#1f77b4\"},\"line_alpha\":{\"value\":0.1},\"line_color\":{\"value\":\"#1f77b4\"},\"size\":{\"units\":\"screen\",\"value\":5.477225575051661},\"x\":{\"field\":\"petal_length\"},\"y\":{\"field\":\"petal_width\"}},\"id\":\"9516\",\"type\":\"Scatter\"},{\"attributes\":{},\"id\":\"9522\",\"type\":\"BasicTickFormatter\"},{\"attributes\":{},\"id\":\"9486\",\"type\":\"LinearScale\"},{\"attributes\":{\"fill_alpha\":{\"value\":0.2},\"fill_color\":{\"value\":\"#1f77b4\"},\"line_alpha\":{\"value\":0.2},\"line_color\":{\"value\":\"#1f77b4\"},\"size\":{\"units\":\"screen\",\"value\":5.477225575051661},\"x\":{\"field\":\"petal_length\"},\"y\":{\"field\":\"petal_width\"}},\"id\":\"9517\",\"type\":\"Scatter\"},{\"attributes\":{},\"id\":\"9488\",\"type\":\"LinearScale\"},{\"attributes\":{\"axis_label\":\"petal_length\",\"bounds\":\"auto\",\"formatter\":{\"id\":\"9520\",\"type\":\"BasicTickFormatter\"},\"major_label_orientation\":\"horizontal\",\"ticker\":{\"id\":\"9491\",\"type\":\"BasicTicker\"}},\"id\":\"9490\",\"type\":\"LinearAxis\"},{\"attributes\":{},\"id\":\"9491\",\"type\":\"BasicTicker\"},{\"attributes\":{\"grid_line_color\":null,\"ticker\":{\"id\":\"9491\",\"type\":\"BasicTicker\"}},\"id\":\"9494\",\"type\":\"Grid\"},{\"attributes\":{\"axis_label\":\"petal_width\",\"bounds\":\"auto\",\"formatter\":{\"id\":\"9522\",\"type\":\"BasicTickFormatter\"},\"major_label_orientation\":\"horizontal\",\"ticker\":{\"id\":\"9496\",\"type\":\"BasicTicker\"}},\"id\":\"9495\",\"type\":\"LinearAxis\"},{\"attributes\":{\"source\":{\"id\":\"9512\",\"type\":\"ColumnDataSource\"}},\"id\":\"9519\",\"type\":\"CDSView\"},{\"attributes\":{},\"id\":\"9496\",\"type\":\"BasicTicker\"},{\"attributes\":{\"callback\":null,\"end\":1.9,\"reset_end\":1.9,\"reset_start\":1.0,\"start\":1.0,\"tags\":[[[\"petal_length\",\"petal_length\",null]]]},\"id\":\"9478\",\"type\":\"Range1d\"},{\"attributes\":{\"dimension\":1,\"grid_line_color\":null,\"ticker\":{\"id\":\"9496\",\"type\":\"BasicTicker\"}},\"id\":\"9499\",\"type\":\"Grid\"},{\"attributes\":{\"bottom_units\":\"screen\",\"fill_alpha\":{\"value\":0.5},\"fill_color\":{\"value\":\"lightgrey\"},\"left_units\":\"screen\",\"level\":\"overlay\",\"line_alpha\":{\"value\":1.0},\"line_color\":{\"value\":\"black\"},\"line_dash\":[4,4],\"line_width\":{\"value\":2},\"render_mode\":\"css\",\"right_units\":\"screen\",\"top_units\":\"screen\"},\"id\":\"9529\",\"type\":\"BoxAnnotation\"}],\"root_ids\":[\"9481\"]},\"title\":\"Bokeh Application\",\"version\":\"1.3.4\"}};\n",
       "  var render_items = [{\"docid\":\"425b2670-e5ec-43bc-b8b5-702636b8c91e\",\"roots\":{\"9481\":\"19e744e8-5af7-4e27-b502-8fe9067669b9\"}}];\n",
       "  root.Bokeh.embed.embed_items_notebook(docs_json, render_items);\n",
       "\n",
       "  }\n",
       "  if (root.Bokeh !== undefined) {\n",
       "    embed_document(root);\n",
       "  } else {\n",
       "    var attempts = 0;\n",
       "    var timer = setInterval(function(root) {\n",
       "      if (root.Bokeh !== undefined) {\n",
       "        embed_document(root);\n",
       "        clearInterval(timer);\n",
       "      }\n",
       "      attempts++;\n",
       "      if (attempts > 100) {\n",
       "        console.log(\"Bokeh: ERROR: Unable to run BokehJS code because BokehJS library is missing\");\n",
       "        clearInterval(timer);\n",
       "      }\n",
       "    }, 10, root)\n",
       "  }\n",
       "})(window);</script>"
      ],
      "text/plain": [
       ":DynamicMap   [species]\n",
       "   :Scatter   [petal_length]   (petal_width)"
      ]
     },
     "execution_count": 145,
     "metadata": {
      "application/vnd.holoviews_exec.v0+json": {
       "id": "9481"
      }
     },
     "output_type": "execute_result"
    }
   ],
   "source": [
    "df.hvplot.scatter(x='petal_length', y='petal_width', groupby='species', width=400)"
   ]
  },
  {
   "cell_type": "markdown",
   "metadata": {},
   "source": [
    "### Altair"
   ]
  },
  {
   "cell_type": "code",
   "execution_count": 80,
   "metadata": {},
   "outputs": [
    {
     "data": {
      "application/vnd.vegalite.v3+json": {
       "$schema": "https://vega.github.io/schema/vega-lite/v3.4.0.json",
       "config": {
        "mark": {
         "tooltip": null
        },
        "view": {
         "height": 300,
         "width": 400
        }
       },
       "data": {
        "name": "data-a4bd480ea976f54878a155ce12ba18ce"
       },
       "datasets": {
        "data-a4bd480ea976f54878a155ce12ba18ce": [
         {
          "petal_length": 1.4,
          "petal_width": 0.2,
          "sepal_length": 5.1,
          "sepal_width": 3.5,
          "species": "setosa"
         },
         {
          "petal_length": 1.4,
          "petal_width": 0.2,
          "sepal_length": 4.9,
          "sepal_width": 3,
          "species": "setosa"
         },
         {
          "petal_length": 1.3,
          "petal_width": 0.2,
          "sepal_length": 4.7,
          "sepal_width": 3.2,
          "species": "setosa"
         },
         {
          "petal_length": 1.5,
          "petal_width": 0.2,
          "sepal_length": 4.6,
          "sepal_width": 3.1,
          "species": "setosa"
         },
         {
          "petal_length": 1.4,
          "petal_width": 0.2,
          "sepal_length": 5,
          "sepal_width": 3.6,
          "species": "setosa"
         },
         {
          "petal_length": 1.7,
          "petal_width": 0.4,
          "sepal_length": 5.4,
          "sepal_width": 3.9,
          "species": "setosa"
         },
         {
          "petal_length": 1.4,
          "petal_width": 0.3,
          "sepal_length": 4.6,
          "sepal_width": 3.4,
          "species": "setosa"
         },
         {
          "petal_length": 1.5,
          "petal_width": 0.2,
          "sepal_length": 5,
          "sepal_width": 3.4,
          "species": "setosa"
         },
         {
          "petal_length": 1.4,
          "petal_width": 0.2,
          "sepal_length": 4.4,
          "sepal_width": 2.9,
          "species": "setosa"
         },
         {
          "petal_length": 1.5,
          "petal_width": 0.1,
          "sepal_length": 4.9,
          "sepal_width": 3.1,
          "species": "setosa"
         },
         {
          "petal_length": 1.5,
          "petal_width": 0.2,
          "sepal_length": 5.4,
          "sepal_width": 3.7,
          "species": "setosa"
         },
         {
          "petal_length": 1.6,
          "petal_width": 0.2,
          "sepal_length": 4.8,
          "sepal_width": 3.4,
          "species": "setosa"
         },
         {
          "petal_length": 1.4,
          "petal_width": 0.1,
          "sepal_length": 4.8,
          "sepal_width": 3,
          "species": "setosa"
         },
         {
          "petal_length": 1.1,
          "petal_width": 0.1,
          "sepal_length": 4.3,
          "sepal_width": 3,
          "species": "setosa"
         },
         {
          "petal_length": 1.2,
          "petal_width": 0.2,
          "sepal_length": 5.8,
          "sepal_width": 4,
          "species": "setosa"
         },
         {
          "petal_length": 1.5,
          "petal_width": 0.4,
          "sepal_length": 5.7,
          "sepal_width": 4.4,
          "species": "setosa"
         },
         {
          "petal_length": 1.3,
          "petal_width": 0.4,
          "sepal_length": 5.4,
          "sepal_width": 3.9,
          "species": "setosa"
         },
         {
          "petal_length": 1.4,
          "petal_width": 0.3,
          "sepal_length": 5.1,
          "sepal_width": 3.5,
          "species": "setosa"
         },
         {
          "petal_length": 1.7,
          "petal_width": 0.3,
          "sepal_length": 5.7,
          "sepal_width": 3.8,
          "species": "setosa"
         },
         {
          "petal_length": 1.5,
          "petal_width": 0.3,
          "sepal_length": 5.1,
          "sepal_width": 3.8,
          "species": "setosa"
         },
         {
          "petal_length": 1.7,
          "petal_width": 0.2,
          "sepal_length": 5.4,
          "sepal_width": 3.4,
          "species": "setosa"
         },
         {
          "petal_length": 1.5,
          "petal_width": 0.4,
          "sepal_length": 5.1,
          "sepal_width": 3.7,
          "species": "setosa"
         },
         {
          "petal_length": 1,
          "petal_width": 0.2,
          "sepal_length": 4.6,
          "sepal_width": 3.6,
          "species": "setosa"
         },
         {
          "petal_length": 1.7,
          "petal_width": 0.5,
          "sepal_length": 5.1,
          "sepal_width": 3.3,
          "species": "setosa"
         },
         {
          "petal_length": 1.9,
          "petal_width": 0.2,
          "sepal_length": 4.8,
          "sepal_width": 3.4,
          "species": "setosa"
         },
         {
          "petal_length": 1.6,
          "petal_width": 0.2,
          "sepal_length": 5,
          "sepal_width": 3,
          "species": "setosa"
         },
         {
          "petal_length": 1.6,
          "petal_width": 0.4,
          "sepal_length": 5,
          "sepal_width": 3.4,
          "species": "setosa"
         },
         {
          "petal_length": 1.5,
          "petal_width": 0.2,
          "sepal_length": 5.2,
          "sepal_width": 3.5,
          "species": "setosa"
         },
         {
          "petal_length": 1.4,
          "petal_width": 0.2,
          "sepal_length": 5.2,
          "sepal_width": 3.4,
          "species": "setosa"
         },
         {
          "petal_length": 1.6,
          "petal_width": 0.2,
          "sepal_length": 4.7,
          "sepal_width": 3.2,
          "species": "setosa"
         },
         {
          "petal_length": 1.6,
          "petal_width": 0.2,
          "sepal_length": 4.8,
          "sepal_width": 3.1,
          "species": "setosa"
         },
         {
          "petal_length": 1.5,
          "petal_width": 0.4,
          "sepal_length": 5.4,
          "sepal_width": 3.4,
          "species": "setosa"
         },
         {
          "petal_length": 1.5,
          "petal_width": 0.1,
          "sepal_length": 5.2,
          "sepal_width": 4.1,
          "species": "setosa"
         },
         {
          "petal_length": 1.4,
          "petal_width": 0.2,
          "sepal_length": 5.5,
          "sepal_width": 4.2,
          "species": "setosa"
         },
         {
          "petal_length": 1.5,
          "petal_width": 0.2,
          "sepal_length": 4.9,
          "sepal_width": 3.1,
          "species": "setosa"
         },
         {
          "petal_length": 1.2,
          "petal_width": 0.2,
          "sepal_length": 5,
          "sepal_width": 3.2,
          "species": "setosa"
         },
         {
          "petal_length": 1.3,
          "petal_width": 0.2,
          "sepal_length": 5.5,
          "sepal_width": 3.5,
          "species": "setosa"
         },
         {
          "petal_length": 1.4,
          "petal_width": 0.1,
          "sepal_length": 4.9,
          "sepal_width": 3.6,
          "species": "setosa"
         },
         {
          "petal_length": 1.3,
          "petal_width": 0.2,
          "sepal_length": 4.4,
          "sepal_width": 3,
          "species": "setosa"
         },
         {
          "petal_length": 1.5,
          "petal_width": 0.2,
          "sepal_length": 5.1,
          "sepal_width": 3.4,
          "species": "setosa"
         },
         {
          "petal_length": 1.3,
          "petal_width": 0.3,
          "sepal_length": 5,
          "sepal_width": 3.5,
          "species": "setosa"
         },
         {
          "petal_length": 1.3,
          "petal_width": 0.3,
          "sepal_length": 4.5,
          "sepal_width": 2.3,
          "species": "setosa"
         },
         {
          "petal_length": 1.3,
          "petal_width": 0.2,
          "sepal_length": 4.4,
          "sepal_width": 3.2,
          "species": "setosa"
         },
         {
          "petal_length": 1.6,
          "petal_width": 0.6,
          "sepal_length": 5,
          "sepal_width": 3.5,
          "species": "setosa"
         },
         {
          "petal_length": 1.9,
          "petal_width": 0.4,
          "sepal_length": 5.1,
          "sepal_width": 3.8,
          "species": "setosa"
         },
         {
          "petal_length": 1.4,
          "petal_width": 0.3,
          "sepal_length": 4.8,
          "sepal_width": 3,
          "species": "setosa"
         },
         {
          "petal_length": 1.6,
          "petal_width": 0.2,
          "sepal_length": 5.1,
          "sepal_width": 3.8,
          "species": "setosa"
         },
         {
          "petal_length": 1.4,
          "petal_width": 0.2,
          "sepal_length": 4.6,
          "sepal_width": 3.2,
          "species": "setosa"
         },
         {
          "petal_length": 1.5,
          "petal_width": 0.2,
          "sepal_length": 5.3,
          "sepal_width": 3.7,
          "species": "setosa"
         },
         {
          "petal_length": 1.4,
          "petal_width": 0.2,
          "sepal_length": 5,
          "sepal_width": 3.3,
          "species": "setosa"
         },
         {
          "petal_length": 4.7,
          "petal_width": 1.4,
          "sepal_length": 7,
          "sepal_width": 3.2,
          "species": "versicolor"
         },
         {
          "petal_length": 4.5,
          "petal_width": 1.5,
          "sepal_length": 6.4,
          "sepal_width": 3.2,
          "species": "versicolor"
         },
         {
          "petal_length": 4.9,
          "petal_width": 1.5,
          "sepal_length": 6.9,
          "sepal_width": 3.1,
          "species": "versicolor"
         },
         {
          "petal_length": 4,
          "petal_width": 1.3,
          "sepal_length": 5.5,
          "sepal_width": 2.3,
          "species": "versicolor"
         },
         {
          "petal_length": 4.6,
          "petal_width": 1.5,
          "sepal_length": 6.5,
          "sepal_width": 2.8,
          "species": "versicolor"
         },
         {
          "petal_length": 4.5,
          "petal_width": 1.3,
          "sepal_length": 5.7,
          "sepal_width": 2.8,
          "species": "versicolor"
         },
         {
          "petal_length": 4.7,
          "petal_width": 1.6,
          "sepal_length": 6.3,
          "sepal_width": 3.3,
          "species": "versicolor"
         },
         {
          "petal_length": 3.3,
          "petal_width": 1,
          "sepal_length": 4.9,
          "sepal_width": 2.4,
          "species": "versicolor"
         },
         {
          "petal_length": 4.6,
          "petal_width": 1.3,
          "sepal_length": 6.6,
          "sepal_width": 2.9,
          "species": "versicolor"
         },
         {
          "petal_length": 3.9,
          "petal_width": 1.4,
          "sepal_length": 5.2,
          "sepal_width": 2.7,
          "species": "versicolor"
         },
         {
          "petal_length": 3.5,
          "petal_width": 1,
          "sepal_length": 5,
          "sepal_width": 2,
          "species": "versicolor"
         },
         {
          "petal_length": 4.2,
          "petal_width": 1.5,
          "sepal_length": 5.9,
          "sepal_width": 3,
          "species": "versicolor"
         },
         {
          "petal_length": 4,
          "petal_width": 1,
          "sepal_length": 6,
          "sepal_width": 2.2,
          "species": "versicolor"
         },
         {
          "petal_length": 4.7,
          "petal_width": 1.4,
          "sepal_length": 6.1,
          "sepal_width": 2.9,
          "species": "versicolor"
         },
         {
          "petal_length": 3.6,
          "petal_width": 1.3,
          "sepal_length": 5.6,
          "sepal_width": 2.9,
          "species": "versicolor"
         },
         {
          "petal_length": 4.4,
          "petal_width": 1.4,
          "sepal_length": 6.7,
          "sepal_width": 3.1,
          "species": "versicolor"
         },
         {
          "petal_length": 4.5,
          "petal_width": 1.5,
          "sepal_length": 5.6,
          "sepal_width": 3,
          "species": "versicolor"
         },
         {
          "petal_length": 4.1,
          "petal_width": 1,
          "sepal_length": 5.8,
          "sepal_width": 2.7,
          "species": "versicolor"
         },
         {
          "petal_length": 4.5,
          "petal_width": 1.5,
          "sepal_length": 6.2,
          "sepal_width": 2.2,
          "species": "versicolor"
         },
         {
          "petal_length": 3.9,
          "petal_width": 1.1,
          "sepal_length": 5.6,
          "sepal_width": 2.5,
          "species": "versicolor"
         },
         {
          "petal_length": 4.8,
          "petal_width": 1.8,
          "sepal_length": 5.9,
          "sepal_width": 3.2,
          "species": "versicolor"
         },
         {
          "petal_length": 4,
          "petal_width": 1.3,
          "sepal_length": 6.1,
          "sepal_width": 2.8,
          "species": "versicolor"
         },
         {
          "petal_length": 4.9,
          "petal_width": 1.5,
          "sepal_length": 6.3,
          "sepal_width": 2.5,
          "species": "versicolor"
         },
         {
          "petal_length": 4.7,
          "petal_width": 1.2,
          "sepal_length": 6.1,
          "sepal_width": 2.8,
          "species": "versicolor"
         },
         {
          "petal_length": 4.3,
          "petal_width": 1.3,
          "sepal_length": 6.4,
          "sepal_width": 2.9,
          "species": "versicolor"
         },
         {
          "petal_length": 4.4,
          "petal_width": 1.4,
          "sepal_length": 6.6,
          "sepal_width": 3,
          "species": "versicolor"
         },
         {
          "petal_length": 4.8,
          "petal_width": 1.4,
          "sepal_length": 6.8,
          "sepal_width": 2.8,
          "species": "versicolor"
         },
         {
          "petal_length": 5,
          "petal_width": 1.7,
          "sepal_length": 6.7,
          "sepal_width": 3,
          "species": "versicolor"
         },
         {
          "petal_length": 4.5,
          "petal_width": 1.5,
          "sepal_length": 6,
          "sepal_width": 2.9,
          "species": "versicolor"
         },
         {
          "petal_length": 3.5,
          "petal_width": 1,
          "sepal_length": 5.7,
          "sepal_width": 2.6,
          "species": "versicolor"
         },
         {
          "petal_length": 3.8,
          "petal_width": 1.1,
          "sepal_length": 5.5,
          "sepal_width": 2.4,
          "species": "versicolor"
         },
         {
          "petal_length": 3.7,
          "petal_width": 1,
          "sepal_length": 5.5,
          "sepal_width": 2.4,
          "species": "versicolor"
         },
         {
          "petal_length": 3.9,
          "petal_width": 1.2,
          "sepal_length": 5.8,
          "sepal_width": 2.7,
          "species": "versicolor"
         },
         {
          "petal_length": 5.1,
          "petal_width": 1.6,
          "sepal_length": 6,
          "sepal_width": 2.7,
          "species": "versicolor"
         },
         {
          "petal_length": 4.5,
          "petal_width": 1.5,
          "sepal_length": 5.4,
          "sepal_width": 3,
          "species": "versicolor"
         },
         {
          "petal_length": 4.5,
          "petal_width": 1.6,
          "sepal_length": 6,
          "sepal_width": 3.4,
          "species": "versicolor"
         },
         {
          "petal_length": 4.7,
          "petal_width": 1.5,
          "sepal_length": 6.7,
          "sepal_width": 3.1,
          "species": "versicolor"
         },
         {
          "petal_length": 4.4,
          "petal_width": 1.3,
          "sepal_length": 6.3,
          "sepal_width": 2.3,
          "species": "versicolor"
         },
         {
          "petal_length": 4.1,
          "petal_width": 1.3,
          "sepal_length": 5.6,
          "sepal_width": 3,
          "species": "versicolor"
         },
         {
          "petal_length": 4,
          "petal_width": 1.3,
          "sepal_length": 5.5,
          "sepal_width": 2.5,
          "species": "versicolor"
         },
         {
          "petal_length": 4.4,
          "petal_width": 1.2,
          "sepal_length": 5.5,
          "sepal_width": 2.6,
          "species": "versicolor"
         },
         {
          "petal_length": 4.6,
          "petal_width": 1.4,
          "sepal_length": 6.1,
          "sepal_width": 3,
          "species": "versicolor"
         },
         {
          "petal_length": 4,
          "petal_width": 1.2,
          "sepal_length": 5.8,
          "sepal_width": 2.6,
          "species": "versicolor"
         },
         {
          "petal_length": 3.3,
          "petal_width": 1,
          "sepal_length": 5,
          "sepal_width": 2.3,
          "species": "versicolor"
         },
         {
          "petal_length": 4.2,
          "petal_width": 1.3,
          "sepal_length": 5.6,
          "sepal_width": 2.7,
          "species": "versicolor"
         },
         {
          "petal_length": 4.2,
          "petal_width": 1.2,
          "sepal_length": 5.7,
          "sepal_width": 3,
          "species": "versicolor"
         },
         {
          "petal_length": 4.2,
          "petal_width": 1.3,
          "sepal_length": 5.7,
          "sepal_width": 2.9,
          "species": "versicolor"
         },
         {
          "petal_length": 4.3,
          "petal_width": 1.3,
          "sepal_length": 6.2,
          "sepal_width": 2.9,
          "species": "versicolor"
         },
         {
          "petal_length": 3,
          "petal_width": 1.1,
          "sepal_length": 5.1,
          "sepal_width": 2.5,
          "species": "versicolor"
         },
         {
          "petal_length": 4.1,
          "petal_width": 1.3,
          "sepal_length": 5.7,
          "sepal_width": 2.8,
          "species": "versicolor"
         },
         {
          "petal_length": 6,
          "petal_width": 2.5,
          "sepal_length": 6.3,
          "sepal_width": 3.3,
          "species": "virginica"
         },
         {
          "petal_length": 5.1,
          "petal_width": 1.9,
          "sepal_length": 5.8,
          "sepal_width": 2.7,
          "species": "virginica"
         },
         {
          "petal_length": 5.9,
          "petal_width": 2.1,
          "sepal_length": 7.1,
          "sepal_width": 3,
          "species": "virginica"
         },
         {
          "petal_length": 5.6,
          "petal_width": 1.8,
          "sepal_length": 6.3,
          "sepal_width": 2.9,
          "species": "virginica"
         },
         {
          "petal_length": 5.8,
          "petal_width": 2.2,
          "sepal_length": 6.5,
          "sepal_width": 3,
          "species": "virginica"
         },
         {
          "petal_length": 6.6,
          "petal_width": 2.1,
          "sepal_length": 7.6,
          "sepal_width": 3,
          "species": "virginica"
         },
         {
          "petal_length": 4.5,
          "petal_width": 1.7,
          "sepal_length": 4.9,
          "sepal_width": 2.5,
          "species": "virginica"
         },
         {
          "petal_length": 6.3,
          "petal_width": 1.8,
          "sepal_length": 7.3,
          "sepal_width": 2.9,
          "species": "virginica"
         },
         {
          "petal_length": 5.8,
          "petal_width": 1.8,
          "sepal_length": 6.7,
          "sepal_width": 2.5,
          "species": "virginica"
         },
         {
          "petal_length": 6.1,
          "petal_width": 2.5,
          "sepal_length": 7.2,
          "sepal_width": 3.6,
          "species": "virginica"
         },
         {
          "petal_length": 5.1,
          "petal_width": 2,
          "sepal_length": 6.5,
          "sepal_width": 3.2,
          "species": "virginica"
         },
         {
          "petal_length": 5.3,
          "petal_width": 1.9,
          "sepal_length": 6.4,
          "sepal_width": 2.7,
          "species": "virginica"
         },
         {
          "petal_length": 5.5,
          "petal_width": 2.1,
          "sepal_length": 6.8,
          "sepal_width": 3,
          "species": "virginica"
         },
         {
          "petal_length": 5,
          "petal_width": 2,
          "sepal_length": 5.7,
          "sepal_width": 2.5,
          "species": "virginica"
         },
         {
          "petal_length": 5.1,
          "petal_width": 2.4,
          "sepal_length": 5.8,
          "sepal_width": 2.8,
          "species": "virginica"
         },
         {
          "petal_length": 5.3,
          "petal_width": 2.3,
          "sepal_length": 6.4,
          "sepal_width": 3.2,
          "species": "virginica"
         },
         {
          "petal_length": 5.5,
          "petal_width": 1.8,
          "sepal_length": 6.5,
          "sepal_width": 3,
          "species": "virginica"
         },
         {
          "petal_length": 6.7,
          "petal_width": 2.2,
          "sepal_length": 7.7,
          "sepal_width": 3.8,
          "species": "virginica"
         },
         {
          "petal_length": 6.9,
          "petal_width": 2.3,
          "sepal_length": 7.7,
          "sepal_width": 2.6,
          "species": "virginica"
         },
         {
          "petal_length": 5,
          "petal_width": 1.5,
          "sepal_length": 6,
          "sepal_width": 2.2,
          "species": "virginica"
         },
         {
          "petal_length": 5.7,
          "petal_width": 2.3,
          "sepal_length": 6.9,
          "sepal_width": 3.2,
          "species": "virginica"
         },
         {
          "petal_length": 4.9,
          "petal_width": 2,
          "sepal_length": 5.6,
          "sepal_width": 2.8,
          "species": "virginica"
         },
         {
          "petal_length": 6.7,
          "petal_width": 2,
          "sepal_length": 7.7,
          "sepal_width": 2.8,
          "species": "virginica"
         },
         {
          "petal_length": 4.9,
          "petal_width": 1.8,
          "sepal_length": 6.3,
          "sepal_width": 2.7,
          "species": "virginica"
         },
         {
          "petal_length": 5.7,
          "petal_width": 2.1,
          "sepal_length": 6.7,
          "sepal_width": 3.3,
          "species": "virginica"
         },
         {
          "petal_length": 6,
          "petal_width": 1.8,
          "sepal_length": 7.2,
          "sepal_width": 3.2,
          "species": "virginica"
         },
         {
          "petal_length": 4.8,
          "petal_width": 1.8,
          "sepal_length": 6.2,
          "sepal_width": 2.8,
          "species": "virginica"
         },
         {
          "petal_length": 4.9,
          "petal_width": 1.8,
          "sepal_length": 6.1,
          "sepal_width": 3,
          "species": "virginica"
         },
         {
          "petal_length": 5.6,
          "petal_width": 2.1,
          "sepal_length": 6.4,
          "sepal_width": 2.8,
          "species": "virginica"
         },
         {
          "petal_length": 5.8,
          "petal_width": 1.6,
          "sepal_length": 7.2,
          "sepal_width": 3,
          "species": "virginica"
         },
         {
          "petal_length": 6.1,
          "petal_width": 1.9,
          "sepal_length": 7.4,
          "sepal_width": 2.8,
          "species": "virginica"
         },
         {
          "petal_length": 6.4,
          "petal_width": 2,
          "sepal_length": 7.9,
          "sepal_width": 3.8,
          "species": "virginica"
         },
         {
          "petal_length": 5.6,
          "petal_width": 2.2,
          "sepal_length": 6.4,
          "sepal_width": 2.8,
          "species": "virginica"
         },
         {
          "petal_length": 5.1,
          "petal_width": 1.5,
          "sepal_length": 6.3,
          "sepal_width": 2.8,
          "species": "virginica"
         },
         {
          "petal_length": 5.6,
          "petal_width": 1.4,
          "sepal_length": 6.1,
          "sepal_width": 2.6,
          "species": "virginica"
         },
         {
          "petal_length": 6.1,
          "petal_width": 2.3,
          "sepal_length": 7.7,
          "sepal_width": 3,
          "species": "virginica"
         },
         {
          "petal_length": 5.6,
          "petal_width": 2.4,
          "sepal_length": 6.3,
          "sepal_width": 3.4,
          "species": "virginica"
         },
         {
          "petal_length": 5.5,
          "petal_width": 1.8,
          "sepal_length": 6.4,
          "sepal_width": 3.1,
          "species": "virginica"
         },
         {
          "petal_length": 4.8,
          "petal_width": 1.8,
          "sepal_length": 6,
          "sepal_width": 3,
          "species": "virginica"
         },
         {
          "petal_length": 5.4,
          "petal_width": 2.1,
          "sepal_length": 6.9,
          "sepal_width": 3.1,
          "species": "virginica"
         },
         {
          "petal_length": 5.6,
          "petal_width": 2.4,
          "sepal_length": 6.7,
          "sepal_width": 3.1,
          "species": "virginica"
         },
         {
          "petal_length": 5.1,
          "petal_width": 2.3,
          "sepal_length": 6.9,
          "sepal_width": 3.1,
          "species": "virginica"
         },
         {
          "petal_length": 5.1,
          "petal_width": 1.9,
          "sepal_length": 5.8,
          "sepal_width": 2.7,
          "species": "virginica"
         },
         {
          "petal_length": 5.9,
          "petal_width": 2.3,
          "sepal_length": 6.8,
          "sepal_width": 3.2,
          "species": "virginica"
         },
         {
          "petal_length": 5.7,
          "petal_width": 2.5,
          "sepal_length": 6.7,
          "sepal_width": 3.3,
          "species": "virginica"
         },
         {
          "petal_length": 5.2,
          "petal_width": 2.3,
          "sepal_length": 6.7,
          "sepal_width": 3,
          "species": "virginica"
         },
         {
          "petal_length": 5,
          "petal_width": 1.9,
          "sepal_length": 6.3,
          "sepal_width": 2.5,
          "species": "virginica"
         },
         {
          "petal_length": 5.2,
          "petal_width": 2,
          "sepal_length": 6.5,
          "sepal_width": 3,
          "species": "virginica"
         },
         {
          "petal_length": 5.4,
          "petal_width": 2.3,
          "sepal_length": 6.2,
          "sepal_width": 3.4,
          "species": "virginica"
         },
         {
          "petal_length": 5.1,
          "petal_width": 1.8,
          "sepal_length": 5.9,
          "sepal_width": 3,
          "species": "virginica"
         }
        ]
       },
       "encoding": {
        "color": {
         "field": "species",
         "type": "nominal"
        },
        "x": {
         "field": "petal_length",
         "type": "quantitative"
        },
        "y": {
         "field": "petal_width",
         "type": "quantitative"
        }
       },
       "mark": "circle",
       "title": "Altair"
      },
      "image/png": "[encoded data removed]",
      "text/plain": [
       "<VegaLite 3 object>\n",
       "\n",
       "If you see this message, it means the renderer has not been properly enabled\n",
       "for the frontend that you are using. For more information, see\n",
       "https://altair-viz.github.io/user_guide/troubleshooting.html\n"
      ]
     },
     "execution_count": 80,
     "metadata": {},
     "output_type": "execute_result"
    }
   ],
   "source": [
    "import altair as alt\n",
    "alt.Chart(df, title='Altair').mark_circle().encode(\n",
    "    alt.X('petal_length'),\n",
    "    alt.Y('petal_width'),\n",
    "    color='species'\n",
    ")"
   ]
  },
  {
   "cell_type": "code",
   "execution_count": 125,
   "metadata": {},
   "outputs": [
    {
     "data": {
      "application/vnd.vegalite.v3+json": {
       "$schema": "https://vega.github.io/schema/vega-lite/v3.4.0.json",
       "config": {
        "mark": {
         "tooltip": null
        },
        "view": {
         "height": 300,
         "width": 400
        }
       },
       "data": {
        "name": "data-a4bd480ea976f54878a155ce12ba18ce"
       },
       "datasets": {
        "data-a4bd480ea976f54878a155ce12ba18ce": [
         {
          "petal_length": 1.4,
          "petal_width": 0.2,
          "sepal_length": 5.1,
          "sepal_width": 3.5,
          "species": "setosa"
         },
         {
          "petal_length": 1.4,
          "petal_width": 0.2,
          "sepal_length": 4.9,
          "sepal_width": 3,
          "species": "setosa"
         },
         {
          "petal_length": 1.3,
          "petal_width": 0.2,
          "sepal_length": 4.7,
          "sepal_width": 3.2,
          "species": "setosa"
         },
         {
          "petal_length": 1.5,
          "petal_width": 0.2,
          "sepal_length": 4.6,
          "sepal_width": 3.1,
          "species": "setosa"
         },
         {
          "petal_length": 1.4,
          "petal_width": 0.2,
          "sepal_length": 5,
          "sepal_width": 3.6,
          "species": "setosa"
         },
         {
          "petal_length": 1.7,
          "petal_width": 0.4,
          "sepal_length": 5.4,
          "sepal_width": 3.9,
          "species": "setosa"
         },
         {
          "petal_length": 1.4,
          "petal_width": 0.3,
          "sepal_length": 4.6,
          "sepal_width": 3.4,
          "species": "setosa"
         },
         {
          "petal_length": 1.5,
          "petal_width": 0.2,
          "sepal_length": 5,
          "sepal_width": 3.4,
          "species": "setosa"
         },
         {
          "petal_length": 1.4,
          "petal_width": 0.2,
          "sepal_length": 4.4,
          "sepal_width": 2.9,
          "species": "setosa"
         },
         {
          "petal_length": 1.5,
          "petal_width": 0.1,
          "sepal_length": 4.9,
          "sepal_width": 3.1,
          "species": "setosa"
         },
         {
          "petal_length": 1.5,
          "petal_width": 0.2,
          "sepal_length": 5.4,
          "sepal_width": 3.7,
          "species": "setosa"
         },
         {
          "petal_length": 1.6,
          "petal_width": 0.2,
          "sepal_length": 4.8,
          "sepal_width": 3.4,
          "species": "setosa"
         },
         {
          "petal_length": 1.4,
          "petal_width": 0.1,
          "sepal_length": 4.8,
          "sepal_width": 3,
          "species": "setosa"
         },
         {
          "petal_length": 1.1,
          "petal_width": 0.1,
          "sepal_length": 4.3,
          "sepal_width": 3,
          "species": "setosa"
         },
         {
          "petal_length": 1.2,
          "petal_width": 0.2,
          "sepal_length": 5.8,
          "sepal_width": 4,
          "species": "setosa"
         },
         {
          "petal_length": 1.5,
          "petal_width": 0.4,
          "sepal_length": 5.7,
          "sepal_width": 4.4,
          "species": "setosa"
         },
         {
          "petal_length": 1.3,
          "petal_width": 0.4,
          "sepal_length": 5.4,
          "sepal_width": 3.9,
          "species": "setosa"
         },
         {
          "petal_length": 1.4,
          "petal_width": 0.3,
          "sepal_length": 5.1,
          "sepal_width": 3.5,
          "species": "setosa"
         },
         {
          "petal_length": 1.7,
          "petal_width": 0.3,
          "sepal_length": 5.7,
          "sepal_width": 3.8,
          "species": "setosa"
         },
         {
          "petal_length": 1.5,
          "petal_width": 0.3,
          "sepal_length": 5.1,
          "sepal_width": 3.8,
          "species": "setosa"
         },
         {
          "petal_length": 1.7,
          "petal_width": 0.2,
          "sepal_length": 5.4,
          "sepal_width": 3.4,
          "species": "setosa"
         },
         {
          "petal_length": 1.5,
          "petal_width": 0.4,
          "sepal_length": 5.1,
          "sepal_width": 3.7,
          "species": "setosa"
         },
         {
          "petal_length": 1,
          "petal_width": 0.2,
          "sepal_length": 4.6,
          "sepal_width": 3.6,
          "species": "setosa"
         },
         {
          "petal_length": 1.7,
          "petal_width": 0.5,
          "sepal_length": 5.1,
          "sepal_width": 3.3,
          "species": "setosa"
         },
         {
          "petal_length": 1.9,
          "petal_width": 0.2,
          "sepal_length": 4.8,
          "sepal_width": 3.4,
          "species": "setosa"
         },
         {
          "petal_length": 1.6,
          "petal_width": 0.2,
          "sepal_length": 5,
          "sepal_width": 3,
          "species": "setosa"
         },
         {
          "petal_length": 1.6,
          "petal_width": 0.4,
          "sepal_length": 5,
          "sepal_width": 3.4,
          "species": "setosa"
         },
         {
          "petal_length": 1.5,
          "petal_width": 0.2,
          "sepal_length": 5.2,
          "sepal_width": 3.5,
          "species": "setosa"
         },
         {
          "petal_length": 1.4,
          "petal_width": 0.2,
          "sepal_length": 5.2,
          "sepal_width": 3.4,
          "species": "setosa"
         },
         {
          "petal_length": 1.6,
          "petal_width": 0.2,
          "sepal_length": 4.7,
          "sepal_width": 3.2,
          "species": "setosa"
         },
         {
          "petal_length": 1.6,
          "petal_width": 0.2,
          "sepal_length": 4.8,
          "sepal_width": 3.1,
          "species": "setosa"
         },
         {
          "petal_length": 1.5,
          "petal_width": 0.4,
          "sepal_length": 5.4,
          "sepal_width": 3.4,
          "species": "setosa"
         },
         {
          "petal_length": 1.5,
          "petal_width": 0.1,
          "sepal_length": 5.2,
          "sepal_width": 4.1,
          "species": "setosa"
         },
         {
          "petal_length": 1.4,
          "petal_width": 0.2,
          "sepal_length": 5.5,
          "sepal_width": 4.2,
          "species": "setosa"
         },
         {
          "petal_length": 1.5,
          "petal_width": 0.2,
          "sepal_length": 4.9,
          "sepal_width": 3.1,
          "species": "setosa"
         },
         {
          "petal_length": 1.2,
          "petal_width": 0.2,
          "sepal_length": 5,
          "sepal_width": 3.2,
          "species": "setosa"
         },
         {
          "petal_length": 1.3,
          "petal_width": 0.2,
          "sepal_length": 5.5,
          "sepal_width": 3.5,
          "species": "setosa"
         },
         {
          "petal_length": 1.4,
          "petal_width": 0.1,
          "sepal_length": 4.9,
          "sepal_width": 3.6,
          "species": "setosa"
         },
         {
          "petal_length": 1.3,
          "petal_width": 0.2,
          "sepal_length": 4.4,
          "sepal_width": 3,
          "species": "setosa"
         },
         {
          "petal_length": 1.5,
          "petal_width": 0.2,
          "sepal_length": 5.1,
          "sepal_width": 3.4,
          "species": "setosa"
         },
         {
          "petal_length": 1.3,
          "petal_width": 0.3,
          "sepal_length": 5,
          "sepal_width": 3.5,
          "species": "setosa"
         },
         {
          "petal_length": 1.3,
          "petal_width": 0.3,
          "sepal_length": 4.5,
          "sepal_width": 2.3,
          "species": "setosa"
         },
         {
          "petal_length": 1.3,
          "petal_width": 0.2,
          "sepal_length": 4.4,
          "sepal_width": 3.2,
          "species": "setosa"
         },
         {
          "petal_length": 1.6,
          "petal_width": 0.6,
          "sepal_length": 5,
          "sepal_width": 3.5,
          "species": "setosa"
         },
         {
          "petal_length": 1.9,
          "petal_width": 0.4,
          "sepal_length": 5.1,
          "sepal_width": 3.8,
          "species": "setosa"
         },
         {
          "petal_length": 1.4,
          "petal_width": 0.3,
          "sepal_length": 4.8,
          "sepal_width": 3,
          "species": "setosa"
         },
         {
          "petal_length": 1.6,
          "petal_width": 0.2,
          "sepal_length": 5.1,
          "sepal_width": 3.8,
          "species": "setosa"
         },
         {
          "petal_length": 1.4,
          "petal_width": 0.2,
          "sepal_length": 4.6,
          "sepal_width": 3.2,
          "species": "setosa"
         },
         {
          "petal_length": 1.5,
          "petal_width": 0.2,
          "sepal_length": 5.3,
          "sepal_width": 3.7,
          "species": "setosa"
         },
         {
          "petal_length": 1.4,
          "petal_width": 0.2,
          "sepal_length": 5,
          "sepal_width": 3.3,
          "species": "setosa"
         },
         {
          "petal_length": 4.7,
          "petal_width": 1.4,
          "sepal_length": 7,
          "sepal_width": 3.2,
          "species": "versicolor"
         },
         {
          "petal_length": 4.5,
          "petal_width": 1.5,
          "sepal_length": 6.4,
          "sepal_width": 3.2,
          "species": "versicolor"
         },
         {
          "petal_length": 4.9,
          "petal_width": 1.5,
          "sepal_length": 6.9,
          "sepal_width": 3.1,
          "species": "versicolor"
         },
         {
          "petal_length": 4,
          "petal_width": 1.3,
          "sepal_length": 5.5,
          "sepal_width": 2.3,
          "species": "versicolor"
         },
         {
          "petal_length": 4.6,
          "petal_width": 1.5,
          "sepal_length": 6.5,
          "sepal_width": 2.8,
          "species": "versicolor"
         },
         {
          "petal_length": 4.5,
          "petal_width": 1.3,
          "sepal_length": 5.7,
          "sepal_width": 2.8,
          "species": "versicolor"
         },
         {
          "petal_length": 4.7,
          "petal_width": 1.6,
          "sepal_length": 6.3,
          "sepal_width": 3.3,
          "species": "versicolor"
         },
         {
          "petal_length": 3.3,
          "petal_width": 1,
          "sepal_length": 4.9,
          "sepal_width": 2.4,
          "species": "versicolor"
         },
         {
          "petal_length": 4.6,
          "petal_width": 1.3,
          "sepal_length": 6.6,
          "sepal_width": 2.9,
          "species": "versicolor"
         },
         {
          "petal_length": 3.9,
          "petal_width": 1.4,
          "sepal_length": 5.2,
          "sepal_width": 2.7,
          "species": "versicolor"
         },
         {
          "petal_length": 3.5,
          "petal_width": 1,
          "sepal_length": 5,
          "sepal_width": 2,
          "species": "versicolor"
         },
         {
          "petal_length": 4.2,
          "petal_width": 1.5,
          "sepal_length": 5.9,
          "sepal_width": 3,
          "species": "versicolor"
         },
         {
          "petal_length": 4,
          "petal_width": 1,
          "sepal_length": 6,
          "sepal_width": 2.2,
          "species": "versicolor"
         },
         {
          "petal_length": 4.7,
          "petal_width": 1.4,
          "sepal_length": 6.1,
          "sepal_width": 2.9,
          "species": "versicolor"
         },
         {
          "petal_length": 3.6,
          "petal_width": 1.3,
          "sepal_length": 5.6,
          "sepal_width": 2.9,
          "species": "versicolor"
         },
         {
          "petal_length": 4.4,
          "petal_width": 1.4,
          "sepal_length": 6.7,
          "sepal_width": 3.1,
          "species": "versicolor"
         },
         {
          "petal_length": 4.5,
          "petal_width": 1.5,
          "sepal_length": 5.6,
          "sepal_width": 3,
          "species": "versicolor"
         },
         {
          "petal_length": 4.1,
          "petal_width": 1,
          "sepal_length": 5.8,
          "sepal_width": 2.7,
          "species": "versicolor"
         },
         {
          "petal_length": 4.5,
          "petal_width": 1.5,
          "sepal_length": 6.2,
          "sepal_width": 2.2,
          "species": "versicolor"
         },
         {
          "petal_length": 3.9,
          "petal_width": 1.1,
          "sepal_length": 5.6,
          "sepal_width": 2.5,
          "species": "versicolor"
         },
         {
          "petal_length": 4.8,
          "petal_width": 1.8,
          "sepal_length": 5.9,
          "sepal_width": 3.2,
          "species": "versicolor"
         },
         {
          "petal_length": 4,
          "petal_width": 1.3,
          "sepal_length": 6.1,
          "sepal_width": 2.8,
          "species": "versicolor"
         },
         {
          "petal_length": 4.9,
          "petal_width": 1.5,
          "sepal_length": 6.3,
          "sepal_width": 2.5,
          "species": "versicolor"
         },
         {
          "petal_length": 4.7,
          "petal_width": 1.2,
          "sepal_length": 6.1,
          "sepal_width": 2.8,
          "species": "versicolor"
         },
         {
          "petal_length": 4.3,
          "petal_width": 1.3,
          "sepal_length": 6.4,
          "sepal_width": 2.9,
          "species": "versicolor"
         },
         {
          "petal_length": 4.4,
          "petal_width": 1.4,
          "sepal_length": 6.6,
          "sepal_width": 3,
          "species": "versicolor"
         },
         {
          "petal_length": 4.8,
          "petal_width": 1.4,
          "sepal_length": 6.8,
          "sepal_width": 2.8,
          "species": "versicolor"
         },
         {
          "petal_length": 5,
          "petal_width": 1.7,
          "sepal_length": 6.7,
          "sepal_width": 3,
          "species": "versicolor"
         },
         {
          "petal_length": 4.5,
          "petal_width": 1.5,
          "sepal_length": 6,
          "sepal_width": 2.9,
          "species": "versicolor"
         },
         {
          "petal_length": 3.5,
          "petal_width": 1,
          "sepal_length": 5.7,
          "sepal_width": 2.6,
          "species": "versicolor"
         },
         {
          "petal_length": 3.8,
          "petal_width": 1.1,
          "sepal_length": 5.5,
          "sepal_width": 2.4,
          "species": "versicolor"
         },
         {
          "petal_length": 3.7,
          "petal_width": 1,
          "sepal_length": 5.5,
          "sepal_width": 2.4,
          "species": "versicolor"
         },
         {
          "petal_length": 3.9,
          "petal_width": 1.2,
          "sepal_length": 5.8,
          "sepal_width": 2.7,
          "species": "versicolor"
         },
         {
          "petal_length": 5.1,
          "petal_width": 1.6,
          "sepal_length": 6,
          "sepal_width": 2.7,
          "species": "versicolor"
         },
         {
          "petal_length": 4.5,
          "petal_width": 1.5,
          "sepal_length": 5.4,
          "sepal_width": 3,
          "species": "versicolor"
         },
         {
          "petal_length": 4.5,
          "petal_width": 1.6,
          "sepal_length": 6,
          "sepal_width": 3.4,
          "species": "versicolor"
         },
         {
          "petal_length": 4.7,
          "petal_width": 1.5,
          "sepal_length": 6.7,
          "sepal_width": 3.1,
          "species": "versicolor"
         },
         {
          "petal_length": 4.4,
          "petal_width": 1.3,
          "sepal_length": 6.3,
          "sepal_width": 2.3,
          "species": "versicolor"
         },
         {
          "petal_length": 4.1,
          "petal_width": 1.3,
          "sepal_length": 5.6,
          "sepal_width": 3,
          "species": "versicolor"
         },
         {
          "petal_length": 4,
          "petal_width": 1.3,
          "sepal_length": 5.5,
          "sepal_width": 2.5,
          "species": "versicolor"
         },
         {
          "petal_length": 4.4,
          "petal_width": 1.2,
          "sepal_length": 5.5,
          "sepal_width": 2.6,
          "species": "versicolor"
         },
         {
          "petal_length": 4.6,
          "petal_width": 1.4,
          "sepal_length": 6.1,
          "sepal_width": 3,
          "species": "versicolor"
         },
         {
          "petal_length": 4,
          "petal_width": 1.2,
          "sepal_length": 5.8,
          "sepal_width": 2.6,
          "species": "versicolor"
         },
         {
          "petal_length": 3.3,
          "petal_width": 1,
          "sepal_length": 5,
          "sepal_width": 2.3,
          "species": "versicolor"
         },
         {
          "petal_length": 4.2,
          "petal_width": 1.3,
          "sepal_length": 5.6,
          "sepal_width": 2.7,
          "species": "versicolor"
         },
         {
          "petal_length": 4.2,
          "petal_width": 1.2,
          "sepal_length": 5.7,
          "sepal_width": 3,
          "species": "versicolor"
         },
         {
          "petal_length": 4.2,
          "petal_width": 1.3,
          "sepal_length": 5.7,
          "sepal_width": 2.9,
          "species": "versicolor"
         },
         {
          "petal_length": 4.3,
          "petal_width": 1.3,
          "sepal_length": 6.2,
          "sepal_width": 2.9,
          "species": "versicolor"
         },
         {
          "petal_length": 3,
          "petal_width": 1.1,
          "sepal_length": 5.1,
          "sepal_width": 2.5,
          "species": "versicolor"
         },
         {
          "petal_length": 4.1,
          "petal_width": 1.3,
          "sepal_length": 5.7,
          "sepal_width": 2.8,
          "species": "versicolor"
         },
         {
          "petal_length": 6,
          "petal_width": 2.5,
          "sepal_length": 6.3,
          "sepal_width": 3.3,
          "species": "virginica"
         },
         {
          "petal_length": 5.1,
          "petal_width": 1.9,
          "sepal_length": 5.8,
          "sepal_width": 2.7,
          "species": "virginica"
         },
         {
          "petal_length": 5.9,
          "petal_width": 2.1,
          "sepal_length": 7.1,
          "sepal_width": 3,
          "species": "virginica"
         },
         {
          "petal_length": 5.6,
          "petal_width": 1.8,
          "sepal_length": 6.3,
          "sepal_width": 2.9,
          "species": "virginica"
         },
         {
          "petal_length": 5.8,
          "petal_width": 2.2,
          "sepal_length": 6.5,
          "sepal_width": 3,
          "species": "virginica"
         },
         {
          "petal_length": 6.6,
          "petal_width": 2.1,
          "sepal_length": 7.6,
          "sepal_width": 3,
          "species": "virginica"
         },
         {
          "petal_length": 4.5,
          "petal_width": 1.7,
          "sepal_length": 4.9,
          "sepal_width": 2.5,
          "species": "virginica"
         },
         {
          "petal_length": 6.3,
          "petal_width": 1.8,
          "sepal_length": 7.3,
          "sepal_width": 2.9,
          "species": "virginica"
         },
         {
          "petal_length": 5.8,
          "petal_width": 1.8,
          "sepal_length": 6.7,
          "sepal_width": 2.5,
          "species": "virginica"
         },
         {
          "petal_length": 6.1,
          "petal_width": 2.5,
          "sepal_length": 7.2,
          "sepal_width": 3.6,
          "species": "virginica"
         },
         {
          "petal_length": 5.1,
          "petal_width": 2,
          "sepal_length": 6.5,
          "sepal_width": 3.2,
          "species": "virginica"
         },
         {
          "petal_length": 5.3,
          "petal_width": 1.9,
          "sepal_length": 6.4,
          "sepal_width": 2.7,
          "species": "virginica"
         },
         {
          "petal_length": 5.5,
          "petal_width": 2.1,
          "sepal_length": 6.8,
          "sepal_width": 3,
          "species": "virginica"
         },
         {
          "petal_length": 5,
          "petal_width": 2,
          "sepal_length": 5.7,
          "sepal_width": 2.5,
          "species": "virginica"
         },
         {
          "petal_length": 5.1,
          "petal_width": 2.4,
          "sepal_length": 5.8,
          "sepal_width": 2.8,
          "species": "virginica"
         },
         {
          "petal_length": 5.3,
          "petal_width": 2.3,
          "sepal_length": 6.4,
          "sepal_width": 3.2,
          "species": "virginica"
         },
         {
          "petal_length": 5.5,
          "petal_width": 1.8,
          "sepal_length": 6.5,
          "sepal_width": 3,
          "species": "virginica"
         },
         {
          "petal_length": 6.7,
          "petal_width": 2.2,
          "sepal_length": 7.7,
          "sepal_width": 3.8,
          "species": "virginica"
         },
         {
          "petal_length": 6.9,
          "petal_width": 2.3,
          "sepal_length": 7.7,
          "sepal_width": 2.6,
          "species": "virginica"
         },
         {
          "petal_length": 5,
          "petal_width": 1.5,
          "sepal_length": 6,
          "sepal_width": 2.2,
          "species": "virginica"
         },
         {
          "petal_length": 5.7,
          "petal_width": 2.3,
          "sepal_length": 6.9,
          "sepal_width": 3.2,
          "species": "virginica"
         },
         {
          "petal_length": 4.9,
          "petal_width": 2,
          "sepal_length": 5.6,
          "sepal_width": 2.8,
          "species": "virginica"
         },
         {
          "petal_length": 6.7,
          "petal_width": 2,
          "sepal_length": 7.7,
          "sepal_width": 2.8,
          "species": "virginica"
         },
         {
          "petal_length": 4.9,
          "petal_width": 1.8,
          "sepal_length": 6.3,
          "sepal_width": 2.7,
          "species": "virginica"
         },
         {
          "petal_length": 5.7,
          "petal_width": 2.1,
          "sepal_length": 6.7,
          "sepal_width": 3.3,
          "species": "virginica"
         },
         {
          "petal_length": 6,
          "petal_width": 1.8,
          "sepal_length": 7.2,
          "sepal_width": 3.2,
          "species": "virginica"
         },
         {
          "petal_length": 4.8,
          "petal_width": 1.8,
          "sepal_length": 6.2,
          "sepal_width": 2.8,
          "species": "virginica"
         },
         {
          "petal_length": 4.9,
          "petal_width": 1.8,
          "sepal_length": 6.1,
          "sepal_width": 3,
          "species": "virginica"
         },
         {
          "petal_length": 5.6,
          "petal_width": 2.1,
          "sepal_length": 6.4,
          "sepal_width": 2.8,
          "species": "virginica"
         },
         {
          "petal_length": 5.8,
          "petal_width": 1.6,
          "sepal_length": 7.2,
          "sepal_width": 3,
          "species": "virginica"
         },
         {
          "petal_length": 6.1,
          "petal_width": 1.9,
          "sepal_length": 7.4,
          "sepal_width": 2.8,
          "species": "virginica"
         },
         {
          "petal_length": 6.4,
          "petal_width": 2,
          "sepal_length": 7.9,
          "sepal_width": 3.8,
          "species": "virginica"
         },
         {
          "petal_length": 5.6,
          "petal_width": 2.2,
          "sepal_length": 6.4,
          "sepal_width": 2.8,
          "species": "virginica"
         },
         {
          "petal_length": 5.1,
          "petal_width": 1.5,
          "sepal_length": 6.3,
          "sepal_width": 2.8,
          "species": "virginica"
         },
         {
          "petal_length": 5.6,
          "petal_width": 1.4,
          "sepal_length": 6.1,
          "sepal_width": 2.6,
          "species": "virginica"
         },
         {
          "petal_length": 6.1,
          "petal_width": 2.3,
          "sepal_length": 7.7,
          "sepal_width": 3,
          "species": "virginica"
         },
         {
          "petal_length": 5.6,
          "petal_width": 2.4,
          "sepal_length": 6.3,
          "sepal_width": 3.4,
          "species": "virginica"
         },
         {
          "petal_length": 5.5,
          "petal_width": 1.8,
          "sepal_length": 6.4,
          "sepal_width": 3.1,
          "species": "virginica"
         },
         {
          "petal_length": 4.8,
          "petal_width": 1.8,
          "sepal_length": 6,
          "sepal_width": 3,
          "species": "virginica"
         },
         {
          "petal_length": 5.4,
          "petal_width": 2.1,
          "sepal_length": 6.9,
          "sepal_width": 3.1,
          "species": "virginica"
         },
         {
          "petal_length": 5.6,
          "petal_width": 2.4,
          "sepal_length": 6.7,
          "sepal_width": 3.1,
          "species": "virginica"
         },
         {
          "petal_length": 5.1,
          "petal_width": 2.3,
          "sepal_length": 6.9,
          "sepal_width": 3.1,
          "species": "virginica"
         },
         {
          "petal_length": 5.1,
          "petal_width": 1.9,
          "sepal_length": 5.8,
          "sepal_width": 2.7,
          "species": "virginica"
         },
         {
          "petal_length": 5.9,
          "petal_width": 2.3,
          "sepal_length": 6.8,
          "sepal_width": 3.2,
          "species": "virginica"
         },
         {
          "petal_length": 5.7,
          "petal_width": 2.5,
          "sepal_length": 6.7,
          "sepal_width": 3.3,
          "species": "virginica"
         },
         {
          "petal_length": 5.2,
          "petal_width": 2.3,
          "sepal_length": 6.7,
          "sepal_width": 3,
          "species": "virginica"
         },
         {
          "petal_length": 5,
          "petal_width": 1.9,
          "sepal_length": 6.3,
          "sepal_width": 2.5,
          "species": "virginica"
         },
         {
          "petal_length": 5.2,
          "petal_width": 2,
          "sepal_length": 6.5,
          "sepal_width": 3,
          "species": "virginica"
         },
         {
          "petal_length": 5.4,
          "petal_width": 2.3,
          "sepal_length": 6.2,
          "sepal_width": 3.4,
          "species": "virginica"
         },
         {
          "petal_length": 5.1,
          "petal_width": 1.8,
          "sepal_length": 5.9,
          "sepal_width": 3,
          "species": "virginica"
         }
        ]
       },
       "facet": {
        "column": {
         "field": "species",
         "type": "nominal"
        }
       },
       "spec": {
        "encoding": {
         "x": {
          "field": "petal_length",
          "type": "quantitative"
         },
         "y": {
          "field": "petal_width",
          "type": "quantitative"
         }
        },
        "height": 180,
        "mark": "point",
        "width": 180
       }
      },
      "image/png": "[encoded data removed]",
      "text/plain": [
       "<VegaLite 3 object>\n",
       "\n",
       "If you see this message, it means the renderer has not been properly enabled\n",
       "for the frontend that you are using. For more information, see\n",
       "https://altair-viz.github.io/user_guide/troubleshooting.html\n"
      ]
     },
     "execution_count": 125,
     "metadata": {},
     "output_type": "execute_result"
    }
   ],
   "source": [
    "alt.Chart(df, title='Altair').mark_circle().encode(\n",
    "    alt.X('petal_length'),\n",
    "    alt.Y('petal_width'),\n",
    "    color='species'\n",
    ")\n",
    "\n",
    "alt.Chart(df).mark_point().encode(\n",
    "    x='petal_length',\n",
    "    y='petal_width'\n",
    ").properties(\n",
    "    width=180,\n",
    "    height=180\n",
    ").facet(\n",
    "    column='species'\n",
    ")"
   ]
  },
  {
   "cell_type": "markdown",
   "metadata": {},
   "source": [
    "## Encoding more information...\n",
    "\n",
    "### Side by side plots"
   ]
  },
  {
   "cell_type": "code",
   "execution_count": 129,
   "metadata": {},
   "outputs": [
    {
     "data": {
      "application/vnd.vegalite.v3+json": {
       "$schema": "https://vega.github.io/schema/vega-lite/v3.4.0.json",
       "config": {
        "mark": {
         "tooltip": null
        },
        "view": {
         "height": 300,
         "width": 400
        }
       },
       "data": {
        "name": "data-a4bd480ea976f54878a155ce12ba18ce"
       },
       "datasets": {
        "data-a4bd480ea976f54878a155ce12ba18ce": [
         {
          "petal_length": 1.4,
          "petal_width": 0.2,
          "sepal_length": 5.1,
          "sepal_width": 3.5,
          "species": "setosa"
         },
         {
          "petal_length": 1.4,
          "petal_width": 0.2,
          "sepal_length": 4.9,
          "sepal_width": 3,
          "species": "setosa"
         },
         {
          "petal_length": 1.3,
          "petal_width": 0.2,
          "sepal_length": 4.7,
          "sepal_width": 3.2,
          "species": "setosa"
         },
         {
          "petal_length": 1.5,
          "petal_width": 0.2,
          "sepal_length": 4.6,
          "sepal_width": 3.1,
          "species": "setosa"
         },
         {
          "petal_length": 1.4,
          "petal_width": 0.2,
          "sepal_length": 5,
          "sepal_width": 3.6,
          "species": "setosa"
         },
         {
          "petal_length": 1.7,
          "petal_width": 0.4,
          "sepal_length": 5.4,
          "sepal_width": 3.9,
          "species": "setosa"
         },
         {
          "petal_length": 1.4,
          "petal_width": 0.3,
          "sepal_length": 4.6,
          "sepal_width": 3.4,
          "species": "setosa"
         },
         {
          "petal_length": 1.5,
          "petal_width": 0.2,
          "sepal_length": 5,
          "sepal_width": 3.4,
          "species": "setosa"
         },
         {
          "petal_length": 1.4,
          "petal_width": 0.2,
          "sepal_length": 4.4,
          "sepal_width": 2.9,
          "species": "setosa"
         },
         {
          "petal_length": 1.5,
          "petal_width": 0.1,
          "sepal_length": 4.9,
          "sepal_width": 3.1,
          "species": "setosa"
         },
         {
          "petal_length": 1.5,
          "petal_width": 0.2,
          "sepal_length": 5.4,
          "sepal_width": 3.7,
          "species": "setosa"
         },
         {
          "petal_length": 1.6,
          "petal_width": 0.2,
          "sepal_length": 4.8,
          "sepal_width": 3.4,
          "species": "setosa"
         },
         {
          "petal_length": 1.4,
          "petal_width": 0.1,
          "sepal_length": 4.8,
          "sepal_width": 3,
          "species": "setosa"
         },
         {
          "petal_length": 1.1,
          "petal_width": 0.1,
          "sepal_length": 4.3,
          "sepal_width": 3,
          "species": "setosa"
         },
         {
          "petal_length": 1.2,
          "petal_width": 0.2,
          "sepal_length": 5.8,
          "sepal_width": 4,
          "species": "setosa"
         },
         {
          "petal_length": 1.5,
          "petal_width": 0.4,
          "sepal_length": 5.7,
          "sepal_width": 4.4,
          "species": "setosa"
         },
         {
          "petal_length": 1.3,
          "petal_width": 0.4,
          "sepal_length": 5.4,
          "sepal_width": 3.9,
          "species": "setosa"
         },
         {
          "petal_length": 1.4,
          "petal_width": 0.3,
          "sepal_length": 5.1,
          "sepal_width": 3.5,
          "species": "setosa"
         },
         {
          "petal_length": 1.7,
          "petal_width": 0.3,
          "sepal_length": 5.7,
          "sepal_width": 3.8,
          "species": "setosa"
         },
         {
          "petal_length": 1.5,
          "petal_width": 0.3,
          "sepal_length": 5.1,
          "sepal_width": 3.8,
          "species": "setosa"
         },
         {
          "petal_length": 1.7,
          "petal_width": 0.2,
          "sepal_length": 5.4,
          "sepal_width": 3.4,
          "species": "setosa"
         },
         {
          "petal_length": 1.5,
          "petal_width": 0.4,
          "sepal_length": 5.1,
          "sepal_width": 3.7,
          "species": "setosa"
         },
         {
          "petal_length": 1,
          "petal_width": 0.2,
          "sepal_length": 4.6,
          "sepal_width": 3.6,
          "species": "setosa"
         },
         {
          "petal_length": 1.7,
          "petal_width": 0.5,
          "sepal_length": 5.1,
          "sepal_width": 3.3,
          "species": "setosa"
         },
         {
          "petal_length": 1.9,
          "petal_width": 0.2,
          "sepal_length": 4.8,
          "sepal_width": 3.4,
          "species": "setosa"
         },
         {
          "petal_length": 1.6,
          "petal_width": 0.2,
          "sepal_length": 5,
          "sepal_width": 3,
          "species": "setosa"
         },
         {
          "petal_length": 1.6,
          "petal_width": 0.4,
          "sepal_length": 5,
          "sepal_width": 3.4,
          "species": "setosa"
         },
         {
          "petal_length": 1.5,
          "petal_width": 0.2,
          "sepal_length": 5.2,
          "sepal_width": 3.5,
          "species": "setosa"
         },
         {
          "petal_length": 1.4,
          "petal_width": 0.2,
          "sepal_length": 5.2,
          "sepal_width": 3.4,
          "species": "setosa"
         },
         {
          "petal_length": 1.6,
          "petal_width": 0.2,
          "sepal_length": 4.7,
          "sepal_width": 3.2,
          "species": "setosa"
         },
         {
          "petal_length": 1.6,
          "petal_width": 0.2,
          "sepal_length": 4.8,
          "sepal_width": 3.1,
          "species": "setosa"
         },
         {
          "petal_length": 1.5,
          "petal_width": 0.4,
          "sepal_length": 5.4,
          "sepal_width": 3.4,
          "species": "setosa"
         },
         {
          "petal_length": 1.5,
          "petal_width": 0.1,
          "sepal_length": 5.2,
          "sepal_width": 4.1,
          "species": "setosa"
         },
         {
          "petal_length": 1.4,
          "petal_width": 0.2,
          "sepal_length": 5.5,
          "sepal_width": 4.2,
          "species": "setosa"
         },
         {
          "petal_length": 1.5,
          "petal_width": 0.2,
          "sepal_length": 4.9,
          "sepal_width": 3.1,
          "species": "setosa"
         },
         {
          "petal_length": 1.2,
          "petal_width": 0.2,
          "sepal_length": 5,
          "sepal_width": 3.2,
          "species": "setosa"
         },
         {
          "petal_length": 1.3,
          "petal_width": 0.2,
          "sepal_length": 5.5,
          "sepal_width": 3.5,
          "species": "setosa"
         },
         {
          "petal_length": 1.4,
          "petal_width": 0.1,
          "sepal_length": 4.9,
          "sepal_width": 3.6,
          "species": "setosa"
         },
         {
          "petal_length": 1.3,
          "petal_width": 0.2,
          "sepal_length": 4.4,
          "sepal_width": 3,
          "species": "setosa"
         },
         {
          "petal_length": 1.5,
          "petal_width": 0.2,
          "sepal_length": 5.1,
          "sepal_width": 3.4,
          "species": "setosa"
         },
         {
          "petal_length": 1.3,
          "petal_width": 0.3,
          "sepal_length": 5,
          "sepal_width": 3.5,
          "species": "setosa"
         },
         {
          "petal_length": 1.3,
          "petal_width": 0.3,
          "sepal_length": 4.5,
          "sepal_width": 2.3,
          "species": "setosa"
         },
         {
          "petal_length": 1.3,
          "petal_width": 0.2,
          "sepal_length": 4.4,
          "sepal_width": 3.2,
          "species": "setosa"
         },
         {
          "petal_length": 1.6,
          "petal_width": 0.6,
          "sepal_length": 5,
          "sepal_width": 3.5,
          "species": "setosa"
         },
         {
          "petal_length": 1.9,
          "petal_width": 0.4,
          "sepal_length": 5.1,
          "sepal_width": 3.8,
          "species": "setosa"
         },
         {
          "petal_length": 1.4,
          "petal_width": 0.3,
          "sepal_length": 4.8,
          "sepal_width": 3,
          "species": "setosa"
         },
         {
          "petal_length": 1.6,
          "petal_width": 0.2,
          "sepal_length": 5.1,
          "sepal_width": 3.8,
          "species": "setosa"
         },
         {
          "petal_length": 1.4,
          "petal_width": 0.2,
          "sepal_length": 4.6,
          "sepal_width": 3.2,
          "species": "setosa"
         },
         {
          "petal_length": 1.5,
          "petal_width": 0.2,
          "sepal_length": 5.3,
          "sepal_width": 3.7,
          "species": "setosa"
         },
         {
          "petal_length": 1.4,
          "petal_width": 0.2,
          "sepal_length": 5,
          "sepal_width": 3.3,
          "species": "setosa"
         },
         {
          "petal_length": 4.7,
          "petal_width": 1.4,
          "sepal_length": 7,
          "sepal_width": 3.2,
          "species": "versicolor"
         },
         {
          "petal_length": 4.5,
          "petal_width": 1.5,
          "sepal_length": 6.4,
          "sepal_width": 3.2,
          "species": "versicolor"
         },
         {
          "petal_length": 4.9,
          "petal_width": 1.5,
          "sepal_length": 6.9,
          "sepal_width": 3.1,
          "species": "versicolor"
         },
         {
          "petal_length": 4,
          "petal_width": 1.3,
          "sepal_length": 5.5,
          "sepal_width": 2.3,
          "species": "versicolor"
         },
         {
          "petal_length": 4.6,
          "petal_width": 1.5,
          "sepal_length": 6.5,
          "sepal_width": 2.8,
          "species": "versicolor"
         },
         {
          "petal_length": 4.5,
          "petal_width": 1.3,
          "sepal_length": 5.7,
          "sepal_width": 2.8,
          "species": "versicolor"
         },
         {
          "petal_length": 4.7,
          "petal_width": 1.6,
          "sepal_length": 6.3,
          "sepal_width": 3.3,
          "species": "versicolor"
         },
         {
          "petal_length": 3.3,
          "petal_width": 1,
          "sepal_length": 4.9,
          "sepal_width": 2.4,
          "species": "versicolor"
         },
         {
          "petal_length": 4.6,
          "petal_width": 1.3,
          "sepal_length": 6.6,
          "sepal_width": 2.9,
          "species": "versicolor"
         },
         {
          "petal_length": 3.9,
          "petal_width": 1.4,
          "sepal_length": 5.2,
          "sepal_width": 2.7,
          "species": "versicolor"
         },
         {
          "petal_length": 3.5,
          "petal_width": 1,
          "sepal_length": 5,
          "sepal_width": 2,
          "species": "versicolor"
         },
         {
          "petal_length": 4.2,
          "petal_width": 1.5,
          "sepal_length": 5.9,
          "sepal_width": 3,
          "species": "versicolor"
         },
         {
          "petal_length": 4,
          "petal_width": 1,
          "sepal_length": 6,
          "sepal_width": 2.2,
          "species": "versicolor"
         },
         {
          "petal_length": 4.7,
          "petal_width": 1.4,
          "sepal_length": 6.1,
          "sepal_width": 2.9,
          "species": "versicolor"
         },
         {
          "petal_length": 3.6,
          "petal_width": 1.3,
          "sepal_length": 5.6,
          "sepal_width": 2.9,
          "species": "versicolor"
         },
         {
          "petal_length": 4.4,
          "petal_width": 1.4,
          "sepal_length": 6.7,
          "sepal_width": 3.1,
          "species": "versicolor"
         },
         {
          "petal_length": 4.5,
          "petal_width": 1.5,
          "sepal_length": 5.6,
          "sepal_width": 3,
          "species": "versicolor"
         },
         {
          "petal_length": 4.1,
          "petal_width": 1,
          "sepal_length": 5.8,
          "sepal_width": 2.7,
          "species": "versicolor"
         },
         {
          "petal_length": 4.5,
          "petal_width": 1.5,
          "sepal_length": 6.2,
          "sepal_width": 2.2,
          "species": "versicolor"
         },
         {
          "petal_length": 3.9,
          "petal_width": 1.1,
          "sepal_length": 5.6,
          "sepal_width": 2.5,
          "species": "versicolor"
         },
         {
          "petal_length": 4.8,
          "petal_width": 1.8,
          "sepal_length": 5.9,
          "sepal_width": 3.2,
          "species": "versicolor"
         },
         {
          "petal_length": 4,
          "petal_width": 1.3,
          "sepal_length": 6.1,
          "sepal_width": 2.8,
          "species": "versicolor"
         },
         {
          "petal_length": 4.9,
          "petal_width": 1.5,
          "sepal_length": 6.3,
          "sepal_width": 2.5,
          "species": "versicolor"
         },
         {
          "petal_length": 4.7,
          "petal_width": 1.2,
          "sepal_length": 6.1,
          "sepal_width": 2.8,
          "species": "versicolor"
         },
         {
          "petal_length": 4.3,
          "petal_width": 1.3,
          "sepal_length": 6.4,
          "sepal_width": 2.9,
          "species": "versicolor"
         },
         {
          "petal_length": 4.4,
          "petal_width": 1.4,
          "sepal_length": 6.6,
          "sepal_width": 3,
          "species": "versicolor"
         },
         {
          "petal_length": 4.8,
          "petal_width": 1.4,
          "sepal_length": 6.8,
          "sepal_width": 2.8,
          "species": "versicolor"
         },
         {
          "petal_length": 5,
          "petal_width": 1.7,
          "sepal_length": 6.7,
          "sepal_width": 3,
          "species": "versicolor"
         },
         {
          "petal_length": 4.5,
          "petal_width": 1.5,
          "sepal_length": 6,
          "sepal_width": 2.9,
          "species": "versicolor"
         },
         {
          "petal_length": 3.5,
          "petal_width": 1,
          "sepal_length": 5.7,
          "sepal_width": 2.6,
          "species": "versicolor"
         },
         {
          "petal_length": 3.8,
          "petal_width": 1.1,
          "sepal_length": 5.5,
          "sepal_width": 2.4,
          "species": "versicolor"
         },
         {
          "petal_length": 3.7,
          "petal_width": 1,
          "sepal_length": 5.5,
          "sepal_width": 2.4,
          "species": "versicolor"
         },
         {
          "petal_length": 3.9,
          "petal_width": 1.2,
          "sepal_length": 5.8,
          "sepal_width": 2.7,
          "species": "versicolor"
         },
         {
          "petal_length": 5.1,
          "petal_width": 1.6,
          "sepal_length": 6,
          "sepal_width": 2.7,
          "species": "versicolor"
         },
         {
          "petal_length": 4.5,
          "petal_width": 1.5,
          "sepal_length": 5.4,
          "sepal_width": 3,
          "species": "versicolor"
         },
         {
          "petal_length": 4.5,
          "petal_width": 1.6,
          "sepal_length": 6,
          "sepal_width": 3.4,
          "species": "versicolor"
         },
         {
          "petal_length": 4.7,
          "petal_width": 1.5,
          "sepal_length": 6.7,
          "sepal_width": 3.1,
          "species": "versicolor"
         },
         {
          "petal_length": 4.4,
          "petal_width": 1.3,
          "sepal_length": 6.3,
          "sepal_width": 2.3,
          "species": "versicolor"
         },
         {
          "petal_length": 4.1,
          "petal_width": 1.3,
          "sepal_length": 5.6,
          "sepal_width": 3,
          "species": "versicolor"
         },
         {
          "petal_length": 4,
          "petal_width": 1.3,
          "sepal_length": 5.5,
          "sepal_width": 2.5,
          "species": "versicolor"
         },
         {
          "petal_length": 4.4,
          "petal_width": 1.2,
          "sepal_length": 5.5,
          "sepal_width": 2.6,
          "species": "versicolor"
         },
         {
          "petal_length": 4.6,
          "petal_width": 1.4,
          "sepal_length": 6.1,
          "sepal_width": 3,
          "species": "versicolor"
         },
         {
          "petal_length": 4,
          "petal_width": 1.2,
          "sepal_length": 5.8,
          "sepal_width": 2.6,
          "species": "versicolor"
         },
         {
          "petal_length": 3.3,
          "petal_width": 1,
          "sepal_length": 5,
          "sepal_width": 2.3,
          "species": "versicolor"
         },
         {
          "petal_length": 4.2,
          "petal_width": 1.3,
          "sepal_length": 5.6,
          "sepal_width": 2.7,
          "species": "versicolor"
         },
         {
          "petal_length": 4.2,
          "petal_width": 1.2,
          "sepal_length": 5.7,
          "sepal_width": 3,
          "species": "versicolor"
         },
         {
          "petal_length": 4.2,
          "petal_width": 1.3,
          "sepal_length": 5.7,
          "sepal_width": 2.9,
          "species": "versicolor"
         },
         {
          "petal_length": 4.3,
          "petal_width": 1.3,
          "sepal_length": 6.2,
          "sepal_width": 2.9,
          "species": "versicolor"
         },
         {
          "petal_length": 3,
          "petal_width": 1.1,
          "sepal_length": 5.1,
          "sepal_width": 2.5,
          "species": "versicolor"
         },
         {
          "petal_length": 4.1,
          "petal_width": 1.3,
          "sepal_length": 5.7,
          "sepal_width": 2.8,
          "species": "versicolor"
         },
         {
          "petal_length": 6,
          "petal_width": 2.5,
          "sepal_length": 6.3,
          "sepal_width": 3.3,
          "species": "virginica"
         },
         {
          "petal_length": 5.1,
          "petal_width": 1.9,
          "sepal_length": 5.8,
          "sepal_width": 2.7,
          "species": "virginica"
         },
         {
          "petal_length": 5.9,
          "petal_width": 2.1,
          "sepal_length": 7.1,
          "sepal_width": 3,
          "species": "virginica"
         },
         {
          "petal_length": 5.6,
          "petal_width": 1.8,
          "sepal_length": 6.3,
          "sepal_width": 2.9,
          "species": "virginica"
         },
         {
          "petal_length": 5.8,
          "petal_width": 2.2,
          "sepal_length": 6.5,
          "sepal_width": 3,
          "species": "virginica"
         },
         {
          "petal_length": 6.6,
          "petal_width": 2.1,
          "sepal_length": 7.6,
          "sepal_width": 3,
          "species": "virginica"
         },
         {
          "petal_length": 4.5,
          "petal_width": 1.7,
          "sepal_length": 4.9,
          "sepal_width": 2.5,
          "species": "virginica"
         },
         {
          "petal_length": 6.3,
          "petal_width": 1.8,
          "sepal_length": 7.3,
          "sepal_width": 2.9,
          "species": "virginica"
         },
         {
          "petal_length": 5.8,
          "petal_width": 1.8,
          "sepal_length": 6.7,
          "sepal_width": 2.5,
          "species": "virginica"
         },
         {
          "petal_length": 6.1,
          "petal_width": 2.5,
          "sepal_length": 7.2,
          "sepal_width": 3.6,
          "species": "virginica"
         },
         {
          "petal_length": 5.1,
          "petal_width": 2,
          "sepal_length": 6.5,
          "sepal_width": 3.2,
          "species": "virginica"
         },
         {
          "petal_length": 5.3,
          "petal_width": 1.9,
          "sepal_length": 6.4,
          "sepal_width": 2.7,
          "species": "virginica"
         },
         {
          "petal_length": 5.5,
          "petal_width": 2.1,
          "sepal_length": 6.8,
          "sepal_width": 3,
          "species": "virginica"
         },
         {
          "petal_length": 5,
          "petal_width": 2,
          "sepal_length": 5.7,
          "sepal_width": 2.5,
          "species": "virginica"
         },
         {
          "petal_length": 5.1,
          "petal_width": 2.4,
          "sepal_length": 5.8,
          "sepal_width": 2.8,
          "species": "virginica"
         },
         {
          "petal_length": 5.3,
          "petal_width": 2.3,
          "sepal_length": 6.4,
          "sepal_width": 3.2,
          "species": "virginica"
         },
         {
          "petal_length": 5.5,
          "petal_width": 1.8,
          "sepal_length": 6.5,
          "sepal_width": 3,
          "species": "virginica"
         },
         {
          "petal_length": 6.7,
          "petal_width": 2.2,
          "sepal_length": 7.7,
          "sepal_width": 3.8,
          "species": "virginica"
         },
         {
          "petal_length": 6.9,
          "petal_width": 2.3,
          "sepal_length": 7.7,
          "sepal_width": 2.6,
          "species": "virginica"
         },
         {
          "petal_length": 5,
          "petal_width": 1.5,
          "sepal_length": 6,
          "sepal_width": 2.2,
          "species": "virginica"
         },
         {
          "petal_length": 5.7,
          "petal_width": 2.3,
          "sepal_length": 6.9,
          "sepal_width": 3.2,
          "species": "virginica"
         },
         {
          "petal_length": 4.9,
          "petal_width": 2,
          "sepal_length": 5.6,
          "sepal_width": 2.8,
          "species": "virginica"
         },
         {
          "petal_length": 6.7,
          "petal_width": 2,
          "sepal_length": 7.7,
          "sepal_width": 2.8,
          "species": "virginica"
         },
         {
          "petal_length": 4.9,
          "petal_width": 1.8,
          "sepal_length": 6.3,
          "sepal_width": 2.7,
          "species": "virginica"
         },
         {
          "petal_length": 5.7,
          "petal_width": 2.1,
          "sepal_length": 6.7,
          "sepal_width": 3.3,
          "species": "virginica"
         },
         {
          "petal_length": 6,
          "petal_width": 1.8,
          "sepal_length": 7.2,
          "sepal_width": 3.2,
          "species": "virginica"
         },
         {
          "petal_length": 4.8,
          "petal_width": 1.8,
          "sepal_length": 6.2,
          "sepal_width": 2.8,
          "species": "virginica"
         },
         {
          "petal_length": 4.9,
          "petal_width": 1.8,
          "sepal_length": 6.1,
          "sepal_width": 3,
          "species": "virginica"
         },
         {
          "petal_length": 5.6,
          "petal_width": 2.1,
          "sepal_length": 6.4,
          "sepal_width": 2.8,
          "species": "virginica"
         },
         {
          "petal_length": 5.8,
          "petal_width": 1.6,
          "sepal_length": 7.2,
          "sepal_width": 3,
          "species": "virginica"
         },
         {
          "petal_length": 6.1,
          "petal_width": 1.9,
          "sepal_length": 7.4,
          "sepal_width": 2.8,
          "species": "virginica"
         },
         {
          "petal_length": 6.4,
          "petal_width": 2,
          "sepal_length": 7.9,
          "sepal_width": 3.8,
          "species": "virginica"
         },
         {
          "petal_length": 5.6,
          "petal_width": 2.2,
          "sepal_length": 6.4,
          "sepal_width": 2.8,
          "species": "virginica"
         },
         {
          "petal_length": 5.1,
          "petal_width": 1.5,
          "sepal_length": 6.3,
          "sepal_width": 2.8,
          "species": "virginica"
         },
         {
          "petal_length": 5.6,
          "petal_width": 1.4,
          "sepal_length": 6.1,
          "sepal_width": 2.6,
          "species": "virginica"
         },
         {
          "petal_length": 6.1,
          "petal_width": 2.3,
          "sepal_length": 7.7,
          "sepal_width": 3,
          "species": "virginica"
         },
         {
          "petal_length": 5.6,
          "petal_width": 2.4,
          "sepal_length": 6.3,
          "sepal_width": 3.4,
          "species": "virginica"
         },
         {
          "petal_length": 5.5,
          "petal_width": 1.8,
          "sepal_length": 6.4,
          "sepal_width": 3.1,
          "species": "virginica"
         },
         {
          "petal_length": 4.8,
          "petal_width": 1.8,
          "sepal_length": 6,
          "sepal_width": 3,
          "species": "virginica"
         },
         {
          "petal_length": 5.4,
          "petal_width": 2.1,
          "sepal_length": 6.9,
          "sepal_width": 3.1,
          "species": "virginica"
         },
         {
          "petal_length": 5.6,
          "petal_width": 2.4,
          "sepal_length": 6.7,
          "sepal_width": 3.1,
          "species": "virginica"
         },
         {
          "petal_length": 5.1,
          "petal_width": 2.3,
          "sepal_length": 6.9,
          "sepal_width": 3.1,
          "species": "virginica"
         },
         {
          "petal_length": 5.1,
          "petal_width": 1.9,
          "sepal_length": 5.8,
          "sepal_width": 2.7,
          "species": "virginica"
         },
         {
          "petal_length": 5.9,
          "petal_width": 2.3,
          "sepal_length": 6.8,
          "sepal_width": 3.2,
          "species": "virginica"
         },
         {
          "petal_length": 5.7,
          "petal_width": 2.5,
          "sepal_length": 6.7,
          "sepal_width": 3.3,
          "species": "virginica"
         },
         {
          "petal_length": 5.2,
          "petal_width": 2.3,
          "sepal_length": 6.7,
          "sepal_width": 3,
          "species": "virginica"
         },
         {
          "petal_length": 5,
          "petal_width": 1.9,
          "sepal_length": 6.3,
          "sepal_width": 2.5,
          "species": "virginica"
         },
         {
          "petal_length": 5.2,
          "petal_width": 2,
          "sepal_length": 6.5,
          "sepal_width": 3,
          "species": "virginica"
         },
         {
          "petal_length": 5.4,
          "petal_width": 2.3,
          "sepal_length": 6.2,
          "sepal_width": 3.4,
          "species": "virginica"
         },
         {
          "petal_length": 5.1,
          "petal_width": 1.8,
          "sepal_length": 5.9,
          "sepal_width": 3,
          "species": "virginica"
         }
        ]
       },
       "hconcat": [
        {
         "encoding": {
          "color": {
           "field": "species",
           "type": "nominal"
          },
          "x": {
           "field": "petal_length",
           "type": "quantitative"
          },
          "y": {
           "field": "petal_width",
           "type": "quantitative"
          }
         },
         "mark": "circle",
         "title": "Altair"
        },
        {
         "encoding": {
          "color": {
           "field": "species",
           "type": "nominal"
          },
          "x": {
           "field": "sepal_length",
           "type": "quantitative"
          },
          "y": {
           "field": "sepal_width",
           "type": "quantitative"
          }
         },
         "mark": "circle",
         "title": "Altair"
        }
       ]
      },
      "image/png": "[encoded data removed]",
      "text/plain": [
       "<VegaLite 3 object>\n",
       "\n",
       "If you see this message, it means the renderer has not been properly enabled\n",
       "for the frontend that you are using. For more information, see\n",
       "https://altair-viz.github.io/user_guide/troubleshooting.html\n"
      ]
     },
     "execution_count": 129,
     "metadata": {},
     "output_type": "execute_result"
    }
   ],
   "source": [
    "p1 = alt.Chart(df, title='Altair').mark_circle().encode(\n",
    "        alt.X('petal_length'),\n",
    "        alt.Y('petal_width'),\n",
    "        color='species'\n",
    "     )\n",
    "\n",
    "p2 = alt.Chart(df, title='Altair').mark_circle().encode(\n",
    "        alt.X('sepal_length'),\n",
    "        alt.Y('sepal_width'),\n",
    "        color='species'\n",
    "     )\n",
    "\n",
    "p1 | p2"
   ]
  },
  {
   "cell_type": "markdown",
   "metadata": {},
   "source": [
    "## Adding a forth encoding (size in this case)"
   ]
  },
  {
   "cell_type": "code",
   "execution_count": 130,
   "metadata": {},
   "outputs": [
    {
     "data": {
      "application/vnd.vegalite.v3+json": {
       "$schema": "https://vega.github.io/schema/vega-lite/v3.4.0.json",
       "config": {
        "mark": {
         "tooltip": null
        },
        "view": {
         "height": 300,
         "width": 400
        }
       },
       "data": {
        "name": "data-a4bd480ea976f54878a155ce12ba18ce"
       },
       "datasets": {
        "data-a4bd480ea976f54878a155ce12ba18ce": [
         {
          "petal_length": 1.4,
          "petal_width": 0.2,
          "sepal_length": 5.1,
          "sepal_width": 3.5,
          "species": "setosa"
         },
         {
          "petal_length": 1.4,
          "petal_width": 0.2,
          "sepal_length": 4.9,
          "sepal_width": 3,
          "species": "setosa"
         },
         {
          "petal_length": 1.3,
          "petal_width": 0.2,
          "sepal_length": 4.7,
          "sepal_width": 3.2,
          "species": "setosa"
         },
         {
          "petal_length": 1.5,
          "petal_width": 0.2,
          "sepal_length": 4.6,
          "sepal_width": 3.1,
          "species": "setosa"
         },
         {
          "petal_length": 1.4,
          "petal_width": 0.2,
          "sepal_length": 5,
          "sepal_width": 3.6,
          "species": "setosa"
         },
         {
          "petal_length": 1.7,
          "petal_width": 0.4,
          "sepal_length": 5.4,
          "sepal_width": 3.9,
          "species": "setosa"
         },
         {
          "petal_length": 1.4,
          "petal_width": 0.3,
          "sepal_length": 4.6,
          "sepal_width": 3.4,
          "species": "setosa"
         },
         {
          "petal_length": 1.5,
          "petal_width": 0.2,
          "sepal_length": 5,
          "sepal_width": 3.4,
          "species": "setosa"
         },
         {
          "petal_length": 1.4,
          "petal_width": 0.2,
          "sepal_length": 4.4,
          "sepal_width": 2.9,
          "species": "setosa"
         },
         {
          "petal_length": 1.5,
          "petal_width": 0.1,
          "sepal_length": 4.9,
          "sepal_width": 3.1,
          "species": "setosa"
         },
         {
          "petal_length": 1.5,
          "petal_width": 0.2,
          "sepal_length": 5.4,
          "sepal_width": 3.7,
          "species": "setosa"
         },
         {
          "petal_length": 1.6,
          "petal_width": 0.2,
          "sepal_length": 4.8,
          "sepal_width": 3.4,
          "species": "setosa"
         },
         {
          "petal_length": 1.4,
          "petal_width": 0.1,
          "sepal_length": 4.8,
          "sepal_width": 3,
          "species": "setosa"
         },
         {
          "petal_length": 1.1,
          "petal_width": 0.1,
          "sepal_length": 4.3,
          "sepal_width": 3,
          "species": "setosa"
         },
         {
          "petal_length": 1.2,
          "petal_width": 0.2,
          "sepal_length": 5.8,
          "sepal_width": 4,
          "species": "setosa"
         },
         {
          "petal_length": 1.5,
          "petal_width": 0.4,
          "sepal_length": 5.7,
          "sepal_width": 4.4,
          "species": "setosa"
         },
         {
          "petal_length": 1.3,
          "petal_width": 0.4,
          "sepal_length": 5.4,
          "sepal_width": 3.9,
          "species": "setosa"
         },
         {
          "petal_length": 1.4,
          "petal_width": 0.3,
          "sepal_length": 5.1,
          "sepal_width": 3.5,
          "species": "setosa"
         },
         {
          "petal_length": 1.7,
          "petal_width": 0.3,
          "sepal_length": 5.7,
          "sepal_width": 3.8,
          "species": "setosa"
         },
         {
          "petal_length": 1.5,
          "petal_width": 0.3,
          "sepal_length": 5.1,
          "sepal_width": 3.8,
          "species": "setosa"
         },
         {
          "petal_length": 1.7,
          "petal_width": 0.2,
          "sepal_length": 5.4,
          "sepal_width": 3.4,
          "species": "setosa"
         },
         {
          "petal_length": 1.5,
          "petal_width": 0.4,
          "sepal_length": 5.1,
          "sepal_width": 3.7,
          "species": "setosa"
         },
         {
          "petal_length": 1,
          "petal_width": 0.2,
          "sepal_length": 4.6,
          "sepal_width": 3.6,
          "species": "setosa"
         },
         {
          "petal_length": 1.7,
          "petal_width": 0.5,
          "sepal_length": 5.1,
          "sepal_width": 3.3,
          "species": "setosa"
         },
         {
          "petal_length": 1.9,
          "petal_width": 0.2,
          "sepal_length": 4.8,
          "sepal_width": 3.4,
          "species": "setosa"
         },
         {
          "petal_length": 1.6,
          "petal_width": 0.2,
          "sepal_length": 5,
          "sepal_width": 3,
          "species": "setosa"
         },
         {
          "petal_length": 1.6,
          "petal_width": 0.4,
          "sepal_length": 5,
          "sepal_width": 3.4,
          "species": "setosa"
         },
         {
          "petal_length": 1.5,
          "petal_width": 0.2,
          "sepal_length": 5.2,
          "sepal_width": 3.5,
          "species": "setosa"
         },
         {
          "petal_length": 1.4,
          "petal_width": 0.2,
          "sepal_length": 5.2,
          "sepal_width": 3.4,
          "species": "setosa"
         },
         {
          "petal_length": 1.6,
          "petal_width": 0.2,
          "sepal_length": 4.7,
          "sepal_width": 3.2,
          "species": "setosa"
         },
         {
          "petal_length": 1.6,
          "petal_width": 0.2,
          "sepal_length": 4.8,
          "sepal_width": 3.1,
          "species": "setosa"
         },
         {
          "petal_length": 1.5,
          "petal_width": 0.4,
          "sepal_length": 5.4,
          "sepal_width": 3.4,
          "species": "setosa"
         },
         {
          "petal_length": 1.5,
          "petal_width": 0.1,
          "sepal_length": 5.2,
          "sepal_width": 4.1,
          "species": "setosa"
         },
         {
          "petal_length": 1.4,
          "petal_width": 0.2,
          "sepal_length": 5.5,
          "sepal_width": 4.2,
          "species": "setosa"
         },
         {
          "petal_length": 1.5,
          "petal_width": 0.2,
          "sepal_length": 4.9,
          "sepal_width": 3.1,
          "species": "setosa"
         },
         {
          "petal_length": 1.2,
          "petal_width": 0.2,
          "sepal_length": 5,
          "sepal_width": 3.2,
          "species": "setosa"
         },
         {
          "petal_length": 1.3,
          "petal_width": 0.2,
          "sepal_length": 5.5,
          "sepal_width": 3.5,
          "species": "setosa"
         },
         {
          "petal_length": 1.4,
          "petal_width": 0.1,
          "sepal_length": 4.9,
          "sepal_width": 3.6,
          "species": "setosa"
         },
         {
          "petal_length": 1.3,
          "petal_width": 0.2,
          "sepal_length": 4.4,
          "sepal_width": 3,
          "species": "setosa"
         },
         {
          "petal_length": 1.5,
          "petal_width": 0.2,
          "sepal_length": 5.1,
          "sepal_width": 3.4,
          "species": "setosa"
         },
         {
          "petal_length": 1.3,
          "petal_width": 0.3,
          "sepal_length": 5,
          "sepal_width": 3.5,
          "species": "setosa"
         },
         {
          "petal_length": 1.3,
          "petal_width": 0.3,
          "sepal_length": 4.5,
          "sepal_width": 2.3,
          "species": "setosa"
         },
         {
          "petal_length": 1.3,
          "petal_width": 0.2,
          "sepal_length": 4.4,
          "sepal_width": 3.2,
          "species": "setosa"
         },
         {
          "petal_length": 1.6,
          "petal_width": 0.6,
          "sepal_length": 5,
          "sepal_width": 3.5,
          "species": "setosa"
         },
         {
          "petal_length": 1.9,
          "petal_width": 0.4,
          "sepal_length": 5.1,
          "sepal_width": 3.8,
          "species": "setosa"
         },
         {
          "petal_length": 1.4,
          "petal_width": 0.3,
          "sepal_length": 4.8,
          "sepal_width": 3,
          "species": "setosa"
         },
         {
          "petal_length": 1.6,
          "petal_width": 0.2,
          "sepal_length": 5.1,
          "sepal_width": 3.8,
          "species": "setosa"
         },
         {
          "petal_length": 1.4,
          "petal_width": 0.2,
          "sepal_length": 4.6,
          "sepal_width": 3.2,
          "species": "setosa"
         },
         {
          "petal_length": 1.5,
          "petal_width": 0.2,
          "sepal_length": 5.3,
          "sepal_width": 3.7,
          "species": "setosa"
         },
         {
          "petal_length": 1.4,
          "petal_width": 0.2,
          "sepal_length": 5,
          "sepal_width": 3.3,
          "species": "setosa"
         },
         {
          "petal_length": 4.7,
          "petal_width": 1.4,
          "sepal_length": 7,
          "sepal_width": 3.2,
          "species": "versicolor"
         },
         {
          "petal_length": 4.5,
          "petal_width": 1.5,
          "sepal_length": 6.4,
          "sepal_width": 3.2,
          "species": "versicolor"
         },
         {
          "petal_length": 4.9,
          "petal_width": 1.5,
          "sepal_length": 6.9,
          "sepal_width": 3.1,
          "species": "versicolor"
         },
         {
          "petal_length": 4,
          "petal_width": 1.3,
          "sepal_length": 5.5,
          "sepal_width": 2.3,
          "species": "versicolor"
         },
         {
          "petal_length": 4.6,
          "petal_width": 1.5,
          "sepal_length": 6.5,
          "sepal_width": 2.8,
          "species": "versicolor"
         },
         {
          "petal_length": 4.5,
          "petal_width": 1.3,
          "sepal_length": 5.7,
          "sepal_width": 2.8,
          "species": "versicolor"
         },
         {
          "petal_length": 4.7,
          "petal_width": 1.6,
          "sepal_length": 6.3,
          "sepal_width": 3.3,
          "species": "versicolor"
         },
         {
          "petal_length": 3.3,
          "petal_width": 1,
          "sepal_length": 4.9,
          "sepal_width": 2.4,
          "species": "versicolor"
         },
         {
          "petal_length": 4.6,
          "petal_width": 1.3,
          "sepal_length": 6.6,
          "sepal_width": 2.9,
          "species": "versicolor"
         },
         {
          "petal_length": 3.9,
          "petal_width": 1.4,
          "sepal_length": 5.2,
          "sepal_width": 2.7,
          "species": "versicolor"
         },
         {
          "petal_length": 3.5,
          "petal_width": 1,
          "sepal_length": 5,
          "sepal_width": 2,
          "species": "versicolor"
         },
         {
          "petal_length": 4.2,
          "petal_width": 1.5,
          "sepal_length": 5.9,
          "sepal_width": 3,
          "species": "versicolor"
         },
         {
          "petal_length": 4,
          "petal_width": 1,
          "sepal_length": 6,
          "sepal_width": 2.2,
          "species": "versicolor"
         },
         {
          "petal_length": 4.7,
          "petal_width": 1.4,
          "sepal_length": 6.1,
          "sepal_width": 2.9,
          "species": "versicolor"
         },
         {
          "petal_length": 3.6,
          "petal_width": 1.3,
          "sepal_length": 5.6,
          "sepal_width": 2.9,
          "species": "versicolor"
         },
         {
          "petal_length": 4.4,
          "petal_width": 1.4,
          "sepal_length": 6.7,
          "sepal_width": 3.1,
          "species": "versicolor"
         },
         {
          "petal_length": 4.5,
          "petal_width": 1.5,
          "sepal_length": 5.6,
          "sepal_width": 3,
          "species": "versicolor"
         },
         {
          "petal_length": 4.1,
          "petal_width": 1,
          "sepal_length": 5.8,
          "sepal_width": 2.7,
          "species": "versicolor"
         },
         {
          "petal_length": 4.5,
          "petal_width": 1.5,
          "sepal_length": 6.2,
          "sepal_width": 2.2,
          "species": "versicolor"
         },
         {
          "petal_length": 3.9,
          "petal_width": 1.1,
          "sepal_length": 5.6,
          "sepal_width": 2.5,
          "species": "versicolor"
         },
         {
          "petal_length": 4.8,
          "petal_width": 1.8,
          "sepal_length": 5.9,
          "sepal_width": 3.2,
          "species": "versicolor"
         },
         {
          "petal_length": 4,
          "petal_width": 1.3,
          "sepal_length": 6.1,
          "sepal_width": 2.8,
          "species": "versicolor"
         },
         {
          "petal_length": 4.9,
          "petal_width": 1.5,
          "sepal_length": 6.3,
          "sepal_width": 2.5,
          "species": "versicolor"
         },
         {
          "petal_length": 4.7,
          "petal_width": 1.2,
          "sepal_length": 6.1,
          "sepal_width": 2.8,
          "species": "versicolor"
         },
         {
          "petal_length": 4.3,
          "petal_width": 1.3,
          "sepal_length": 6.4,
          "sepal_width": 2.9,
          "species": "versicolor"
         },
         {
          "petal_length": 4.4,
          "petal_width": 1.4,
          "sepal_length": 6.6,
          "sepal_width": 3,
          "species": "versicolor"
         },
         {
          "petal_length": 4.8,
          "petal_width": 1.4,
          "sepal_length": 6.8,
          "sepal_width": 2.8,
          "species": "versicolor"
         },
         {
          "petal_length": 5,
          "petal_width": 1.7,
          "sepal_length": 6.7,
          "sepal_width": 3,
          "species": "versicolor"
         },
         {
          "petal_length": 4.5,
          "petal_width": 1.5,
          "sepal_length": 6,
          "sepal_width": 2.9,
          "species": "versicolor"
         },
         {
          "petal_length": 3.5,
          "petal_width": 1,
          "sepal_length": 5.7,
          "sepal_width": 2.6,
          "species": "versicolor"
         },
         {
          "petal_length": 3.8,
          "petal_width": 1.1,
          "sepal_length": 5.5,
          "sepal_width": 2.4,
          "species": "versicolor"
         },
         {
          "petal_length": 3.7,
          "petal_width": 1,
          "sepal_length": 5.5,
          "sepal_width": 2.4,
          "species": "versicolor"
         },
         {
          "petal_length": 3.9,
          "petal_width": 1.2,
          "sepal_length": 5.8,
          "sepal_width": 2.7,
          "species": "versicolor"
         },
         {
          "petal_length": 5.1,
          "petal_width": 1.6,
          "sepal_length": 6,
          "sepal_width": 2.7,
          "species": "versicolor"
         },
         {
          "petal_length": 4.5,
          "petal_width": 1.5,
          "sepal_length": 5.4,
          "sepal_width": 3,
          "species": "versicolor"
         },
         {
          "petal_length": 4.5,
          "petal_width": 1.6,
          "sepal_length": 6,
          "sepal_width": 3.4,
          "species": "versicolor"
         },
         {
          "petal_length": 4.7,
          "petal_width": 1.5,
          "sepal_length": 6.7,
          "sepal_width": 3.1,
          "species": "versicolor"
         },
         {
          "petal_length": 4.4,
          "petal_width": 1.3,
          "sepal_length": 6.3,
          "sepal_width": 2.3,
          "species": "versicolor"
         },
         {
          "petal_length": 4.1,
          "petal_width": 1.3,
          "sepal_length": 5.6,
          "sepal_width": 3,
          "species": "versicolor"
         },
         {
          "petal_length": 4,
          "petal_width": 1.3,
          "sepal_length": 5.5,
          "sepal_width": 2.5,
          "species": "versicolor"
         },
         {
          "petal_length": 4.4,
          "petal_width": 1.2,
          "sepal_length": 5.5,
          "sepal_width": 2.6,
          "species": "versicolor"
         },
         {
          "petal_length": 4.6,
          "petal_width": 1.4,
          "sepal_length": 6.1,
          "sepal_width": 3,
          "species": "versicolor"
         },
         {
          "petal_length": 4,
          "petal_width": 1.2,
          "sepal_length": 5.8,
          "sepal_width": 2.6,
          "species": "versicolor"
         },
         {
          "petal_length": 3.3,
          "petal_width": 1,
          "sepal_length": 5,
          "sepal_width": 2.3,
          "species": "versicolor"
         },
         {
          "petal_length": 4.2,
          "petal_width": 1.3,
          "sepal_length": 5.6,
          "sepal_width": 2.7,
          "species": "versicolor"
         },
         {
          "petal_length": 4.2,
          "petal_width": 1.2,
          "sepal_length": 5.7,
          "sepal_width": 3,
          "species": "versicolor"
         },
         {
          "petal_length": 4.2,
          "petal_width": 1.3,
          "sepal_length": 5.7,
          "sepal_width": 2.9,
          "species": "versicolor"
         },
         {
          "petal_length": 4.3,
          "petal_width": 1.3,
          "sepal_length": 6.2,
          "sepal_width": 2.9,
          "species": "versicolor"
         },
         {
          "petal_length": 3,
          "petal_width": 1.1,
          "sepal_length": 5.1,
          "sepal_width": 2.5,
          "species": "versicolor"
         },
         {
          "petal_length": 4.1,
          "petal_width": 1.3,
          "sepal_length": 5.7,
          "sepal_width": 2.8,
          "species": "versicolor"
         },
         {
          "petal_length": 6,
          "petal_width": 2.5,
          "sepal_length": 6.3,
          "sepal_width": 3.3,
          "species": "virginica"
         },
         {
          "petal_length": 5.1,
          "petal_width": 1.9,
          "sepal_length": 5.8,
          "sepal_width": 2.7,
          "species": "virginica"
         },
         {
          "petal_length": 5.9,
          "petal_width": 2.1,
          "sepal_length": 7.1,
          "sepal_width": 3,
          "species": "virginica"
         },
         {
          "petal_length": 5.6,
          "petal_width": 1.8,
          "sepal_length": 6.3,
          "sepal_width": 2.9,
          "species": "virginica"
         },
         {
          "petal_length": 5.8,
          "petal_width": 2.2,
          "sepal_length": 6.5,
          "sepal_width": 3,
          "species": "virginica"
         },
         {
          "petal_length": 6.6,
          "petal_width": 2.1,
          "sepal_length": 7.6,
          "sepal_width": 3,
          "species": "virginica"
         },
         {
          "petal_length": 4.5,
          "petal_width": 1.7,
          "sepal_length": 4.9,
          "sepal_width": 2.5,
          "species": "virginica"
         },
         {
          "petal_length": 6.3,
          "petal_width": 1.8,
          "sepal_length": 7.3,
          "sepal_width": 2.9,
          "species": "virginica"
         },
         {
          "petal_length": 5.8,
          "petal_width": 1.8,
          "sepal_length": 6.7,
          "sepal_width": 2.5,
          "species": "virginica"
         },
         {
          "petal_length": 6.1,
          "petal_width": 2.5,
          "sepal_length": 7.2,
          "sepal_width": 3.6,
          "species": "virginica"
         },
         {
          "petal_length": 5.1,
          "petal_width": 2,
          "sepal_length": 6.5,
          "sepal_width": 3.2,
          "species": "virginica"
         },
         {
          "petal_length": 5.3,
          "petal_width": 1.9,
          "sepal_length": 6.4,
          "sepal_width": 2.7,
          "species": "virginica"
         },
         {
          "petal_length": 5.5,
          "petal_width": 2.1,
          "sepal_length": 6.8,
          "sepal_width": 3,
          "species": "virginica"
         },
         {
          "petal_length": 5,
          "petal_width": 2,
          "sepal_length": 5.7,
          "sepal_width": 2.5,
          "species": "virginica"
         },
         {
          "petal_length": 5.1,
          "petal_width": 2.4,
          "sepal_length": 5.8,
          "sepal_width": 2.8,
          "species": "virginica"
         },
         {
          "petal_length": 5.3,
          "petal_width": 2.3,
          "sepal_length": 6.4,
          "sepal_width": 3.2,
          "species": "virginica"
         },
         {
          "petal_length": 5.5,
          "petal_width": 1.8,
          "sepal_length": 6.5,
          "sepal_width": 3,
          "species": "virginica"
         },
         {
          "petal_length": 6.7,
          "petal_width": 2.2,
          "sepal_length": 7.7,
          "sepal_width": 3.8,
          "species": "virginica"
         },
         {
          "petal_length": 6.9,
          "petal_width": 2.3,
          "sepal_length": 7.7,
          "sepal_width": 2.6,
          "species": "virginica"
         },
         {
          "petal_length": 5,
          "petal_width": 1.5,
          "sepal_length": 6,
          "sepal_width": 2.2,
          "species": "virginica"
         },
         {
          "petal_length": 5.7,
          "petal_width": 2.3,
          "sepal_length": 6.9,
          "sepal_width": 3.2,
          "species": "virginica"
         },
         {
          "petal_length": 4.9,
          "petal_width": 2,
          "sepal_length": 5.6,
          "sepal_width": 2.8,
          "species": "virginica"
         },
         {
          "petal_length": 6.7,
          "petal_width": 2,
          "sepal_length": 7.7,
          "sepal_width": 2.8,
          "species": "virginica"
         },
         {
          "petal_length": 4.9,
          "petal_width": 1.8,
          "sepal_length": 6.3,
          "sepal_width": 2.7,
          "species": "virginica"
         },
         {
          "petal_length": 5.7,
          "petal_width": 2.1,
          "sepal_length": 6.7,
          "sepal_width": 3.3,
          "species": "virginica"
         },
         {
          "petal_length": 6,
          "petal_width": 1.8,
          "sepal_length": 7.2,
          "sepal_width": 3.2,
          "species": "virginica"
         },
         {
          "petal_length": 4.8,
          "petal_width": 1.8,
          "sepal_length": 6.2,
          "sepal_width": 2.8,
          "species": "virginica"
         },
         {
          "petal_length": 4.9,
          "petal_width": 1.8,
          "sepal_length": 6.1,
          "sepal_width": 3,
          "species": "virginica"
         },
         {
          "petal_length": 5.6,
          "petal_width": 2.1,
          "sepal_length": 6.4,
          "sepal_width": 2.8,
          "species": "virginica"
         },
         {
          "petal_length": 5.8,
          "petal_width": 1.6,
          "sepal_length": 7.2,
          "sepal_width": 3,
          "species": "virginica"
         },
         {
          "petal_length": 6.1,
          "petal_width": 1.9,
          "sepal_length": 7.4,
          "sepal_width": 2.8,
          "species": "virginica"
         },
         {
          "petal_length": 6.4,
          "petal_width": 2,
          "sepal_length": 7.9,
          "sepal_width": 3.8,
          "species": "virginica"
         },
         {
          "petal_length": 5.6,
          "petal_width": 2.2,
          "sepal_length": 6.4,
          "sepal_width": 2.8,
          "species": "virginica"
         },
         {
          "petal_length": 5.1,
          "petal_width": 1.5,
          "sepal_length": 6.3,
          "sepal_width": 2.8,
          "species": "virginica"
         },
         {
          "petal_length": 5.6,
          "petal_width": 1.4,
          "sepal_length": 6.1,
          "sepal_width": 2.6,
          "species": "virginica"
         },
         {
          "petal_length": 6.1,
          "petal_width": 2.3,
          "sepal_length": 7.7,
          "sepal_width": 3,
          "species": "virginica"
         },
         {
          "petal_length": 5.6,
          "petal_width": 2.4,
          "sepal_length": 6.3,
          "sepal_width": 3.4,
          "species": "virginica"
         },
         {
          "petal_length": 5.5,
          "petal_width": 1.8,
          "sepal_length": 6.4,
          "sepal_width": 3.1,
          "species": "virginica"
         },
         {
          "petal_length": 4.8,
          "petal_width": 1.8,
          "sepal_length": 6,
          "sepal_width": 3,
          "species": "virginica"
         },
         {
          "petal_length": 5.4,
          "petal_width": 2.1,
          "sepal_length": 6.9,
          "sepal_width": 3.1,
          "species": "virginica"
         },
         {
          "petal_length": 5.6,
          "petal_width": 2.4,
          "sepal_length": 6.7,
          "sepal_width": 3.1,
          "species": "virginica"
         },
         {
          "petal_length": 5.1,
          "petal_width": 2.3,
          "sepal_length": 6.9,
          "sepal_width": 3.1,
          "species": "virginica"
         },
         {
          "petal_length": 5.1,
          "petal_width": 1.9,
          "sepal_length": 5.8,
          "sepal_width": 2.7,
          "species": "virginica"
         },
         {
          "petal_length": 5.9,
          "petal_width": 2.3,
          "sepal_length": 6.8,
          "sepal_width": 3.2,
          "species": "virginica"
         },
         {
          "petal_length": 5.7,
          "petal_width": 2.5,
          "sepal_length": 6.7,
          "sepal_width": 3.3,
          "species": "virginica"
         },
         {
          "petal_length": 5.2,
          "petal_width": 2.3,
          "sepal_length": 6.7,
          "sepal_width": 3,
          "species": "virginica"
         },
         {
          "petal_length": 5,
          "petal_width": 1.9,
          "sepal_length": 6.3,
          "sepal_width": 2.5,
          "species": "virginica"
         },
         {
          "petal_length": 5.2,
          "petal_width": 2,
          "sepal_length": 6.5,
          "sepal_width": 3,
          "species": "virginica"
         },
         {
          "petal_length": 5.4,
          "petal_width": 2.3,
          "sepal_length": 6.2,
          "sepal_width": 3.4,
          "species": "virginica"
         },
         {
          "petal_length": 5.1,
          "petal_width": 1.8,
          "sepal_length": 5.9,
          "sepal_width": 3,
          "species": "virginica"
         }
        ]
       },
       "encoding": {
        "color": {
         "field": "species",
         "type": "nominal"
        },
        "size": {
         "field": "petal_width",
         "type": "quantitative"
        },
        "x": {
         "field": "sepal_length",
         "scale": {
          "zero": false
         },
         "type": "quantitative"
        },
        "y": {
         "field": "sepal_width",
         "scale": {
          "padding": 1,
          "zero": false
         },
         "type": "quantitative"
        }
       },
       "mark": "circle"
      },
      "image/png": "[encoded data removed]",
      "text/plain": [
       "<VegaLite 3 object>\n",
       "\n",
       "If you see this message, it means the renderer has not been properly enabled\n",
       "for the frontend that you are using. For more information, see\n",
       "https://altair-viz.github.io/user_guide/troubleshooting.html\n"
      ]
     },
     "execution_count": 130,
     "metadata": {},
     "output_type": "execute_result"
    }
   ],
   "source": [
    "alt.Chart(df).mark_circle().encode(\n",
    "    alt.X('sepal_length', scale=alt.Scale(zero=False)),\n",
    "    alt.Y('sepal_width', scale=alt.Scale(zero=False, padding=1)),\n",
    "    color='species',\n",
    "    size='petal_width'\n",
    ")"
   ]
  },
  {
   "cell_type": "markdown",
   "metadata": {},
   "source": [
    "## Adding interactivity (selections)"
   ]
  },
  {
   "cell_type": "code",
   "execution_count": 83,
   "metadata": {},
   "outputs": [
    {
     "data": {
      "application/vnd.vegalite.v3+json": {
       "$schema": "https://vega.github.io/schema/vega-lite/v3.4.0.json",
       "config": {
        "mark": {
         "tooltip": null
        },
        "view": {
         "height": 300,
         "width": 400
        }
       },
       "data": {
        "name": "data-a4bd480ea976f54878a155ce12ba18ce"
       },
       "datasets": {
        "data-a4bd480ea976f54878a155ce12ba18ce": [
         {
          "petal_length": 1.4,
          "petal_width": 0.2,
          "sepal_length": 5.1,
          "sepal_width": 3.5,
          "species": "setosa"
         },
         {
          "petal_length": 1.4,
          "petal_width": 0.2,
          "sepal_length": 4.9,
          "sepal_width": 3,
          "species": "setosa"
         },
         {
          "petal_length": 1.3,
          "petal_width": 0.2,
          "sepal_length": 4.7,
          "sepal_width": 3.2,
          "species": "setosa"
         },
         {
          "petal_length": 1.5,
          "petal_width": 0.2,
          "sepal_length": 4.6,
          "sepal_width": 3.1,
          "species": "setosa"
         },
         {
          "petal_length": 1.4,
          "petal_width": 0.2,
          "sepal_length": 5,
          "sepal_width": 3.6,
          "species": "setosa"
         },
         {
          "petal_length": 1.7,
          "petal_width": 0.4,
          "sepal_length": 5.4,
          "sepal_width": 3.9,
          "species": "setosa"
         },
         {
          "petal_length": 1.4,
          "petal_width": 0.3,
          "sepal_length": 4.6,
          "sepal_width": 3.4,
          "species": "setosa"
         },
         {
          "petal_length": 1.5,
          "petal_width": 0.2,
          "sepal_length": 5,
          "sepal_width": 3.4,
          "species": "setosa"
         },
         {
          "petal_length": 1.4,
          "petal_width": 0.2,
          "sepal_length": 4.4,
          "sepal_width": 2.9,
          "species": "setosa"
         },
         {
          "petal_length": 1.5,
          "petal_width": 0.1,
          "sepal_length": 4.9,
          "sepal_width": 3.1,
          "species": "setosa"
         },
         {
          "petal_length": 1.5,
          "petal_width": 0.2,
          "sepal_length": 5.4,
          "sepal_width": 3.7,
          "species": "setosa"
         },
         {
          "petal_length": 1.6,
          "petal_width": 0.2,
          "sepal_length": 4.8,
          "sepal_width": 3.4,
          "species": "setosa"
         },
         {
          "petal_length": 1.4,
          "petal_width": 0.1,
          "sepal_length": 4.8,
          "sepal_width": 3,
          "species": "setosa"
         },
         {
          "petal_length": 1.1,
          "petal_width": 0.1,
          "sepal_length": 4.3,
          "sepal_width": 3,
          "species": "setosa"
         },
         {
          "petal_length": 1.2,
          "petal_width": 0.2,
          "sepal_length": 5.8,
          "sepal_width": 4,
          "species": "setosa"
         },
         {
          "petal_length": 1.5,
          "petal_width": 0.4,
          "sepal_length": 5.7,
          "sepal_width": 4.4,
          "species": "setosa"
         },
         {
          "petal_length": 1.3,
          "petal_width": 0.4,
          "sepal_length": 5.4,
          "sepal_width": 3.9,
          "species": "setosa"
         },
         {
          "petal_length": 1.4,
          "petal_width": 0.3,
          "sepal_length": 5.1,
          "sepal_width": 3.5,
          "species": "setosa"
         },
         {
          "petal_length": 1.7,
          "petal_width": 0.3,
          "sepal_length": 5.7,
          "sepal_width": 3.8,
          "species": "setosa"
         },
         {
          "petal_length": 1.5,
          "petal_width": 0.3,
          "sepal_length": 5.1,
          "sepal_width": 3.8,
          "species": "setosa"
         },
         {
          "petal_length": 1.7,
          "petal_width": 0.2,
          "sepal_length": 5.4,
          "sepal_width": 3.4,
          "species": "setosa"
         },
         {
          "petal_length": 1.5,
          "petal_width": 0.4,
          "sepal_length": 5.1,
          "sepal_width": 3.7,
          "species": "setosa"
         },
         {
          "petal_length": 1,
          "petal_width": 0.2,
          "sepal_length": 4.6,
          "sepal_width": 3.6,
          "species": "setosa"
         },
         {
          "petal_length": 1.7,
          "petal_width": 0.5,
          "sepal_length": 5.1,
          "sepal_width": 3.3,
          "species": "setosa"
         },
         {
          "petal_length": 1.9,
          "petal_width": 0.2,
          "sepal_length": 4.8,
          "sepal_width": 3.4,
          "species": "setosa"
         },
         {
          "petal_length": 1.6,
          "petal_width": 0.2,
          "sepal_length": 5,
          "sepal_width": 3,
          "species": "setosa"
         },
         {
          "petal_length": 1.6,
          "petal_width": 0.4,
          "sepal_length": 5,
          "sepal_width": 3.4,
          "species": "setosa"
         },
         {
          "petal_length": 1.5,
          "petal_width": 0.2,
          "sepal_length": 5.2,
          "sepal_width": 3.5,
          "species": "setosa"
         },
         {
          "petal_length": 1.4,
          "petal_width": 0.2,
          "sepal_length": 5.2,
          "sepal_width": 3.4,
          "species": "setosa"
         },
         {
          "petal_length": 1.6,
          "petal_width": 0.2,
          "sepal_length": 4.7,
          "sepal_width": 3.2,
          "species": "setosa"
         },
         {
          "petal_length": 1.6,
          "petal_width": 0.2,
          "sepal_length": 4.8,
          "sepal_width": 3.1,
          "species": "setosa"
         },
         {
          "petal_length": 1.5,
          "petal_width": 0.4,
          "sepal_length": 5.4,
          "sepal_width": 3.4,
          "species": "setosa"
         },
         {
          "petal_length": 1.5,
          "petal_width": 0.1,
          "sepal_length": 5.2,
          "sepal_width": 4.1,
          "species": "setosa"
         },
         {
          "petal_length": 1.4,
          "petal_width": 0.2,
          "sepal_length": 5.5,
          "sepal_width": 4.2,
          "species": "setosa"
         },
         {
          "petal_length": 1.5,
          "petal_width": 0.2,
          "sepal_length": 4.9,
          "sepal_width": 3.1,
          "species": "setosa"
         },
         {
          "petal_length": 1.2,
          "petal_width": 0.2,
          "sepal_length": 5,
          "sepal_width": 3.2,
          "species": "setosa"
         },
         {
          "petal_length": 1.3,
          "petal_width": 0.2,
          "sepal_length": 5.5,
          "sepal_width": 3.5,
          "species": "setosa"
         },
         {
          "petal_length": 1.4,
          "petal_width": 0.1,
          "sepal_length": 4.9,
          "sepal_width": 3.6,
          "species": "setosa"
         },
         {
          "petal_length": 1.3,
          "petal_width": 0.2,
          "sepal_length": 4.4,
          "sepal_width": 3,
          "species": "setosa"
         },
         {
          "petal_length": 1.5,
          "petal_width": 0.2,
          "sepal_length": 5.1,
          "sepal_width": 3.4,
          "species": "setosa"
         },
         {
          "petal_length": 1.3,
          "petal_width": 0.3,
          "sepal_length": 5,
          "sepal_width": 3.5,
          "species": "setosa"
         },
         {
          "petal_length": 1.3,
          "petal_width": 0.3,
          "sepal_length": 4.5,
          "sepal_width": 2.3,
          "species": "setosa"
         },
         {
          "petal_length": 1.3,
          "petal_width": 0.2,
          "sepal_length": 4.4,
          "sepal_width": 3.2,
          "species": "setosa"
         },
         {
          "petal_length": 1.6,
          "petal_width": 0.6,
          "sepal_length": 5,
          "sepal_width": 3.5,
          "species": "setosa"
         },
         {
          "petal_length": 1.9,
          "petal_width": 0.4,
          "sepal_length": 5.1,
          "sepal_width": 3.8,
          "species": "setosa"
         },
         {
          "petal_length": 1.4,
          "petal_width": 0.3,
          "sepal_length": 4.8,
          "sepal_width": 3,
          "species": "setosa"
         },
         {
          "petal_length": 1.6,
          "petal_width": 0.2,
          "sepal_length": 5.1,
          "sepal_width": 3.8,
          "species": "setosa"
         },
         {
          "petal_length": 1.4,
          "petal_width": 0.2,
          "sepal_length": 4.6,
          "sepal_width": 3.2,
          "species": "setosa"
         },
         {
          "petal_length": 1.5,
          "petal_width": 0.2,
          "sepal_length": 5.3,
          "sepal_width": 3.7,
          "species": "setosa"
         },
         {
          "petal_length": 1.4,
          "petal_width": 0.2,
          "sepal_length": 5,
          "sepal_width": 3.3,
          "species": "setosa"
         },
         {
          "petal_length": 4.7,
          "petal_width": 1.4,
          "sepal_length": 7,
          "sepal_width": 3.2,
          "species": "versicolor"
         },
         {
          "petal_length": 4.5,
          "petal_width": 1.5,
          "sepal_length": 6.4,
          "sepal_width": 3.2,
          "species": "versicolor"
         },
         {
          "petal_length": 4.9,
          "petal_width": 1.5,
          "sepal_length": 6.9,
          "sepal_width": 3.1,
          "species": "versicolor"
         },
         {
          "petal_length": 4,
          "petal_width": 1.3,
          "sepal_length": 5.5,
          "sepal_width": 2.3,
          "species": "versicolor"
         },
         {
          "petal_length": 4.6,
          "petal_width": 1.5,
          "sepal_length": 6.5,
          "sepal_width": 2.8,
          "species": "versicolor"
         },
         {
          "petal_length": 4.5,
          "petal_width": 1.3,
          "sepal_length": 5.7,
          "sepal_width": 2.8,
          "species": "versicolor"
         },
         {
          "petal_length": 4.7,
          "petal_width": 1.6,
          "sepal_length": 6.3,
          "sepal_width": 3.3,
          "species": "versicolor"
         },
         {
          "petal_length": 3.3,
          "petal_width": 1,
          "sepal_length": 4.9,
          "sepal_width": 2.4,
          "species": "versicolor"
         },
         {
          "petal_length": 4.6,
          "petal_width": 1.3,
          "sepal_length": 6.6,
          "sepal_width": 2.9,
          "species": "versicolor"
         },
         {
          "petal_length": 3.9,
          "petal_width": 1.4,
          "sepal_length": 5.2,
          "sepal_width": 2.7,
          "species": "versicolor"
         },
         {
          "petal_length": 3.5,
          "petal_width": 1,
          "sepal_length": 5,
          "sepal_width": 2,
          "species": "versicolor"
         },
         {
          "petal_length": 4.2,
          "petal_width": 1.5,
          "sepal_length": 5.9,
          "sepal_width": 3,
          "species": "versicolor"
         },
         {
          "petal_length": 4,
          "petal_width": 1,
          "sepal_length": 6,
          "sepal_width": 2.2,
          "species": "versicolor"
         },
         {
          "petal_length": 4.7,
          "petal_width": 1.4,
          "sepal_length": 6.1,
          "sepal_width": 2.9,
          "species": "versicolor"
         },
         {
          "petal_length": 3.6,
          "petal_width": 1.3,
          "sepal_length": 5.6,
          "sepal_width": 2.9,
          "species": "versicolor"
         },
         {
          "petal_length": 4.4,
          "petal_width": 1.4,
          "sepal_length": 6.7,
          "sepal_width": 3.1,
          "species": "versicolor"
         },
         {
          "petal_length": 4.5,
          "petal_width": 1.5,
          "sepal_length": 5.6,
          "sepal_width": 3,
          "species": "versicolor"
         },
         {
          "petal_length": 4.1,
          "petal_width": 1,
          "sepal_length": 5.8,
          "sepal_width": 2.7,
          "species": "versicolor"
         },
         {
          "petal_length": 4.5,
          "petal_width": 1.5,
          "sepal_length": 6.2,
          "sepal_width": 2.2,
          "species": "versicolor"
         },
         {
          "petal_length": 3.9,
          "petal_width": 1.1,
          "sepal_length": 5.6,
          "sepal_width": 2.5,
          "species": "versicolor"
         },
         {
          "petal_length": 4.8,
          "petal_width": 1.8,
          "sepal_length": 5.9,
          "sepal_width": 3.2,
          "species": "versicolor"
         },
         {
          "petal_length": 4,
          "petal_width": 1.3,
          "sepal_length": 6.1,
          "sepal_width": 2.8,
          "species": "versicolor"
         },
         {
          "petal_length": 4.9,
          "petal_width": 1.5,
          "sepal_length": 6.3,
          "sepal_width": 2.5,
          "species": "versicolor"
         },
         {
          "petal_length": 4.7,
          "petal_width": 1.2,
          "sepal_length": 6.1,
          "sepal_width": 2.8,
          "species": "versicolor"
         },
         {
          "petal_length": 4.3,
          "petal_width": 1.3,
          "sepal_length": 6.4,
          "sepal_width": 2.9,
          "species": "versicolor"
         },
         {
          "petal_length": 4.4,
          "petal_width": 1.4,
          "sepal_length": 6.6,
          "sepal_width": 3,
          "species": "versicolor"
         },
         {
          "petal_length": 4.8,
          "petal_width": 1.4,
          "sepal_length": 6.8,
          "sepal_width": 2.8,
          "species": "versicolor"
         },
         {
          "petal_length": 5,
          "petal_width": 1.7,
          "sepal_length": 6.7,
          "sepal_width": 3,
          "species": "versicolor"
         },
         {
          "petal_length": 4.5,
          "petal_width": 1.5,
          "sepal_length": 6,
          "sepal_width": 2.9,
          "species": "versicolor"
         },
         {
          "petal_length": 3.5,
          "petal_width": 1,
          "sepal_length": 5.7,
          "sepal_width": 2.6,
          "species": "versicolor"
         },
         {
          "petal_length": 3.8,
          "petal_width": 1.1,
          "sepal_length": 5.5,
          "sepal_width": 2.4,
          "species": "versicolor"
         },
         {
          "petal_length": 3.7,
          "petal_width": 1,
          "sepal_length": 5.5,
          "sepal_width": 2.4,
          "species": "versicolor"
         },
         {
          "petal_length": 3.9,
          "petal_width": 1.2,
          "sepal_length": 5.8,
          "sepal_width": 2.7,
          "species": "versicolor"
         },
         {
          "petal_length": 5.1,
          "petal_width": 1.6,
          "sepal_length": 6,
          "sepal_width": 2.7,
          "species": "versicolor"
         },
         {
          "petal_length": 4.5,
          "petal_width": 1.5,
          "sepal_length": 5.4,
          "sepal_width": 3,
          "species": "versicolor"
         },
         {
          "petal_length": 4.5,
          "petal_width": 1.6,
          "sepal_length": 6,
          "sepal_width": 3.4,
          "species": "versicolor"
         },
         {
          "petal_length": 4.7,
          "petal_width": 1.5,
          "sepal_length": 6.7,
          "sepal_width": 3.1,
          "species": "versicolor"
         },
         {
          "petal_length": 4.4,
          "petal_width": 1.3,
          "sepal_length": 6.3,
          "sepal_width": 2.3,
          "species": "versicolor"
         },
         {
          "petal_length": 4.1,
          "petal_width": 1.3,
          "sepal_length": 5.6,
          "sepal_width": 3,
          "species": "versicolor"
         },
         {
          "petal_length": 4,
          "petal_width": 1.3,
          "sepal_length": 5.5,
          "sepal_width": 2.5,
          "species": "versicolor"
         },
         {
          "petal_length": 4.4,
          "petal_width": 1.2,
          "sepal_length": 5.5,
          "sepal_width": 2.6,
          "species": "versicolor"
         },
         {
          "petal_length": 4.6,
          "petal_width": 1.4,
          "sepal_length": 6.1,
          "sepal_width": 3,
          "species": "versicolor"
         },
         {
          "petal_length": 4,
          "petal_width": 1.2,
          "sepal_length": 5.8,
          "sepal_width": 2.6,
          "species": "versicolor"
         },
         {
          "petal_length": 3.3,
          "petal_width": 1,
          "sepal_length": 5,
          "sepal_width": 2.3,
          "species": "versicolor"
         },
         {
          "petal_length": 4.2,
          "petal_width": 1.3,
          "sepal_length": 5.6,
          "sepal_width": 2.7,
          "species": "versicolor"
         },
         {
          "petal_length": 4.2,
          "petal_width": 1.2,
          "sepal_length": 5.7,
          "sepal_width": 3,
          "species": "versicolor"
         },
         {
          "petal_length": 4.2,
          "petal_width": 1.3,
          "sepal_length": 5.7,
          "sepal_width": 2.9,
          "species": "versicolor"
         },
         {
          "petal_length": 4.3,
          "petal_width": 1.3,
          "sepal_length": 6.2,
          "sepal_width": 2.9,
          "species": "versicolor"
         },
         {
          "petal_length": 3,
          "petal_width": 1.1,
          "sepal_length": 5.1,
          "sepal_width": 2.5,
          "species": "versicolor"
         },
         {
          "petal_length": 4.1,
          "petal_width": 1.3,
          "sepal_length": 5.7,
          "sepal_width": 2.8,
          "species": "versicolor"
         },
         {
          "petal_length": 6,
          "petal_width": 2.5,
          "sepal_length": 6.3,
          "sepal_width": 3.3,
          "species": "virginica"
         },
         {
          "petal_length": 5.1,
          "petal_width": 1.9,
          "sepal_length": 5.8,
          "sepal_width": 2.7,
          "species": "virginica"
         },
         {
          "petal_length": 5.9,
          "petal_width": 2.1,
          "sepal_length": 7.1,
          "sepal_width": 3,
          "species": "virginica"
         },
         {
          "petal_length": 5.6,
          "petal_width": 1.8,
          "sepal_length": 6.3,
          "sepal_width": 2.9,
          "species": "virginica"
         },
         {
          "petal_length": 5.8,
          "petal_width": 2.2,
          "sepal_length": 6.5,
          "sepal_width": 3,
          "species": "virginica"
         },
         {
          "petal_length": 6.6,
          "petal_width": 2.1,
          "sepal_length": 7.6,
          "sepal_width": 3,
          "species": "virginica"
         },
         {
          "petal_length": 4.5,
          "petal_width": 1.7,
          "sepal_length": 4.9,
          "sepal_width": 2.5,
          "species": "virginica"
         },
         {
          "petal_length": 6.3,
          "petal_width": 1.8,
          "sepal_length": 7.3,
          "sepal_width": 2.9,
          "species": "virginica"
         },
         {
          "petal_length": 5.8,
          "petal_width": 1.8,
          "sepal_length": 6.7,
          "sepal_width": 2.5,
          "species": "virginica"
         },
         {
          "petal_length": 6.1,
          "petal_width": 2.5,
          "sepal_length": 7.2,
          "sepal_width": 3.6,
          "species": "virginica"
         },
         {
          "petal_length": 5.1,
          "petal_width": 2,
          "sepal_length": 6.5,
          "sepal_width": 3.2,
          "species": "virginica"
         },
         {
          "petal_length": 5.3,
          "petal_width": 1.9,
          "sepal_length": 6.4,
          "sepal_width": 2.7,
          "species": "virginica"
         },
         {
          "petal_length": 5.5,
          "petal_width": 2.1,
          "sepal_length": 6.8,
          "sepal_width": 3,
          "species": "virginica"
         },
         {
          "petal_length": 5,
          "petal_width": 2,
          "sepal_length": 5.7,
          "sepal_width": 2.5,
          "species": "virginica"
         },
         {
          "petal_length": 5.1,
          "petal_width": 2.4,
          "sepal_length": 5.8,
          "sepal_width": 2.8,
          "species": "virginica"
         },
         {
          "petal_length": 5.3,
          "petal_width": 2.3,
          "sepal_length": 6.4,
          "sepal_width": 3.2,
          "species": "virginica"
         },
         {
          "petal_length": 5.5,
          "petal_width": 1.8,
          "sepal_length": 6.5,
          "sepal_width": 3,
          "species": "virginica"
         },
         {
          "petal_length": 6.7,
          "petal_width": 2.2,
          "sepal_length": 7.7,
          "sepal_width": 3.8,
          "species": "virginica"
         },
         {
          "petal_length": 6.9,
          "petal_width": 2.3,
          "sepal_length": 7.7,
          "sepal_width": 2.6,
          "species": "virginica"
         },
         {
          "petal_length": 5,
          "petal_width": 1.5,
          "sepal_length": 6,
          "sepal_width": 2.2,
          "species": "virginica"
         },
         {
          "petal_length": 5.7,
          "petal_width": 2.3,
          "sepal_length": 6.9,
          "sepal_width": 3.2,
          "species": "virginica"
         },
         {
          "petal_length": 4.9,
          "petal_width": 2,
          "sepal_length": 5.6,
          "sepal_width": 2.8,
          "species": "virginica"
         },
         {
          "petal_length": 6.7,
          "petal_width": 2,
          "sepal_length": 7.7,
          "sepal_width": 2.8,
          "species": "virginica"
         },
         {
          "petal_length": 4.9,
          "petal_width": 1.8,
          "sepal_length": 6.3,
          "sepal_width": 2.7,
          "species": "virginica"
         },
         {
          "petal_length": 5.7,
          "petal_width": 2.1,
          "sepal_length": 6.7,
          "sepal_width": 3.3,
          "species": "virginica"
         },
         {
          "petal_length": 6,
          "petal_width": 1.8,
          "sepal_length": 7.2,
          "sepal_width": 3.2,
          "species": "virginica"
         },
         {
          "petal_length": 4.8,
          "petal_width": 1.8,
          "sepal_length": 6.2,
          "sepal_width": 2.8,
          "species": "virginica"
         },
         {
          "petal_length": 4.9,
          "petal_width": 1.8,
          "sepal_length": 6.1,
          "sepal_width": 3,
          "species": "virginica"
         },
         {
          "petal_length": 5.6,
          "petal_width": 2.1,
          "sepal_length": 6.4,
          "sepal_width": 2.8,
          "species": "virginica"
         },
         {
          "petal_length": 5.8,
          "petal_width": 1.6,
          "sepal_length": 7.2,
          "sepal_width": 3,
          "species": "virginica"
         },
         {
          "petal_length": 6.1,
          "petal_width": 1.9,
          "sepal_length": 7.4,
          "sepal_width": 2.8,
          "species": "virginica"
         },
         {
          "petal_length": 6.4,
          "petal_width": 2,
          "sepal_length": 7.9,
          "sepal_width": 3.8,
          "species": "virginica"
         },
         {
          "petal_length": 5.6,
          "petal_width": 2.2,
          "sepal_length": 6.4,
          "sepal_width": 2.8,
          "species": "virginica"
         },
         {
          "petal_length": 5.1,
          "petal_width": 1.5,
          "sepal_length": 6.3,
          "sepal_width": 2.8,
          "species": "virginica"
         },
         {
          "petal_length": 5.6,
          "petal_width": 1.4,
          "sepal_length": 6.1,
          "sepal_width": 2.6,
          "species": "virginica"
         },
         {
          "petal_length": 6.1,
          "petal_width": 2.3,
          "sepal_length": 7.7,
          "sepal_width": 3,
          "species": "virginica"
         },
         {
          "petal_length": 5.6,
          "petal_width": 2.4,
          "sepal_length": 6.3,
          "sepal_width": 3.4,
          "species": "virginica"
         },
         {
          "petal_length": 5.5,
          "petal_width": 1.8,
          "sepal_length": 6.4,
          "sepal_width": 3.1,
          "species": "virginica"
         },
         {
          "petal_length": 4.8,
          "petal_width": 1.8,
          "sepal_length": 6,
          "sepal_width": 3,
          "species": "virginica"
         },
         {
          "petal_length": 5.4,
          "petal_width": 2.1,
          "sepal_length": 6.9,
          "sepal_width": 3.1,
          "species": "virginica"
         },
         {
          "petal_length": 5.6,
          "petal_width": 2.4,
          "sepal_length": 6.7,
          "sepal_width": 3.1,
          "species": "virginica"
         },
         {
          "petal_length": 5.1,
          "petal_width": 2.3,
          "sepal_length": 6.9,
          "sepal_width": 3.1,
          "species": "virginica"
         },
         {
          "petal_length": 5.1,
          "petal_width": 1.9,
          "sepal_length": 5.8,
          "sepal_width": 2.7,
          "species": "virginica"
         },
         {
          "petal_length": 5.9,
          "petal_width": 2.3,
          "sepal_length": 6.8,
          "sepal_width": 3.2,
          "species": "virginica"
         },
         {
          "petal_length": 5.7,
          "petal_width": 2.5,
          "sepal_length": 6.7,
          "sepal_width": 3.3,
          "species": "virginica"
         },
         {
          "petal_length": 5.2,
          "petal_width": 2.3,
          "sepal_length": 6.7,
          "sepal_width": 3,
          "species": "virginica"
         },
         {
          "petal_length": 5,
          "petal_width": 1.9,
          "sepal_length": 6.3,
          "sepal_width": 2.5,
          "species": "virginica"
         },
         {
          "petal_length": 5.2,
          "petal_width": 2,
          "sepal_length": 6.5,
          "sepal_width": 3,
          "species": "virginica"
         },
         {
          "petal_length": 5.4,
          "petal_width": 2.3,
          "sepal_length": 6.2,
          "sepal_width": 3.4,
          "species": "virginica"
         },
         {
          "petal_length": 5.1,
          "petal_width": 1.8,
          "sepal_length": 5.9,
          "sepal_width": 3,
          "species": "virginica"
         }
        ]
       },
       "encoding": {
        "color": {
         "field": "species",
         "type": "nominal"
        },
        "size": {
         "field": "petal_width",
         "type": "quantitative"
        },
        "x": {
         "field": "sepal_length",
         "scale": {
          "zero": false
         },
         "type": "quantitative"
        },
        "y": {
         "field": "sepal_width",
         "scale": {
          "padding": 1,
          "zero": false
         },
         "type": "quantitative"
        }
       },
       "mark": "circle"
      },
      "image/png": "[encoded data removed]",
      "text/plain": [
       "<VegaLite 3 object>\n",
       "\n",
       "If you see this message, it means the renderer has not been properly enabled\n",
       "for the frontend that you are using. For more information, see\n",
       "https://altair-viz.github.io/user_guide/troubleshooting.html\n"
      ]
     },
     "execution_count": 83,
     "metadata": {},
     "output_type": "execute_result"
    }
   ],
   "source": [
    "# version 2\n",
    "alt.Chart(df).mark_circle().encode(\n",
    "    alt.X('sepal_length', scale=alt.Scale(zero=False)),\n",
    "    alt.Y('sepal_width', scale=alt.Scale(zero=False, padding=1)),\n",
    "    color='species',\n",
    "    size='petal_width'\n",
    ")"
   ]
  },
  {
   "cell_type": "code",
   "execution_count": null,
   "metadata": {},
   "outputs": [],
   "source": []
  }
 ],
 "metadata": {
  "kernelspec": {
   "display_name": "Python 3",
   "language": "python",
   "name": "python3"
  },
  "language_info": {
   "codemirror_mode": {
    "name": "ipython",
    "version": 3
   },
   "file_extension": ".py",
   "mimetype": "text/x-python",
   "name": "python",
   "nbconvert_exporter": "python",
   "pygments_lexer": "ipython3",
   "version": "3.6.8"
  }
 },
 "nbformat": 4,
 "nbformat_minor": 4
}
