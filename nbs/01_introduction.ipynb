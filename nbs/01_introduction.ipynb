{
 "cells": [
  {
   "cell_type": "markdown",
   "metadata": {},
   "source": [
    "![](../images/logos.jpg \"MiCMOR, KIT Campus Alpin\")\n",
    "\n",
    "**[MiCMOR](https://micmor.kit.edu) [SummerSchool \"Environmental Data Science: From Data Exploration to Deep Learning\"](https://micmor.kit.edu/sites/default/files/MICMoR%20Summer%20School%202019%20Flyer.pdf)**, IMK-IFU KIT Campus Alpin, Sept. 4 - 13 2019, Garmisch-Partenkirchen, Germany.  \n",
    "\n",
    "***\n",
    "# Notebook 01 Introduction\n",
    "\n",
    "## Welcome\n",
    "\n",
    "Welcome to this years' SummerSchool. First, let's introduce our work environment. If you are familiar with [Jupyter](https://jupyter.org) (we use [jupyter-lab](https://jupyterlab.readthedocs.io/en/stable/)), [Python](https://www.python.org) and the PyData stack feel free to skip this notebook and jump right into [Notebook 02](02_dataaccess.ipynb). "
   ]
  },
  {
   "cell_type": "markdown",
   "metadata": {},
   "source": [
    "## Course environment\n",
    "\n",
    "The course is design to be run in as a [docker](https://www.docker.com) environment - thus guaranteeing a consistent setup for all students and limiting specific setup troubles. You can think of a docker environment as a light-weight virtual machine. \n",
    "\n",
    "### Local and remote images of the course\n",
    "\n",
    "### Version control (git)\n",
    "\n",
    "### Tipps and tricks"
   ]
  },
  {
   "cell_type": "markdown",
   "metadata": {},
   "source": [
    "### Jupyter\n",
    "\n",
    "#### Concept and functionality\n",
    "\n",
    "#### Basic navigation \n",
    "\n",
    "#### Common notebook setup\n",
    "\n",
    "### Python\n",
    "\n",
    "#### The language\n",
    "\n",
    "\n",
    "#### Tipps and tricks for getting up to speed\n",
    "\n",
    "\n",
    "#### Essential PyData libraries\n",
    "We use a wide range of python extensions (libraries) that provide huge amount of extra functionality. They will be introduced as needed in the course, but a few of them are so fundamental to the PyData ecosystem that we introduce them here.\n",
    "\n",
    "**References:**\n",
    "- Python: [basics](https://realpython.com/tutorials/basics/), [intermediate](https://realpython.com/tutorials/intermediate/)\n",
    "- Numpy: [numpy quickstart](https://www.numpy.org/devdocs/user/quickstart.html)\n",
    "- Pandas: [pandas user guide](https://pandas.pydata.org/pandas-docs/stable/user_guide/index.html)\n",
    "- Xarray: [xarray docs](http://xarray.pydata.org/en/stable)\n",
    "\n",
    "**Other:**\n",
    "- [Python ML](https://realpython.com/tutorials/machine-learning/)\n",
    "- [Python Data Science](https://realpython.com/tutorials/data-science/)"
   ]
  },
  {
   "cell_type": "code",
   "execution_count": null,
   "metadata": {},
   "outputs": [],
   "source": []
  },
  {
   "cell_type": "code",
   "execution_count": 1,
   "metadata": {},
   "outputs": [],
   "source": [
    "%matplotlib inline\n",
    "%load_ext autoreload\n",
    "%autoreload 2"
   ]
  },
  {
   "cell_type": "code",
   "execution_count": 2,
   "metadata": {},
   "outputs": [],
   "source": [
    "import matplotlib.pylab as plt\n",
    "import numpy as np\n",
    "import xarray as xr"
   ]
  },
  {
   "cell_type": "code",
   "execution_count": null,
   "metadata": {},
   "outputs": [],
   "source": []
  }
 ],
 "metadata": {
  "kernelspec": {
   "display_name": "ds-default",
   "language": "python",
   "name": "ds-default"
  },
  "language_info": {
   "codemirror_mode": {
    "name": "ipython",
    "version": 3
   },
   "file_extension": ".py",
   "mimetype": "text/x-python",
   "name": "python",
   "nbconvert_exporter": "python",
   "pygments_lexer": "ipython3",
   "version": "3.7.3"
  }
 },
 "nbformat": 4,
 "nbformat_minor": 4
}
