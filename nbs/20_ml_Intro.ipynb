{
 "cells": [
  {
   "cell_type": "markdown",
   "metadata": {},
   "source": [
    "## MICMoR Summer School 2019\n",
    "Prof. Dr.-Ing. Alexandra Teynor\n",
    "\n",
    "06.09.2019"
   ]
  },
  {
   "cell_type": "markdown",
   "metadata": {},
   "source": [
    "### Short Demos for Lecture \"Introduction to Machine Learning\"\n",
    "\n",
    "First, all necessary packeges need to be loaded:"
   ]
  },
  {
   "cell_type": "code",
   "execution_count": null,
   "metadata": {},
   "outputs": [],
   "source": [
    "import matplotlib.pyplot as plt\n",
    "import numpy as np\n",
    "from matplotlib.colors import ListedColormap\n",
    "from sklearn import datasets, neighbors\n",
    "from sklearn.model_selection import train_test_split"
   ]
  },
  {
   "cell_type": "markdown",
   "metadata": {},
   "source": [
    "### The famous Iris dataset"
   ]
  },
  {
   "cell_type": "code",
   "execution_count": null,
   "metadata": {},
   "outputs": [],
   "source": [
    "iris = datasets.load_iris()"
   ]
  },
  {
   "cell_type": "markdown",
   "metadata": {},
   "source": [
    "Show infos on the dataset (uncomment one and execute cell to see content)"
   ]
  },
  {
   "cell_type": "code",
   "execution_count": null,
   "metadata": {},
   "outputs": [],
   "source": [
    "#iris.DESCR\n",
    "#iris.data\n",
    "#iris.target\n",
    "#iris.target_names"
   ]
  },
  {
   "cell_type": "markdown",
   "metadata": {},
   "source": [
    "#### Prepare data: \n",
    "For better visualization, we only take two features per flower: sepal_length, sepal_width or petal_length, petal_width"
   ]
  },
  {
   "cell_type": "code",
   "execution_count": null,
   "metadata": {},
   "outputs": [],
   "source": [
    "iris.data = iris.data[:,:2] # (sepal_length, sepal_width)\n",
    "# or: \n",
    "#iris.data = iris.data[:,2:] # (petal_length, petal_width)\n",
    "\n",
    "# show data\n",
    "iris.data"
   ]
  },
  {
   "cell_type": "markdown",
   "metadata": {},
   "source": [
    "#### Visualize dataset:"
   ]
  },
  {
   "cell_type": "code",
   "execution_count": null,
   "metadata": {},
   "outputs": [],
   "source": [
    "# define colors (bold an light tone) for each class \n",
    "cmap_light = ListedColormap(['#FFAAAA', '#AAFFAA', '#AAAAFF'])\n",
    "cmap_bold = ['#FF0000', '#00FF00', '#0000FF']\n",
    "\n",
    "#scatterplot\n",
    "plt.scatter(iris.data[:50, 0], iris.data[:50, 1], c=cmap_bold[0], label=\"setosa\")\n",
    "plt.scatter(iris.data[50:100, 0], iris.data[50:100, 1], c=cmap_bold[1], label=\"versicolor\")\n",
    "plt.scatter(iris.data[100:, 0], iris.data[100:, 1], c=cmap_bold[2], label=\"verginica\")\n",
    "plt.xlabel('Sepal/Petal length')\n",
    "plt.ylabel('Sepal/Petal width')\n",
    "plt.legend()\n",
    "\n",
    "plt.title(\"Iris Dataset\")\n",
    "plt.show()"
   ]
  },
  {
   "cell_type": "markdown",
   "metadata": {},
   "source": [
    "#### Split data in training and test dataset:\n"
   ]
  },
  {
   "cell_type": "code",
   "execution_count": null,
   "metadata": {},
   "outputs": [],
   "source": [
    "X_train, X_test, y_train, y_test = train_test_split( iris.data, iris.target, test_size=0.2, random_state=0)"
   ]
  },
  {
   "cell_type": "markdown",
   "metadata": {},
   "source": [
    "## Classification\n",
    "\n",
    "#### Create a classifier : Nearest Neighbour\n",
    "\n",
    "In the first case, we a nearest neigbour classifier:"
   ]
  },
  {
   "cell_type": "code",
   "execution_count": null,
   "metadata": {},
   "outputs": [],
   "source": [
    "n_neighbors = 1  # number of neighbors to be considered\n",
    "\n",
    "knnClass = neighbors.KNeighborsClassifier(n_neighbors)\n"
   ]
  },
  {
   "cell_type": "markdown",
   "metadata": {},
   "source": [
    "#### Train classifier"
   ]
  },
  {
   "cell_type": "code",
   "execution_count": null,
   "metadata": {},
   "outputs": [],
   "source": [
    "knnClass.fit(X_train, y_train) \n"
   ]
  },
  {
   "cell_type": "markdown",
   "metadata": {},
   "source": [
    "#### Test classifier performance"
   ]
  },
  {
   "cell_type": "code",
   "execution_count": null,
   "metadata": {},
   "outputs": [],
   "source": [
    "# here just classification of the test data points to be tested\n",
    "classResult = knnClass.predict(X_test) \n",
    "print(classResult)"
   ]
  },
  {
   "cell_type": "code",
   "execution_count": null,
   "metadata": {},
   "outputs": [],
   "source": [
    "# here classification of potential new data (new flowers found...)\n",
    "measurementsOfNewFlowersFound = np.array([[4.8, 3.4],[5.3, 3.2]])\n",
    "classResult = knnClass.predict(measurementsOfNewFlowersFound)\n",
    "print(classResult)"
   ]
  },
  {
   "cell_type": "code",
   "execution_count": null,
   "metadata": {},
   "outputs": [],
   "source": [
    "# here classification and performance evaluation \n",
    "# at the same time (thus expected labels needed)\n",
    "knnClass.score(X_test, y_test) "
   ]
  },
  {
   "cell_type": "markdown",
   "metadata": {},
   "source": [
    "#### Visualize classification boundaries\n",
    "\n",
    "Idea:\n",
    " * generate a dense mesh of points to be classified\n",
    " * color each point according to the classifcation result \n",
    "    "
   ]
  },
  {
   "cell_type": "code",
   "execution_count": null,
   "metadata": {},
   "outputs": [],
   "source": [
    "# create dense mesh to be classified (results in xx, yy) \n",
    "x_min, x_max = iris.data[:, 0].min() - .5, iris.data[:, 0].max() + .5\n",
    "y_min, y_max = iris.data[:, 1].min() - .5, iris.data[:, 1].max() + .5\n",
    "h = .02  # step size in the mesh\n",
    "xx, yy = np.meshgrid(np.arange(x_min, x_max, h), np.arange(y_min, y_max, h))\n"
   ]
  },
  {
   "cell_type": "code",
   "execution_count": null,
   "metadata": {},
   "outputs": [],
   "source": [
    "classResult = knnClass.predict(np.c_[xx.ravel(), yy.ravel()])\n",
    "\n",
    "classResult = classResult.reshape(xx.shape)\n",
    "\n",
    "#plot the dense color mesh\n",
    "plt.pcolormesh(xx, yy, classResult, cmap=cmap_light)\n",
    "\n",
    "#plot the original data\n",
    "plt.scatter(iris.data[:50, 0], iris.data[:50, 1], c=cmap_bold[0], label=\"setosa\")\n",
    "plt.scatter(iris.data[50:100, 0], iris.data[50:100, 1], c=cmap_bold[1], label=\"versicolor\")\n",
    "plt.scatter(iris.data[100:, 0], iris.data[100:, 1], c=cmap_bold[2], label=\"verginica\")\n",
    "plt.xlabel('Sepal/Petal length')\n",
    "plt.ylabel('Sepal/Petal width')\n",
    "plt.legend()\n",
    "\n",
    "plt.title(\"KNN-Classifier with k = %i\" % n_neighbors)\n",
    "plt.show()\n"
   ]
  },
  {
   "cell_type": "markdown",
   "metadata": {},
   "source": [
    "### Linear classification\n",
    "=> Just for demonstration purposes, for \"real\" linear classification take Logistic regression or Support Vector Machines...\n",
    "\n",
    "\n",
    "\n",
    "#### Prepare data: binary classification problem "
   ]
  },
  {
   "cell_type": "code",
   "execution_count": null,
   "metadata": {},
   "outputs": [],
   "source": [
    "X_train, X_test, y_train, y_test = train_test_split( iris.data, iris.target, test_size=0.2, random_state=0)\n",
    "\n",
    "# transform the data to a binary classification problem\n",
    "idx0 = np.where(y_train == 0)\n",
    "idx1 = np.where(y_train == 1)\n",
    "idx2 = np.where(y_train == 2)\n",
    "y_train[idx0] = -1\n",
    "y_train[idx1] = 1\n",
    "y_train[idx2] = 1"
   ]
  },
  {
   "cell_type": "markdown",
   "metadata": {},
   "source": [
    "#### Create classifier\n",
    "\n",
    "Import, define and train the classifier "
   ]
  },
  {
   "cell_type": "code",
   "execution_count": null,
   "metadata": {},
   "outputs": [],
   "source": [
    "from sklearn import linear_model\n",
    "regr = linear_model.LinearRegression()\n",
    "\n",
    "regr.fit(X_train, y_train)"
   ]
  },
  {
   "cell_type": "markdown",
   "metadata": {},
   "source": [
    "#### Visualize the result"
   ]
  },
  {
   "cell_type": "code",
   "execution_count": null,
   "metadata": {
    "scrolled": true
   },
   "outputs": [],
   "source": [
    "classResult = np.sign(regr.predict(np.c_[xx.ravel(), yy.ravel()])) # take signum of classification result\n",
    "classResult = classResult.reshape(xx.shape)\n",
    "\n",
    "plt.pcolormesh(xx, yy, classResult, cmap=cmap_light)\n",
    "\n",
    "idxVec = np.where(y_train == 1)\n",
    "plt.scatter(X_train[idxVec,0], X_train[idxVec, 1], c=cmap_bold[2])\n",
    "\n",
    "idxVec = np.where(y_train == -1)\n",
    "plt.scatter(X_train[idxVec,0], X_train[idxVec, 1], c=cmap_bold[0])\n",
    "\n",
    "plt.xlabel('Sepal/Petal length')\n",
    "plt.ylabel('Sepal/Petal width')\n",
    "plt.show()"
   ]
  },
  {
   "cell_type": "markdown",
   "metadata": {},
   "source": [
    "### Bayes Classifier\n"
   ]
  },
  {
   "cell_type": "markdown",
   "metadata": {},
   "source": [
    "#### Create classifier\n",
    "Import, define and train the classifier"
   ]
  },
  {
   "cell_type": "code",
   "execution_count": null,
   "metadata": {},
   "outputs": [],
   "source": [
    "# import\n",
    "from sklearn.naive_bayes import GaussianNB\n",
    "X_train, X_test, y_train, y_test = train_test_split( iris.data, iris.target, test_size=0.2, random_state=0)\n",
    "\n",
    "# define\n",
    "gnb = GaussianNB()\n",
    "\n",
    "# train\n",
    "gnb.fit(X_train, y_train)\n",
    "\n",
    "# evaluate\n",
    "gnb.score(X_test, y_test)"
   ]
  },
  {
   "cell_type": "markdown",
   "metadata": {},
   "source": [
    "#### Visualize classification boundary"
   ]
  },
  {
   "cell_type": "code",
   "execution_count": null,
   "metadata": {},
   "outputs": [],
   "source": [
    "classResult = gnb.predict(np.c_[xx.ravel(), yy.ravel()]) # see above...\n",
    "classResult = classResult.reshape(xx.shape)\n"
   ]
  },
  {
   "cell_type": "code",
   "execution_count": null,
   "metadata": {
    "scrolled": true
   },
   "outputs": [],
   "source": [
    "plt.pcolormesh(xx, yy, classResult, cmap=cmap_light)\n",
    "\n",
    "idxVec = np.where(y_train == 0)\n",
    "plt.scatter(X_train[idxVec,0], X_train[idxVec, 1], c=cmap_bold[0], label=\"setosa\")\n",
    "\n",
    "idxVec = np.where(y_train == 1)\n",
    "plt.scatter(X_train[idxVec,0], X_train[idxVec, 1], c=cmap_bold[1], label=\"versicolor\")\n",
    "\n",
    "idxVec = np.where(y_train == 2)\n",
    "plt.scatter(X_train[idxVec,0], X_train[idxVec, 1], c=cmap_bold[2], label=\"verginica\")\n",
    "\n",
    "plt.xlabel('Sepal/Petal length')\n",
    "plt.ylabel('Sepal/Petal width')\n",
    "plt.legend()\n",
    "plt.show()"
   ]
  },
  {
   "cell_type": "code",
   "execution_count": null,
   "metadata": {},
   "outputs": [],
   "source": []
  }
 ],
 "metadata": {
  "kernelspec": {
   "display_name": "Python 3",
   "language": "python",
   "name": "python3"
  },
  "language_info": {
   "codemirror_mode": {
    "name": "ipython",
    "version": 3
   },
   "file_extension": ".py",
   "mimetype": "text/x-python",
   "name": "python",
   "nbconvert_exporter": "python",
   "pygments_lexer": "ipython3",
   "version": "3.7.1"
  }
 },
 "nbformat": 4,
 "nbformat_minor": 2
}
