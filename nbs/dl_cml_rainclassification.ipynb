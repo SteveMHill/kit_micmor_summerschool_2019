{
 "cells": [
  {
   "cell_type": "markdown",
   "metadata": {},
   "source": [
    "## CML Wet/Dry classification with neural networks"
   ]
  },
  {
   "cell_type": "code",
   "execution_count": 25,
   "metadata": {},
   "outputs": [
    {
     "name": "stdout",
     "output_type": "stream",
     "text": [
      "The autoreload extension is already loaded. To reload it, use:\n",
      "  %reload_ext autoreload\n"
     ]
    }
   ],
   "source": [
    "%matplotlib inline\n",
    "%load_ext autoreload\n",
    "%autoreload 2"
   ]
  },
  {
   "cell_type": "markdown",
   "metadata": {},
   "source": [
    "**TODO:**\n",
    "- implement as lightning model with tf-board support?\n",
    "- why cannot we use cpu for inference (batchnorm gives an error)"
   ]
  },
  {
   "cell_type": "markdown",
   "metadata": {},
   "source": [
    "### Steps:\n",
    "\n",
    "1. Load data from NetCDF\n",
    "2. Train ANN\n",
    "3. Validate the classification result"
   ]
  },
  {
   "cell_type": "code",
   "execution_count": 2,
   "metadata": {},
   "outputs": [
    {
     "name": "stdout",
     "output_type": "stream",
     "text": [
      "Thu Aug  8 20:46:51 2019       \n",
      "+-----------------------------------------------------------------------------+\n",
      "| NVIDIA-SMI 418.56       Driver Version: 418.56       CUDA Version: 10.1     |\n",
      "|-------------------------------+----------------------+----------------------+\n",
      "| GPU  Name        Persistence-M| Bus-Id        Disp.A | Volatile Uncorr. ECC |\n",
      "| Fan  Temp  Perf  Pwr:Usage/Cap|         Memory-Usage | GPU-Util  Compute M. |\n",
      "|===============================+======================+======================|\n",
      "|   0  TITAN RTX           Off  | 00000000:68:00.0  On |                  N/A |\n",
      "| 41%   39C    P8    11W / 280W |    550MiB / 24187MiB |      0%      Default |\n",
      "+-------------------------------+----------------------+----------------------+\n",
      "                                                                               \n",
      "+-----------------------------------------------------------------------------+\n",
      "| Processes:                                                       GPU Memory |\n",
      "|  GPU       PID   Type   Process name                             Usage      |\n",
      "|=============================================================================|\n",
      "+-----------------------------------------------------------------------------+\n"
     ]
    }
   ],
   "source": [
    "! nvidia-smi"
   ]
  },
  {
   "cell_type": "code",
   "execution_count": 65,
   "metadata": {},
   "outputs": [],
   "source": [
    "import math\n",
    "import numpy as np\n",
    "import xarray as xr\n",
    "from tqdm import tqdm_notebook as tqdm\n",
    "import seaborn as sns\n",
    "import matplotlib.pyplot as plt\n",
    "from matplotlib.pyplot import figure\n",
    "from sklearn.utils import shuffle\n",
    "import dask.array as da\n",
    "# visualization\n",
    "from livelossplot import PlotLosses\n",
    "# metrics\n",
    "from sklearn.metrics import f1_score\n",
    "from sklearn.metrics import r2_score\n",
    "from sklearn.metrics import classification_report\n",
    "from sklearn.metrics import confusion_matrix\n",
    "from sklearn.metrics import matthews_corrcoef\n",
    "from sklearn.metrics import accuracy_score\n",
    "\n",
    "import torch\n",
    "import torch.nn.functional as F\n",
    "from torch import nn, optim\n",
    "from torch.utils.data import DataLoader\n",
    "import torch.utils.data as utils\n",
    "\n",
    "from torch.utils.tensorboard import SummaryWriter, FileWriter\n",
    "\n"
   ]
  },
  {
   "cell_type": "code",
   "execution_count": 27,
   "metadata": {},
   "outputs": [],
   "source": [
    "device = torch.device('cuda' if torch.cuda.is_available() else 'cpu')"
   ]
  },
  {
   "cell_type": "code",
   "execution_count": 28,
   "metadata": {},
   "outputs": [
    {
     "data": {
      "text/plain": [
       "<torch._C.Generator at 0x7f3abc925d10>"
      ]
     },
     "execution_count": 28,
     "metadata": {},
     "output_type": "execute_result"
    }
   ],
   "source": [
    "# fix random seed for reproducibility\n",
    "seed = 42\n",
    "np.random.seed(seed)\n",
    "torch.manual_seed(seed)"
   ]
  },
  {
   "cell_type": "code",
   "execution_count": 29,
   "metadata": {},
   "outputs": [],
   "source": [
    "# settings\n",
    "window = 180\n",
    "slide = 60\n",
    "refmin = 60\n",
    "\n",
    "bs = 1024\n",
    "epochs = 30"
   ]
  },
  {
   "cell_type": "code",
   "execution_count": 30,
   "metadata": {},
   "outputs": [],
   "source": [
    "# file locations\n",
    "fn_train = '/data/ifu/summerschool/original.datasets/ifu.polz/CML_training_data_summerschool.nc'\n",
    "fn_validtest  = '/data/ifu/summerschool/original.datasets/ifu.polz/CML_validation_data_summerschool.nc'"
   ]
  },
  {
   "cell_type": "code",
   "execution_count": 31,
   "metadata": {},
   "outputs": [],
   "source": [
    "def read_cml_data_from_netcdf4_xr(fn):\n",
    "    with xr.open_dataset(fn) as ds:\n",
    "        starting_time = ds.time\n",
    "        mask = ds.samples.min(dim=['x', 'channel']) >= -9000\n",
    "\n",
    "        print(f'Missing {ds.n_samples.values.size - mask.sum().values} of {ds.n_samples.size}')\n",
    "        \n",
    "        ds_good = ds.isel(n_samples=mask)\n",
    "\n",
    "        wet_samples = int(ds_good.reference.sum().values)\n",
    "        dry_samples = int(ds_good.reference.size - wet_samples)\n",
    "        \n",
    "        print(f'Wet: {wet_samples}, Dry: {dry_samples}, Wet/Dry-Ratio: {(wet_samples/dry_samples)*100:.2f}%')\n",
    "        \n",
    "        # downsample dry samples to match wet sample amount\n",
    "        idx_wet = np.where(ds_good.reference.values == True)[0]\n",
    "        idx_dry = np.where(ds_good.reference.values == False)[0]\n",
    "\n",
    "        np.random.seed(42)\n",
    "        idx_dry_subsample = np.random.choice(idx_dry, idx_wet.size, replace=False, )\n",
    "\n",
    "        ds_balanced = ds_good.isel(n_samples=np.sort(np.append(idx_wet, idx_dry_subsample)))\n",
    "\n",
    "    return (ds_balanced.samples.values, ds_balanced.reference.values, ds_balanced.RainRateRadolan.values, ds_balanced.time.values)\n",
    "\n",
    "#read_cml_data_from_netcdf4_xr('/data/ifu/summerschool/original.datasets/ifu.polz/CML_training_data_summerschool.nc')"
   ]
  },
  {
   "cell_type": "markdown",
   "metadata": {},
   "source": [
    "# Functions"
   ]
  },
  {
   "cell_type": "code",
   "execution_count": 32,
   "metadata": {},
   "outputs": [],
   "source": [
    "\n",
    "########################\n",
    "## Plotting utilities ##\n",
    "########################\n",
    "\n",
    "\n",
    "def plot_confusion_matrix(cm, classes,\n",
    "                          normalize=False,\n",
    "                          title='Confusion matrix',\n",
    "                          cmap=plt.cm.Blues):\n",
    "    \"\"\"\n",
    "    This function prints and plots the confusion matrix.\n",
    "    Normalization can be applied by setting `normalize=True`.\n",
    "    \"\"\"\n",
    "    if normalize:\n",
    "        cm = cm.astype('float') / cm.sum(axis=1)[:, np.newaxis]\n",
    "#         print(\"Normalized confusion matrix\")\n",
    "#     else:\n",
    "#         print('Confusion matrix, without normalization')\n",
    "\n",
    "#     print(cm)\n",
    "\n",
    "    plt.imshow(cm, interpolation='nearest', cmap=cmap)\n",
    "    plt.title(title)\n",
    "    plt.colorbar()\n",
    "    tick_marks = np.arange(len(classes))\n",
    "    plt.xticks(tick_marks, classes, rotation=45)\n",
    "    plt.yticks(tick_marks, classes)\n",
    "\n",
    "    fmt = '.3f' if normalize else 'd'\n",
    "    thresh = cm.max() / 2.\n",
    "    for i, j in itertools.product(range(cm.shape[0]), range(cm.shape[1])):\n",
    "        plt.text(j, i, format(cm[i, j], fmt),\n",
    "                 horizontalalignment=\"center\",\n",
    "                 color=\"white\" if cm[i, j] > thresh else \"black\")\n",
    "\n",
    "    plt.ylabel('True label')\n",
    "    plt.xlabel('Predicted label')\n",
    "    plt.tight_layout()\n",
    "    \n",
    "def Roc_curve(y_pred, y_test):\n",
    "    roc = []\n",
    "    for i in tqdm(range(0,1001,1)):\n",
    "        t = i/1000\n",
    "        y_predicted=np.ravel(y_pred>t)\n",
    "        true_pos = np.sum(np.logical_and(y_test==1, y_predicted==1))\n",
    "        true_neg = np.sum(np.logical_and(y_test==0, y_predicted==0))\n",
    "        false_pos = np.sum(np.logical_and(y_test==0, y_predicted==1))\n",
    "        false_neg = np.sum(np.logical_and(y_test==1, y_predicted==0))\n",
    "        cond_neg = true_neg+false_pos\n",
    "        cond_pos = true_pos+false_neg\n",
    "        roc.append([true_pos/(cond_pos+EPSILON),\n",
    "                    false_pos/(cond_neg+EPSILON)])\n",
    "    roc.append([0,0])\n",
    "    \n",
    "    return np.array(roc)\n",
    "\n",
    "def roc_surface(roc):\n",
    "    k = len(roc)\n",
    "    surf=0\n",
    "    for i in range(k-1):\n",
    "        surf= surf+(np.abs(roc[i,1]-roc[i+1,1]))*0.5*(roc[i+1,0]+roc[i,0])\n",
    "    \n",
    "    return surf\n",
    "\n",
    "###################\n",
    "## Keras Metrics ##\n",
    "###################\n",
    "\n",
    "def matthews_correlation(y_true, y_pred):\n",
    "    \"\"\"Matthews correlation metric.\n",
    "    It is only computed as a batch-wise average, not globally.\n",
    "    Computes the Matthews correlation coefficient measure for quality\n",
    "    of binary classification problems.\n",
    "    \"\"\"\n",
    "    y_pred_pos = K.round(K.clip(y_pred, 0, 1))\n",
    "    y_pred_neg = 1 - y_pred_pos\n",
    "\n",
    "    y_pos = K.round(K.clip(y_true, 0, 1))\n",
    "    y_neg = 1 - y_pos\n",
    "\n",
    "    tp = K.sum(y_pos * y_pred_pos)\n",
    "    tn = K.sum(y_neg * y_pred_neg)\n",
    "\n",
    "    fp = K.sum(y_neg * y_pred_pos)\n",
    "    fn = K.sum(y_pos * y_pred_neg)\n",
    "\n",
    "    numerator = (tp * tn - fp * fn)\n",
    "    denominator = K.sqrt((tp + fp) * (tp + fn) * (tn + fp) * (tn + fn))\n",
    "\n",
    "    return numerator / (denominator + K.epsilon())\n",
    "\n",
    "EPSILON = 1e-7\n",
    "\n",
    "def matthews_correlation_pytorch(y_pred, y_true):\n",
    "    \"\"\"Matthews correlation metric.\n",
    "    It is only computed as a batch-wise average, not globally.\n",
    "    Computes the Matthews correlation coefficient measure for quality\n",
    "    of binary classification problems.\n",
    "    \"\"\"\n",
    "    \n",
    "    \n",
    "    y_pred_pos = torch.round(torch.clamp(y_pred, 0, 1))\n",
    "    y_pred_neg = 1 - y_pred_pos\n",
    "\n",
    "    y_pos = torch.round(torch.clamp(y_true, 0, 1))\n",
    "    y_neg = 1 - y_pos\n",
    "\n",
    "    tp = torch.sum(y_pos * y_pred_pos)\n",
    "    tn = torch.sum(y_neg * y_pred_neg)\n",
    "\n",
    "    fp = torch.sum(y_neg * y_pred_pos)\n",
    "    fn = torch.sum(y_pos * y_pred_neg)\n",
    "\n",
    "    numerator = (tp * tn - fp * fn)\n",
    "    denominator = torch.sqrt((tp + fp) * (tp + fn) * (tn + fp) * (tn + fn))\n",
    "    return numerator / (denominator + EPSILON)\n",
    "\n",
    "def meansquarederror(y_pred, y_true):\n",
    "    return ((y_pred-y_true)**2).mean()\n",
    "\n",
    "\n",
    "def matthews_correlation_binary(y_true, y_pred):\n",
    "    \"\"\"Matthews correlation metric.\n",
    "    It is only computed as a batch-wise average, not globally.\n",
    "    Computes the Matthews correlation coefficient measure for quality\n",
    "    of binary classification problems.\n",
    "    \"\"\"\n",
    "    y_pred_pos = K.round(y_pred)\n",
    "    y_pred_neg = 1 - y_pred_pos\n",
    "\n",
    "    y_pos = y_true\n",
    "    y_neg = 1 - y_pos\n",
    "\n",
    "    tp = K.sum(y_pos * y_pred_pos)\n",
    "    tn = K.sum(y_neg * y_pred_neg)\n",
    "\n",
    "    fp = K.sum(y_neg * y_pred_pos)\n",
    "    fn = K.sum(y_pos * y_pred_neg)\n",
    "\n",
    "    numerator = (tp * tn - fp * fn)\n",
    "    denominator = K.sqrt((tp + fp) * (tp + fn) * (tn + fp) * (tn + fn))\n",
    "\n",
    "    return numerator / (denominator + K.epsilon())\n",
    "\n",
    "def cwet_rwet(y_true, y_pred):\n",
    "    y_pred_pos = K.round(y_pred)\n",
    "    y_pred_neg = 1 - y_pred_pos\n",
    "    y_pos = K.round(y_true)\n",
    "    y_neg = 1 - y_pos\n",
    "    tp = K.sum(y_pos * y_pred_pos)/K.sum(y_pos)\n",
    "    return tp\n",
    "\n",
    "def cdry_rdry(y_true, y_pred):\n",
    "    y_pred_pos = K.round(y_pred)\n",
    "    y_pred_neg = 1 - y_pred_pos\n",
    "    y_pos = K.round(y_true)\n",
    "    y_neg = 1 - y_pos\n",
    "    tn = K.sum(y_neg * y_pred_neg)/K.sum(y_neg)\n",
    "    return tn\n",
    "\n",
    "def cwet_rdry(y_true, y_pred):\n",
    "    y_pred_pos = K.round(y_pred)\n",
    "    y_pred_neg = 1 - y_pred_pos\n",
    "    y_pos = K.round(y_true)\n",
    "    y_neg = 1 - y_pos\n",
    "    fp = K.sum(y_neg * y_pred_pos)/K.sum(y_neg)\n",
    "    return fp\n",
    "\n",
    "def cdry_rwet(y_true, y_pred):\n",
    "    y_pred_pos = K.round(y_pred)\n",
    "    y_pred_neg = 1 - y_pred_pos\n",
    "    y_pos = K.round(y_true)\n",
    "    y_neg = 1 - y_pos\n",
    "    fn = K.sum(y_pos * y_pred_neg)/K.sum(y_pos)\n",
    "    return fn"
   ]
  },
  {
   "cell_type": "markdown",
   "metadata": {},
   "source": [
    "# Load data"
   ]
  },
  {
   "cell_type": "code",
   "execution_count": 33,
   "metadata": {},
   "outputs": [
    {
     "name": "stdout",
     "output_type": "stream",
     "text": [
      "Missing 17234 of 146200\n",
      "Wet: 6347, Dry: 122619, Wet/Dry-Ratio: 5.18%\n",
      "Missing 38756 of 222600\n",
      "Wet: 6530, Dry: 177314, Wet/Dry-Ratio: 3.68%\n"
     ]
    }
   ],
   "source": [
    "X_train, y_train, rainratetrain, starting_time_train = read_cml_data_from_netcdf4_xr(fn_train)\n",
    "X_validtest,  y_validtest,  rainratevalidtest,  starting_time_validtest  = read_cml_data_from_netcdf4_xr(fn_validtest)\n",
    "\n",
    "# eliminiate small rain events\n",
    "rainratetrain[rainratetrain<0.1]=0\n",
    "rainratevalidtest[rainratevalidtest<0.1]=0\n",
    "\n",
    "# shuffle training data\n",
    "X_train, y_train, rainratetrain, starting_time_train = shuffle(X_train, y_train, rainratetrain, starting_time_train)\n",
    "\n",
    "from sklearn.model_selection import train_test_split\n",
    "X_valid, X_test, y_valid, y_test, rainratevalid, rainratetest, starting_time_valid, starting_time_test = train_test_split(X_validtest, y_validtest, rainratevalidtest, starting_time_validtest, test_size = 0.6, random_state = seed)"
   ]
  },
  {
   "cell_type": "markdown",
   "metadata": {},
   "source": [
    "# test the lightning module (remove)"
   ]
  },
  {
   "cell_type": "code",
   "execution_count": 8,
   "metadata": {},
   "outputs": [],
   "source": [
    "import os\n",
    "import torch\n",
    "from torch.nn import functional as F\n",
    "from torch.utils.data import DataLoader\n",
    "from torchvision.datasets import MNIST\n",
    "import torchvision.transforms as transforms\n",
    "\n",
    "import pytorch_lightning as pl\n",
    "\n",
    "class CoolModel(pl.LightningModule):\n",
    "\n",
    "    def __init__(self):\n",
    "        super(CoolModel, self).__init__()\n",
    "        # not the best model...\n",
    "        self.l1 = torch.nn.Linear(28 * 28, 10)\n",
    "\n",
    "    def forward(self, x):\n",
    "        return torch.relu(self.l1(x.view(x.size(0), -1)))\n",
    "\n",
    "    def my_loss(self, y_hat, y):\n",
    "        return F.cross_entropy(y_hat, y)\n",
    "\n",
    "    def training_step(self, batch, batch_nb):\n",
    "        x, y = batch\n",
    "        y_hat = self.forward(x)\n",
    "        return {'loss': self.my_loss(y_hat, y)}\n",
    "\n",
    "    def validation_step(self, batch, batch_nb):\n",
    "        x, y = batch\n",
    "        y_hat = self.forward(x)\n",
    "        return {'val_loss': self.my_loss(y_hat, y)}\n",
    "\n",
    "    def validation_end(self, outputs):\n",
    "        avg_loss = torch.stack([x['val_loss'] for x in outputs]).mean()\n",
    "        return {'avg_val_loss': avg_loss}\n",
    "\n",
    "    def configure_optimizers(self):\n",
    "        return [torch.optim.Adam(self.parameters(), lr=0.02)]\n",
    "\n",
    "    @pl.data_loader\n",
    "    def tng_dataloader(self):\n",
    "        return DataLoader(MNIST(os.getcwd(), train=True, download=True, transform=transforms.ToTensor()), batch_size=32)\n",
    "\n",
    "    @pl.data_loader\n",
    "    def val_dataloader(self):\n",
    "        return DataLoader(MNIST(os.getcwd(), train=True, download=True, transform=transforms.ToTensor()), batch_size=32)\n",
    "\n",
    "    @pl.data_loader\n",
    "    def test_dataloader(self):\n",
    "        return DataLoader(MNIST(os.getcwd(), train=True, download=True, transform=transforms.ToTensor()), batch_size=32)"
   ]
  },
  {
   "cell_type": "code",
   "execution_count": 9,
   "metadata": {},
   "outputs": [
    {
     "data": {
      "text/plain": [
       "CoolModel(\n",
       "  (l1): Linear(in_features=784, out_features=10, bias=True)\n",
       ")"
      ]
     },
     "execution_count": 9,
     "metadata": {},
     "output_type": "execute_result"
    }
   ],
   "source": [
    "cmodel = CoolModel()\n",
    "cmodel"
   ]
  },
  {
   "cell_type": "code",
   "execution_count": 17,
   "metadata": {},
   "outputs": [
    {
     "name": "stderr",
     "output_type": "stream",
     "text": [
      "  2%|▏         | 49/2812 [00:00<00:10, 271.97it/s, batch_nb=48, epoch=0, tng_loss=0.803, v_nb=0]"
     ]
    },
    {
     "name": "stdout",
     "output_type": "stream",
     "text": [
      "gpu available: True, used: False\n",
      "  Name    Type  Params\n",
      "0   l1  Linear    7850\n"
     ]
    },
    {
     "name": "stderr",
     "output_type": "stream",
     "text": [
      "2813it [00:06, 424.48it/s, avg_val_loss=0.877, batch_nb=937, epoch=2, tng_loss=0.760, v_nb=0]                          \n",
      "2813it [00:06, 474.51it/s, avg_val_loss=0.867, batch_nb=937, epoch=4, tng_loss=0.767, v_nb=0]                          "
     ]
    },
    {
     "data": {
      "text/plain": [
       "1"
      ]
     },
     "execution_count": 17,
     "metadata": {},
     "output_type": "execute_result"
    },
    {
     "name": "stderr",
     "output_type": "stream",
     "text": [
      "2813it [00:26, 474.51it/s, avg_val_loss=0.867, batch_nb=937, epoch=4, tng_loss=0.767, v_nb=0]"
     ]
    }
   ],
   "source": [
    "import os\n",
    "from pytorch_lightning import Trainer\n",
    "from test_tube import Experiment, HyperOptArgumentParser\n",
    "\n",
    "#args = HyperOptArgumentParser()\n",
    "#hparams = args.parse_args()\n",
    "\n",
    "log_dir = '/scratch'\n",
    "exp = Experiment(\n",
    "    name='test_tube_exp',\n",
    "    debug=True,\n",
    "    save_dir=log_dir,\n",
    "    version=0,\n",
    "    autosave=False,\n",
    "    description='test demo 1'\n",
    ")\n",
    "# set the hparams for the experiment\n",
    "#exp.argparse(hparams)\n",
    "exp.save()\n",
    "\n",
    "trainer = Trainer(experiment=exp, max_nb_epochs=5, train_percent_check=0.5, add_log_row_interval=2)\n",
    "trainer.fit(cmodel)"
   ]
  },
  {
   "cell_type": "code",
   "execution_count": 64,
   "metadata": {},
   "outputs": [],
   "source": [
    "import torch\n",
    "import torchvision\n",
    "from torch.utils.tensorboard import SummaryWriter, FileWriter\n",
    "from torchvision import datasets, transforms\n",
    "\n",
    "# Writer will output to ./runs/ directory by default\n",
    "writer = SummaryWriter(log_dir='/scratch/test2')\n",
    "\n",
    "transform = transforms.Compose([transforms.ToTensor(), transforms.Normalize((0.5,), (0.5,))])\n",
    "trainset = datasets.MNIST('mnist_train', train=True, download=True, transform=transform)\n",
    "trainloader = torch.utils.data.DataLoader(trainset, batch_size=64, shuffle=True)\n",
    "model = torchvision.models.resnet50(False)\n",
    "# Have ResNet model take in grayscale rather than RGB\n",
    "model.conv1 = torch.nn.Conv2d(1, 64, kernel_size=7, stride=2, padding=3, bias=False)\n",
    "images, labels = next(iter(trainloader))\n",
    "\n",
    "grid = torchvision.utils.make_grid(images)\n",
    "writer.add_image('images', grid, 0)\n",
    "writer.add_graph(model, images)\n",
    "writer.close()"
   ]
  },
  {
   "cell_type": "code",
   "execution_count": null,
   "metadata": {},
   "outputs": [],
   "source": []
  },
  {
   "cell_type": "code",
   "execution_count": 34,
   "metadata": {},
   "outputs": [],
   "source": [
    "class CmlCNN(nn.Module):\n",
    "    def __init__(self):\n",
    "        super(CmlCNN, self).__init__()\n",
    "        self.bnor1 = nn.BatchNorm1d(num_features=2, eps=0.001)\n",
    "        \n",
    "        # kernel size modded to achieve same output size\n",
    "        self.conv1 = nn.Conv1d(2, 24, kernel_size=9, padding=4, bias=False)\n",
    "        self.maxp1 = nn.MaxPool1d(kernel_size=3)\n",
    "        \n",
    "        self.bnor2 = nn.BatchNorm1d(num_features=24, eps=0.001)\n",
    "        self.conv2 = nn.Conv1d(24, 48, kernel_size=5, padding=2, bias=False)\n",
    "        self.maxp2 = nn.MaxPool1d(kernel_size=3)\n",
    "        \n",
    "        self.bnor3 = nn.BatchNorm1d(num_features=48, eps=0.001)\n",
    "        self.conv3 = nn.Conv1d(48, 48, kernel_size=5, padding=2, bias=False)\n",
    "        self.maxp3 = nn.MaxPool1d(kernel_size=3)\n",
    "        \n",
    "        self.bnor4 = nn.BatchNorm1d(num_features=48, eps=0.001)\n",
    "        self.conv4 = nn.Conv1d(48, 96, kernel_size=5, padding=2, bias=False)\n",
    "        self.maxp4 = nn.MaxPool1d(kernel_size=3)\n",
    "\n",
    "        self.bnor5 = nn.BatchNorm1d(num_features=96, eps=0.001)\n",
    "        self.conv5 = nn.Conv1d(96, 192, kernel_size=1, bias=False)\n",
    "        \n",
    "        self.gavgp = nn.AdaptiveAvgPool1d(1)\n",
    "        \n",
    "        self.dens1 = nn.Linear(192, 64)\n",
    "        self.drop1 = nn.Dropout(0.4)\n",
    "        self.dens2 = nn.Linear(64, 64)\n",
    "        self.drop2 = nn.Dropout(0.4)\n",
    "        self.dens3 = nn.Linear(64, 1)\n",
    "\n",
    "        \n",
    "    def forward(self, x):\n",
    "        x = self.bnor1(x)\n",
    "        x = self.maxp1(F.relu(self.conv1(x)))\n",
    "\n",
    "        x = self.bnor2(x)\n",
    "        x = self.maxp2(F.relu(self.conv2(x)))\n",
    "\n",
    "        x = self.bnor3(x)\n",
    "        x = self.maxp3(F.relu(self.conv3(x)))\n",
    "\n",
    "        x = self.bnor4(x)\n",
    "        x = self.maxp4(F.relu(self.conv4(x)))\n",
    "\n",
    "        x = self.bnor5(x)\n",
    "        x = self.gavgp(F.relu(self.conv5(x))).squeeze()\n",
    "\n",
    "        x = self.drop1(F.relu(self.dens1(x)))\n",
    "        x = self.drop2(F.relu(self.dens2(x)))\n",
    "        return torch.sigmoid(self.dens3(x)).squeeze()"
   ]
  },
  {
   "cell_type": "code",
   "execution_count": 35,
   "metadata": {},
   "outputs": [
    {
     "name": "stdout",
     "output_type": "stream",
     "text": [
      "----------------------------------------------------------------\n",
      "        Layer (type)               Output Shape         Param #\n",
      "================================================================\n",
      "       BatchNorm1d-1               [-1, 2, 180]               4\n",
      "            Conv1d-2              [-1, 24, 180]             432\n",
      "         MaxPool1d-3               [-1, 24, 60]               0\n",
      "       BatchNorm1d-4               [-1, 24, 60]              48\n",
      "            Conv1d-5               [-1, 48, 60]           5,760\n",
      "         MaxPool1d-6               [-1, 48, 20]               0\n",
      "       BatchNorm1d-7               [-1, 48, 20]              96\n",
      "            Conv1d-8               [-1, 48, 20]          11,520\n",
      "         MaxPool1d-9                [-1, 48, 6]               0\n",
      "      BatchNorm1d-10                [-1, 48, 6]              96\n",
      "           Conv1d-11                [-1, 96, 6]          23,040\n",
      "        MaxPool1d-12                [-1, 96, 2]               0\n",
      "      BatchNorm1d-13                [-1, 96, 2]             192\n",
      "           Conv1d-14               [-1, 192, 2]          18,432\n",
      "AdaptiveAvgPool1d-15               [-1, 192, 1]               0\n",
      "           Linear-16                   [-1, 64]          12,352\n",
      "          Dropout-17                   [-1, 64]               0\n",
      "           Linear-18                   [-1, 64]           4,160\n",
      "          Dropout-19                   [-1, 64]               0\n",
      "           Linear-20                    [-1, 1]              65\n",
      "================================================================\n",
      "Total params: 76,197\n",
      "Trainable params: 76,197\n",
      "Non-trainable params: 0\n",
      "----------------------------------------------------------------\n",
      "Input size (MB): 0.00\n",
      "Forward/backward pass size (MB): 0.12\n",
      "Params size (MB): 0.29\n",
      "Estimated Total Size (MB): 0.41\n",
      "----------------------------------------------------------------\n"
     ]
    }
   ],
   "source": [
    "from torchsummary import summary\n",
    "model = CmlCNN().to(device)\n",
    "summary(model, input_size=(2, window))"
   ]
  },
  {
   "cell_type": "raw",
   "metadata": {},
   "source": [
    "Reference :: Original Keras Layers\n",
    "\n",
    "Layer (type)                 Output Shape              Param #   \n",
    "=================================================================\n",
    "input_1 (InputLayer)         (None, 180, 2)            0         \n",
    "_________________________________________________________________\n",
    "batch_normalization_1 (Batch (None, 180, 2)            8         \n",
    "_________________________________________________________________\n",
    "conv1d_1 (Conv1D)            (None, 180, 24)           504       \n",
    "_________________________________________________________________\n",
    "max_pooling1d_1 (MaxPooling1 (None, 60, 24)            0         \n",
    "_________________________________________________________________\n",
    "batch_normalization_2 (Batch (None, 60, 24)            96        \n",
    "_________________________________________________________________\n",
    "conv1d_2 (Conv1D)            (None, 60, 48)            5808      \n",
    "_________________________________________________________________\n",
    "max_pooling1d_2 (MaxPooling1 (None, 20, 48)            0         \n",
    "_________________________________________________________________\n",
    "batch_normalization_3 (Batch (None, 20, 48)            192       \n",
    "_________________________________________________________________\n",
    "conv1d_3 (Conv1D)            (None, 20, 48)            11568     \n",
    "_________________________________________________________________\n",
    "max_pooling1d_3 (MaxPooling1 (None, 6, 48)             0         \n",
    "_________________________________________________________________\n",
    "batch_normalization_4 (Batch (None, 6, 48)             192       \n",
    "_________________________________________________________________\n",
    "conv1d_4 (Conv1D)            (None, 6, 96)             23136     \n",
    "_________________________________________________________________\n",
    "max_pooling1d_4 (MaxPooling1 (None, 2, 96)             0         \n",
    "_________________________________________________________________\n",
    "batch_normalization_5 (Batch (None, 2, 96)             384       \n",
    "_________________________________________________________________\n",
    "conv1d_5 (Conv1D)            (None, 2, 192)            92352     \n",
    "_________________________________________________________________\n",
    "global_average_pooling1d_1 ( (None, 192)               0         \n",
    "_________________________________________________________________\n",
    "dense_1 (Dense)              (None, 64)                12352     \n",
    "_________________________________________________________________\n",
    "dropout_1 (Dropout)          (None, 64)                0         \n",
    "_________________________________________________________________\n",
    "dense_2 (Dense)              (None, 64)                4160      \n",
    "_________________________________________________________________\n",
    "dropout_2 (Dropout)          (None, 64)                0         \n",
    "_________________________________________________________________\n",
    "dense_3 (Dense)              (None, 1)                 65        "
   ]
  },
  {
   "cell_type": "code",
   "execution_count": 36,
   "metadata": {},
   "outputs": [],
   "source": [
    "# data loaders\n",
    "train_data = utils.TensorDataset(torch.Tensor(X_train).permute(0,2,1), \n",
    "                                 torch.Tensor(y_train),\n",
    "                                 torch.Tensor(rainratetrain))\n",
    "valid_data  = utils.TensorDataset(torch.Tensor(X_valid).permute(0,2,1),\n",
    "                                  torch.Tensor(y_valid),\n",
    "                                  torch.Tensor(rainratevalid))\n",
    "test_data  = utils.TensorDataset(torch.Tensor(X_test).permute(0,2,1),\n",
    "                                 torch.Tensor(y_test),\n",
    "                                 torch.Tensor(rainratetest))\n",
    "\n",
    "train_loader = DataLoader(train_data, batch_size=bs,\n",
    "                          shuffle=True, num_workers=4, pin_memory=True)\n",
    "valid_loader = DataLoader(valid_data, batch_size=bs,\n",
    "                          num_workers=4, pin_memory=True)\n",
    "test_loader = DataLoader(test_data, batch_size=bs,\n",
    "                          num_workers=4, pin_memory=True)\n",
    "\n",
    "data_loader = {'train': train_loader, 'valid': valid_loader, 'test': test_loader}"
   ]
  },
  {
   "cell_type": "markdown",
   "metadata": {},
   "source": [
    "# Training"
   ]
  },
  {
   "cell_type": "code",
   "execution_count": 99,
   "metadata": {},
   "outputs": [],
   "source": [
    "def train_model(model, criterion, optimizer, writer, num_epochs=30):\n",
    "    liveloss = PlotLosses()\n",
    "    model = model.to(device)\n",
    "    bcnt = 0\n",
    "    for epoch in range(num_epochs):\n",
    "        logs = {}\n",
    "        for phase in ['train', 'valid']:\n",
    "            if phase == 'train':\n",
    "                model.train()\n",
    "            else:\n",
    "                model.eval()\n",
    "\n",
    "            running_loss = 0.0\n",
    "            running_corrects = 0\n",
    "            running_mse = 0.0\n",
    "            running_mattews_cor = 0.0\n",
    "            \n",
    "            bcnt = 0\n",
    "            for inputs, labels, _ in data_loader[phase]:\n",
    "                inputs = inputs.to(device, non_blocking=True)\n",
    "                labels = labels.to(device, non_blocking=True)\n",
    "                \n",
    "                outputs = model(inputs)\n",
    "                loss = criterion(outputs, labels)\n",
    "\n",
    "                if phase == 'train':\n",
    "                    optimizer.zero_grad()\n",
    "                    loss.backward()\n",
    "                    optimizer.step()\n",
    "                \n",
    "                preds = torch.round(outputs)\n",
    "                running_loss += loss.detach() * inputs.size(0)\n",
    "                running_corrects += torch.sum(preds == labels.data) #* inputs.size(0)\n",
    "\n",
    "                running_mse += meansquarederror(preds, labels) * inputs.size(0)\n",
    "                running_mattews_cor += matthews_correlation_pytorch(preds, labels)* inputs.size(0)\n",
    "                writer.add_scalar(f'{phase}/Loss', loss.detach(), (epoch * len(data_loader[phase]))+bcnt)\n",
    "                #writer.add_scalar(f'{phase}/Acc', torch.sum(preds == labels.data)/inputs.size(0), (epoch * len(data_loader[phase]))+bcnt)\n",
    "            \n",
    "                bcnt += 1\n",
    "                \n",
    "            epoch_loss = running_loss / len(data_loader[phase].dataset)\n",
    "            epoch_acc = running_corrects.float() / len(data_loader[phase].dataset)\n",
    "            epoch_mse = running_mse / len(data_loader[phase].dataset)\n",
    "            epoch_matthews_cor = running_mattews_cor / len(data_loader[phase].dataset)\n",
    "\n",
    "            prefix = 'val_' if phase == 'valid' else ''\n",
    "\n",
    "            logs[prefix + 'log loss'] = epoch_loss.item()\n",
    "            logs[prefix + 'accuracy'] = epoch_acc.item()\n",
    "            logs[prefix + 'mse']      = epoch_mse.item()\n",
    "            logs[prefix + 'matthews_correlation']  = epoch_matthews_cor.item()\n",
    "\n",
    "            writer.add_scalar(f'{phase}/Loss Epoch', epoch_loss.item(), epoch)\n",
    "            writer.add_scalar(f'{phase}/Acc Epoch', epoch_acc.item(), epoch)\n",
    "            writer.add_scalar(f'{phase}/MSE Epoch', epoch_mse.item(), epoch)\n",
    "            writer.add_scalar(f'{phase}/Matthews Cor Epoch', epoch_matthews_cor.item(), epoch)\n",
    "\n",
    "       \n",
    "            \n",
    "        #writer.add_scalars('Perf/Loss', dict((k, logs[k]) for k in ('log loss', 'val_log loss')), epoch)\n",
    "        #writer.add_scalars('Perf/Acc', dict((k, logs[k]) for k in ('accuracy', 'val_accuracy')), epoch)\n",
    "        #writer.add_scalars('Extra/MSE', dict((k, logs[k]) for k in ('mse', 'val_mse')), epoch)\n",
    "        #writer.add_scalars('Extra/Matthews', dict((k, logs[k]) for k in ('matthews_correlation', 'val_matthews_correlation')), epoch)\n",
    "        \n",
    "        #writer.add_graph(model, inputs)\n",
    "        \n",
    "        liveloss.update(logs)\n",
    "        \n",
    "        liveloss.draw()\n",
    "  "
   ]
  },
  {
   "cell_type": "code",
   "execution_count": 100,
   "metadata": {},
   "outputs": [],
   "source": [
    "model = CmlCNN()\n",
    "criterion = nn.BCELoss()\n",
    "optimizer = optim.SGD(model.parameters(), \n",
    "                      lr=0.005, \n",
    "                      weight_decay=1e-5, \n",
    "                      momentum=0.9, \n",
    "                      nesterov=True)"
   ]
  },
  {
   "cell_type": "code",
   "execution_count": 101,
   "metadata": {},
   "outputs": [
    {
     "data": {
      "image/png": "[encoded data removed]",
      "text/plain": [
       "<Figure size 864x864 with 4 Axes>"
      ]
     },
     "metadata": {
      "needs_background": "light"
     },
     "output_type": "display_data"
    },
    {
     "name": "stdout",
     "output_type": "stream",
     "text": [
      "log loss:\n",
      "training   (min:    0.244, max:    0.694, cur:    0.244)\n",
      "validation (min:    0.264, max:    0.691, cur:    0.275)\n",
      "\n",
      "accuracy:\n",
      "training   (min:    0.509, max:    0.918, cur:    0.916)\n",
      "validation (min:    0.551, max:    0.900, cur:    0.895)\n",
      "\n",
      "mse:\n",
      "training   (min:    0.082, max:    0.491, cur:    0.084)\n",
      "validation (min:    0.100, max:    0.449, cur:    0.105)\n",
      "\n",
      "matthews_correlation:\n",
      "training   (min:    0.018, max:    0.836, cur:    0.834)\n",
      "validation (min:    0.205, max:    0.800, cur:    0.791)\n",
      "CPU times: user 56.5 s, sys: 54.9 s, total: 1min 51s\n",
      "Wall time: 1min 16s\n"
     ]
    }
   ],
   "source": [
    "%%time\n",
    "import datetime\n",
    "ID = datetime.datetime.now().strftime(\"%Y%m%d-%H%M%S\")\n",
    "logdir = f\"/scratch/{ID}\"\n",
    "os.makedirs(logdir)\n",
    "\n",
    "writer = SummaryWriter(logdir)    \n",
    "    \n",
    "train_model(model, criterion, optimizer, writer, num_epochs=40)\n",
    "\n",
    "writer.close()"
   ]
  },
  {
   "cell_type": "code",
   "execution_count": null,
   "metadata": {},
   "outputs": [],
   "source": []
  },
  {
   "cell_type": "code",
   "execution_count": null,
   "metadata": {},
   "outputs": [],
   "source": []
  },
  {
   "cell_type": "code",
   "execution_count": null,
   "metadata": {},
   "outputs": [],
   "source": []
  },
  {
   "cell_type": "code",
   "execution_count": 270,
   "metadata": {},
   "outputs": [],
   "source": [
    "# Write the model model's state_dict\n",
    "torch.save(model.state_dict(), 'CmlCNN.pth')"
   ]
  },
  {
   "cell_type": "code",
   "execution_count": 368,
   "metadata": {},
   "outputs": [
    {
     "name": "stdout",
     "output_type": "stream",
     "text": [
      "Train accuracy 91.1%\n",
      "Valid accuracy 90.3%\n",
      "Test accuracy  90.2%\n"
     ]
    }
   ],
   "source": [
    "# load the model from disk\n",
    "model = CmlCNN()\n",
    "model.load_state_dict(torch.load('CmlCNN.pth'))\n",
    "model.to(device)\n",
    "model.eval()\n",
    "\n",
    "# final test of the model\n",
    "for phase in ['train', 'valid', 'test']:\n",
    "    model.eval()\n",
    "\n",
    "    y_Pred_t  = []\n",
    "    y_Test    = []\n",
    "    rainrates = []\n",
    "    \n",
    "    running_corrects = 0\n",
    "    for inputs, labels, rrates in data_loader[phase]:\n",
    "        y_Test += labels.tolist()\n",
    "        \n",
    "        inputs = inputs.to(device, non_blocking=True)\n",
    "        labels = labels.to(device, non_blocking=True)\n",
    "\n",
    "        outputs = model(inputs)\n",
    "        y_Pred_t += outputs.tolist()\n",
    "        rainrates += rrates.tolist()\n",
    "        \n",
    "        running_corrects += torch.sum(outputs.round() == labels.data) #* inputs.size(0)\n",
    "\n",
    "    acc = (running_corrects.float() / len(data_loader[phase].dataset)).cpu().numpy()\n",
    "    print( f\"{phase.capitalize()+' accuracy':14} {(acc*100):.1f}%\" )"
   ]
  },
  {
   "cell_type": "code",
   "execution_count": 369,
   "metadata": {},
   "outputs": [],
   "source": [
    "y_Pred_t = np.array(y_Pred_t)\n",
    "y_Test   = np.array(y_Test)\n",
    "rainrates = np.array(rainrates)  "
   ]
  },
  {
   "cell_type": "code",
   "execution_count": 298,
   "metadata": {},
   "outputs": [
    {
     "name": "stdout",
     "output_type": "stream",
     "text": [
      " Best matthews correlation at a threshold of  0.37  with a score of  0.809 \n",
      " Best accuracy at a threshold of  0.37  with a score of  0.904\n"
     ]
    },
    {
     "data": {
      "image/png": "[encoded data removed]",
      "text/plain": [
       "<Figure size 432x288 with 1 Axes>"
      ]
     },
     "metadata": {
      "needs_background": "light"
     },
     "output_type": "display_data"
    }
   ],
   "source": [
    "perf_thresh=[]\n",
    "for i in range(350,650,5):\n",
    "    t=i/1000\n",
    "    y_temp1 = y_Pred_t>t\n",
    "    perf_thresh.append([matthews_corrcoef(y_Test, y_temp1),\n",
    "                        accuracy_score(y_Test, y_temp1)])\n",
    "\n",
    "perf_thresh=np.array(perf_thresh)\n",
    "    \n",
    "threshold_mcc = (list(perf_thresh[:,0]).index(np.max(perf_thresh[:,0]))*5+350)/1000\n",
    "threshold_acc = (list(perf_thresh[:,1]).index(np.max(perf_thresh[:,1]))*5+350)/1000\n",
    "\n",
    "print(' Best matthews correlation at a threshold of ', threshold_mcc,' with a score of ', np.round(np.max(perf_thresh[:,0]), decimals=3),'\\n', \n",
    "      'Best accuracy at a threshold of ',threshold_acc, ' with a score of ',np.round(np.max(perf_thresh[:,1]), decimals=3))\n",
    "plt.plot(perf_thresh[:,0], 'k-', label='MCC')\n",
    "plt.plot(perf_thresh[:,1], 'b-', label='ACC')\n",
    "plt.legend()\n",
    "plt.show()"
   ]
  },
  {
   "cell_type": "code",
   "execution_count": 328,
   "metadata": {},
   "outputs": [
    {
     "name": "stdout",
     "output_type": "stream",
     "text": [
      "MCC: 0.8088359000919321\n",
      "ACC: 0.9042879019908117\n",
      "F1: 0.9043855175930648\n"
     ]
    },
    {
     "data": {
      "image/png": "[encoded data removed]",
      "text/plain": [
       "<Figure size 864x432 with 1 Axes>"
      ]
     },
     "metadata": {
      "needs_background": "light"
     },
     "output_type": "display_data"
    }
   ],
   "source": [
    "fig = plt.figure(figsize=(12,6))\n",
    "sns.distplot(y_Pred_t[np.array(y_Test)==1], color='b', label='wet')\n",
    "sns.distplot(y_Pred_t[np.array(y_Test)==0], color='r', label='dry')\n",
    "plt.legend()\n",
    "\n",
    "print('MCC:', matthews_corrcoef(y_Test, np.ravel(y_Pred_t)>threshold_mcc))\n",
    "print('ACC:', accuracy_score(y_Test, np.ravel(y_Pred_t)>threshold_mcc))\n",
    "print('F1:', f1_score(y_Test, np.ravel(y_Pred_t)>threshold_mcc))"
   ]
  },
  {
   "cell_type": "code",
   "execution_count": 329,
   "metadata": {},
   "outputs": [
    {
     "data": {
      "image/png": "[encoded data removed]",
      "text/plain": [
       "<Figure size 720x360 with 4 Axes>"
      ]
     },
     "metadata": {
      "needs_background": "light"
     },
     "output_type": "display_data"
    }
   ],
   "source": [
    "import itertools\n",
    "# Compute confusion matrix\n",
    "cnf_matrix = confusion_matrix(y_Test, np.ravel(y_Pred_t)>threshold_mcc)\n",
    "np.set_printoptions(precision=3)\n",
    "class_names = ['dry','wet']\n",
    "\n",
    "fig = plt.figure(figsize=(10,5))\n",
    "fig.add_subplot(121)\n",
    "# Plot non-normalized confusion matrix\n",
    "plot_confusion_matrix(cnf_matrix, classes=class_names,\n",
    "                      title='Confusion matrix, without normalization')\n",
    "fig.add_subplot(122)\n",
    "# Plot normalized confusion matrix\n",
    "plot_confusion_matrix(cnf_matrix, classes=class_names, normalize=True,\n",
    "                      title='Normalized confusion matrix')\n",
    "plt.show()"
   ]
  },
  {
   "cell_type": "code",
   "execution_count": 366,
   "metadata": {},
   "outputs": [
    {
     "data": {
      "application/vnd.jupyter.widget-view+json": {
       "model_id": "4d331ca840c8471e8f896e670fb2cbfc",
       "version_major": 2,
       "version_minor": 0
      },
      "text/plain": [
       "HBox(children=(IntProgress(value=0, max=1001), HTML(value='')))"
      ]
     },
     "metadata": {},
     "output_type": "display_data"
    },
    {
     "name": "stdout",
     "output_type": "stream",
     "text": [
      "\n"
     ]
    }
   ],
   "source": [
    "roc = Roc_curve(np.array(y_Pred_t), np.array(y_Test))"
   ]
  },
  {
   "cell_type": "code",
   "execution_count": 367,
   "metadata": {},
   "outputs": [
    {
     "data": {
      "image/png": "[encoded data removed]",
      "text/plain": [
       "<Figure size 576x576 with 1 Axes>"
      ]
     },
     "metadata": {
      "needs_background": "light"
     },
     "output_type": "display_data"
    }
   ],
   "source": [
    "plt.figure(figsize=(8,8))\n",
    "\n",
    "plt.plot(roc[:,1],roc[:,0], color='#4daf4a', label='CNN. Area: '+str(np.round(roc_surface(roc), decimals=2)))\n",
    "plt.plot(roc[int(threshold_mcc*1000),1],roc[int(threshold_mcc*1000),0], 'go', label='point of best MCC')\n",
    "\n",
    "plt.plot([0,0,1,0,1,1],[0,1,1,0,0,1], 'k-', linewidth=0.3)\n",
    "\n",
    "plt.xlabel('False positive rate')\n",
    "plt.ylabel('True positive rate')\n",
    "plt.title('ROC curve')\n",
    "plt.legend(loc='center right', ncol=1)\n",
    "plt.grid()\n",
    "plt.yticks(np.arange(0, 1.01, 0.1))\n",
    "plt.xticks(np.arange(0, 1.01, 0.1))\n",
    "plt.show()"
   ]
  },
  {
   "cell_type": "code",
   "execution_count": 373,
   "metadata": {},
   "outputs": [],
   "source": [
    "def scores_on_rainrates(y_test, y_pred, rainratetest):\n",
    "    scores_on_rainrates = []\n",
    "    scores_on_rainrates.append([0, accuracy_score(y_test[rainratetest==0], y_pred[rainratetest==0])])\n",
    "    for i in range(0,15,1):\n",
    "        scores_on_rainrates.append([(i+1)/10, accuracy_score(y_test[np.logical_and(rainratetest>i/10 ,rainratetest<=(i+1)/10)], \n",
    "                                                             y_pred[np.logical_and(rainratetest>i/10 ,rainratetest<=(i+1)/10)])])\n",
    "    scores_on_rainrates.append([1.6, accuracy_score(y_test[rainratetest>1.5], y_pred[rainratetest>1.5])])\n",
    "    scores_on_rainrates = np.array(scores_on_rainrates)\n",
    "    \n",
    "    return scores_on_rainrates"
   ]
  },
  {
   "cell_type": "code",
   "execution_count": 378,
   "metadata": {},
   "outputs": [],
   "source": [
    "scores_per_rrate = scores_on_rainrates(y_Test, \n",
    "                                       np.ravel(y_Pred_t)>threshold_mcc,\n",
    "                                       rainrates)"
   ]
  },
  {
   "cell_type": "code",
   "execution_count": 380,
   "metadata": {},
   "outputs": [
    {
     "data": {
      "image/png": "[encoded data removed]",
      "text/plain": [
       "<Figure size 1008x432 with 1 Axes>"
      ]
     },
     "metadata": {
      "needs_background": "light"
     },
     "output_type": "display_data"
    }
   ],
   "source": [
    "plt.figure(figsize=(14,6))\n",
    "plt.bar(scores_per_rrate[:,0],scores_per_rrate[:,1], color='#4daf4a', width=0.02, label='CNN')\n",
    "plt.xticks(np.arange(0, 1.7, 0.1))\n",
    "plt.yticks(np.arange(0, 1.1, 0.1))\n",
    "plt.ylim(0.5, 1.)\n",
    "plt.ylabel('Prediction accuracy')\n",
    "plt.xlabel('Rainrate [mm/h] \\n (rounded up to multiples of 0.1)')\n",
    "plt.legend(loc='upper left')\n",
    "plt.text(1.58,0.48,'------')\n",
    "plt.text(1.58,0.46,'> 1.5')\n",
    "plt.title('')\n",
    "plt.grid()\n",
    "plt.show()"
   ]
  }
 ],
 "metadata": {
  "kernelspec": {
   "display_name": "Python 3",
   "language": "python",
   "name": "python3"
  },
  "language_info": {
   "codemirror_mode": {
    "name": "ipython",
    "version": 3
   },
   "file_extension": ".py",
   "mimetype": "text/x-python",
   "name": "python",
   "nbconvert_exporter": "python",
   "pygments_lexer": "ipython3",
   "version": "3.6.8"
  }
 },
 "nbformat": 4,
 "nbformat_minor": 4
}
