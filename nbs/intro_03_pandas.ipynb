{
 "cells": [
  {
   "cell_type": "markdown",
   "metadata": {},
   "source": [
    "![](../images/logos.jpg \"MiCMOR, KIT Campus Alpin\")\n",
    "\n",
    "**[MiCMOR](https://micmor.kit.edu) [SummerSchool \"Environmental Data Science: From Data Exploration to Deep Learning\"](https://micmor.kit.edu/sites/default/files/MICMoR%20Summer%20School%202019%20Flyer.pdf)**  \n",
    "IMK-IFU KIT Campus Alpin, Sept. 4 - 13 2019, Garmisch-Partenkirchen, Germany.\n",
    "\n",
    "---"
   ]
  },
  {
   "cell_type": "markdown",
   "metadata": {},
   "source": [
    "# Pandas\n",
    "\n",
    "![](https://img.etimg.com/thumb/msid-51641992,width-643,imgsize-288661,resizemode-4/kung-fu-panda-3-review-film-ticks-all-the-boxes.jpg)"
   ]
  },
  {
   "cell_type": "code",
   "execution_count": 145,
   "metadata": {},
   "outputs": [
    {
     "name": "stdout",
     "output_type": "stream",
     "text": [
      "The autoreload extension is already loaded. To reload it, use:\n",
      "  %reload_ext autoreload\n"
     ]
    }
   ],
   "source": [
    "%matplotlib inline\n",
    "%load_ext autoreload\n",
    "%autoreload 2"
   ]
  },
  {
   "cell_type": "markdown",
   "metadata": {},
   "source": [
    "## Working with tabular data\n",
    "\n",
    "The Pandas package is for many people *the reason* for much of the recent success of python as the Data Science language.\n",
    "\n",
    "In a  Stackoverflow [study](https://stackoverflow.blog/2017/09/14/python-growing-quickly/) it was concluded that:\n",
    ">These analyses suggest two conclusions. First, the fastest-growing use of Python is for data science, machine learning and academic research. This is particularly visible in the growth of the pandas package, which is the fastest-growing Python-related tag on the site. As for which industries are using Python, we found that it is more visited in a few industries, such as electronics, manufacturing, software, government, and especially universities. However, Python’s growth is spread pretty evenly across industries. In combination this tells a story of data science and machine learning becoming more common in many types of companies, and Python becoming a common choice for that purpose.\n",
    "\n",
    "<center>\n",
    "<img width=\"400\" src=https://1015711.v1.pressablecdn.com/wp-content/uploads/2017/09/related_tags_over_time-1-1200x1200.png>\n",
    "<p><center><em>The rise of pandas</em></center></p>\n",
    "</center>\n",
    "\n",
    "So we first explore the basics of working with pandas a bit and later use it for some analysis.\n",
    "\n",
    "### Basic data types: Seris, DataFrame\n",
    "\n",
    "In general we import pandas like this. Usually you also want numpy for some processing so we import it too:"
   ]
  },
  {
   "cell_type": "code",
   "execution_count": 146,
   "metadata": {},
   "outputs": [],
   "source": [
    "import numpy as np\n",
    "import pandas as pd\n",
    "import matplotlib.pylab as plt"
   ]
  },
  {
   "cell_type": "markdown",
   "metadata": {},
   "source": [
    "Pandas features two basic types:  **Series** and **DataFrame** ([see also the relevant section in the getting started guide](https://pandas.pydata.org/pandas-docs/stable/getting_started/dsintro.html)). \n",
    "A series holds an one-dimensional labeled array, a dataframe is a 2-dimensional labeled data structure with columns of potentially different types (think spreadsheet).\n",
    "\n",
    "Both are composed of data and an index (the row labels). A dataframe has columns wioth column labels.\n",
    "\n",
    "Here is how they are defined and what they look like.\n",
    "\n",
    "First a **Series**:"
   ]
  },
  {
   "cell_type": "code",
   "execution_count": 147,
   "metadata": {},
   "outputs": [
    {
     "data": {
      "text/plain": [
       "0    7\n",
       "1    7\n",
       "2    3\n",
       "3    5\n",
       "4    2\n",
       "5    1\n",
       "6    8\n",
       "7    3\n",
       "8    4\n",
       "9    3\n",
       "Name: Flux1, dtype: int64"
      ]
     },
     "execution_count": 147,
     "metadata": {},
     "output_type": "execute_result"
    }
   ],
   "source": [
    "s = pd.Series(np.random.randint(0, 10, size=10), name='Flux1')\n",
    "s"
   ]
  },
  {
   "cell_type": "markdown",
   "metadata": {},
   "source": [
    "If the index is ommited, the Series gets an integer index (you can set it as an argument). Usually, you also want to add a name to describe your data.\n",
    "\n",
    "Access the values with `.values`, the index with `.index`."
   ]
  },
  {
   "cell_type": "code",
   "execution_count": 148,
   "metadata": {},
   "outputs": [
    {
     "name": "stdout",
     "output_type": "stream",
     "text": [
      "Values [7 7 3 5 2 1 8 3 4 3]\n",
      "Index RangeIndex(start=0, stop=10, step=1)\n"
     ]
    }
   ],
   "source": [
    "print('Values', s.values)\n",
    "print('Index', s.index)"
   ]
  },
  {
   "cell_type": "markdown",
   "metadata": {},
   "source": [
    "Another example where you set an index expicitly (but no name):"
   ]
  },
  {
   "cell_type": "code",
   "execution_count": 149,
   "metadata": {},
   "outputs": [
    {
     "data": {
      "text/plain": [
       "a    1.673319\n",
       "b    0.923670\n",
       "c   -0.440648\n",
       "d   -0.404971\n",
       "e    1.303697\n",
       "dtype: float64"
      ]
     },
     "execution_count": 149,
     "metadata": {},
     "output_type": "execute_result"
    }
   ],
   "source": [
    "s = pd.Series(np.random.randn(5), index=['a', 'b', 'c', 'd', 'e'])\n",
    "s"
   ]
  },
  {
   "cell_type": "markdown",
   "metadata": {},
   "source": [
    "Note the dtype. This is the data type. This can be `object` for any non numeric data (i.e. strings) or int, float for numeric data. There's also a special dtype (categorical) that we will have a look at later. "
   ]
  },
  {
   "cell_type": "markdown",
   "metadata": {},
   "source": [
    "Now we look at a **DataFrames**:"
   ]
  },
  {
   "cell_type": "markdown",
   "metadata": {},
   "source": [
    "You'll probably more often work with `DataFrames`, as they can store multiple variables.\n",
    "\n",
    "You can create dataframes in many ways, but most often you will read the data from file (i.e. with the read_csv() function).\n",
    "\n",
    "One way to define a dataframe is with a dictionary of columns."
   ]
  },
  {
   "cell_type": "code",
   "execution_count": 150,
   "metadata": {},
   "outputs": [
    {
     "data": {
      "text/html": [
       "<div>\n",
       "<style scoped>\n",
       "    .dataframe tbody tr th:only-of-type {\n",
       "        vertical-align: middle;\n",
       "    }\n",
       "\n",
       "    .dataframe tbody tr th {\n",
       "        vertical-align: top;\n",
       "    }\n",
       "\n",
       "    .dataframe thead th {\n",
       "        text-align: right;\n",
       "    }\n",
       "</style>\n",
       "<table border=\"1\" class=\"dataframe\">\n",
       "  <thead>\n",
       "    <tr style=\"text-align: right;\">\n",
       "      <th></th>\n",
       "      <th>one</th>\n",
       "      <th>two</th>\n",
       "    </tr>\n",
       "  </thead>\n",
       "  <tbody>\n",
       "    <tr>\n",
       "      <th>0</th>\n",
       "      <td>1</td>\n",
       "      <td>4.1</td>\n",
       "    </tr>\n",
       "    <tr>\n",
       "      <th>1</th>\n",
       "      <td>2</td>\n",
       "      <td>3.4</td>\n",
       "    </tr>\n",
       "    <tr>\n",
       "      <th>2</th>\n",
       "      <td>3</td>\n",
       "      <td>2.1</td>\n",
       "    </tr>\n",
       "    <tr>\n",
       "      <th>3</th>\n",
       "      <td>4</td>\n",
       "      <td>1.3</td>\n",
       "    </tr>\n",
       "  </tbody>\n",
       "</table>\n",
       "</div>"
      ],
      "text/plain": [
       "   one  two\n",
       "0    1  4.1\n",
       "1    2  3.4\n",
       "2    3  2.1\n",
       "3    4  1.3"
      ]
     },
     "execution_count": 150,
     "metadata": {},
     "output_type": "execute_result"
    }
   ],
   "source": [
    "d = {'one': [1,2,3,4], 'two': [4.1, 3.4, 2.1, 1.3]}\n",
    "\n",
    "pd.DataFrame(d)"
   ]
  },
  {
   "cell_type": "markdown",
   "metadata": {},
   "source": [
    "Creating the dataframe while passing a custom index:"
   ]
  },
  {
   "cell_type": "code",
   "execution_count": 151,
   "metadata": {},
   "outputs": [
    {
     "data": {
      "text/html": [
       "<div>\n",
       "<style scoped>\n",
       "    .dataframe tbody tr th:only-of-type {\n",
       "        vertical-align: middle;\n",
       "    }\n",
       "\n",
       "    .dataframe tbody tr th {\n",
       "        vertical-align: top;\n",
       "    }\n",
       "\n",
       "    .dataframe thead th {\n",
       "        text-align: right;\n",
       "    }\n",
       "</style>\n",
       "<table border=\"1\" class=\"dataframe\">\n",
       "  <thead>\n",
       "    <tr style=\"text-align: right;\">\n",
       "      <th></th>\n",
       "      <th>one</th>\n",
       "      <th>two</th>\n",
       "    </tr>\n",
       "  </thead>\n",
       "  <tbody>\n",
       "    <tr>\n",
       "      <th>a</th>\n",
       "      <td>1</td>\n",
       "      <td>4.1</td>\n",
       "    </tr>\n",
       "    <tr>\n",
       "      <th>b</th>\n",
       "      <td>2</td>\n",
       "      <td>3.4</td>\n",
       "    </tr>\n",
       "    <tr>\n",
       "      <th>c</th>\n",
       "      <td>3</td>\n",
       "      <td>2.1</td>\n",
       "    </tr>\n",
       "    <tr>\n",
       "      <th>d</th>\n",
       "      <td>4</td>\n",
       "      <td>1.3</td>\n",
       "    </tr>\n",
       "  </tbody>\n",
       "</table>\n",
       "</div>"
      ],
      "text/plain": [
       "   one  two\n",
       "a    1  4.1\n",
       "b    2  3.4\n",
       "c    3  2.1\n",
       "d    4  1.3"
      ]
     },
     "execution_count": 151,
     "metadata": {},
     "output_type": "execute_result"
    }
   ],
   "source": [
    "pd.DataFrame(d, index=['a', 'b', 'c', 'd'])"
   ]
  },
  {
   "cell_type": "markdown",
   "metadata": {},
   "source": [
    "Or by passing Series elements:"
   ]
  },
  {
   "cell_type": "code",
   "execution_count": 152,
   "metadata": {},
   "outputs": [
    {
     "data": {
      "text/html": [
       "<div>\n",
       "<style scoped>\n",
       "    .dataframe tbody tr th:only-of-type {\n",
       "        vertical-align: middle;\n",
       "    }\n",
       "\n",
       "    .dataframe tbody tr th {\n",
       "        vertical-align: top;\n",
       "    }\n",
       "\n",
       "    .dataframe thead th {\n",
       "        text-align: right;\n",
       "    }\n",
       "</style>\n",
       "<table border=\"1\" class=\"dataframe\">\n",
       "  <thead>\n",
       "    <tr style=\"text-align: right;\">\n",
       "      <th></th>\n",
       "      <th>one</th>\n",
       "      <th>two</th>\n",
       "    </tr>\n",
       "  </thead>\n",
       "  <tbody>\n",
       "    <tr>\n",
       "      <th>a</th>\n",
       "      <td>1.0</td>\n",
       "      <td>1.0</td>\n",
       "    </tr>\n",
       "    <tr>\n",
       "      <th>b</th>\n",
       "      <td>2.0</td>\n",
       "      <td>2.0</td>\n",
       "    </tr>\n",
       "    <tr>\n",
       "      <th>c</th>\n",
       "      <td>3.0</td>\n",
       "      <td>3.0</td>\n",
       "    </tr>\n",
       "    <tr>\n",
       "      <th>d</th>\n",
       "      <td>NaN</td>\n",
       "      <td>4.0</td>\n",
       "    </tr>\n",
       "  </tbody>\n",
       "</table>\n",
       "</div>"
      ],
      "text/plain": [
       "   one  two\n",
       "a  1.0  1.0\n",
       "b  2.0  2.0\n",
       "c  3.0  3.0\n",
       "d  NaN  4.0"
      ]
     },
     "execution_count": 152,
     "metadata": {},
     "output_type": "execute_result"
    }
   ],
   "source": [
    "d = {'one': pd.Series([1., 2., 3.], index=['a', 'b', 'c']),\n",
    "     'two': pd.Series([1., 2., 3., 4.], index=['a', 'b', 'c', 'd'])}\n",
    "\n",
    "pd.DataFrame(d)"
   ]
  },
  {
   "cell_type": "markdown",
   "metadata": {},
   "source": [
    "Let's look at the results. Pandas matches data by the index. Thus, column one has now a missing value `NaN` in row d.\n",
    "\n",
    "This also happens if you specify columns that do not exist in the given dictionary:"
   ]
  },
  {
   "cell_type": "code",
   "execution_count": 153,
   "metadata": {},
   "outputs": [
    {
     "data": {
      "text/html": [
       "<div>\n",
       "<style scoped>\n",
       "    .dataframe tbody tr th:only-of-type {\n",
       "        vertical-align: middle;\n",
       "    }\n",
       "\n",
       "    .dataframe tbody tr th {\n",
       "        vertical-align: top;\n",
       "    }\n",
       "\n",
       "    .dataframe thead th {\n",
       "        text-align: right;\n",
       "    }\n",
       "</style>\n",
       "<table border=\"1\" class=\"dataframe\">\n",
       "  <thead>\n",
       "    <tr style=\"text-align: right;\">\n",
       "      <th></th>\n",
       "      <th>two</th>\n",
       "      <th>three</th>\n",
       "    </tr>\n",
       "  </thead>\n",
       "  <tbody>\n",
       "    <tr>\n",
       "      <th>d</th>\n",
       "      <td>4.0</td>\n",
       "      <td>NaN</td>\n",
       "    </tr>\n",
       "    <tr>\n",
       "      <th>b</th>\n",
       "      <td>2.0</td>\n",
       "      <td>NaN</td>\n",
       "    </tr>\n",
       "    <tr>\n",
       "      <th>a</th>\n",
       "      <td>1.0</td>\n",
       "      <td>NaN</td>\n",
       "    </tr>\n",
       "  </tbody>\n",
       "</table>\n",
       "</div>"
      ],
      "text/plain": [
       "   two three\n",
       "d  4.0   NaN\n",
       "b  2.0   NaN\n",
       "a  1.0   NaN"
      ]
     },
     "execution_count": 153,
     "metadata": {},
     "output_type": "execute_result"
    }
   ],
   "source": [
    "pd.DataFrame(d, index=['d', 'b', 'a'], columns=['two', 'three'])"
   ]
  },
  {
   "cell_type": "markdown",
   "metadata": {},
   "source": [
    "You can access (and set) the column and row labels like this:"
   ]
  },
  {
   "cell_type": "code",
   "execution_count": 154,
   "metadata": {},
   "outputs": [
    {
     "data": {
      "text/plain": [
       "Index(['a', 'b', 'c', 'd'], dtype='object')"
      ]
     },
     "execution_count": 154,
     "metadata": {},
     "output_type": "execute_result"
    }
   ],
   "source": [
    "df = pd.DataFrame(d)\n",
    "df.index"
   ]
  },
  {
   "cell_type": "code",
   "execution_count": 155,
   "metadata": {},
   "outputs": [
    {
     "data": {
      "text/plain": [
       "Index(['one', 'two'], dtype='object')"
      ]
     },
     "execution_count": 155,
     "metadata": {},
     "output_type": "execute_result"
    }
   ],
   "source": [
    "df.columns"
   ]
  },
  {
   "cell_type": "code",
   "execution_count": 156,
   "metadata": {},
   "outputs": [
    {
     "data": {
      "text/html": [
       "<div>\n",
       "<style scoped>\n",
       "    .dataframe tbody tr th:only-of-type {\n",
       "        vertical-align: middle;\n",
       "    }\n",
       "\n",
       "    .dataframe tbody tr th {\n",
       "        vertical-align: top;\n",
       "    }\n",
       "\n",
       "    .dataframe thead th {\n",
       "        text-align: right;\n",
       "    }\n",
       "</style>\n",
       "<table border=\"1\" class=\"dataframe\">\n",
       "  <thead>\n",
       "    <tr style=\"text-align: right;\">\n",
       "      <th></th>\n",
       "      <th>V1</th>\n",
       "      <th>V2</th>\n",
       "    </tr>\n",
       "  </thead>\n",
       "  <tbody>\n",
       "    <tr>\n",
       "      <th>a</th>\n",
       "      <td>1.0</td>\n",
       "      <td>1.0</td>\n",
       "    </tr>\n",
       "    <tr>\n",
       "      <th>b</th>\n",
       "      <td>2.0</td>\n",
       "      <td>2.0</td>\n",
       "    </tr>\n",
       "    <tr>\n",
       "      <th>c</th>\n",
       "      <td>3.0</td>\n",
       "      <td>3.0</td>\n",
       "    </tr>\n",
       "    <tr>\n",
       "      <th>d</th>\n",
       "      <td>NaN</td>\n",
       "      <td>4.0</td>\n",
       "    </tr>\n",
       "  </tbody>\n",
       "</table>\n",
       "</div>"
      ],
      "text/plain": [
       "    V1   V2\n",
       "a  1.0  1.0\n",
       "b  2.0  2.0\n",
       "c  3.0  3.0\n",
       "d  NaN  4.0"
      ]
     },
     "execution_count": 156,
     "metadata": {},
     "output_type": "execute_result"
    }
   ],
   "source": [
    "# setting new column names\n",
    "df2 = df.copy()\n",
    "df2.columns = ['V1', 'V2']\n",
    "df2"
   ]
  },
  {
   "cell_type": "markdown",
   "metadata": {},
   "source": [
    "You can create new columns like this:"
   ]
  },
  {
   "cell_type": "code",
   "execution_count": 157,
   "metadata": {},
   "outputs": [],
   "source": [
    "df3 = df.copy()\n",
    "df3['three'] = df3['one'] * df3['two']"
   ]
  },
  {
   "cell_type": "markdown",
   "metadata": {},
   "source": [
    "Note, there is also a differnt syntax to access columns that is very common. \n",
    "\n",
    "To access column 'two' like this:\n",
    "```python\n",
    "df.two\n",
    "# is the same as\n",
    "df['two']\n",
    "```\n",
    "\n",
    "However, the first version only works if the column names does not contain spaces, '.' or other symbols that might confuse the python language parser. Thus, do not use points in your column names.\n",
    "\n",
    "You can also only use this syntax on the right side of an assignment (see [here](https://pandas.pydata.org/pandas-docs/stable/indexing.html#attribute-access))."
   ]
  },
  {
   "cell_type": "code",
   "execution_count": 158,
   "metadata": {},
   "outputs": [],
   "source": [
    "# this works\n",
    "df4 = df.copy()\n",
    "df4['three'] = df4.one * df4.two"
   ]
  },
  {
   "cell_type": "code",
   "execution_count": 159,
   "metadata": {},
   "outputs": [
    {
     "name": "stderr",
     "output_type": "stream",
     "text": [
      "/Users/fuchs-k/miniconda3/lib/python3.7/site-packages/ipykernel_launcher.py:3: UserWarning: Pandas doesn't allow columns to be created via a new attribute name - see https://pandas.pydata.org/pandas-docs/stable/indexing.html#attribute-access\n",
      "  This is separate from the ipykernel package so we can avoid doing imports until\n"
     ]
    },
    {
     "data": {
      "text/html": [
       "<div>\n",
       "<style scoped>\n",
       "    .dataframe tbody tr th:only-of-type {\n",
       "        vertical-align: middle;\n",
       "    }\n",
       "\n",
       "    .dataframe tbody tr th {\n",
       "        vertical-align: top;\n",
       "    }\n",
       "\n",
       "    .dataframe thead th {\n",
       "        text-align: right;\n",
       "    }\n",
       "</style>\n",
       "<table border=\"1\" class=\"dataframe\">\n",
       "  <thead>\n",
       "    <tr style=\"text-align: right;\">\n",
       "      <th></th>\n",
       "      <th>one</th>\n",
       "      <th>two</th>\n",
       "    </tr>\n",
       "  </thead>\n",
       "  <tbody>\n",
       "    <tr>\n",
       "      <th>a</th>\n",
       "      <td>1.0</td>\n",
       "      <td>1.0</td>\n",
       "    </tr>\n",
       "    <tr>\n",
       "      <th>b</th>\n",
       "      <td>2.0</td>\n",
       "      <td>2.0</td>\n",
       "    </tr>\n",
       "    <tr>\n",
       "      <th>c</th>\n",
       "      <td>3.0</td>\n",
       "      <td>3.0</td>\n",
       "    </tr>\n",
       "    <tr>\n",
       "      <th>d</th>\n",
       "      <td>NaN</td>\n",
       "      <td>4.0</td>\n",
       "    </tr>\n",
       "  </tbody>\n",
       "</table>\n",
       "</div>"
      ],
      "text/plain": [
       "   one  two\n",
       "a  1.0  1.0\n",
       "b  2.0  2.0\n",
       "c  3.0  3.0\n",
       "d  NaN  4.0"
      ]
     },
     "execution_count": 159,
     "metadata": {},
     "output_type": "execute_result"
    }
   ],
   "source": [
    "# this does not work\n",
    "df5 = df.copy()\n",
    "df5.three = df5.one * df5.two\n",
    "df5"
   ]
  },
  {
   "cell_type": "markdown",
   "metadata": {},
   "source": [
    "To delete a column you can either use `del` or `drop(colname, axis=1)` (axis=0 in pandas refers to rows-wise operations, axis=1 to column-wise operations):"
   ]
  },
  {
   "cell_type": "code",
   "execution_count": 160,
   "metadata": {},
   "outputs": [
    {
     "data": {
      "text/html": [
       "<div>\n",
       "<style scoped>\n",
       "    .dataframe tbody tr th:only-of-type {\n",
       "        vertical-align: middle;\n",
       "    }\n",
       "\n",
       "    .dataframe tbody tr th {\n",
       "        vertical-align: top;\n",
       "    }\n",
       "\n",
       "    .dataframe thead th {\n",
       "        text-align: right;\n",
       "    }\n",
       "</style>\n",
       "<table border=\"1\" class=\"dataframe\">\n",
       "  <thead>\n",
       "    <tr style=\"text-align: right;\">\n",
       "      <th></th>\n",
       "      <th>two</th>\n",
       "    </tr>\n",
       "  </thead>\n",
       "  <tbody>\n",
       "    <tr>\n",
       "      <th>a</th>\n",
       "      <td>1.0</td>\n",
       "    </tr>\n",
       "    <tr>\n",
       "      <th>b</th>\n",
       "      <td>2.0</td>\n",
       "    </tr>\n",
       "    <tr>\n",
       "      <th>c</th>\n",
       "      <td>3.0</td>\n",
       "    </tr>\n",
       "    <tr>\n",
       "      <th>d</th>\n",
       "      <td>4.0</td>\n",
       "    </tr>\n",
       "  </tbody>\n",
       "</table>\n",
       "</div>"
      ],
      "text/plain": [
       "   two\n",
       "a  1.0\n",
       "b  2.0\n",
       "c  3.0\n",
       "d  4.0"
      ]
     },
     "execution_count": 160,
     "metadata": {},
     "output_type": "execute_result"
    }
   ],
   "source": [
    "del df5['one']\n",
    "df5"
   ]
  },
  {
   "cell_type": "code",
   "execution_count": 161,
   "metadata": {},
   "outputs": [
    {
     "data": {
      "text/html": [
       "<div>\n",
       "<style scoped>\n",
       "    .dataframe tbody tr th:only-of-type {\n",
       "        vertical-align: middle;\n",
       "    }\n",
       "\n",
       "    .dataframe tbody tr th {\n",
       "        vertical-align: top;\n",
       "    }\n",
       "\n",
       "    .dataframe thead th {\n",
       "        text-align: right;\n",
       "    }\n",
       "</style>\n",
       "<table border=\"1\" class=\"dataframe\">\n",
       "  <thead>\n",
       "    <tr style=\"text-align: right;\">\n",
       "      <th></th>\n",
       "      <th>one</th>\n",
       "      <th>three</th>\n",
       "    </tr>\n",
       "  </thead>\n",
       "  <tbody>\n",
       "    <tr>\n",
       "      <th>a</th>\n",
       "      <td>1.0</td>\n",
       "      <td>1.0</td>\n",
       "    </tr>\n",
       "    <tr>\n",
       "      <th>b</th>\n",
       "      <td>2.0</td>\n",
       "      <td>4.0</td>\n",
       "    </tr>\n",
       "    <tr>\n",
       "      <th>c</th>\n",
       "      <td>3.0</td>\n",
       "      <td>9.0</td>\n",
       "    </tr>\n",
       "    <tr>\n",
       "      <th>d</th>\n",
       "      <td>NaN</td>\n",
       "      <td>NaN</td>\n",
       "    </tr>\n",
       "  </tbody>\n",
       "</table>\n",
       "</div>"
      ],
      "text/plain": [
       "   one  three\n",
       "a  1.0    1.0\n",
       "b  2.0    4.0\n",
       "c  3.0    9.0\n",
       "d  NaN    NaN"
      ]
     },
     "metadata": {},
     "output_type": "display_data"
    },
    {
     "data": {
      "text/html": [
       "<div>\n",
       "<style scoped>\n",
       "    .dataframe tbody tr th:only-of-type {\n",
       "        vertical-align: middle;\n",
       "    }\n",
       "\n",
       "    .dataframe tbody tr th {\n",
       "        vertical-align: top;\n",
       "    }\n",
       "\n",
       "    .dataframe thead th {\n",
       "        text-align: right;\n",
       "    }\n",
       "</style>\n",
       "<table border=\"1\" class=\"dataframe\">\n",
       "  <thead>\n",
       "    <tr style=\"text-align: right;\">\n",
       "      <th></th>\n",
       "      <th>three</th>\n",
       "    </tr>\n",
       "  </thead>\n",
       "  <tbody>\n",
       "    <tr>\n",
       "      <th>a</th>\n",
       "      <td>1.0</td>\n",
       "    </tr>\n",
       "    <tr>\n",
       "      <th>b</th>\n",
       "      <td>4.0</td>\n",
       "    </tr>\n",
       "    <tr>\n",
       "      <th>c</th>\n",
       "      <td>9.0</td>\n",
       "    </tr>\n",
       "    <tr>\n",
       "      <th>d</th>\n",
       "      <td>NaN</td>\n",
       "    </tr>\n",
       "  </tbody>\n",
       "</table>\n",
       "</div>"
      ],
      "text/plain": [
       "   three\n",
       "a    1.0\n",
       "b    4.0\n",
       "c    9.0\n",
       "d    NaN"
      ]
     },
     "execution_count": 161,
     "metadata": {},
     "output_type": "execute_result"
    }
   ],
   "source": [
    "# drop one row\n",
    "display(df4.drop('two', axis=1))\n",
    "\n",
    "# drop multiple rows\n",
    "df4.drop(['one','two'], axis=1)"
   ]
  },
  {
   "cell_type": "markdown",
   "metadata": {},
   "source": [
    "## Indexing and selection\n",
    "\n",
    "The basics of indexing are as follows:\n",
    "\n",
    "| Operation                      |Syntax        |Result    |\n",
    "|--------------------------------|--------------|----------|\n",
    "| Select column                  |df[col]       |Series    |\n",
    "| Select row by label            |df.loc[label] |Series    |\n",
    "| Select row by integer location |df.iloc[loc]  |Series    |\n",
    "| Slice rows                     |df[5:10]      |DataFrame |\n",
    "| Select rows by boolean vector  |df[bool_vec]  |DataFrame |\n",
    "\n"
   ]
  },
  {
   "cell_type": "code",
   "execution_count": 162,
   "metadata": {},
   "outputs": [
    {
     "data": {
      "text/plain": [
       "one    1.0\n",
       "two    1.0\n",
       "Name: a, dtype: float64"
      ]
     },
     "execution_count": 162,
     "metadata": {},
     "output_type": "execute_result"
    }
   ],
   "source": [
    "# Examples\n",
    "\n",
    "# 1) get first row (use iloc)\n",
    "df.iloc[0]"
   ]
  },
  {
   "cell_type": "code",
   "execution_count": 163,
   "metadata": {},
   "outputs": [
    {
     "data": {
      "text/plain": [
       "a    1.0\n",
       "b    2.0\n",
       "c    3.0\n",
       "d    NaN\n",
       "Name: one, dtype: float64"
      ]
     },
     "execution_count": 163,
     "metadata": {},
     "output_type": "execute_result"
    }
   ],
   "source": [
    "# 2) get all rows and first col (use iloc)\n",
    "df.iloc[:,0]"
   ]
  },
  {
   "cell_type": "code",
   "execution_count": 164,
   "metadata": {},
   "outputs": [
    {
     "data": {
      "text/plain": [
       "one    2.0\n",
       "two    2.0\n",
       "Name: b, dtype: float64"
      ]
     },
     "execution_count": 164,
     "metadata": {},
     "output_type": "execute_result"
    }
   ],
   "source": [
    "# 3) select row by label\n",
    "df.loc['b']"
   ]
  },
  {
   "cell_type": "code",
   "execution_count": 165,
   "metadata": {},
   "outputs": [
    {
     "data": {
      "text/plain": [
       "a    1.0\n",
       "b    2.0\n",
       "c    3.0\n",
       "d    4.0\n",
       "Name: two, dtype: float64"
      ]
     },
     "execution_count": 165,
     "metadata": {},
     "output_type": "execute_result"
    }
   ],
   "source": [
    "# 4) select column by label\n",
    "df['two']"
   ]
  },
  {
   "cell_type": "code",
   "execution_count": 166,
   "metadata": {},
   "outputs": [
    {
     "data": {
      "text/html": [
       "<div>\n",
       "<style scoped>\n",
       "    .dataframe tbody tr th:only-of-type {\n",
       "        vertical-align: middle;\n",
       "    }\n",
       "\n",
       "    .dataframe tbody tr th {\n",
       "        vertical-align: top;\n",
       "    }\n",
       "\n",
       "    .dataframe thead th {\n",
       "        text-align: right;\n",
       "    }\n",
       "</style>\n",
       "<table border=\"1\" class=\"dataframe\">\n",
       "  <thead>\n",
       "    <tr style=\"text-align: right;\">\n",
       "      <th></th>\n",
       "      <th>one</th>\n",
       "      <th>two</th>\n",
       "    </tr>\n",
       "  </thead>\n",
       "  <tbody>\n",
       "    <tr>\n",
       "      <th>c</th>\n",
       "      <td>3.0</td>\n",
       "      <td>3.0</td>\n",
       "    </tr>\n",
       "    <tr>\n",
       "      <th>d</th>\n",
       "      <td>NaN</td>\n",
       "      <td>4.0</td>\n",
       "    </tr>\n",
       "  </tbody>\n",
       "</table>\n",
       "</div>"
      ],
      "text/plain": [
       "   one  two\n",
       "c  3.0  3.0\n",
       "d  NaN  4.0"
      ]
     },
     "metadata": {},
     "output_type": "display_data"
    },
    {
     "data": {
      "text/html": [
       "<div>\n",
       "<style scoped>\n",
       "    .dataframe tbody tr th:only-of-type {\n",
       "        vertical-align: middle;\n",
       "    }\n",
       "\n",
       "    .dataframe tbody tr th {\n",
       "        vertical-align: top;\n",
       "    }\n",
       "\n",
       "    .dataframe thead th {\n",
       "        text-align: right;\n",
       "    }\n",
       "</style>\n",
       "<table border=\"1\" class=\"dataframe\">\n",
       "  <thead>\n",
       "    <tr style=\"text-align: right;\">\n",
       "      <th></th>\n",
       "      <th>one</th>\n",
       "      <th>two</th>\n",
       "    </tr>\n",
       "  </thead>\n",
       "  <tbody>\n",
       "    <tr>\n",
       "      <th>c</th>\n",
       "      <td>3.0</td>\n",
       "      <td>3.0</td>\n",
       "    </tr>\n",
       "    <tr>\n",
       "      <th>d</th>\n",
       "      <td>NaN</td>\n",
       "      <td>4.0</td>\n",
       "    </tr>\n",
       "  </tbody>\n",
       "</table>\n",
       "</div>"
      ],
      "text/plain": [
       "   one  two\n",
       "c  3.0  3.0\n",
       "d  NaN  4.0"
      ]
     },
     "execution_count": 166,
     "metadata": {},
     "output_type": "execute_result"
    }
   ],
   "source": [
    "# 5) select rows 2 to 4\n",
    "display(df.iloc[2:4])\n",
    "df[2:4] # the same"
   ]
  },
  {
   "cell_type": "markdown",
   "metadata": {},
   "source": [
    "## More advanced data selection and filtering\n",
    "\n",
    "A nice and very useful feature is the following syntax. Selecting all rows where a certain value in a column fulfills a certain criterium."
   ]
  },
  {
   "cell_type": "code",
   "execution_count": 167,
   "metadata": {},
   "outputs": [
    {
     "data": {
      "text/html": [
       "<div>\n",
       "<style scoped>\n",
       "    .dataframe tbody tr th:only-of-type {\n",
       "        vertical-align: middle;\n",
       "    }\n",
       "\n",
       "    .dataframe tbody tr th {\n",
       "        vertical-align: top;\n",
       "    }\n",
       "\n",
       "    .dataframe thead th {\n",
       "        text-align: right;\n",
       "    }\n",
       "</style>\n",
       "<table border=\"1\" class=\"dataframe\">\n",
       "  <thead>\n",
       "    <tr style=\"text-align: right;\">\n",
       "      <th></th>\n",
       "      <th>sensor1</th>\n",
       "      <th>sensor2</th>\n",
       "      <th>experiment</th>\n",
       "    </tr>\n",
       "  </thead>\n",
       "  <tbody>\n",
       "    <tr>\n",
       "      <th>0</th>\n",
       "      <td>0.381725</td>\n",
       "      <td>0.188003</td>\n",
       "      <td>a</td>\n",
       "    </tr>\n",
       "    <tr>\n",
       "      <th>1</th>\n",
       "      <td>0.397124</td>\n",
       "      <td>0.856148</td>\n",
       "      <td>a</td>\n",
       "    </tr>\n",
       "    <tr>\n",
       "      <th>2</th>\n",
       "      <td>-0.535612</td>\n",
       "      <td>0.122410</td>\n",
       "      <td>a</td>\n",
       "    </tr>\n",
       "    <tr>\n",
       "      <th>3</th>\n",
       "      <td>-1.450325</td>\n",
       "      <td>0.082931</td>\n",
       "      <td>b</td>\n",
       "    </tr>\n",
       "    <tr>\n",
       "      <th>4</th>\n",
       "      <td>1.482308</td>\n",
       "      <td>0.635826</td>\n",
       "      <td>a</td>\n",
       "    </tr>\n",
       "    <tr>\n",
       "      <th>5</th>\n",
       "      <td>-0.871671</td>\n",
       "      <td>0.435999</td>\n",
       "      <td>b</td>\n",
       "    </tr>\n",
       "    <tr>\n",
       "      <th>6</th>\n",
       "      <td>0.584830</td>\n",
       "      <td>0.225483</td>\n",
       "      <td>c</td>\n",
       "    </tr>\n",
       "    <tr>\n",
       "      <th>7</th>\n",
       "      <td>-1.993264</td>\n",
       "      <td>0.497921</td>\n",
       "      <td>c</td>\n",
       "    </tr>\n",
       "    <tr>\n",
       "      <th>8</th>\n",
       "      <td>1.823442</td>\n",
       "      <td>0.097832</td>\n",
       "      <td>a</td>\n",
       "    </tr>\n",
       "    <tr>\n",
       "      <th>9</th>\n",
       "      <td>0.640043</td>\n",
       "      <td>0.946638</td>\n",
       "      <td>b</td>\n",
       "    </tr>\n",
       "  </tbody>\n",
       "</table>\n",
       "</div>"
      ],
      "text/plain": [
       "    sensor1   sensor2 experiment\n",
       "0  0.381725  0.188003          a\n",
       "1  0.397124  0.856148          a\n",
       "2 -0.535612  0.122410          a\n",
       "3 -1.450325  0.082931          b\n",
       "4  1.482308  0.635826          a\n",
       "5 -0.871671  0.435999          b\n",
       "6  0.584830  0.225483          c\n",
       "7 -1.993264  0.497921          c\n",
       "8  1.823442  0.097832          a\n",
       "9  0.640043  0.946638          b"
      ]
     },
     "execution_count": 167,
     "metadata": {},
     "output_type": "execute_result"
    }
   ],
   "source": [
    "# some fake data\n",
    "data = {'sensor1': np.random.randn(10), \n",
    "        'sensor2': np.random.random(10),\n",
    "        'experiment': ['a','a','a','b','a','b','c','c','a','b']}\n",
    "df = pd.DataFrame(data)\n",
    "df"
   ]
  },
  {
   "cell_type": "code",
   "execution_count": 168,
   "metadata": {},
   "outputs": [
    {
     "data": {
      "text/html": [
       "<div>\n",
       "<style scoped>\n",
       "    .dataframe tbody tr th:only-of-type {\n",
       "        vertical-align: middle;\n",
       "    }\n",
       "\n",
       "    .dataframe tbody tr th {\n",
       "        vertical-align: top;\n",
       "    }\n",
       "\n",
       "    .dataframe thead th {\n",
       "        text-align: right;\n",
       "    }\n",
       "</style>\n",
       "<table border=\"1\" class=\"dataframe\">\n",
       "  <thead>\n",
       "    <tr style=\"text-align: right;\">\n",
       "      <th></th>\n",
       "      <th>sensor1</th>\n",
       "      <th>sensor2</th>\n",
       "      <th>experiment</th>\n",
       "    </tr>\n",
       "  </thead>\n",
       "  <tbody>\n",
       "    <tr>\n",
       "      <th>1</th>\n",
       "      <td>0.397124</td>\n",
       "      <td>0.856148</td>\n",
       "      <td>a</td>\n",
       "    </tr>\n",
       "    <tr>\n",
       "      <th>4</th>\n",
       "      <td>1.482308</td>\n",
       "      <td>0.635826</td>\n",
       "      <td>a</td>\n",
       "    </tr>\n",
       "    <tr>\n",
       "      <th>9</th>\n",
       "      <td>0.640043</td>\n",
       "      <td>0.946638</td>\n",
       "      <td>b</td>\n",
       "    </tr>\n",
       "  </tbody>\n",
       "</table>\n",
       "</div>"
      ],
      "text/plain": [
       "    sensor1   sensor2 experiment\n",
       "1  0.397124  0.856148          a\n",
       "4  1.482308  0.635826          a\n",
       "9  0.640043  0.946638          b"
      ]
     },
     "execution_count": 168,
     "metadata": {},
     "output_type": "execute_result"
    }
   ],
   "source": [
    "# get all rows where sensor2 recorded values > 0.8\n",
    "df[df.sensor2 > 0.5]"
   ]
  },
  {
   "cell_type": "code",
   "execution_count": 169,
   "metadata": {},
   "outputs": [
    {
     "data": {
      "text/html": [
       "<div>\n",
       "<style scoped>\n",
       "    .dataframe tbody tr th:only-of-type {\n",
       "        vertical-align: middle;\n",
       "    }\n",
       "\n",
       "    .dataframe tbody tr th {\n",
       "        vertical-align: top;\n",
       "    }\n",
       "\n",
       "    .dataframe thead th {\n",
       "        text-align: right;\n",
       "    }\n",
       "</style>\n",
       "<table border=\"1\" class=\"dataframe\">\n",
       "  <thead>\n",
       "    <tr style=\"text-align: right;\">\n",
       "      <th></th>\n",
       "      <th>sensor1</th>\n",
       "      <th>sensor2</th>\n",
       "      <th>experiment</th>\n",
       "    </tr>\n",
       "  </thead>\n",
       "  <tbody>\n",
       "    <tr>\n",
       "      <th>0</th>\n",
       "      <td>0.381725</td>\n",
       "      <td>0.188003</td>\n",
       "      <td>a</td>\n",
       "    </tr>\n",
       "    <tr>\n",
       "      <th>1</th>\n",
       "      <td>0.397124</td>\n",
       "      <td>0.856148</td>\n",
       "      <td>a</td>\n",
       "    </tr>\n",
       "    <tr>\n",
       "      <th>2</th>\n",
       "      <td>-0.535612</td>\n",
       "      <td>0.122410</td>\n",
       "      <td>a</td>\n",
       "    </tr>\n",
       "    <tr>\n",
       "      <th>4</th>\n",
       "      <td>1.482308</td>\n",
       "      <td>0.635826</td>\n",
       "      <td>a</td>\n",
       "    </tr>\n",
       "    <tr>\n",
       "      <th>8</th>\n",
       "      <td>1.823442</td>\n",
       "      <td>0.097832</td>\n",
       "      <td>a</td>\n",
       "    </tr>\n",
       "  </tbody>\n",
       "</table>\n",
       "</div>"
      ],
      "text/plain": [
       "    sensor1   sensor2 experiment\n",
       "0  0.381725  0.188003          a\n",
       "1  0.397124  0.856148          a\n",
       "2 -0.535612  0.122410          a\n",
       "4  1.482308  0.635826          a\n",
       "8  1.823442  0.097832          a"
      ]
     },
     "execution_count": 169,
     "metadata": {},
     "output_type": "execute_result"
    }
   ],
   "source": [
    "# get all rows of group a\n",
    "df[df.experiment == 'a']"
   ]
  },
  {
   "cell_type": "markdown",
   "metadata": {},
   "source": [
    "More complex queries can be \"chained\", combined into one binary selection or achieved using `query`."
   ]
  },
  {
   "cell_type": "code",
   "execution_count": 170,
   "metadata": {},
   "outputs": [
    {
     "data": {
      "text/html": [
       "<div>\n",
       "<style scoped>\n",
       "    .dataframe tbody tr th:only-of-type {\n",
       "        vertical-align: middle;\n",
       "    }\n",
       "\n",
       "    .dataframe tbody tr th {\n",
       "        vertical-align: top;\n",
       "    }\n",
       "\n",
       "    .dataframe thead th {\n",
       "        text-align: right;\n",
       "    }\n",
       "</style>\n",
       "<table border=\"1\" class=\"dataframe\">\n",
       "  <thead>\n",
       "    <tr style=\"text-align: right;\">\n",
       "      <th></th>\n",
       "      <th>sensor1</th>\n",
       "      <th>sensor2</th>\n",
       "      <th>experiment</th>\n",
       "    </tr>\n",
       "  </thead>\n",
       "  <tbody>\n",
       "    <tr>\n",
       "      <th>0</th>\n",
       "      <td>0.381725</td>\n",
       "      <td>0.188003</td>\n",
       "      <td>a</td>\n",
       "    </tr>\n",
       "    <tr>\n",
       "      <th>1</th>\n",
       "      <td>0.397124</td>\n",
       "      <td>0.856148</td>\n",
       "      <td>a</td>\n",
       "    </tr>\n",
       "  </tbody>\n",
       "</table>\n",
       "</div>"
      ],
      "text/plain": [
       "    sensor1   sensor2 experiment\n",
       "0  0.381725  0.188003          a\n",
       "1  0.397124  0.856148          a"
      ]
     },
     "execution_count": 170,
     "metadata": {},
     "output_type": "execute_result"
    }
   ],
   "source": [
    "#Task: get all rows of group a and with sensor 1 between -0.5 and 0.5\n",
    "    \n",
    "# chained\n",
    "df.loc[df.experiment == 'a'].loc[df.sensor1 > -0.5].loc[df.sensor1 < 0.5]"
   ]
  },
  {
   "cell_type": "code",
   "execution_count": 171,
   "metadata": {},
   "outputs": [
    {
     "data": {
      "text/html": [
       "<div>\n",
       "<style scoped>\n",
       "    .dataframe tbody tr th:only-of-type {\n",
       "        vertical-align: middle;\n",
       "    }\n",
       "\n",
       "    .dataframe tbody tr th {\n",
       "        vertical-align: top;\n",
       "    }\n",
       "\n",
       "    .dataframe thead th {\n",
       "        text-align: right;\n",
       "    }\n",
       "</style>\n",
       "<table border=\"1\" class=\"dataframe\">\n",
       "  <thead>\n",
       "    <tr style=\"text-align: right;\">\n",
       "      <th></th>\n",
       "      <th>sensor1</th>\n",
       "      <th>sensor2</th>\n",
       "      <th>experiment</th>\n",
       "    </tr>\n",
       "  </thead>\n",
       "  <tbody>\n",
       "    <tr>\n",
       "      <th>0</th>\n",
       "      <td>0.381725</td>\n",
       "      <td>0.188003</td>\n",
       "      <td>a</td>\n",
       "    </tr>\n",
       "    <tr>\n",
       "      <th>1</th>\n",
       "      <td>0.397124</td>\n",
       "      <td>0.856148</td>\n",
       "      <td>a</td>\n",
       "    </tr>\n",
       "  </tbody>\n",
       "</table>\n",
       "</div>"
      ],
      "text/plain": [
       "    sensor1   sensor2 experiment\n",
       "0  0.381725  0.188003          a\n",
       "1  0.397124  0.856148          a"
      ]
     },
     "execution_count": 171,
     "metadata": {},
     "output_type": "execute_result"
    }
   ],
   "source": [
    "# combined (better)\n",
    "df[(df.experiment == 'a') & (df.sensor1 > -0.5) & (df.sensor1 < 0.5)]"
   ]
  },
  {
   "cell_type": "code",
   "execution_count": 172,
   "metadata": {},
   "outputs": [
    {
     "data": {
      "text/html": [
       "<div>\n",
       "<style scoped>\n",
       "    .dataframe tbody tr th:only-of-type {\n",
       "        vertical-align: middle;\n",
       "    }\n",
       "\n",
       "    .dataframe tbody tr th {\n",
       "        vertical-align: top;\n",
       "    }\n",
       "\n",
       "    .dataframe thead th {\n",
       "        text-align: right;\n",
       "    }\n",
       "</style>\n",
       "<table border=\"1\" class=\"dataframe\">\n",
       "  <thead>\n",
       "    <tr style=\"text-align: right;\">\n",
       "      <th></th>\n",
       "      <th>sensor1</th>\n",
       "      <th>sensor2</th>\n",
       "      <th>experiment</th>\n",
       "    </tr>\n",
       "  </thead>\n",
       "  <tbody>\n",
       "    <tr>\n",
       "      <th>0</th>\n",
       "      <td>0.381725</td>\n",
       "      <td>0.188003</td>\n",
       "      <td>a</td>\n",
       "    </tr>\n",
       "    <tr>\n",
       "      <th>1</th>\n",
       "      <td>0.397124</td>\n",
       "      <td>0.856148</td>\n",
       "      <td>a</td>\n",
       "    </tr>\n",
       "  </tbody>\n",
       "</table>\n",
       "</div>"
      ],
      "text/plain": [
       "    sensor1   sensor2 experiment\n",
       "0  0.381725  0.188003          a\n",
       "1  0.397124  0.856148          a"
      ]
     },
     "execution_count": 172,
     "metadata": {},
     "output_type": "execute_result"
    }
   ],
   "source": [
    "# using query (elegant, but actually not as common since it's a bit unpythonic (more like SQL)...\n",
    "df.query('experiment == \"a\" and sensor1 > -0.5 and sensor1 < 0.5')"
   ]
  },
  {
   "cell_type": "markdown",
   "metadata": {},
   "source": [
    "You can also test for elements in a list with `.isin`"
   ]
  },
  {
   "cell_type": "code",
   "execution_count": 173,
   "metadata": {},
   "outputs": [
    {
     "data": {
      "text/html": [
       "<div>\n",
       "<style scoped>\n",
       "    .dataframe tbody tr th:only-of-type {\n",
       "        vertical-align: middle;\n",
       "    }\n",
       "\n",
       "    .dataframe tbody tr th {\n",
       "        vertical-align: top;\n",
       "    }\n",
       "\n",
       "    .dataframe thead th {\n",
       "        text-align: right;\n",
       "    }\n",
       "</style>\n",
       "<table border=\"1\" class=\"dataframe\">\n",
       "  <thead>\n",
       "    <tr style=\"text-align: right;\">\n",
       "      <th></th>\n",
       "      <th>sensor1</th>\n",
       "      <th>sensor2</th>\n",
       "      <th>experiment</th>\n",
       "    </tr>\n",
       "  </thead>\n",
       "  <tbody>\n",
       "    <tr>\n",
       "      <th>0</th>\n",
       "      <td>0.381725</td>\n",
       "      <td>0.188003</td>\n",
       "      <td>a</td>\n",
       "    </tr>\n",
       "    <tr>\n",
       "      <th>1</th>\n",
       "      <td>0.397124</td>\n",
       "      <td>0.856148</td>\n",
       "      <td>a</td>\n",
       "    </tr>\n",
       "    <tr>\n",
       "      <th>2</th>\n",
       "      <td>-0.535612</td>\n",
       "      <td>0.122410</td>\n",
       "      <td>a</td>\n",
       "    </tr>\n",
       "    <tr>\n",
       "      <th>4</th>\n",
       "      <td>1.482308</td>\n",
       "      <td>0.635826</td>\n",
       "      <td>a</td>\n",
       "    </tr>\n",
       "    <tr>\n",
       "      <th>6</th>\n",
       "      <td>0.584830</td>\n",
       "      <td>0.225483</td>\n",
       "      <td>c</td>\n",
       "    </tr>\n",
       "    <tr>\n",
       "      <th>7</th>\n",
       "      <td>-1.993264</td>\n",
       "      <td>0.497921</td>\n",
       "      <td>c</td>\n",
       "    </tr>\n",
       "    <tr>\n",
       "      <th>8</th>\n",
       "      <td>1.823442</td>\n",
       "      <td>0.097832</td>\n",
       "      <td>a</td>\n",
       "    </tr>\n",
       "  </tbody>\n",
       "</table>\n",
       "</div>"
      ],
      "text/plain": [
       "    sensor1   sensor2 experiment\n",
       "0  0.381725  0.188003          a\n",
       "1  0.397124  0.856148          a\n",
       "2 -0.535612  0.122410          a\n",
       "4  1.482308  0.635826          a\n",
       "6  0.584830  0.225483          c\n",
       "7 -1.993264  0.497921          c\n",
       "8  1.823442  0.097832          a"
      ]
     },
     "execution_count": 173,
     "metadata": {},
     "output_type": "execute_result"
    }
   ],
   "source": [
    "df[df.experiment.isin(['a','c'])]\n",
    "# this is actually the same as df[df.experiment != 'b'] in this case"
   ]
  },
  {
   "cell_type": "markdown",
   "metadata": {},
   "source": [
    "## Groupby operations\n",
    "\n",
    "This is another super power of pandas: grouped operations."
   ]
  },
  {
   "cell_type": "code",
   "execution_count": 174,
   "metadata": {},
   "outputs": [
    {
     "data": {
      "text/html": [
       "<div>\n",
       "<style scoped>\n",
       "    .dataframe tbody tr th:only-of-type {\n",
       "        vertical-align: middle;\n",
       "    }\n",
       "\n",
       "    .dataframe tbody tr th {\n",
       "        vertical-align: top;\n",
       "    }\n",
       "\n",
       "    .dataframe thead th {\n",
       "        text-align: right;\n",
       "    }\n",
       "</style>\n",
       "<table border=\"1\" class=\"dataframe\">\n",
       "  <thead>\n",
       "    <tr style=\"text-align: right;\">\n",
       "      <th></th>\n",
       "      <th>sensor1</th>\n",
       "      <th>sensor2</th>\n",
       "    </tr>\n",
       "    <tr>\n",
       "      <th>experiment</th>\n",
       "      <th></th>\n",
       "      <th></th>\n",
       "    </tr>\n",
       "  </thead>\n",
       "  <tbody>\n",
       "    <tr>\n",
       "      <th>a</th>\n",
       "      <td>0.709797</td>\n",
       "      <td>0.380044</td>\n",
       "    </tr>\n",
       "    <tr>\n",
       "      <th>b</th>\n",
       "      <td>-0.560651</td>\n",
       "      <td>0.488523</td>\n",
       "    </tr>\n",
       "    <tr>\n",
       "      <th>c</th>\n",
       "      <td>-0.704217</td>\n",
       "      <td>0.361702</td>\n",
       "    </tr>\n",
       "  </tbody>\n",
       "</table>\n",
       "</div>"
      ],
      "text/plain": [
       "             sensor1   sensor2\n",
       "experiment                    \n",
       "a           0.709797  0.380044\n",
       "b          -0.560651  0.488523\n",
       "c          -0.704217  0.361702"
      ]
     },
     "execution_count": 174,
     "metadata": {},
     "output_type": "execute_result"
    }
   ],
   "source": [
    "# average results by experiment\n",
    "df.groupby('experiment').mean()"
   ]
  },
  {
   "cell_type": "markdown",
   "metadata": {},
   "source": [
    "You can iterate through groups too..."
   ]
  },
  {
   "cell_type": "code",
   "execution_count": 175,
   "metadata": {},
   "outputs": [
    {
     "name": "stdout",
     "output_type": "stream",
     "text": [
      "('a',     sensor1   sensor2 experiment\n",
      "0  0.381725  0.188003          a\n",
      "1  0.397124  0.856148          a\n",
      "2 -0.535612  0.122410          a\n",
      "4  1.482308  0.635826          a\n",
      "8  1.823442  0.097832          a)\n",
      "('b',     sensor1   sensor2 experiment\n",
      "3 -1.450325  0.082931          b\n",
      "5 -0.871671  0.435999          b\n",
      "9  0.640043  0.946638          b)\n",
      "('c',     sensor1   sensor2 experiment\n",
      "6  0.584830  0.225483          c\n",
      "7 -1.993264  0.497921          c)\n"
     ]
    }
   ],
   "source": [
    "grouped = df.groupby('experiment')\n",
    "for g in grouped:\n",
    "    print(g)"
   ]
  },
  {
   "cell_type": "markdown",
   "metadata": {},
   "source": [
    "There are many more possibilities, but this should give you a glimpse into the powers of pandas! For sure one reason why it became so popular in Data Science..."
   ]
  },
  {
   "cell_type": "markdown",
   "metadata": {},
   "source": [
    "# Let's work with some real data now...\n",
    "\n",
    "We take the forest fire dataset to practice our skills a bit. First check the location in the linux file system and peek at the first rows."
   ]
  },
  {
   "cell_type": "code",
   "execution_count": 176,
   "metadata": {},
   "outputs": [
    {
     "name": "stdout",
     "output_type": "stream",
     "text": [
      "-rw-r--r--  1 fuchs-k  IMK-IFU\\Domain Users  25478 Aug 27 15:29 ../data/uci/forestfire/forestfires.csv\n"
     ]
    }
   ],
   "source": [
    "! ls -l ../data/uci/forestfire/forestfires.csv"
   ]
  },
  {
   "cell_type": "code",
   "execution_count": 177,
   "metadata": {},
   "outputs": [
    {
     "name": "stdout",
     "output_type": "stream",
     "text": [
      "X,Y,month,day,FFMC,DMC,DC,ISI,temp,RH,wind,rain,area\n",
      "7,5,mar,fri,86.2,26.2,94.3,5.1,8.2,51,6.7,0,0\n",
      "7,4,oct,tue,90.6,35.4,669.1,6.7,18,33,0.9,0,0\n",
      "7,4,oct,sat,90.6,43.7,686.9,6.7,14.6,33,1.3,0,0\n",
      "8,6,mar,fri,91.7,33.3,77.5,9,8.3,97,4,0.2,0\n",
      "8,6,mar,sun,89.3,51.3,102.2,9.6,11.4,99,1.8,0,0\n",
      "8,6,aug,sun,92.3,85.3,488,14.7,22.2,29,5.4,0,0\n",
      "8,6,aug,mon,92.3,88.9,495.6,8.5,24.1,27,3.1,0,0\n",
      "8,6,aug,mon,91.5,145.4,608.2,10.7,8,86,2.2,0,0\n",
      "8,6,sep,tue,91,129.5,692.6,7,13.1,63,5.4,0,0\n"
     ]
    }
   ],
   "source": [
    "! head ../data/uci/forestfire/forestfires.csv"
   ]
  },
  {
   "cell_type": "markdown",
   "metadata": {},
   "source": [
    "So it's comma delimited, has a header row and looks pretty bog standard. No need to use any other hundreds of extra features of `read_csv()` while reading it in."
   ]
  },
  {
   "cell_type": "code",
   "execution_count": 178,
   "metadata": {},
   "outputs": [],
   "source": [
    "df = pd.read_csv('../data/uci/forestfire/forestfires.csv')"
   ]
  },
  {
   "cell_type": "markdown",
   "metadata": {},
   "source": [
    "After reading the file always check the dimensions, data types of the columns and the first couple of rows to see they the reading worked as expected."
   ]
  },
  {
   "cell_type": "code",
   "execution_count": 179,
   "metadata": {},
   "outputs": [
    {
     "data": {
      "text/html": [
       "<div>\n",
       "<style scoped>\n",
       "    .dataframe tbody tr th:only-of-type {\n",
       "        vertical-align: middle;\n",
       "    }\n",
       "\n",
       "    .dataframe tbody tr th {\n",
       "        vertical-align: top;\n",
       "    }\n",
       "\n",
       "    .dataframe thead th {\n",
       "        text-align: right;\n",
       "    }\n",
       "</style>\n",
       "<table border=\"1\" class=\"dataframe\">\n",
       "  <thead>\n",
       "    <tr style=\"text-align: right;\">\n",
       "      <th></th>\n",
       "      <th>X</th>\n",
       "      <th>Y</th>\n",
       "      <th>month</th>\n",
       "      <th>day</th>\n",
       "      <th>FFMC</th>\n",
       "      <th>DMC</th>\n",
       "      <th>DC</th>\n",
       "      <th>ISI</th>\n",
       "      <th>temp</th>\n",
       "      <th>RH</th>\n",
       "      <th>wind</th>\n",
       "      <th>rain</th>\n",
       "      <th>area</th>\n",
       "    </tr>\n",
       "  </thead>\n",
       "  <tbody>\n",
       "    <tr>\n",
       "      <th>0</th>\n",
       "      <td>7</td>\n",
       "      <td>5</td>\n",
       "      <td>mar</td>\n",
       "      <td>fri</td>\n",
       "      <td>86.2</td>\n",
       "      <td>26.2</td>\n",
       "      <td>94.3</td>\n",
       "      <td>5.1</td>\n",
       "      <td>8.2</td>\n",
       "      <td>51</td>\n",
       "      <td>6.7</td>\n",
       "      <td>0.0</td>\n",
       "      <td>0.0</td>\n",
       "    </tr>\n",
       "    <tr>\n",
       "      <th>1</th>\n",
       "      <td>7</td>\n",
       "      <td>4</td>\n",
       "      <td>oct</td>\n",
       "      <td>tue</td>\n",
       "      <td>90.6</td>\n",
       "      <td>35.4</td>\n",
       "      <td>669.1</td>\n",
       "      <td>6.7</td>\n",
       "      <td>18.0</td>\n",
       "      <td>33</td>\n",
       "      <td>0.9</td>\n",
       "      <td>0.0</td>\n",
       "      <td>0.0</td>\n",
       "    </tr>\n",
       "    <tr>\n",
       "      <th>2</th>\n",
       "      <td>7</td>\n",
       "      <td>4</td>\n",
       "      <td>oct</td>\n",
       "      <td>sat</td>\n",
       "      <td>90.6</td>\n",
       "      <td>43.7</td>\n",
       "      <td>686.9</td>\n",
       "      <td>6.7</td>\n",
       "      <td>14.6</td>\n",
       "      <td>33</td>\n",
       "      <td>1.3</td>\n",
       "      <td>0.0</td>\n",
       "      <td>0.0</td>\n",
       "    </tr>\n",
       "    <tr>\n",
       "      <th>3</th>\n",
       "      <td>8</td>\n",
       "      <td>6</td>\n",
       "      <td>mar</td>\n",
       "      <td>fri</td>\n",
       "      <td>91.7</td>\n",
       "      <td>33.3</td>\n",
       "      <td>77.5</td>\n",
       "      <td>9.0</td>\n",
       "      <td>8.3</td>\n",
       "      <td>97</td>\n",
       "      <td>4.0</td>\n",
       "      <td>0.2</td>\n",
       "      <td>0.0</td>\n",
       "    </tr>\n",
       "    <tr>\n",
       "      <th>4</th>\n",
       "      <td>8</td>\n",
       "      <td>6</td>\n",
       "      <td>mar</td>\n",
       "      <td>sun</td>\n",
       "      <td>89.3</td>\n",
       "      <td>51.3</td>\n",
       "      <td>102.2</td>\n",
       "      <td>9.6</td>\n",
       "      <td>11.4</td>\n",
       "      <td>99</td>\n",
       "      <td>1.8</td>\n",
       "      <td>0.0</td>\n",
       "      <td>0.0</td>\n",
       "    </tr>\n",
       "  </tbody>\n",
       "</table>\n",
       "</div>"
      ],
      "text/plain": [
       "   X  Y month  day  FFMC   DMC     DC  ISI  temp  RH  wind  rain  area\n",
       "0  7  5   mar  fri  86.2  26.2   94.3  5.1   8.2  51   6.7   0.0   0.0\n",
       "1  7  4   oct  tue  90.6  35.4  669.1  6.7  18.0  33   0.9   0.0   0.0\n",
       "2  7  4   oct  sat  90.6  43.7  686.9  6.7  14.6  33   1.3   0.0   0.0\n",
       "3  8  6   mar  fri  91.7  33.3   77.5  9.0   8.3  97   4.0   0.2   0.0\n",
       "4  8  6   mar  sun  89.3  51.3  102.2  9.6  11.4  99   1.8   0.0   0.0"
      ]
     },
     "execution_count": 179,
     "metadata": {},
     "output_type": "execute_result"
    }
   ],
   "source": [
    "# The first rows of the dataframe\n",
    "df.head()"
   ]
  },
  {
   "cell_type": "code",
   "execution_count": 180,
   "metadata": {},
   "outputs": [
    {
     "data": {
      "text/plain": [
       "(517, 13)"
      ]
     },
     "execution_count": 180,
     "metadata": {},
     "output_type": "execute_result"
    }
   ],
   "source": [
    "# the shape of the dataframe\n",
    "df.shape"
   ]
  },
  {
   "cell_type": "code",
   "execution_count": 181,
   "metadata": {},
   "outputs": [
    {
     "data": {
      "text/plain": [
       "X          int64\n",
       "Y          int64\n",
       "month     object\n",
       "day       object\n",
       "FFMC     float64\n",
       "DMC      float64\n",
       "DC       float64\n",
       "ISI      float64\n",
       "temp     float64\n",
       "RH         int64\n",
       "wind     float64\n",
       "rain     float64\n",
       "area     float64\n",
       "dtype: object"
      ]
     },
     "execution_count": 181,
     "metadata": {},
     "output_type": "execute_result"
    }
   ],
   "source": [
    "# the data types\n",
    "df.dtypes"
   ]
  },
  {
   "cell_type": "markdown",
   "metadata": {},
   "source": [
    "Columns 'month' and 'day' are of type object (this means 'string' or anything else pandas can not do computations with). However, they should actually be of type `categorical` as the values have to be from a defined set of values (month names, day names).\n",
    "\n",
    "So let's convert the dtype of those columns."
   ]
  },
  {
   "cell_type": "code",
   "execution_count": 182,
   "metadata": {},
   "outputs": [
    {
     "data": {
      "text/plain": [
       "[mar, oct, oct, mar, mar, ..., aug, aug, aug, aug, nov]\n",
       "Length: 517\n",
       "Categories (12, object): [apr, aug, dec, feb, ..., may, nov, oct, sep]"
      ]
     },
     "execution_count": 182,
     "metadata": {},
     "output_type": "execute_result"
    }
   ],
   "source": [
    "# column month converted to categorical dtype\n",
    "c1 = pd.Categorical(df.month)\n",
    "c1"
   ]
  },
  {
   "cell_type": "code",
   "execution_count": 183,
   "metadata": {},
   "outputs": [
    {
     "data": {
      "text/plain": [
       "[mar, oct, oct, mar, mar, ..., aug, aug, aug, aug, nov]\n",
       "Length: 517\n",
       "Categories (12, object): [jan, feb, mar, apr, ..., sep, oct, nov, dec]"
      ]
     },
     "execution_count": 183,
     "metadata": {},
     "output_type": "execute_result"
    }
   ],
   "source": [
    "# column month converted to categorical dtype and giving a category set and order\n",
    "c2 = pd.Categorical(df.month, categories=['jan','feb','mar','apr','may','jun','jul','aug','sep','oct','nov','dec'])\n",
    "c2"
   ]
  },
  {
   "cell_type": "code",
   "execution_count": 184,
   "metadata": {},
   "outputs": [],
   "source": [
    "# assign the new column back to the dataframe\n",
    "df['month'] = c2"
   ]
  },
  {
   "cell_type": "markdown",
   "metadata": {},
   "source": [
    "The dataframe contains records of burned areas (column \"area\"). Let's quickly visualize the distribution."
   ]
  },
  {
   "cell_type": "code",
   "execution_count": 185,
   "metadata": {},
   "outputs": [
    {
     "data": {
      "image/png": "[encoded data removed]",
      "text/plain": [
       "<Figure size 432x288 with 1 Axes>"
      ]
     },
     "metadata": {
      "needs_background": "light"
     },
     "output_type": "display_data"
    }
   ],
   "source": [
    "df.area.hist(bins=20);"
   ]
  },
  {
   "cell_type": "markdown",
   "metadata": {},
   "source": [
    "Seems there are actually a lot of records without any burned area (area==0). Let's count them."
   ]
  },
  {
   "cell_type": "code",
   "execution_count": 186,
   "metadata": {},
   "outputs": [
    {
     "data": {
      "text/plain": [
       "247"
      ]
     },
     "execution_count": 186,
     "metadata": {},
     "output_type": "execute_result"
    }
   ],
   "source": [
    "len(df[df.area == 0])"
   ]
  },
  {
   "cell_type": "markdown",
   "metadata": {},
   "source": [
    "We want to find out when most forest fires occur. So let's filter the data. We can simply use `value_counts()` on the month column to find this out:"
   ]
  },
  {
   "cell_type": "code",
   "execution_count": 187,
   "metadata": {},
   "outputs": [
    {
     "data": {
      "text/plain": [
       "aug    184\n",
       "sep    172\n",
       "mar     54\n",
       "jul     32\n",
       "feb     20\n",
       "jun     17\n",
       "oct     15\n",
       "dec      9\n",
       "apr      9\n",
       "may      2\n",
       "jan      2\n",
       "nov      1\n",
       "Name: month, dtype: int64"
      ]
     },
     "execution_count": 187,
     "metadata": {},
     "output_type": "execute_result"
    }
   ],
   "source": [
    "df.month.value_counts()"
   ]
  },
  {
   "cell_type": "markdown",
   "metadata": {},
   "source": [
    "However, this also includes the rows with no fires. So we filter them first. We also normlize the counts and plot it in one line. "
   ]
  },
  {
   "cell_type": "code",
   "execution_count": 188,
   "metadata": {},
   "outputs": [
    {
     "data": {
      "image/png": "[encoded data removed]",
      "text/plain": [
       "<Figure size 432x288 with 1 Axes>"
      ]
     },
     "metadata": {
      "needs_background": "light"
     },
     "output_type": "display_data"
    }
   ],
   "source": [
    "df[df.area > 0].month.value_counts(normalize=True).plot(kind='bar');"
   ]
  },
  {
   "cell_type": "markdown",
   "metadata": {},
   "source": [
    "This actualy shows another power of pandas. It's very easy to chain operations and to directly visualize them. Pandas has some plotting directives incorporated, we will get to know more on that in the plotting lesson."
   ]
  },
  {
   "cell_type": "markdown",
   "metadata": {},
   "source": [
    "# Working with time-series data\n",
    "\n",
    "Pandas was originally developed for business applications (like stock trading actions) and thus has very strong time-series capabilities. This is great since handling dates, times and time-series in general usually is a major pain!\n",
    "\n",
    "We now look at some raw micromet sensor data from a permanent field measurement site of the TERENO network in Fendt near the IMK-IFU institute.\n",
    "\n",
    "We one file per day containing records of a large range of senors in a 1-minute resolution."
   ]
  },
  {
   "cell_type": "code",
   "execution_count": 189,
   "metadata": {},
   "outputs": [
    {
     "name": "stdout",
     "output_type": "stream",
     "text": [
      "-rwxr-xr-x  1 fuchs-k  IMK-IFU\\Domain Users  723911 Aug 27 15:29 ../data/tereno_fendt_sample/Fen_M_18_001.dat\n",
      "-rwxr-xr-x  1 fuchs-k  IMK-IFU\\Domain Users  723291 Aug 27 15:29 ../data/tereno_fendt_sample/Fen_M_18_002.dat\n",
      "-rwxr-xr-x  1 fuchs-k  IMK-IFU\\Domain Users  724284 Aug 27 15:29 ../data/tereno_fendt_sample/Fen_M_18_003.dat\n",
      "-rwxr-xr-x  1 fuchs-k  IMK-IFU\\Domain Users  723743 Aug 27 15:29 ../data/tereno_fendt_sample/Fen_M_18_004.dat\n",
      "-rwxr-xr-x  1 fuchs-k  IMK-IFU\\Domain Users  718091 Aug 27 15:29 ../data/tereno_fendt_sample/Fen_M_18_005.dat\n"
     ]
    }
   ],
   "source": [
    "# data\n",
    "! ls -l ../data/tereno_fendt_sample/*dat | head -n 5"
   ]
  },
  {
   "cell_type": "markdown",
   "metadata": {},
   "source": [
    "With ! we can directly execute bash commands from python, no need to open a seperate terminal. The files are labeled with the year (18) and the doy (001, 002, ...)."
   ]
  },
  {
   "cell_type": "code",
   "execution_count": 190,
   "metadata": {},
   "outputs": [
    {
     "name": "stdout",
     "output_type": "stream",
     "text": [
      "\"2018-01-01 00:00:00\",13.6,-0.053,180,199,211,0.6,0.8,1,0.6,89.1,939,0,0,0,0,0,0,1.363,1.863,2.114,2.329,2.429,-79.23,1.542,1.784,2.212,2.399,2.461,2.956,1.537,1.836,2.142,2.052,2.494,\"NAN\",0.748,0.748,0.779,0.779,0.779,0.779,0.765,0.731,0.73,0.778,0.779,\"NAN\",0.75,\"NAN\",0.757,0.793,0.78,\"NAN\",-0.015,0,0.167,-4.112,-7.482,-23.77,-81,2.24,275.4,-3.371,-57.27,0.549,-27.88,-88.5,-60.64,302.3,245.1,-8.002541,-7.806843,940,-1.93,17.77,18.43,0,-11.27593,-10.07353,-9.107799,0.02866541,0.04813046,0.04811176\n",
      "\"2018-01-01 00:01:00\",13.33,-0.053,136,150,167,0.3,0.5,0.7,0.5,88.5,939,0,0,0,0,0,0,1.343,1.872,2.183,2.319,2.43,-81,1.529,1.797,2.224,2.431,2.441,2.952,1.483,1.826,2.182,2.062,2.537,\"NAN\",0.748,0.748,0.778,0.779,0.779,0.779,0.765,0.731,0.73,0.777,0.779,\"NAN\",0.749,\"NAN\",0.757,0.793,0.779,\"NAN\",-0.012,0,0,-4.361,-8.24,-23.88,-79.06,2.246,275.4,-3.881,-55.19,0.529,-28.24,-87.3,-59.07,302.3,247.1,-7.977484,-7.806873,940,-1.972,0.987,1.81,0,-11.27593,-10.03892,-9.107799,0.02866541,0.04813046,0.04811176\n"
     ]
    }
   ],
   "source": [
    "# peek into one file to infer the file format\n",
    "! head -n 2 ../data/tereno_fendt_sample/Fen_M_18_001.dat"
   ]
  },
  {
   "cell_type": "markdown",
   "metadata": {},
   "source": [
    "As we can see there's a lot going on. There's no header labeling the columns, there's NaN values, there's a timestamp in column 1 and the file is comma delimited. \n",
    "\n",
    "Luckily there exists a data file description (in Excel format no less :-/). So I exportewd the column names from this description that we can find in file colnames.csv. "
   ]
  },
  {
   "cell_type": "code",
   "execution_count": 191,
   "metadata": {},
   "outputs": [
    {
     "name": "stdout",
     "output_type": "stream",
     "text": [
      "TIMESTAMP,BattV_Avg,PTemp_C_Avg,Wdmin_Min,Wdavg,Wdmax_Max,Wsmin_Min,Wsavg_Avg,Wsmax_Max,airtemp_Avg,relhumidity_Avg,airpressure_Avg,Ramount,Rduration_Avg,Rintensity_Avg,Hamount,Hduration_Avg,Hintensity_Avg,T107_2_West_Avg,T107_6_West_Avg,T107_12_West_Avg,T107_25_West_Avg,T107_35_West_Avg,T107_50_West_Avg,T107_2_Mitte_Avg,T107_6_Mitte_Avg,T107_12_Mitte_Avg,T107_25_Mitte_Avg,T107_35_Mitte_Avg,T107_50_Mitte_Avg,T107_2_Ost_Avg,T107_6_Ost_Avg,T107_12_Ost_Avg,T107_25_Ost_Avg,T107_35_Ost_Avg,T107_50_Ost_Avg,VWC_2_West_Avg,VWC_6_West_Avg,VWC_12_West_Avg,VWC_25_West_Avg,VWC_35_West_Avg,VWC_50_West_Avg,VWC_2_Mitte_Avg,VWC_6_Mitte_Avg,VWC_12_Mitte_Avg,VWC_25_Mitte_Avg,VWC_35_Mitte_Avg,VWC_50_Mitte_Avg,VWC_2_Ost_Avg,VWC_6_Ost_Avg,VWC_12_Ost_Avg,VWC_25_Ost_Avg,VWC_35_Ost_Avg,VWC_50_Ost_Avg,Snow_Depth,PAR_1_Avg,PAR_2_Avg,SR_Out_Avg,SR_In_Avg,IR_Out_Avg,IR_In_Avg,NR01_TC_Avg/CNR4TC_Avg,NR01_TK_Avg/CNR4TK_Avg,NetRs_Avg,NetRl_Avg,Albedo_Avg,OutTot_Avg,InTot_Avg,NetTot_Avg,IR_OutCo_Avg,IR_InCo_Avg,H_Flux_8_Ost_neu_Avg,H_Flux_9_West_neu_Avg,BP_mbar_Avg,IR_TempC_Avg,Total_Avg,Diffuse_Avg,Sun,H_Flux_sc_9_Ost_Avg,H_Flux_sc_8_fernerOst_Avg,H_Flux_sc_8_Mitte_Avg,shf_cal(1),shf_cal(2),shf_cal(3)\n"
     ]
    }
   ],
   "source": [
    "! cat ../data/tereno_fendt_sample/colnames.csv"
   ]
  },
  {
   "cell_type": "markdown",
   "metadata": {},
   "source": [
    "First we read the colnames and store them in a list."
   ]
  },
  {
   "cell_type": "code",
   "execution_count": 192,
   "metadata": {},
   "outputs": [
    {
     "data": {
      "text/plain": [
       "['TIMESTAMP',\n",
       " 'BattV_Avg',\n",
       " 'PTemp_C_Avg',\n",
       " 'Wdmin_Min',\n",
       " 'Wdavg',\n",
       " 'Wdmax_Max',\n",
       " 'Wsmin_Min',\n",
       " 'Wsavg_Avg',\n",
       " 'Wsmax_Max',\n",
       " 'airtemp_Avg',\n",
       " 'relhumidity_Avg',\n",
       " 'airpressure_Avg',\n",
       " 'Ramount',\n",
       " 'Rduration_Avg',\n",
       " 'Rintensity_Avg',\n",
       " 'Hamount',\n",
       " 'Hduration_Avg',\n",
       " 'Hintensity_Avg',\n",
       " 'T107_2_West_Avg',\n",
       " 'T107_6_West_Avg',\n",
       " 'T107_12_West_Avg',\n",
       " 'T107_25_West_Avg',\n",
       " 'T107_35_West_Avg',\n",
       " 'T107_50_West_Avg',\n",
       " 'T107_2_Mitte_Avg',\n",
       " 'T107_6_Mitte_Avg',\n",
       " 'T107_12_Mitte_Avg',\n",
       " 'T107_25_Mitte_Avg',\n",
       " 'T107_35_Mitte_Avg',\n",
       " 'T107_50_Mitte_Avg',\n",
       " 'T107_2_Ost_Avg',\n",
       " 'T107_6_Ost_Avg',\n",
       " 'T107_12_Ost_Avg',\n",
       " 'T107_25_Ost_Avg',\n",
       " 'T107_35_Ost_Avg',\n",
       " 'T107_50_Ost_Avg',\n",
       " 'VWC_2_West_Avg',\n",
       " 'VWC_6_West_Avg',\n",
       " 'VWC_12_West_Avg',\n",
       " 'VWC_25_West_Avg',\n",
       " 'VWC_35_West_Avg',\n",
       " 'VWC_50_West_Avg',\n",
       " 'VWC_2_Mitte_Avg',\n",
       " 'VWC_6_Mitte_Avg',\n",
       " 'VWC_12_Mitte_Avg',\n",
       " 'VWC_25_Mitte_Avg',\n",
       " 'VWC_35_Mitte_Avg',\n",
       " 'VWC_50_Mitte_Avg',\n",
       " 'VWC_2_Ost_Avg',\n",
       " 'VWC_6_Ost_Avg',\n",
       " 'VWC_12_Ost_Avg',\n",
       " 'VWC_25_Ost_Avg',\n",
       " 'VWC_35_Ost_Avg',\n",
       " 'VWC_50_Ost_Avg',\n",
       " 'Snow_Depth',\n",
       " 'PAR_1_Avg',\n",
       " 'PAR_2_Avg',\n",
       " 'SR_Out_Avg',\n",
       " 'SR_In_Avg',\n",
       " 'IR_Out_Avg',\n",
       " 'IR_In_Avg',\n",
       " 'NR01_TC_Avg/CNR4TC_Avg',\n",
       " 'NR01_TK_Avg/CNR4TK_Avg',\n",
       " 'NetRs_Avg',\n",
       " 'NetRl_Avg',\n",
       " 'Albedo_Avg',\n",
       " 'OutTot_Avg',\n",
       " 'InTot_Avg',\n",
       " 'NetTot_Avg',\n",
       " 'IR_OutCo_Avg',\n",
       " 'IR_InCo_Avg',\n",
       " 'H_Flux_8_Ost_neu_Avg',\n",
       " 'H_Flux_9_West_neu_Avg',\n",
       " 'BP_mbar_Avg',\n",
       " 'IR_TempC_Avg',\n",
       " 'Total_Avg',\n",
       " 'Diffuse_Avg',\n",
       " 'Sun',\n",
       " 'H_Flux_sc_9_Ost_Avg',\n",
       " 'H_Flux_sc_8_fernerOst_Avg',\n",
       " 'H_Flux_sc_8_Mitte_Avg',\n",
       " 'shf_cal(1)',\n",
       " 'shf_cal(2)',\n",
       " 'shf_cal(3)']"
      ]
     },
     "execution_count": 192,
     "metadata": {},
     "output_type": "execute_result"
    }
   ],
   "source": [
    "COLNAMES = open('../data/tereno_fendt_sample/colnames.csv').readline()[:-1].split(',')\n",
    "COLNAMES"
   ]
  },
  {
   "cell_type": "markdown",
   "metadata": {},
   "source": [
    "Then we read one actual data file and assign those column names. \n",
    "\n",
    "We also specify some rules for the import:\n",
    "- there is a datetime column we want parsed into a datetime dtype called \"TIMESTAMP\"\n",
    "- we have no header in the file (data starts in the first row)\n",
    "- missing data values in the file are marked with the string \"NAN\"\n",
    "\n",
    "After reading the file we set the index of the dataframe to be the timestamp column."
   ]
  },
  {
   "cell_type": "code",
   "execution_count": 193,
   "metadata": {},
   "outputs": [],
   "source": [
    "df = pd.read_csv('../data/tereno_fendt_sample/Fen_M_18_001.dat', \n",
    "                 names=COLNAMES, \n",
    "                 parse_dates=['TIMESTAMP'],\n",
    "                 header=None, sep=',', na_values=['NAN'])\n",
    "df = df.set_index('TIMESTAMP')"
   ]
  },
  {
   "cell_type": "markdown",
   "metadata": {},
   "source": [
    "As always, we check the import and some dataframe features (shape, dtypes)."
   ]
  },
  {
   "cell_type": "code",
   "execution_count": 194,
   "metadata": {},
   "outputs": [
    {
     "data": {
      "text/html": [
       "<div>\n",
       "<style scoped>\n",
       "    .dataframe tbody tr th:only-of-type {\n",
       "        vertical-align: middle;\n",
       "    }\n",
       "\n",
       "    .dataframe tbody tr th {\n",
       "        vertical-align: top;\n",
       "    }\n",
       "\n",
       "    .dataframe thead th {\n",
       "        text-align: right;\n",
       "    }\n",
       "</style>\n",
       "<table border=\"1\" class=\"dataframe\">\n",
       "  <thead>\n",
       "    <tr style=\"text-align: right;\">\n",
       "      <th></th>\n",
       "      <th>BattV_Avg</th>\n",
       "      <th>PTemp_C_Avg</th>\n",
       "      <th>Wdmin_Min</th>\n",
       "      <th>Wdavg</th>\n",
       "      <th>Wdmax_Max</th>\n",
       "      <th>Wsmin_Min</th>\n",
       "      <th>Wsavg_Avg</th>\n",
       "      <th>Wsmax_Max</th>\n",
       "      <th>airtemp_Avg</th>\n",
       "      <th>relhumidity_Avg</th>\n",
       "      <th>...</th>\n",
       "      <th>IR_TempC_Avg</th>\n",
       "      <th>Total_Avg</th>\n",
       "      <th>Diffuse_Avg</th>\n",
       "      <th>Sun</th>\n",
       "      <th>H_Flux_sc_9_Ost_Avg</th>\n",
       "      <th>H_Flux_sc_8_fernerOst_Avg</th>\n",
       "      <th>H_Flux_sc_8_Mitte_Avg</th>\n",
       "      <th>shf_cal(1)</th>\n",
       "      <th>shf_cal(2)</th>\n",
       "      <th>shf_cal(3)</th>\n",
       "    </tr>\n",
       "    <tr>\n",
       "      <th>TIMESTAMP</th>\n",
       "      <th></th>\n",
       "      <th></th>\n",
       "      <th></th>\n",
       "      <th></th>\n",
       "      <th></th>\n",
       "      <th></th>\n",
       "      <th></th>\n",
       "      <th></th>\n",
       "      <th></th>\n",
       "      <th></th>\n",
       "      <th></th>\n",
       "      <th></th>\n",
       "      <th></th>\n",
       "      <th></th>\n",
       "      <th></th>\n",
       "      <th></th>\n",
       "      <th></th>\n",
       "      <th></th>\n",
       "      <th></th>\n",
       "      <th></th>\n",
       "      <th></th>\n",
       "    </tr>\n",
       "  </thead>\n",
       "  <tbody>\n",
       "    <tr>\n",
       "      <th>2018-01-01 00:00:00</th>\n",
       "      <td>13.60</td>\n",
       "      <td>-0.053</td>\n",
       "      <td>180</td>\n",
       "      <td>199</td>\n",
       "      <td>211</td>\n",
       "      <td>0.6</td>\n",
       "      <td>0.8</td>\n",
       "      <td>1.0</td>\n",
       "      <td>0.6</td>\n",
       "      <td>89.1</td>\n",
       "      <td>...</td>\n",
       "      <td>-1.930</td>\n",
       "      <td>17.770</td>\n",
       "      <td>18.430</td>\n",
       "      <td>0</td>\n",
       "      <td>-11.27593</td>\n",
       "      <td>-10.07353</td>\n",
       "      <td>-9.107799</td>\n",
       "      <td>0.028665</td>\n",
       "      <td>0.04813</td>\n",
       "      <td>0.048112</td>\n",
       "    </tr>\n",
       "    <tr>\n",
       "      <th>2018-01-01 00:01:00</th>\n",
       "      <td>13.33</td>\n",
       "      <td>-0.053</td>\n",
       "      <td>136</td>\n",
       "      <td>150</td>\n",
       "      <td>167</td>\n",
       "      <td>0.3</td>\n",
       "      <td>0.5</td>\n",
       "      <td>0.7</td>\n",
       "      <td>0.5</td>\n",
       "      <td>88.5</td>\n",
       "      <td>...</td>\n",
       "      <td>-1.972</td>\n",
       "      <td>0.987</td>\n",
       "      <td>1.810</td>\n",
       "      <td>0</td>\n",
       "      <td>-11.27593</td>\n",
       "      <td>-10.03892</td>\n",
       "      <td>-9.107799</td>\n",
       "      <td>0.028665</td>\n",
       "      <td>0.04813</td>\n",
       "      <td>0.048112</td>\n",
       "    </tr>\n",
       "    <tr>\n",
       "      <th>2018-01-01 00:02:00</th>\n",
       "      <td>13.33</td>\n",
       "      <td>-0.056</td>\n",
       "      <td>156</td>\n",
       "      <td>166</td>\n",
       "      <td>183</td>\n",
       "      <td>0.5</td>\n",
       "      <td>0.7</td>\n",
       "      <td>0.8</td>\n",
       "      <td>0.5</td>\n",
       "      <td>88.3</td>\n",
       "      <td>...</td>\n",
       "      <td>-1.902</td>\n",
       "      <td>1.645</td>\n",
       "      <td>2.797</td>\n",
       "      <td>0</td>\n",
       "      <td>NaN</td>\n",
       "      <td>NaN</td>\n",
       "      <td>NaN</td>\n",
       "      <td>0.028665</td>\n",
       "      <td>0.04813</td>\n",
       "      <td>0.048112</td>\n",
       "    </tr>\n",
       "    <tr>\n",
       "      <th>2018-01-01 00:03:00</th>\n",
       "      <td>13.52</td>\n",
       "      <td>-0.058</td>\n",
       "      <td>162</td>\n",
       "      <td>178</td>\n",
       "      <td>187</td>\n",
       "      <td>0.6</td>\n",
       "      <td>0.7</td>\n",
       "      <td>0.8</td>\n",
       "      <td>0.5</td>\n",
       "      <td>88.5</td>\n",
       "      <td>...</td>\n",
       "      <td>-1.874</td>\n",
       "      <td>17.930</td>\n",
       "      <td>2.139</td>\n",
       "      <td>0</td>\n",
       "      <td>NaN</td>\n",
       "      <td>NaN</td>\n",
       "      <td>NaN</td>\n",
       "      <td>0.028665</td>\n",
       "      <td>0.04813</td>\n",
       "      <td>0.048112</td>\n",
       "    </tr>\n",
       "    <tr>\n",
       "      <th>2018-01-01 00:04:00</th>\n",
       "      <td>13.58</td>\n",
       "      <td>-0.053</td>\n",
       "      <td>172</td>\n",
       "      <td>180</td>\n",
       "      <td>188</td>\n",
       "      <td>0.7</td>\n",
       "      <td>0.9</td>\n",
       "      <td>1.1</td>\n",
       "      <td>0.5</td>\n",
       "      <td>88.8</td>\n",
       "      <td>...</td>\n",
       "      <td>-1.741</td>\n",
       "      <td>17.440</td>\n",
       "      <td>18.590</td>\n",
       "      <td>0</td>\n",
       "      <td>NaN</td>\n",
       "      <td>NaN</td>\n",
       "      <td>NaN</td>\n",
       "      <td>0.028665</td>\n",
       "      <td>0.04813</td>\n",
       "      <td>0.048112</td>\n",
       "    </tr>\n",
       "  </tbody>\n",
       "</table>\n",
       "<p>5 rows × 83 columns</p>\n",
       "</div>"
      ],
      "text/plain": [
       "                     BattV_Avg  PTemp_C_Avg  Wdmin_Min  Wdavg  Wdmax_Max  \\\n",
       "TIMESTAMP                                                                  \n",
       "2018-01-01 00:00:00      13.60       -0.053        180    199        211   \n",
       "2018-01-01 00:01:00      13.33       -0.053        136    150        167   \n",
       "2018-01-01 00:02:00      13.33       -0.056        156    166        183   \n",
       "2018-01-01 00:03:00      13.52       -0.058        162    178        187   \n",
       "2018-01-01 00:04:00      13.58       -0.053        172    180        188   \n",
       "\n",
       "                     Wsmin_Min  Wsavg_Avg  Wsmax_Max  airtemp_Avg  \\\n",
       "TIMESTAMP                                                           \n",
       "2018-01-01 00:00:00        0.6        0.8        1.0          0.6   \n",
       "2018-01-01 00:01:00        0.3        0.5        0.7          0.5   \n",
       "2018-01-01 00:02:00        0.5        0.7        0.8          0.5   \n",
       "2018-01-01 00:03:00        0.6        0.7        0.8          0.5   \n",
       "2018-01-01 00:04:00        0.7        0.9        1.1          0.5   \n",
       "\n",
       "                     relhumidity_Avg  ...  IR_TempC_Avg  Total_Avg  \\\n",
       "TIMESTAMP                             ...                            \n",
       "2018-01-01 00:00:00             89.1  ...        -1.930     17.770   \n",
       "2018-01-01 00:01:00             88.5  ...        -1.972      0.987   \n",
       "2018-01-01 00:02:00             88.3  ...        -1.902      1.645   \n",
       "2018-01-01 00:03:00             88.5  ...        -1.874     17.930   \n",
       "2018-01-01 00:04:00             88.8  ...        -1.741     17.440   \n",
       "\n",
       "                     Diffuse_Avg  Sun  H_Flux_sc_9_Ost_Avg  \\\n",
       "TIMESTAMP                                                    \n",
       "2018-01-01 00:00:00       18.430    0            -11.27593   \n",
       "2018-01-01 00:01:00        1.810    0            -11.27593   \n",
       "2018-01-01 00:02:00        2.797    0                  NaN   \n",
       "2018-01-01 00:03:00        2.139    0                  NaN   \n",
       "2018-01-01 00:04:00       18.590    0                  NaN   \n",
       "\n",
       "                     H_Flux_sc_8_fernerOst_Avg  H_Flux_sc_8_Mitte_Avg  \\\n",
       "TIMESTAMP                                                               \n",
       "2018-01-01 00:00:00                  -10.07353              -9.107799   \n",
       "2018-01-01 00:01:00                  -10.03892              -9.107799   \n",
       "2018-01-01 00:02:00                        NaN                    NaN   \n",
       "2018-01-01 00:03:00                        NaN                    NaN   \n",
       "2018-01-01 00:04:00                        NaN                    NaN   \n",
       "\n",
       "                     shf_cal(1)  shf_cal(2)  shf_cal(3)  \n",
       "TIMESTAMP                                                \n",
       "2018-01-01 00:00:00    0.028665     0.04813    0.048112  \n",
       "2018-01-01 00:01:00    0.028665     0.04813    0.048112  \n",
       "2018-01-01 00:02:00    0.028665     0.04813    0.048112  \n",
       "2018-01-01 00:03:00    0.028665     0.04813    0.048112  \n",
       "2018-01-01 00:04:00    0.028665     0.04813    0.048112  \n",
       "\n",
       "[5 rows x 83 columns]"
      ]
     },
     "execution_count": 194,
     "metadata": {},
     "output_type": "execute_result"
    }
   ],
   "source": [
    "df.head()"
   ]
  },
  {
   "cell_type": "code",
   "execution_count": 195,
   "metadata": {},
   "outputs": [
    {
     "data": {
      "text/plain": [
       "(1440, 83)"
      ]
     },
     "execution_count": 195,
     "metadata": {},
     "output_type": "execute_result"
    }
   ],
   "source": [
    "df.shape"
   ]
  },
  {
   "cell_type": "code",
   "execution_count": 196,
   "metadata": {},
   "outputs": [
    {
     "data": {
      "text/plain": [
       "BattV_Avg                    float64\n",
       "PTemp_C_Avg                  float64\n",
       "Wdmin_Min                      int64\n",
       "Wdavg                          int64\n",
       "Wdmax_Max                      int64\n",
       "Wsmin_Min                    float64\n",
       "Wsavg_Avg                    float64\n",
       "Wsmax_Max                    float64\n",
       "airtemp_Avg                  float64\n",
       "relhumidity_Avg              float64\n",
       "airpressure_Avg                int64\n",
       "Ramount                      float64\n",
       "Rduration_Avg                  int64\n",
       "Rintensity_Avg               float64\n",
       "Hamount                        int64\n",
       "Hduration_Avg                  int64\n",
       "Hintensity_Avg                 int64\n",
       "T107_2_West_Avg              float64\n",
       "T107_6_West_Avg              float64\n",
       "T107_12_West_Avg             float64\n",
       "T107_25_West_Avg             float64\n",
       "T107_35_West_Avg             float64\n",
       "T107_50_West_Avg             float64\n",
       "T107_2_Mitte_Avg             float64\n",
       "T107_6_Mitte_Avg             float64\n",
       "T107_12_Mitte_Avg            float64\n",
       "T107_25_Mitte_Avg            float64\n",
       "T107_35_Mitte_Avg            float64\n",
       "T107_50_Mitte_Avg            float64\n",
       "T107_2_Ost_Avg               float64\n",
       "                              ...   \n",
       "Snow_Depth                   float64\n",
       "PAR_1_Avg                    float64\n",
       "PAR_2_Avg                    float64\n",
       "SR_Out_Avg                   float64\n",
       "SR_In_Avg                    float64\n",
       "IR_Out_Avg                   float64\n",
       "IR_In_Avg                    float64\n",
       "NR01_TC_Avg/CNR4TC_Avg       float64\n",
       "NR01_TK_Avg/CNR4TK_Avg       float64\n",
       "NetRs_Avg                    float64\n",
       "NetRl_Avg                    float64\n",
       "Albedo_Avg                   float64\n",
       "OutTot_Avg                   float64\n",
       "InTot_Avg                    float64\n",
       "NetTot_Avg                   float64\n",
       "IR_OutCo_Avg                 float64\n",
       "IR_InCo_Avg                  float64\n",
       "H_Flux_8_Ost_neu_Avg         float64\n",
       "H_Flux_9_West_neu_Avg        float64\n",
       "BP_mbar_Avg                    int64\n",
       "IR_TempC_Avg                 float64\n",
       "Total_Avg                    float64\n",
       "Diffuse_Avg                  float64\n",
       "Sun                            int64\n",
       "H_Flux_sc_9_Ost_Avg          float64\n",
       "H_Flux_sc_8_fernerOst_Avg    float64\n",
       "H_Flux_sc_8_Mitte_Avg        float64\n",
       "shf_cal(1)                   float64\n",
       "shf_cal(2)                   float64\n",
       "shf_cal(3)                   float64\n",
       "Length: 83, dtype: object"
      ]
     },
     "execution_count": 196,
     "metadata": {},
     "output_type": "execute_result"
    }
   ],
   "source": [
    "df.dtypes"
   ]
  },
  {
   "cell_type": "markdown",
   "metadata": {},
   "source": [
    "Note, since there are so many columns and rows jupyter shortens the print. If you want to have a look at all of them you need to modify the defaults:\n",
    "\n",
    "```\n",
    "pd.set_option('display.height', 1000)\n",
    "pd.set_option('display.max_rows', 500)\n",
    "pd.set_option('display.max_columns', 500)\n",
    "pd.set_option('display.width', 1000)\n",
    "```\n",
    "\n",
    "\n",
    "Let's look at a single column:\n"
   ]
  },
  {
   "cell_type": "code",
   "execution_count": 197,
   "metadata": {},
   "outputs": [
    {
     "data": {
      "image/png": "[encoded data removed]",
      "text/plain": [
       "<Figure size 1008x216 with 1 Axes>"
      ]
     },
     "metadata": {
      "needs_background": "light"
     },
     "output_type": "display_data"
    }
   ],
   "source": [
    "fig,ax = plt.subplots(1,1, figsize=(14,3))\n",
    "df.airtemp_Avg.plot();"
   ]
  },
  {
   "cell_type": "markdown",
   "metadata": {},
   "source": [
    "Ok, now we read in six more files and combine them into one larger file covering 1 week of data.\n",
    "\n",
    "We use a small utility function to do this. This function does several things at once:\n",
    "- it reads in one or multiple daily files\n",
    "- it parses them as done before\n",
    "- it set's the timestamp column as the dataframe index\n",
    "- it concatenates the individual dataframes into a single on (axis-0 is vertically)\n",
    "- it finally sorts the index (timestamp) ans thus the dataframe in ascending order"
   ]
  },
  {
   "cell_type": "code",
   "execution_count": 198,
   "metadata": {},
   "outputs": [],
   "source": [
    "def read_tereno_daily_micromet(filename, COLNAMES):\n",
    "    \"\"\"read one or multiple files and return a joined dataframe\"\"\"\n",
    "    if isinstance(filename, str):\n",
    "        filename = [filename]\n",
    "    \n",
    "    fs = []\n",
    "    for f in filename:\n",
    "        df = pd.read_csv(f, \n",
    "                     names=COLNAMES, \n",
    "                     parse_dates=['TIMESTAMP'],\n",
    "                     header=None, sep=',', na_values=['NAN'])\n",
    "        df = df.set_index('TIMESTAMP')\n",
    "        fs.append(df)\n",
    "    return pd.concat(fs, axis=0).sort_index()"
   ]
  },
  {
   "cell_type": "markdown",
   "metadata": {},
   "source": [
    "Now we read 7 daily files. We use the glob module to specify a range of files with wildcard syntax (* or [1-7])."
   ]
  },
  {
   "cell_type": "code",
   "execution_count": 199,
   "metadata": {},
   "outputs": [],
   "source": [
    "# let's read 7 days of data\n",
    "import glob\n",
    "\n",
    "# this gives us the files 001, 002, 003, ... 007\n",
    "filenames = glob.glob('../data/tereno_fendt_sample/Fen_M_18_00[1-7]*.dat')\n",
    "df = read_tereno_daily_micromet(filenames, COLNAMES)"
   ]
  },
  {
   "cell_type": "code",
   "execution_count": 200,
   "metadata": {},
   "outputs": [
    {
     "data": {
      "text/plain": [
       "(10080, 83)"
      ]
     },
     "execution_count": 200,
     "metadata": {},
     "output_type": "execute_result"
    }
   ],
   "source": [
    "df.shape"
   ]
  },
  {
   "cell_type": "code",
   "execution_count": 201,
   "metadata": {},
   "outputs": [
    {
     "data": {
      "text/plain": [
       "TIMESTAMP\n",
       "2018-01-01 00:00:00    0.6\n",
       "2018-01-01 00:01:00    0.5\n",
       "2018-01-01 00:02:00    0.5\n",
       "2018-01-01 00:03:00    0.5\n",
       "2018-01-01 00:04:00    0.5\n",
       "Name: airtemp_Avg, dtype: float64"
      ]
     },
     "execution_count": 201,
     "metadata": {},
     "output_type": "execute_result"
    }
   ],
   "source": [
    "# the head of the dataframe\n",
    "df.airtemp_Avg.head()"
   ]
  },
  {
   "cell_type": "code",
   "execution_count": 202,
   "metadata": {},
   "outputs": [
    {
     "data": {
      "text/plain": [
       "TIMESTAMP\n",
       "2018-01-07 23:55:00    1.6\n",
       "2018-01-07 23:56:00    1.6\n",
       "2018-01-07 23:57:00    1.6\n",
       "2018-01-07 23:58:00    1.6\n",
       "2018-01-07 23:59:00    1.6\n",
       "Name: airtemp_Avg, dtype: float64"
      ]
     },
     "execution_count": 202,
     "metadata": {},
     "output_type": "execute_result"
    }
   ],
   "source": [
    "# the last rows of the dataframe\n",
    "df.airtemp_Avg.tail()"
   ]
  },
  {
   "cell_type": "code",
   "execution_count": 203,
   "metadata": {},
   "outputs": [
    {
     "data": {
      "image/png": "[encoded data removed]",
      "text/plain": [
       "<Figure size 1008x216 with 1 Axes>"
      ]
     },
     "metadata": {
      "needs_background": "light"
     },
     "output_type": "display_data"
    }
   ],
   "source": [
    "# plotting again\n",
    "fig,ax = plt.subplots(1,1, figsize=(14,3))\n",
    "df.airtemp_Avg.plot();"
   ]
  },
  {
   "cell_type": "markdown",
   "metadata": {},
   "source": [
    "Notice that pandas automatically adjusts the x-axis to days (previously hours). It can do this since the index is encoded as a proper datetime dtype.\n",
    "\n",
    "## Working with datetime encoded data\n",
    "\n",
    "Queriung and indexing time and dates in pandas is kinda magic. See this example.\n",
    "\n",
    "Say we want to get all data from 3:00 to 9:00 for the 2nd of January. We can index into the dataframe datetime-index column."
   ]
  },
  {
   "cell_type": "code",
   "execution_count": 204,
   "metadata": {},
   "outputs": [
    {
     "data": {
      "image/png": "[encoded data removed]",
      "text/plain": [
       "<Figure size 1008x216 with 1 Axes>"
      ]
     },
     "metadata": {
      "needs_background": "light"
     },
     "output_type": "display_data"
    }
   ],
   "source": [
    "# select a certain period from datetime index\n",
    "subset = df['2018-01-02 03:00':'2018-01-02 09:00']\n",
    "fig,ax = plt.subplots(1,1, figsize=(14,3))\n",
    "subset.airtemp_Avg.plot();"
   ]
  },
  {
   "cell_type": "markdown",
   "metadata": {},
   "source": [
    "We can also select all rows of the day 2018-01-06 using the following syntax (it essentially rounds the datetime index down to daily values)."
   ]
  },
  {
   "cell_type": "code",
   "execution_count": 205,
   "metadata": {},
   "outputs": [
    {
     "data": {
      "image/png": "[encoded data removed]",
      "text/plain": [
       "<Figure size 1008x216 with 1 Axes>"
      ]
     },
     "metadata": {
      "needs_background": "light"
     },
     "output_type": "display_data"
    }
   ],
   "source": [
    "# select a single day from datetime index\n",
    "oneday_df = df['2018-01-06']\n",
    "fig,ax = plt.subplots(1,1, figsize=(14,3))\n",
    "oneday_df.airtemp_Avg.plot();"
   ]
  },
  {
   "cell_type": "markdown",
   "metadata": {},
   "source": [
    "Pandas comes also with resampling tools for building different temporal resolutions.\n",
    "\n",
    "Say, we want to change our data to hourly values. We can simply do that be calling `resample()` with the appropriate time unit abbreviations (day=D, hour=H, or 15min for 15 minute intervals).\n",
    "\n",
    "Ignore the plotting command in the next cell (we do plotting later)."
   ]
  },
  {
   "cell_type": "code",
   "execution_count": 206,
   "metadata": {},
   "outputs": [
    {
     "data": {
      "image/png": "[encoded data removed]",
      "text/plain": [
       "<Figure size 1152x216 with 4 Axes>"
      ]
     },
     "metadata": {
      "needs_background": "light"
     },
     "output_type": "display_data"
    }
   ],
   "source": [
    "fig,ax = plt.subplots(1,4, figsize=(16,3))\n",
    "\n",
    "one_day = df['2018-01-04']\n",
    "\n",
    "one_day.airtemp_Avg.plot(ax=ax[0], label='original', color='black')\n",
    "one_day.airtemp_Avg.resample('15min').mean().plot(ax=ax[1], label='15min', color='purple')\n",
    "one_day.airtemp_Avg.resample('1H').mean().plot(ax=ax[2], label='1H', color='blue')\n",
    "one_day.airtemp_Avg.resample('3H').mean().plot(ax=ax[3], label='3H', color='orange')\n",
    "\n",
    "for a in ax:\n",
    "    a.legend()"
   ]
  },
  {
   "cell_type": "markdown",
   "metadata": {},
   "source": [
    "We can also use a  sliding window (moving average) approach to resample. This is called `rolling` in pandas and works similar to resampling.\n",
    "\n",
    "Let's say we want to smooth with a sliding window of 30 data points (centered in the middle, this will lead to 14 NaN values at the beginning and at the end of the timesereis). The data resolution stays at 1 data point per minute."
   ]
  },
  {
   "cell_type": "code",
   "execution_count": 207,
   "metadata": {},
   "outputs": [
    {
     "data": {
      "image/png": "[encoded data removed]",
      "text/plain": [
       "<Figure size 864x216 with 1 Axes>"
      ]
     },
     "metadata": {
      "needs_background": "light"
     },
     "output_type": "display_data"
    }
   ],
   "source": [
    "# rolling window/ centered with window size = 30 datapoints\n",
    "fig,ax = plt.subplots(1,1, figsize=(12,3))\n",
    "oneday_df.airtemp_Avg.plot(ax=ax);\n",
    "oneday_df.airtemp_Avg.rolling(30, center=True).mean().plot(ax=ax);"
   ]
  },
  {
   "cell_type": "code",
   "execution_count": null,
   "metadata": {},
   "outputs": [],
   "source": []
  },
  {
   "cell_type": "code",
   "execution_count": null,
   "metadata": {},
   "outputs": [],
   "source": []
  }
 ],
 "metadata": {
  "kernelspec": {
   "display_name": "Python 3",
   "language": "python",
   "name": "python3"
  },
  "language_info": {
   "codemirror_mode": {
    "name": "ipython",
    "version": 3
   },
   "file_extension": ".py",
   "mimetype": "text/x-python",
   "name": "python",
   "nbconvert_exporter": "python",
   "pygments_lexer": "ipython3",
   "version": "3.7.3"
  }
 },
 "nbformat": 4,
 "nbformat_minor": 4
}
