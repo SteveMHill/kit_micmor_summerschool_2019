{
 "cells": [
  {
   "cell_type": "markdown",
   "metadata": {},
   "source": [
    "![](../images/logos.jpg \"MiCMOR, KIT Campus Alpin\")\n",
    "\n",
    "**[MiCMOR](https://micmor.kit.edu) [SummerSchool \"Environmental Data Science: From Data Exploration to Deep Learning\"](https://micmor.kit.edu/sites/default/files/MICMoR%20Summer%20School%202019%20Flyer.pdf)**  \n",
    "IMK-IFU KIT Campus Alpin, Sept. 4 - 13 2019, Garmisch-Partenkirchen, Germany.\n",
    "\n",
    "---"
   ]
  },
  {
   "cell_type": "markdown",
   "metadata": {},
   "source": [
    "# Data formats \n",
    "\n",
    "... an overview of formats that you might come across and when you might use them. \n",
    "\n",
    "## Text-based formats\n",
    "### Tabular text files: csv, tsv, txt\n",
    "\n",
    "**What to use:** `pandas` (`pd.read_csv()`)\n",
    "\n",
    "I'd say, in general the most common file format you might encounter. Also, potentially messy since there is no true schema to it (there are actually many). Luckily, pandas has a pretty great `read_csv()` Function that can handle pretty much any variant you might come across (it's actually so versatile that it has about 250 arguments you can specify!!!).\n",
    "\n",
    "We cannot possbibly cover all aspects, but some of the more common arguments (at least for me) are:\n",
    "- specifying the seperator (`sep=`)\n",
    "- split at any kind of whitespace (`delim_whitespace=True`)\n",
    "- specifying if there's no header (`header=None`)\n",
    "- giving column names (`names=[\"Col1\",\"Col2\",...]`; if the file has no colnames yet don't forget to specify `header=None`, too)\n",
    "- use a columns to set the index (`index_col='myIndexCol'`)\n",
    "- specify which value should be considered missing/ NaN (`na_values=[-9999, 'na', 'none']`) - this can also be done per-column if you specify a dictionary for your columns with the individual NaN-values to filter\n",
    "- skipping rows (`skiprows=5`)\n",
    "- convert date columns to an actual date type during import (`parse_dates=True` or `parse_dates=['DateCol1', 'DateCol2']`) - you can also specify a custom data/time parser function if pandas has trouble detecting the correct format\n",
    "\n",
    "**Tip:** Since formats are so variable it's often a good idea to peak into the first 10 to 100 lines of a file. A fast and easy way to do this in Jupyter is to issue a bash command inline like so:"
   ]
  },
  {
   "cell_type": "code",
   "execution_count": 1,
   "metadata": {},
   "outputs": [],
   "source": [
    "%matplotlib inline\n",
    "%load_ext autoreload\n",
    "%autoreload 2"
   ]
  },
  {
   "cell_type": "raw",
   "metadata": {},
   "source": [
    "! head -n 10 data/testfile.csv"
   ]
  },
  {
   "cell_type": "markdown",
   "metadata": {},
   "source": [
    "A small example:"
   ]
  },
  {
   "cell_type": "raw",
   "metadata": {},
   "source": [
    "import pandas as pd \n",
    "df = pd.read_csv('data/testfile.csv', index_col=['ID'])\n",
    "df.head()"
   ]
  },
  {
   "cell_type": "markdown",
   "metadata": {},
   "source": [
    "### XML\n",
    "\n",
    "**What to use:** `cElementTree` (or: `lxml`)\n",
    "\n",
    "The Extensible Markup Language (XML) usually encodes a document or data structure. It is organized tree-like thus supports a hierarchy. Usually a schema is defined that defines what a given XML document can contain (like a database schema). The basic building blocks to encapsule data are elements and attributes. You can have elements that enclose text (`<myelement>text</myelement>`) or elements without text (`<myelement />`). Often, you also have attributes in an element (`<myelement attribute1=\"A\" another_attr=\"2\"/>`).\n",
    "\n",
    "A nested XML structure might look like this:\n",
    "\n",
    "```\n",
    "<person sex=\"female\">\n",
    "  <firstname>Anna</firstname>\n",
    "  <lastname>Smith</lastname>\n",
    "</person>\n",
    "```\n",
    "As a small example with data we will use in the Deep Learning lessons. Let's read one of the image description XML files that exist for each image of the ImageCLEF 2013 plant classification challenge"
   ]
  },
  {
   "cell_type": "code",
   "execution_count": 3,
   "metadata": {},
   "outputs": [
    {
     "data": {
      "text/plain": [
       "PosixPath('../data/imageclef_2013_sample/3.xml')"
      ]
     },
     "execution_count": 3,
     "metadata": {},
     "output_type": "execute_result"
    }
   ],
   "source": [
    "from pathlib import Path\n",
    "import xml.etree.cElementTree as ET\n",
    "\n",
    "# get xml files in dir and return first one from generator using next()\n",
    "file_path = next(Path('../data/imageclef_2013_sample').glob('*.xml'))\n",
    "file_path"
   ]
  },
  {
   "cell_type": "markdown",
   "metadata": {},
   "source": [
    "Again, if we do not have a clear picture what is actually in the file it's a good idea to print it.\n"
   ]
  },
  {
   "cell_type": "code",
   "execution_count": 4,
   "metadata": {},
   "outputs": [
    {
     "name": "stdout",
     "output_type": "stream",
     "text": [
      "<?xml version=\"1.0\" encoding=\"UTF-8\"?>\n",
      "<Image>\n",
      "  <FileName>3.jpg</FileName>\n",
      "  <IndividualPlantId>742</IndividualPlantId>\n",
      "  <Date>07/07/10</Date>\n",
      "  <Locality>France - Montpellier</Locality>\n",
      "  <GPSLocality>\n",
      "    <Longitude>3.876716</Longitude>\n",
      "    <Latitude>43.610769</Latitude>\n",
      "  </GPSLocality>\n",
      "  <Author>Jean-Francois Molino</Author>\n",
      "  <Organization>Tela Botanica</Organization>\n",
      "  <Type>SheetAsBackground</Type>\n",
      "  <Content>Leaf</Content>\n",
      "  <ClassId>Rhamnus alaternus</ClassId>\n",
      "  <Taxon>\n",
      "    <Regnum>Plantae</Regnum>\n",
      "    <Class>Equisetopsida C. Agardh</Class>\n",
      "    <Subclass>Magnoliidae Novák ex Takht.</Subclass>\n",
      "    <Superorder>Rosanae Takht.</Superorder>\n",
      "    <Order>Rosales Bercht. &amp; J. Presl</Order>\n",
      "    <Family>Rhamnaceae Juss.</Family>\n",
      "    <Genus>Rhamnus L.</Genus>\n",
      "    <Species>Rhamnus alaternus L.</Species>\n",
      "  </Taxon>\n",
      "  <VernacularNames>Italian buckthorn</VernacularNames>\n",
      "  <Year>ImageCLEF2011</Year>\n",
      "  <IndividualPlantId2012>201</IndividualPlantId2012>\n",
      "  <ImageID2012>4411.jpg</ImageID2012>\n",
      "</Image>\n",
      "\n"
     ]
    }
   ],
   "source": [
    "# Note that we can use python variables in a bash command with the curly brackets !!!\n",
    "! cat {file_path}"
   ]
  },
  {
   "cell_type": "markdown",
   "metadata": {},
   "source": [
    "As we can see this schema apparently does not use any attributes, just elements..."
   ]
  },
  {
   "cell_type": "code",
   "execution_count": 5,
   "metadata": {},
   "outputs": [
    {
     "name": "stdout",
     "output_type": "stream",
     "text": [
      "<Element 'Image' at 0x7f0fe9b67638>\n"
     ]
    }
   ],
   "source": [
    "# parse the entire file\n",
    "xml = ET.parse(file_path)\n",
    "\n",
    "# get the document root element\n",
    "root = xml.getroot()\n",
    "\n",
    "print(root)"
   ]
  },
  {
   "cell_type": "markdown",
   "metadata": {},
   "source": [
    "We cannot do a full XML tutorial here, but you can either iterate through elements or you can search for a specific one.\n",
    "The following code searches for the first occurance of the subelement Family and return the text enclosed by the element\n",
    "(if it had an attribute we could query it using `.attrib['attributeName']`)."
   ]
  },
  {
   "cell_type": "code",
   "execution_count": 6,
   "metadata": {},
   "outputs": [
    {
     "data": {
      "text/plain": [
       "'Rhamnaceae Juss.'"
      ]
     },
     "execution_count": 6,
     "metadata": {},
     "output_type": "execute_result"
    }
   ],
   "source": [
    "root.find('./Taxon/Family').text"
   ]
  },
  {
   "cell_type": "markdown",
   "metadata": {},
   "source": [
    "\n",
    "\n",
    "**Note:** \n",
    "- Using the package `xmltodict` (not shown) we can also read in a XML file and convert it to a nested python dictionary. We then could pass it on and convert it into a JSON structure (which basically is a nested dictionary).\n",
    "- If our file had many entries of *Image*, one would iterate over them like this:\n",
    "\n",
    "```python\n",
    "for child in root:\n",
    "    print(child.tag, child.attrib, child.text)\n",
    "```\n",
    "- More on using ElementTree [here](https://docs.python.org/3/library/xml.etree.elementtree.html)."
   ]
  },
  {
   "cell_type": "markdown",
   "metadata": {},
   "source": [
    "### JSON\n",
    "\n",
    "JavaScript Object Notation (JSON) was inspired by a subset of the JavaScript programming language dealing with object literal syntax but nowadays has its own standard. JSON supports primitive types, like strings and numbers, as well as nested lists and objects.\n",
    "\n",
    "An example looks like this:\n",
    "```JSON\n",
    "{\n",
    "    \"firstName\": \"Jane\",\n",
    "    \"lastName\": \"Doe\",\n",
    "    \"hobbies\": [\"running\", \"sky diving\", \"singing\"],\n",
    "    \"age\": 35,\n",
    "    \"children\": [\n",
    "        {\n",
    "            \"firstName\": \"Alice\",\n",
    "            \"age\": 6\n",
    "        },\n",
    "        {\n",
    "            \"firstName\": \"Bob\",\n",
    "            \"age\": 8\n",
    "        }\n",
    "    ]\n",
    "}\n",
    "```"
   ]
  },
  {
   "cell_type": "markdown",
   "metadata": {},
   "source": [
    "You can read in a JSON file like this:"
   ]
  },
  {
   "cell_type": "code",
   "execution_count": 7,
   "metadata": {},
   "outputs": [
    {
     "name": "stdout",
     "output_type": "stream",
     "text": [
      "{'quiz': {'sport': {'q1': {'question': 'Which one is correct team name in NBA?', 'options': ['New York Bulls', 'Los Angeles Kings', 'Golden State Warriros', 'Huston Rocket'], 'answer': 'Huston Rocket'}}, 'maths': {'q1': {'question': '5 + 7 = ?', 'options': ['10', '11', '12', '13'], 'answer': '12'}, 'q2': {'question': '12 - 8 = ?', 'options': ['1', '2', '3', '4'], 'answer': '4'}}}}\n",
      "\n",
      "better to pretty-print:\n",
      "{\n",
      "    \"quiz\": {\n",
      "        \"sport\": {\n",
      "            \"q1\": {\n",
      "                \"question\": \"Which one is correct team name in NBA?\",\n",
      "                \"options\": [\n",
      "                    \"New York Bulls\",\n",
      "                    \"Los Angeles Kings\",\n",
      "                    \"Golden State Warriros\",\n",
      "                    \"Huston Rocket\"\n",
      "                ],\n",
      "                \"answer\": \"Huston Rocket\"\n",
      "            }\n",
      "        },\n",
      "        \"maths\": {\n",
      "            \"q1\": {\n",
      "                \"question\": \"5 + 7 = ?\",\n",
      "                \"options\": [\n",
      "                    \"10\",\n",
      "                    \"11\",\n",
      "                    \"12\",\n",
      "                    \"13\"\n",
      "                ],\n",
      "                \"answer\": \"12\"\n",
      "            },\n",
      "            \"q2\": {\n",
      "                \"question\": \"12 - 8 = ?\",\n",
      "                \"options\": [\n",
      "                    \"1\",\n",
      "                    \"2\",\n",
      "                    \"3\",\n",
      "                    \"4\"\n",
      "                ],\n",
      "                \"answer\": \"4\"\n",
      "            }\n",
      "        }\n",
      "    }\n",
      "}\n"
     ]
    }
   ],
   "source": [
    "import json\n",
    "\n",
    "# reading a json file\n",
    "with open(\"../data/other/simple_example.json\", \"r\") as read_file:\n",
    "    data = json.load(read_file)\n",
    "\n",
    "print(data)\n",
    "print('\\nbetter to pretty-print:')\n",
    "print(json.dumps(data, indent=4))"
   ]
  },
  {
   "cell_type": "markdown",
   "metadata": {},
   "source": [
    "Most often, you'd probably pull JSON files from the web. Here is a small example how you do this with `requests`."
   ]
  },
  {
   "cell_type": "code",
   "execution_count": 8,
   "metadata": {},
   "outputs": [
    {
     "name": "stdout",
     "output_type": "stream",
     "text": [
      "{'error_message': 'You must use an API key to authenticate each request to Google Maps Platform APIs. For additional information, please refer to http://g.co/dev/maps-no-account', 'results': [], 'status': 'REQUEST_DENIED'}\n"
     ]
    }
   ],
   "source": [
    "import urllib.request\n",
    "import json \n",
    "with urllib.request.urlopen(\"http://maps.googleapis.com/maps/api/geocode/json?address=google\") as url:\n",
    "    data = json.loads(url.read().decode())\n",
    "    print(data)"
   ]
  },
  {
   "cell_type": "markdown",
   "metadata": {},
   "source": [
    "Now, this request actually yields an error since we did not specify an API token to use this google API(which is encoded in JSON as well). Moving on..."
   ]
  },
  {
   "cell_type": "markdown",
   "metadata": {},
   "source": [
    "If you already have a JSON structure in a string (because you fulled it in from the web etc.):"
   ]
  },
  {
   "cell_type": "code",
   "execution_count": 9,
   "metadata": {},
   "outputs": [
    {
     "data": {
      "text/plain": [
       "{'researcher': {'name': 'Ford Prefect',\n",
       "  'species': 'Betelgeusian',\n",
       "  'relatives': [{'name': 'Zaphod Beeblebrox', 'species': 'Betelgeusian'}]}}"
      ]
     },
     "execution_count": 9,
     "metadata": {},
     "output_type": "execute_result"
    }
   ],
   "source": [
    "import json\n",
    "\n",
    "json_string = \"\"\"\n",
    "{\n",
    "    \"researcher\": {\n",
    "        \"name\": \"Ford Prefect\",\n",
    "        \"species\": \"Betelgeusian\",\n",
    "        \"relatives\": [\n",
    "            {\n",
    "                \"name\": \"Zaphod Beeblebrox\",\n",
    "                \"species\": \"Betelgeusian\"\n",
    "            }\n",
    "        ]\n",
    "    }\n",
    "}\n",
    "\"\"\"\n",
    "data = json.loads(json_string)\n",
    "data"
   ]
  },
  {
   "cell_type": "markdown",
   "metadata": {},
   "source": [
    "## Binary formats\n",
    "### Excel 🤨\n",
    "\n",
    "Ok, **you really should be using csv files instead**. However, if you need to import Excel files pandas can do it (if you also install `xlrd`)."
   ]
  },
  {
   "cell_type": "code",
   "execution_count": 13,
   "metadata": {},
   "outputs": [
    {
     "name": "stdout",
     "output_type": "stream",
     "text": [
      "  LfU Bayern LÜB Stickstoffdioxid NO2 Stundenmittelwerte µg/m³, Zeitangabe MEZ  \\\n",
      "0                                          Zeitpunkt                             \n",
      "1                                   01.01.2017 01:00                             \n",
      "2                                   01.01.2017 02:00                             \n",
      "3                                   01.01.2017 03:00                             \n",
      "4                                   01.01.2017 04:00                             \n",
      "\n",
      "           Unnamed: 1              Unnamed: 2                Unnamed: 3  \\\n",
      "0  Andechs/Rothenfeld  Ansbach/Residenzstraße  Aschaffenburg/Bussardweg   \n",
      "1                  11                      26                        37   \n",
      "2                  11                      26                        38   \n",
      "3                   8                      27                        38   \n",
      "4                   6                      27                        39   \n",
      "\n",
      "               Unnamed: 4           Unnamed: 5            Unnamed: 6  \\\n",
      "0  Augsburg/Bourges-Platz  Augsburg/Karlstraße  Augsburg/Königsplatz   \n",
      "1                      31                   34                    29   \n",
      "2                      31                   35                    29   \n",
      "3                      29                   31                    28   \n",
      "4                      30                   31                    28   \n",
      "\n",
      "     Unnamed: 7              Unnamed: 8           Unnamed: 9  ...  \\\n",
      "0  Augsburg/LfU  Bad Hindelang/Oberjoch  Bamberg/Löwenbrücke  ...   \n",
      "1            31                       0                   36  ...   \n",
      "2            31                       0                   33  ...   \n",
      "3            29                       0                   33  ...   \n",
      "4            28                       0                   32  ...   \n",
      "\n",
      "               Unnamed: 36         Unnamed: 37                   Unnamed: 38  \\\n",
      "0  Passau/Stelzhamerstraße  Regensburg/Rathaus  Saal a.d.Donau/Auf dem Gries   \n",
      "1                       38                  43                            38   \n",
      "2                       37                  44                            39   \n",
      "3                       36                  46                            39   \n",
      "4                       35                  44                            39   \n",
      "\n",
      "             Unnamed: 39                      Unnamed: 40  \\\n",
      "0  Schwabach/Angerstraße  Schwandorf/Wackersdorfer Straße   \n",
      "1                     24                               36   \n",
      "2                     23                               37   \n",
      "3                     25                               37   \n",
      "4                     25                               38   \n",
      "\n",
      "           Unnamed: 41                 Unnamed: 42  \\\n",
      "0  Schweinfurt/Obertor  Tiefenbach/Altenschneeberg   \n",
      "1                   40                          21   \n",
      "2                   39                          21   \n",
      "3                   38                          25   \n",
      "4                   38                          36   \n",
      "\n",
      "                  Unnamed: 43                    Unnamed: 44  \\\n",
      "0  Trostberg/Schwimmbadstraße  Weiden i.d.OPf./Nikolaistraße   \n",
      "1                          26                             37   \n",
      "2                          24                             37   \n",
      "3                          24                             36   \n",
      "4                          23                             37   \n",
      "\n",
      "              Unnamed: 45  \n",
      "0  Würzburg/Stadtring Süd  \n",
      "1                      37  \n",
      "2                      38  \n",
      "3                      41  \n",
      "4                      38  \n",
      "\n",
      "[5 rows x 46 columns]\n"
     ]
    }
   ],
   "source": [
    "import pandas as pd \n",
    "df = pd.read_excel(\"../data/other/NO2_2017.xlsx\", sheet_name='Seite 1')\n",
    "print(df.head())"
   ]
  },
  {
   "cell_type": "markdown",
   "metadata": {},
   "source": [
    "Ok, this was not quite right. We should skip one line. Also, we want to parse the \"Zeitpunkt\" datetime column. Since this is a non-standard format according to pandas we will have to define our own parser.\n",
    "\n",
    "However this does not work since some mad man/ woman has actually encoded the time 24:00 to be valid. We'd have to manually substract one hour from all datetime strings first for this to work... We would do this bis splitting the datetime column into a date and time part, then process the time and combine them again. We leave this for another day."
   ]
  },
  {
   "cell_type": "code",
   "execution_count": 22,
   "metadata": {},
   "outputs": [],
   "source": [
    "# define custom datetime parser\n",
    "my_parser = lambda x: pd.datetime.strptime(x, '%d.%m.%Y %H:%M')\n",
    "\n",
    "# read and skip first row\n",
    "#df = pd.read_excel(\"../data/other/NO2_2017.xlsx\", sheet_name='Seite 1', skiprows=1, parse_dates=['Zeitpunkt'], date_parser=my_parser) #, index_col=\"Zeitpunkt\")\n",
    "#print(df.head())\n",
    "\n",
    "# does not work since the datetime column is encoded wrong (24:00)"
   ]
  },
  {
   "cell_type": "markdown",
   "metadata": {},
   "source": [
    "### Pickled files: pkl\n",
    "\n",
    "Pickle is used for serializing and de-serializing Python object structures, also called marshalling or flattening. Serialization refers to the process of converting an object in memory to a byte stream that can be stored on disk or sent over a network. Later on, this character stream can then be retrieved and de-serialized back to a Python object.\n",
    "\n",
    "You should only use this in a local machine as the format is not guaranteed to de-serialize on other machines in the same way. Also, this can pose a security risk."
   ]
  },
  {
   "cell_type": "code",
   "execution_count": 25,
   "metadata": {},
   "outputs": [],
   "source": [
    "import pickle\n",
    "\n",
    "dogs_dict = { 'Ozzy': 3, 'Filou': 8, 'Luna': 5, \n",
    "              'Skippy': 10, 'Barco': 12, \n",
    "              'Balou': 9, 'Laika': 16 }\n",
    "\n",
    "# now we write it as a binary file with pickle. first open a file in binary \n",
    "# write mode and then dump the pickled data\n",
    "\n",
    "with open('dogs.pkl','wb') as fout:\n",
    "    pickle.dump(dogs_dict, fout)\n",
    "\n",
    "# we can read it back in with\n",
    "with open('dogs.pkl','rb') as fin:\n",
    "    new_dict = pickle.load(fin)\n",
    "\n",
    "# this checks id identical\n",
    "assert dogs_dict == new_dict"
   ]
  },
  {
   "cell_type": "markdown",
   "metadata": {},
   "source": [
    "### Netcdf3/4\n",
    "\n",
    "Simply use `xarray`. There are other netcdf libs, but since xarray is so elegant I see no point using those anymore."
   ]
  },
  {
   "cell_type": "code",
   "execution_count": 26,
   "metadata": {},
   "outputs": [
    {
     "data": {
      "text/plain": [
       "<xarray.Dataset>\n",
       "Dimensions:  (lat: 89, lon: 180, time: 684)\n",
       "Coordinates:\n",
       "  * lat      (lat) float32 -88.0 -86.0 -84.0 -82.0 -80.0 ... 82.0 84.0 86.0 88.0\n",
       "  * lon      (lon) float32 0.0 2.0 4.0 6.0 8.0 ... 350.0 352.0 354.0 356.0 358.0\n",
       "  * time     (time) datetime64[ns] 1960-01-15 1960-02-15 ... 2016-12-15\n",
       "Data variables:\n",
       "    sst      (time, lat, lon) float32 ...\n",
       "Attributes:\n",
       "    Conventions:  IRIDL\n",
       "    source:       https://iridl.ldeo.columbia.edu/SOURCES/.NOAA/.NCDC/.ERSST/...\n",
       "    history:      extracted and cleaned by Ryan Abernathey for Research Compu..."
      ]
     },
     "execution_count": 26,
     "metadata": {},
     "output_type": "execute_result"
    }
   ],
   "source": [
    "import xarray as xr\n",
    "\n",
    "ds = xr.open_dataset('../data/other/NOAA_NCDC_ERSST_v3b_SST.nc')\n",
    "ds"
   ]
  },
  {
   "cell_type": "code",
   "execution_count": 29,
   "metadata": {},
   "outputs": [
    {
     "data": {
      "image/png": "[encoded data removed]",
      "text/plain": [
       "<Figure size 432x288 with 2 Axes>"
      ]
     },
     "metadata": {
      "needs_background": "light"
     },
     "output_type": "display_data"
    }
   ],
   "source": [
    "ds.sst.isel(time=0).plot();"
   ]
  },
  {
   "cell_type": "markdown",
   "metadata": {},
   "source": [
    "### sql\n",
    "\n",
    "I'd recommend to use SQLAlchemy if you work with with SQL databases. It's a nice ORM and is very common in python. We are not going to use SQL data in the course so I'll skip this.\n",
    "\n",
    "## Geographic data\n",
    "### Shapefiles\n",
    "\n",
    "It's quite easy to read shapefiles in Python. There are low-level libraries like `fiona`, but it's easiest to just use `geopandas`. You'll see an example in the geodata notebook.\n",
    "\n",
    "### Geotiffs\n",
    "\n",
    "For geotiffs you can use `rasterio` that's built on GDAL. Again, you can also use xarray which utilizes rasterio if it's installed.\n",
    "\n",
    "## Other formats\n",
    "### parquet\n",
    "\n",
    "Another useful format is parquet. From their homepage:\n",
    "\n",
    ">Apache Arrow is a cross-language development platform for in-memory data. It specifies a standardized language-independent columnar memory format for flat and hierarchical data, organized for efficient analytic operations on modern hardware.\n",
    "\n",
    "Again, pandas can read it. We don;t use it in the course but it's very common in big data and well worth a look.\n",
    "\n",
    "### feather\n",
    "\n",
    "A new format introduced for easy in-memory exchange between different software. "
   ]
  },
  {
   "cell_type": "code",
   "execution_count": null,
   "metadata": {},
   "outputs": [],
   "source": []
  }
 ],
 "metadata": {
  "kernelspec": {
   "display_name": "Python 3",
   "language": "python",
   "name": "python3"
  },
  "language_info": {
   "codemirror_mode": {
    "name": "ipython",
    "version": 3
   },
   "file_extension": ".py",
   "mimetype": "text/x-python",
   "name": "python",
   "nbconvert_exporter": "python",
   "pygments_lexer": "ipython3",
   "version": "3.6.7"
  }
 },
 "nbformat": 4,
 "nbformat_minor": 4
}
